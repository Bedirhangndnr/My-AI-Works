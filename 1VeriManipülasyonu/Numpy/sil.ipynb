{
 "cells": [
  {
   "cell_type": "code",
   "execution_count": 40,
   "metadata": {},
   "outputs": [
    {
     "data": {
      "text/plain": [
       "[[6.808484472303762,\n",
       "  8.313254516801548,\n",
       "  0.021456482921291542,\n",
       "  1.8765560073279541,\n",
       "  4.562144053660352],\n",
       " [4.934347624016102,\n",
       "  0.38455386653504897,\n",
       "  3.2229077473784473,\n",
       "  5.160102889282381,\n",
       "  1.6788062981828877],\n",
       " [6.263072448257826,\n",
       "  1.935349823895145,\n",
       "  7.387156572150766,\n",
       "  6.899777968274011,\n",
       "  2.3072764922665767]]"
      ]
     },
     "execution_count": 40,
     "metadata": {},
     "output_type": "execute_result"
    }
   ],
   "source": [
    "import random \n",
    "import numpy as np\n",
    "dizi=[[10*random.random() for i in range(5)] for j in range(3) ]\n",
    "dizi"
   ]
  },
  {
   "cell_type": "code",
   "execution_count": 41,
   "metadata": {},
   "outputs": [
    {
     "data": {
      "text/plain": [
       "8.313254516801548"
      ]
     },
     "execution_count": 41,
     "metadata": {},
     "output_type": "execute_result"
    }
   ],
   "source": [
    "dizi[0][1]"
   ]
  },
  {
   "cell_type": "code",
   "execution_count": 42,
   "metadata": {},
   "outputs": [
    {
     "data": {
      "text/plain": [
       "array([[ 5.71583401,  6.52687313,  0.10219437],\n",
       "       [11.50258297,  5.06069607,  5.28936302]])"
      ]
     },
     "execution_count": 42,
     "metadata": {},
     "output_type": "execute_result"
    }
   ],
   "source": [
    "#ortalaması 10 standart sapması 5 olan [2][3]' lük bir diz;\n",
    "numpy.random.normal(10,5,(2,3))"
   ]
  },
  {
   "cell_type": "code",
   "execution_count": 77,
   "metadata": {},
   "outputs": [
    {
     "name": "stderr",
     "output_type": "stream",
     "text": [
      "C:\\Users\\bedir\\anaconda3\\lib\\site-packages\\ipykernel_launcher.py:4: DeprecationWarning: This function is deprecated. Please call randint(1, 20 + 1) instead\n",
      "  after removing the cwd from sys.path.\n"
     ]
    },
    {
     "data": {
      "text/plain": [
       "array([[ 4, 14, 10,  7],\n",
       "       [ 2,  2, 10, 14],\n",
       "       [17,  1,  1, 15]])"
      ]
     },
     "execution_count": 77,
     "metadata": {},
     "output_type": "execute_result"
    }
   ],
   "source": [
    "#ortalaması 5, standart sapması 5 olan [2][3]' lük bir diz;\n",
    "c=3;\n",
    "v=4\n",
    "arry=numpy.random.random_integers(20,size=(c,v))\n",
    "arry"
   ]
  },
  {
   "cell_type": "code",
   "execution_count": 85,
   "metadata": {},
   "outputs": [
    {
     "name": "stdout",
     "output_type": "stream",
     "text": [
      "0\n",
      "1\n",
      "2\n"
     ]
    }
   ],
   "source": [
    "for i in range(c):\n",
    "    print(i)"
   ]
  },
  {
   "cell_type": "code",
   "execution_count": 83,
   "metadata": {},
   "outputs": [
    {
     "data": {
      "text/plain": [
       "4"
      ]
     },
     "execution_count": 83,
     "metadata": {},
     "output_type": "execute_result"
    }
   ],
   "source": [
    "len(arry[2])"
   ]
  },
  {
   "cell_type": "code",
   "execution_count": 89,
   "metadata": {},
   "outputs": [
    {
     "name": "stdout",
     "output_type": "stream",
     "text": [
      "1\n",
      "2\n",
      "3\n",
      "4\n"
     ]
    }
   ],
   "source": [
    "for i in range(1,5):\n",
    "    print(i)"
   ]
  },
  {
   "cell_type": "code",
   "execution_count": 90,
   "metadata": {},
   "outputs": [
    {
     "data": {
      "text/plain": [
       "10"
      ]
     },
     "execution_count": 90,
     "metadata": {},
     "output_type": "execute_result"
    }
   ],
   "source": [
    "i=5\n",
    "if True:\n",
    "    i=10\n",
    "i"
   ]
  },
  {
   "cell_type": "code",
   "execution_count": 96,
   "metadata": {},
   "outputs": [],
   "source": [
    "import numpy as np\n",
    "np.array\n",
    "class PeakFinder2D:\n",
    "    def __init__(self,nrow,ncol):\n",
    "        self.nrow=nrow\n",
    "        self.ncol=ncol\n",
    "        #ortalaması 5, standart sapması 5 olan [nrow][ncol]' lük bir diz;\n",
    "        #self.arry=np.random.random_integers(20,size=(self.nrow,self.ncol))\n",
    "        self.arry=np.array([[4,6,3,11,9],[2,7,20,14,11],[11,8,13,10,3],[7,9,4,19,8]])\n",
    "        print(self.arry)\n",
    "\n",
    "    def greedyAlg(self):\n",
    "        peak=self.arry[0][0]\n",
    "        for i in range(self.nrow-2):\n",
    "            for j in range(self.ncol-2):\n",
    "                if self.arry[i][j]<self.arry[i+1][j]:\n",
    "                    i=i+1\n",
    "                if self.arry[i][j]>=self.arry[i+1][j] and self.arry[i][j]>=self.arry[i][j+1]:\n",
    "                    peak=self.arry[i][j]\n",
    "                    return peak\n",
    "\n",
    "    def findMaxOnCol(col):\n",
    "        imax = 0\n",
    "        for i in range(self,col):\n",
    "            if(self.arry[i][col]>self.arry[imax][col]):\n",
    "                imax = i    \n",
    "        return imax\n",
    "    \n",
    "    def findMaxOnRow(self,row):\n",
    "        imax=int()\n",
    "        for i in range(1,row):\n",
    "            print(i,imax)\n",
    "            if(self.arry[row][i]>self.arry[row][i+1]):\n",
    "                imax = i\n",
    "\n",
    "        return imax"
   ]
  },
  {
   "cell_type": "code",
   "execution_count": 97,
   "metadata": {},
   "outputs": [
    {
     "name": "stdout",
     "output_type": "stream",
     "text": [
      "[[ 4  6  3 11  9]\n",
      " [ 2  7 20 14 11]\n",
      " [11  8 13 10  3]\n",
      " [ 7  9  4 19  8]]\n",
      "\n",
      "MaxOnRow= 0\n"
     ]
    }
   ],
   "source": [
    "PeakFinder2D1=PeakFinder2D(5,6)\n",
    "maxonrow=PeakFinder2D1.findMaxOnRow(1)\n",
    "print(\"\\nMaxOnRow=\",maxonrow)"
   ]
  },
  {
   "cell_type": "code",
   "execution_count": 120,
   "metadata": {},
   "outputs": [],
   "source": [
    "class PeakFinder2D:\n",
    "    def __init__(self,nrow,ncol,count=1):\n",
    "        self.nrow=nrow\n",
    "    def fonks(self, say=0):\n",
    "        if say<5:\n",
    "            print(say)\n",
    "            return self.fonks(say++1)"
   ]
  },
  {
   "cell_type": "code",
   "execution_count": 121,
   "metadata": {},
   "outputs": [],
   "source": [
    "peak=PeakFinder2D(2,3)"
   ]
  },
  {
   "cell_type": "code",
   "execution_count": 123,
   "metadata": {},
   "outputs": [
    {
     "name": "stdout",
     "output_type": "stream",
     "text": [
      "3\n",
      "4\n"
     ]
    }
   ],
   "source": [
    "peak.fonks(3)"
   ]
  },
  {
   "cell_type": "code",
   "execution_count": 104,
   "metadata": {},
   "outputs": [
    {
     "name": "stdout",
     "output_type": "stream",
     "text": [
      "2\n"
     ]
    }
   ],
   "source": [
    "print(peak.nrow)"
   ]
  },
  {
   "cell_type": "code",
   "execution_count": 130,
   "metadata": {},
   "outputs": [],
   "source": [
    "arry=np.array([[4,6,3,11,9,9,6,3,11],[2,7,6,3,11,20,14,11,7],[11,12,5,4,3,13,15,16,17],\n",
    "                            [7,9,4,19,8,88,6,3,11],[5,6,3,11,20,30,19,8,5],[0,40,6,3,11,0,19,8,5],\n",
    "                            [5,4,3,197,8,5,6,3,11],[2,90,30,6,3,11,19,8,5],[40,40,195,8,19,8,5,5,7],[40,40,195,8,19,8,5,5,7]])"
   ]
  },
  {
   "cell_type": "code",
   "execution_count": 131,
   "metadata": {},
   "outputs": [
    {
     "data": {
      "text/plain": [
       "array([[  4,   6,   3,  11,   9,   9,   6,   3,  11],\n",
       "       [  2,   7,   6,   3,  11,  20,  14,  11,   7],\n",
       "       [ 11,  12,   5,   4,   3,  13,  15,  16,  17],\n",
       "       [  7,   9,   4,  19,   8,  88,   6,   3,  11],\n",
       "       [  5,   6,   3,  11,  20,  30,  19,   8,   5],\n",
       "       [  0,  40,   6,   3,  11,   0,  19,   8,   5],\n",
       "       [  5,   4,   3, 197,   8,   5,   6,   3,  11],\n",
       "       [  2,  90,  30,   6,   3,  11,  19,   8,   5],\n",
       "       [ 40,  40, 195,   8,  19,   8,   5,   5,   7],\n",
       "       [ 40,  40, 195,   8,  19,   8,   5,   5,   7]])"
      ]
     },
     "execution_count": 131,
     "metadata": {},
     "output_type": "execute_result"
    }
   ],
   "source": [
    "arry"
   ]
  },
  {
   "cell_type": "code",
   "execution_count": 136,
   "metadata": {},
   "outputs": [
    {
     "data": {
      "text/plain": [
       "9"
      ]
     },
     "execution_count": 136,
     "metadata": {},
     "output_type": "execute_result"
    }
   ],
   "source": [
    "len(arry[0])"
   ]
  },
  {
   "cell_type": "code",
   "execution_count": null,
   "metadata": {},
   "outputs": [],
   "source": []
  }
 ],
 "metadata": {
  "kernelspec": {
   "display_name": "Python 3",
   "language": "python",
   "name": "python3"
  },
  "language_info": {
   "codemirror_mode": {
    "name": "ipython",
    "version": 3
   },
   "file_extension": ".py",
   "mimetype": "text/x-python",
   "name": "python",
   "nbconvert_exporter": "python",
   "pygments_lexer": "ipython3",
   "version": "3.7.6"
  }
 },
 "nbformat": 4,
 "nbformat_minor": 4
}
