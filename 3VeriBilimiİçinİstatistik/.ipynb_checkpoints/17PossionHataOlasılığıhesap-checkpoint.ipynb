{
 "cells": [
  {
   "cell_type": "markdown",
   "metadata": {},
   "source": [
    "## Poisson Dağılımı\n",
    "\n",
    "${\\displaystyle f(x,\\lambda )={\\frac {\\lambda ^{x}e^{-\\lambda }}{x!}}\\,\\!}$,  x = 0,1,2,...,n"
   ]
  },
  {
   "cell_type": "code",
   "execution_count": 1,
   "metadata": {},
   "outputs": [],
   "source": [
    "from scipy.stats import poisson"
   ]
  },
  {
   "cell_type": "markdown",
   "metadata": {},
   "source": [
    "**Problem**\n",
    "\n",
    "hatalı ilan giriş olasılığı\n",
    "\n",
    "**Detaylar**\n",
    "\n",
    "bir yıl süresince ölçümler yapılıyor\n",
    "\n",
    "dağılım biliniyor(possion) ve lambda 0.1 (ortalama hata sayısı)\n",
    "\n",
    "hiç hata olmaması, 3 hata ve 5 hata olma olasılığı?\n",
    "\n",
    "hiç hata olmama olasılığı;\n",
    "\n",
    "x=0\n",
    "𝜆=0.1\n",
    "\n",
    "${\\displaystyle f(x,\\lambda )={\\frac {\\lambda ^{x}e^{-\\lambda }}{x!}}\\,\\!}$,  x = 0,1,2,...,n = 0.90483"
   ]
  },
  {
   "cell_type": "markdown",
   "metadata": {},
   "source": [
    "hiç hata olmama olasılığı;\n",
    "\n",
    "x=0\n",
    "𝜆=0.1\n",
    "\n",
    "${\\displaystyle f(x,\\lambda )={\\frac {\\lambda ^{x}e^{-\\lambda }}{x!}}\\,\\!}$,  x = 0,1,2,...,n = 0.90483"
   ]
  },
  {
   "cell_type": "markdown",
   "metadata": {},
   "source": [
    "3 hata olma olasılığı;\n",
    "\n",
    "x=3\n",
    "𝜆=0.1\n",
    "\n",
    "${\\displaystyle f(x,\\lambda )=\n",
    "  {\\frac {\\lambda ^{x}e^{-\\lambda }}{x!}}\\,\\!}$,  x = 0,1,2,...,n = 0.0001508"
   ]
  },
  {
   "cell_type": "code",
   "execution_count": 7,
   "metadata": {},
   "outputs": [
    {
     "name": "stdout",
     "output_type": "stream",
     "text": [
      "0.9048374180359595\n",
      "0.00015080623633932676\n",
      "7.54031181696634e-08\n"
     ]
    }
   ],
   "source": [
    "from scipy.stats import poisson\n",
    "lambda_=0.1\n",
    "rv=poisson(mu=lambda_)\n",
    "print(rv.pmf(k=0))\n",
    "print(rv.pmf(k=3))\n",
    "print(rv.pmf(k=5))\n"
   ]
  },
  {
   "cell_type": "code",
   "execution_count": null,
   "metadata": {},
   "outputs": [],
   "source": []
  }
 ],
 "metadata": {
  "kernelspec": {
   "display_name": "Python 3",
   "language": "python",
   "name": "python3"
  },
  "language_info": {
   "codemirror_mode": {
    "name": "ipython",
    "version": 3
   },
   "file_extension": ".py",
   "mimetype": "text/x-python",
   "name": "python",
   "nbconvert_exporter": "python",
   "pygments_lexer": "ipython3",
   "version": "3.7.6"
  }
 },
 "nbformat": 4,
 "nbformat_minor": 4
}
