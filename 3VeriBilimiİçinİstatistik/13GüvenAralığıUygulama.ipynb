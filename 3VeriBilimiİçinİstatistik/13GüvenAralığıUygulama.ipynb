{
 "cells": [
  {
   "cell_type": "markdown",
   "metadata": {},
   "source": [
    "**ŞİRKETİN CEOSU FİYAT BELİRLEME KONUSUNDA BİLİMSE DAYANAK VE ESNEKLİK İSTİYOR.**"
   ]
  },
  {
   "cell_type": "markdown",
   "metadata": {},
   "source": [
    "SATICI, ALICI ÜRÜN VAR \n",
    "\n",
    "ALICILARA NE KADAR ÜCRET ÖDERSİNİZ DİYE SORULUYOR\n",
    "\n",
    "OPTİMUM FİYAT BULUNMAK İSTİYOR\n",
    "\n",
    "KİMSE BİR BAŞKA MÜŞTERİNİN NE FİYAT VERDİĞİNİ BİLMİYOR"
   ]
  },
  {
   "cell_type": "code",
   "execution_count": 6,
   "metadata": {},
   "outputs": [],
   "source": [
    "import numpy as np\n",
    "fiyatlar =np.random.randint(10,100,1000)"
   ]
  },
  {
   "cell_type": "code",
   "execution_count": 7,
   "metadata": {},
   "outputs": [
    {
     "data": {
      "text/plain": [
       "54.122"
      ]
     },
     "execution_count": 7,
     "metadata": {},
     "output_type": "execute_result"
    }
   ],
   "source": [
    "fiyatlar.mean()"
   ]
  },
  {
   "cell_type": "code",
   "execution_count": 9,
   "metadata": {},
   "outputs": [
    {
     "data": {
      "text/plain": [
       "(52.51091508001714, 55.73308491998286)"
      ]
     },
     "execution_count": 9,
     "metadata": {},
     "output_type": "execute_result"
    }
   ],
   "source": [
    "#şimdi bu ortalama degere bir güven aralığı bulalım\n",
    "import statsmodels.stats.api as sms\n",
    "sms.DescrStatsW(fiyatlar).tconfint_mean()"
   ]
  },
  {
   "cell_type": "code",
   "execution_count": null,
   "metadata": {},
   "outputs": [],
   "source": []
  }
 ],
 "metadata": {
  "kernelspec": {
   "display_name": "Python 3",
   "language": "python",
   "name": "python3"
  },
  "language_info": {
   "codemirror_mode": {
    "name": "ipython",
    "version": 3
   },
   "file_extension": ".py",
   "mimetype": "text/x-python",
   "name": "python",
   "nbconvert_exporter": "python",
   "pygments_lexer": "ipython3",
   "version": "3.7.6"
  }
 },
 "nbformat": 4,
 "nbformat_minor": 4
}
