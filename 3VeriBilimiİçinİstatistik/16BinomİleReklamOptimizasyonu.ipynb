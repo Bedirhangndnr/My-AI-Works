{
 "cells": [
  {
   "cell_type": "markdown",
   "metadata": {},
   "source": [
    "## Binom Dağılımı"
   ]
  },
  {
   "cell_type": "markdown",
   "metadata": {},
   "source": [
    "${\\displaystyle f(k;n,p)={n \\choose k}p^{k}(1-p)^{n-k}}$, k = 0, 1, 2, ...,n\n",
    "\n",
    "\n",
    "${\\displaystyle \\operatorname {E} (X)=np}$\n",
    "\n",
    "\n",
    "${\\displaystyle \\operatorname {Var} (X)=np(1-p)}$"
   ]
  },
  {
   "cell_type": "code",
   "execution_count": 1,
   "metadata": {},
   "outputs": [],
   "source": [
    "from scipy.stats import binom"
   ]
  },
  {
   "cell_type": "code",
   "execution_count": 3,
   "metadata": {},
   "outputs": [],
   "source": [
    "#çeşitli mecralara reklam veriliyor ve tıklanmaların geri dönüş oranalrı optimize \n",
    "#ediliyor. Ve teklamların tıklanma olasılığı hesaplanmak isteniyor."
   ]
  },
  {
   "cell_type": "code",
   "execution_count": 4,
   "metadata": {},
   "outputs": [],
   "source": [
    "#dağılım ve tıklanma olasılıgı biliniyor. = 0,01"
   ]
  },
  {
   "cell_type": "code",
   "execution_count": 6,
   "metadata": {},
   "outputs": [],
   "source": [
    "#soru= reklamı 100 kişi gördüğüne göre 1,5,10 tıklanma olasılığı nedir"
   ]
  },
  {
   "cell_type": "markdown",
   "metadata": {},
   "source": [
    "**formül ile hasplarsak**;\n",
    "\n",
    "1 kişinin tıklama olasılığı =\n",
    "\n",
    "f(1,100,0,01) = ${\\displaystyle f(k;n,p)={n \\choose k}p^{k}(1-p)^{n-k}}$, k = 0, 1, 2, ...,n =\n",
    "0,37\n",
    "\n",
    "2 kişi\n",
    "f(1,100,0,01) = ${\\displaystyle f(k;n,p)={n \\choose k}p^{k}(1-p)^{n-k}}$, k = 0, 1, 2, ...,n =\n",
    "0,002897\n",
    "\n",
    "3 kişi\n",
    "\n",
    "f(1,100,0,01) = ${\\displaystyle f(k;n,p)={n \\choose k}p^{k}(1-p)^{n-k}}$, k = 0, 1, 2, ...,n =\n",
    "0,00000007\n",
    "\n",
    "\n"
   ]
  },
  {
   "cell_type": "code",
   "execution_count": 11,
   "metadata": {},
   "outputs": [],
   "source": [
    "from scipy.stats import binom"
   ]
  },
  {
   "cell_type": "code",
   "execution_count": 21,
   "metadata": {},
   "outputs": [
    {
     "name": "stdout",
     "output_type": "stream",
     "text": [
      "0.36972963764971983\n",
      "0.36972963764971983\n",
      "0.0028977871237616114\n",
      "7.006035693977161e-08\n"
     ]
    }
   ],
   "source": [
    "p=0.01\n",
    "n=100\n",
    "rv=binom(n,p)\n",
    "print(rv.pmf(1))\n",
    "print(binom(n,p).pmf(1))\n",
    "print(rv.pmf(5))\n",
    "print(rv.pmf(10))\n",
    "\n",
    "\n"
   ]
  },
  {
   "cell_type": "code",
   "execution_count": null,
   "metadata": {},
   "outputs": [],
   "source": []
  }
 ],
 "metadata": {
  "kernelspec": {
   "display_name": "Python 3",
   "language": "python",
   "name": "python3"
  },
  "language_info": {
   "codemirror_mode": {
    "name": "ipython",
    "version": 3
   },
   "file_extension": ".py",
   "mimetype": "text/x-python",
   "name": "python",
   "nbconvert_exporter": "python",
   "pygments_lexer": "ipython3",
   "version": "3.7.6"
  }
 },
 "nbformat": 4,
 "nbformat_minor": 4
}
