{
 "cells": [
  {
   "cell_type": "markdown",
   "metadata": {},
   "source": [
    "**PROBLEM**\n",
    "\n",
    "Sepete ürün ekleme kısmında 5 adım var ve adımalrdan biri sorgulanıyor\n",
    "\n",
    "**Detaylar**\n",
    "\n",
    "her adım 20şer saniye olmak zounda\n",
    "\n",
    "bu durumu test etmek için 100 örnek alınır\n",
    "\n",
    "örnekstandart sapması 5 saniye örnek ortalaması 19 saniye\n",
    "\n",
    "**bu bölümdeki olay, bu 19 saniyenin istatistiki olarak şans olmadıgın ıspatlamak**\n",
    "\n",
    "**Adım 1**\n",
    "Hipotezin kurulması ve yönlerin belirlenmesi\n",
    "\n",
    "**Adım 2**\n",
    "Anlamlılık düzeyi ve tablo degerinin düzenlenmesi\n",
    "\n",
    "**Adım 3** Test istatistiğinin belirlenmesi ve test istatistiğinin hesaplanması\n",
    "\n",
    "**Adım 4** Ztablo ve Zhesap karşılaştırması\n",
    "\n",
    "**Adım 5** Yorum"
   ]
  },
  {
   "cell_type": "code",
   "execution_count": 2,
   "metadata": {},
   "outputs": [],
   "source": [
    "#bu bölümdeki olay, bu 19 saniyenin istatistiki olarak şans olmadıgın ıspatlamak "
   ]
  },
  {
   "cell_type": "markdown",
   "metadata": {},
   "source": [
    "**Adım 1**\n",
    "Hipotezin kurulması ve yönlerin belirlenmesi\n"
   ]
  },
  {
   "cell_type": "markdown",
   "metadata": {},
   "source": [
    "**Adım 2**\n",
    "Anlamlılık düzeyi ve tablo degerinin düzenlenmesi\n"
   ]
  },
  {
   "cell_type": "markdown",
   "metadata": {},
   "source": [
    "**Adım 3** Test istatistiğinin belirlenmesi ve test istatistiğinin hesaplanması"
   ]
  },
  {
   "cell_type": "markdown",
   "metadata": {},
   "source": [
    "**Adım 4** Ztablo ve Zhesap karşılaştırması"
   ]
  },
  {
   "cell_type": "markdown",
   "metadata": {},
   "source": [
    "**Adım 5** Yorum"
   ]
  },
  {
   "cell_type": "code",
   "execution_count": null,
   "metadata": {},
   "outputs": [],
   "source": []
  }
 ],
 "metadata": {
  "kernelspec": {
   "display_name": "Python 3",
   "language": "python",
   "name": "python3"
  },
  "language_info": {
   "codemirror_mode": {
    "name": "ipython",
    "version": 3
   },
   "file_extension": ".py",
   "mimetype": "text/x-python",
   "name": "python",
   "nbconvert_exporter": "python",
   "pygments_lexer": "ipython3",
   "version": "3.7.6"
  }
 },
 "nbformat": 4,
 "nbformat_minor": 4
}
