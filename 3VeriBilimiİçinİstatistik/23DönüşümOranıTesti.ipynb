{
 "cells": [
  {
   "cell_type": "markdown",
   "metadata": {},
   "source": [
    "**Problem** Dönüşüm oranı(görülen reklama,ürüne tıklanma oranı) \n",
    "0.125 olduğu söylenen bir firme bu durumu test etmek istiyor\n",
    "\n",
    "**Detaylar:**\n",
    "\n",
    "   500 kişi dış mecrada reklama tıklamış 40 tanesi gelip alışveriş yapmış \n",
    "   \n",
    "   örnek üzerinde elde edilen dönüşüm oranı: 40/500=0.08"
   ]
  },
  {
   "cell_type": "markdown",
   "metadata": {},
   "source": [
    "**Detaylar:**\n",
    "\n",
    "   500 kişi dış mecrada reklama tıklamış 40 tanesi gelip alışveriş yapmış \n",
    "   \n",
    "   örnek üzerinde elde edilen dönüşüm oranı: 40/500=0.08"
   ]
  },
  {
   "cell_type": "markdown",
   "metadata": {},
   "source": [
    "HO: p = 0.125 \n",
    "\n",
    "H1: p != 0.125"
   ]
  },
  {
   "cell_type": "code",
   "execution_count": 6,
   "metadata": {},
   "outputs": [],
   "source": [
    "from statsmodels.stats.proportion import proportions_ztest"
   ]
  },
  {
   "cell_type": "code",
   "execution_count": 7,
   "metadata": {},
   "outputs": [],
   "source": [
    "count=40 #başarı sayısı, tıklama\n",
    "nobs=500 #gözlem sayısı\n",
    "value= 0.125 #test etmek istediğimiz deger"
   ]
  },
  {
   "cell_type": "code",
   "execution_count": 8,
   "metadata": {},
   "outputs": [
    {
     "data": {
      "text/plain": [
       "(-3.7090151628513017, 0.0002080669689845979)"
      ]
     },
     "execution_count": 8,
     "metadata": {},
     "output_type": "execute_result"
    }
   ],
   "source": [
    "proportions_ztest(count,nobs,value)"
   ]
  },
  {
   "cell_type": "code",
   "execution_count": null,
   "metadata": {},
   "outputs": [],
   "source": [
    "#sol = test ist.\n",
    "#sağ p value = 0,0002\n",
    "# pvalue 0,05 ten küçük olduğundan, reddedildi !  (%95 güven ile.)"
   ]
  }
 ],
 "metadata": {
  "kernelspec": {
   "display_name": "Python 3",
   "language": "python",
   "name": "python3"
  },
  "language_info": {
   "codemirror_mode": {
    "name": "ipython",
    "version": 3
   },
   "file_extension": ".py",
   "mimetype": "text/x-python",
   "name": "python",
   "nbconvert_exporter": "python",
   "pygments_lexer": "ipython3",
   "version": "3.7.6"
  }
 },
 "nbformat": 4,
 "nbformat_minor": 4
}
