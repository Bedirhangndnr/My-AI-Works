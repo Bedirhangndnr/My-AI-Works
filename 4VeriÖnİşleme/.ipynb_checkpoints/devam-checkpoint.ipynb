{
 "cells": [
  {
   "cell_type": "code",
   "execution_count": null,
   "metadata": {},
   "outputs": [],
   "source": [
    "import numpy as np\n",
    "import pandas as pd \n",
    "from sklearn.model_selection import train_test_split, GridSearchCV,cross_val_score\n",
    "from sklearn.metrics import mean_squared_error, r2_score\n",
    "import matplotlib.pyplot as plt\n",
    "from sklearn.preprocessing import scale \n",
    "from sklearn import model_selection\n",
    "from sklearn.tree import DecisionTreeRegressor, DecisionTreeClassifier\n",
    "from sklearn.neighbors import KNeighborsRegressor\n",
    "from sklearn.ensemble import BaggingRegressor\n",
    "\n",
    "from warnings import filterwarnings\n",
    "filterwarnings('ignore')"
   ]
  },
  {
   "cell_type": "code",
   "execution_count": 1,
   "metadata": {},
   "outputs": [
    {
     "data": {
      "text/html": [
       "<div>\n",
       "<style scoped>\n",
       "    .dataframe tbody tr th:only-of-type {\n",
       "        vertical-align: middle;\n",
       "    }\n",
       "\n",
       "    .dataframe tbody tr th {\n",
       "        vertical-align: top;\n",
       "    }\n",
       "\n",
       "    .dataframe thead th {\n",
       "        text-align: right;\n",
       "    }\n",
       "</style>\n",
       "<table border=\"1\" class=\"dataframe\">\n",
       "  <thead>\n",
       "    <tr style=\"text-align: right;\">\n",
       "      <th></th>\n",
       "      <th>carat</th>\n",
       "      <th>depth</th>\n",
       "      <th>table</th>\n",
       "      <th>price</th>\n",
       "      <th>x</th>\n",
       "      <th>y</th>\n",
       "      <th>z</th>\n",
       "    </tr>\n",
       "  </thead>\n",
       "  <tbody>\n",
       "    <tr>\n",
       "      <th>0</th>\n",
       "      <td>0.23</td>\n",
       "      <td>61.5</td>\n",
       "      <td>55.0</td>\n",
       "      <td>326</td>\n",
       "      <td>3.95</td>\n",
       "      <td>3.98</td>\n",
       "      <td>2.43</td>\n",
       "    </tr>\n",
       "    <tr>\n",
       "      <th>1</th>\n",
       "      <td>0.21</td>\n",
       "      <td>59.8</td>\n",
       "      <td>61.0</td>\n",
       "      <td>326</td>\n",
       "      <td>3.89</td>\n",
       "      <td>3.84</td>\n",
       "      <td>2.31</td>\n",
       "    </tr>\n",
       "    <tr>\n",
       "      <th>2</th>\n",
       "      <td>0.23</td>\n",
       "      <td>56.9</td>\n",
       "      <td>65.0</td>\n",
       "      <td>327</td>\n",
       "      <td>4.05</td>\n",
       "      <td>4.07</td>\n",
       "      <td>2.31</td>\n",
       "    </tr>\n",
       "    <tr>\n",
       "      <th>3</th>\n",
       "      <td>0.29</td>\n",
       "      <td>62.4</td>\n",
       "      <td>58.0</td>\n",
       "      <td>334</td>\n",
       "      <td>4.20</td>\n",
       "      <td>4.23</td>\n",
       "      <td>2.63</td>\n",
       "    </tr>\n",
       "    <tr>\n",
       "      <th>4</th>\n",
       "      <td>0.31</td>\n",
       "      <td>63.3</td>\n",
       "      <td>58.0</td>\n",
       "      <td>335</td>\n",
       "      <td>4.34</td>\n",
       "      <td>4.35</td>\n",
       "      <td>2.75</td>\n",
       "    </tr>\n",
       "  </tbody>\n",
       "</table>\n",
       "</div>"
      ],
      "text/plain": [
       "   carat  depth  table  price     x     y     z\n",
       "0   0.23   61.5   55.0    326  3.95  3.98  2.43\n",
       "1   0.21   59.8   61.0    326  3.89  3.84  2.31\n",
       "2   0.23   56.9   65.0    327  4.05  4.07  2.31\n",
       "3   0.29   62.4   58.0    334  4.20  4.23  2.63\n",
       "4   0.31   63.3   58.0    335  4.34  4.35  2.75"
      ]
     },
     "execution_count": 1,
     "metadata": {},
     "output_type": "execute_result"
    }
   ],
   "source": [
    "import seaborn as sns\n",
    "import pandas as pd\n",
    "df = sns.load_dataset('diamonds')\n",
    "df = df.select_dtypes(include = ['float64', 'int64']) \n",
    "df = df.dropna() # aykırı degerler ile rahat ugraşmak için eksik değerlerin hepsini sildik.\n",
    "df.head()"
   ]
  },
  {
   "cell_type": "code",
   "execution_count": 2,
   "metadata": {},
   "outputs": [],
   "source": [
    "import numpy as np\n",
    "from sklearn.neighbors import LocalOutlierFactor"
   ]
  },
  {
   "cell_type": "code",
   "execution_count": 3,
   "metadata": {},
   "outputs": [],
   "source": [
    "clf=LocalOutlierFactor(n_neighbors=20,contamination=0.1)"
   ]
  },
  {
   "cell_type": "code",
   "execution_count": 4,
   "metadata": {},
   "outputs": [
    {
     "data": {
      "text/plain": [
       "LocalOutlierFactor(algorithm='auto', contamination=0.1, leaf_size=30,\n",
       "                   metric='minkowski', metric_params=None, n_jobs=None,\n",
       "                   n_neighbors=20, novelty=False, p=2)"
      ]
     },
     "execution_count": 4,
     "metadata": {},
     "output_type": "execute_result"
    }
   ],
   "source": [
    "clf.fit(df)"
   ]
  },
  {
   "cell_type": "code",
   "execution_count": 5,
   "metadata": {},
   "outputs": [],
   "source": [
    "df_scores=clf.negative_outlier_factor_"
   ]
  },
  {
   "cell_type": "code",
   "execution_count": 6,
   "metadata": {},
   "outputs": [
    {
     "data": {
      "text/plain": [
       "array([-8.60430658, -8.20889984, -5.86084355, -4.98415175, -4.81502092,\n",
       "       -4.81502092, -4.61522833, -4.37081214, -4.29842288, -4.10492387,\n",
       "       -4.0566648 , -4.01831733, -3.94882806, -3.82378797])"
      ]
     },
     "execution_count": 6,
     "metadata": {},
     "output_type": "execute_result"
    }
   ],
   "source": [
    "np.sort(df_scores)[0:10]\n",
    "x=np.sort(df_scores)[0:14]\n",
    "x"
   ]
  },
  {
   "cell_type": "code",
   "execution_count": 11,
   "metadata": {},
   "outputs": [],
   "source": [
    "esik_deger=x[13]"
   ]
  },
  {
   "cell_type": "code",
   "execution_count": 12,
   "metadata": {},
   "outputs": [
    {
     "data": {
      "text/plain": [
       "-3.823787967755565"
      ]
     },
     "execution_count": 12,
     "metadata": {},
     "output_type": "execute_result"
    }
   ],
   "source": [
    "esik_deger"
   ]
  },
  {
   "cell_type": "code",
   "execution_count": 14,
   "metadata": {},
   "outputs": [],
   "source": [
    "aykiri_index=df_scores<esik_deger"
   ]
  },
  {
   "cell_type": "code",
   "execution_count": 15,
   "metadata": {},
   "outputs": [
    {
     "data": {
      "text/html": [
       "<div>\n",
       "<style scoped>\n",
       "    .dataframe tbody tr th:only-of-type {\n",
       "        vertical-align: middle;\n",
       "    }\n",
       "\n",
       "    .dataframe tbody tr th {\n",
       "        vertical-align: top;\n",
       "    }\n",
       "\n",
       "    .dataframe thead th {\n",
       "        text-align: right;\n",
       "    }\n",
       "</style>\n",
       "<table border=\"1\" class=\"dataframe\">\n",
       "  <thead>\n",
       "    <tr style=\"text-align: right;\">\n",
       "      <th></th>\n",
       "      <th>carat</th>\n",
       "      <th>depth</th>\n",
       "      <th>table</th>\n",
       "      <th>price</th>\n",
       "      <th>x</th>\n",
       "      <th>y</th>\n",
       "      <th>z</th>\n",
       "    </tr>\n",
       "  </thead>\n",
       "  <tbody>\n",
       "    <tr>\n",
       "      <th>6341</th>\n",
       "      <td>1.00</td>\n",
       "      <td>44.0</td>\n",
       "      <td>53.0</td>\n",
       "      <td>4032</td>\n",
       "      <td>6.31</td>\n",
       "      <td>6.24</td>\n",
       "      <td>4.12</td>\n",
       "    </tr>\n",
       "    <tr>\n",
       "      <th>10377</th>\n",
       "      <td>1.09</td>\n",
       "      <td>43.0</td>\n",
       "      <td>54.0</td>\n",
       "      <td>4778</td>\n",
       "      <td>6.53</td>\n",
       "      <td>6.55</td>\n",
       "      <td>4.12</td>\n",
       "    </tr>\n",
       "    <tr>\n",
       "      <th>24067</th>\n",
       "      <td>2.00</td>\n",
       "      <td>58.9</td>\n",
       "      <td>57.0</td>\n",
       "      <td>12210</td>\n",
       "      <td>8.09</td>\n",
       "      <td>58.90</td>\n",
       "      <td>8.06</td>\n",
       "    </tr>\n",
       "    <tr>\n",
       "      <th>35633</th>\n",
       "      <td>0.29</td>\n",
       "      <td>62.8</td>\n",
       "      <td>44.0</td>\n",
       "      <td>474</td>\n",
       "      <td>4.20</td>\n",
       "      <td>4.24</td>\n",
       "      <td>2.65</td>\n",
       "    </tr>\n",
       "    <tr>\n",
       "      <th>36503</th>\n",
       "      <td>0.30</td>\n",
       "      <td>51.0</td>\n",
       "      <td>67.0</td>\n",
       "      <td>945</td>\n",
       "      <td>4.67</td>\n",
       "      <td>4.62</td>\n",
       "      <td>2.37</td>\n",
       "    </tr>\n",
       "    <tr>\n",
       "      <th>38840</th>\n",
       "      <td>0.73</td>\n",
       "      <td>70.8</td>\n",
       "      <td>55.0</td>\n",
       "      <td>1049</td>\n",
       "      <td>5.51</td>\n",
       "      <td>5.34</td>\n",
       "      <td>3.84</td>\n",
       "    </tr>\n",
       "    <tr>\n",
       "      <th>41918</th>\n",
       "      <td>1.03</td>\n",
       "      <td>78.2</td>\n",
       "      <td>54.0</td>\n",
       "      <td>1262</td>\n",
       "      <td>5.72</td>\n",
       "      <td>5.59</td>\n",
       "      <td>4.42</td>\n",
       "    </tr>\n",
       "    <tr>\n",
       "      <th>45688</th>\n",
       "      <td>0.70</td>\n",
       "      <td>71.6</td>\n",
       "      <td>55.0</td>\n",
       "      <td>1696</td>\n",
       "      <td>5.47</td>\n",
       "      <td>5.28</td>\n",
       "      <td>3.85</td>\n",
       "    </tr>\n",
       "    <tr>\n",
       "      <th>48410</th>\n",
       "      <td>0.51</td>\n",
       "      <td>61.8</td>\n",
       "      <td>54.7</td>\n",
       "      <td>1970</td>\n",
       "      <td>5.12</td>\n",
       "      <td>5.15</td>\n",
       "      <td>31.80</td>\n",
       "    </tr>\n",
       "    <tr>\n",
       "      <th>49189</th>\n",
       "      <td>0.51</td>\n",
       "      <td>61.8</td>\n",
       "      <td>55.0</td>\n",
       "      <td>2075</td>\n",
       "      <td>5.15</td>\n",
       "      <td>31.80</td>\n",
       "      <td>5.12</td>\n",
       "    </tr>\n",
       "    <tr>\n",
       "      <th>50773</th>\n",
       "      <td>0.81</td>\n",
       "      <td>68.8</td>\n",
       "      <td>79.0</td>\n",
       "      <td>2301</td>\n",
       "      <td>5.26</td>\n",
       "      <td>5.20</td>\n",
       "      <td>3.58</td>\n",
       "    </tr>\n",
       "    <tr>\n",
       "      <th>52860</th>\n",
       "      <td>0.50</td>\n",
       "      <td>79.0</td>\n",
       "      <td>73.0</td>\n",
       "      <td>2579</td>\n",
       "      <td>5.21</td>\n",
       "      <td>5.18</td>\n",
       "      <td>4.09</td>\n",
       "    </tr>\n",
       "    <tr>\n",
       "      <th>52861</th>\n",
       "      <td>0.50</td>\n",
       "      <td>79.0</td>\n",
       "      <td>73.0</td>\n",
       "      <td>2579</td>\n",
       "      <td>5.21</td>\n",
       "      <td>5.18</td>\n",
       "      <td>4.09</td>\n",
       "    </tr>\n",
       "  </tbody>\n",
       "</table>\n",
       "</div>"
      ],
      "text/plain": [
       "       carat  depth  table  price     x      y      z\n",
       "6341    1.00   44.0   53.0   4032  6.31   6.24   4.12\n",
       "10377   1.09   43.0   54.0   4778  6.53   6.55   4.12\n",
       "24067   2.00   58.9   57.0  12210  8.09  58.90   8.06\n",
       "35633   0.29   62.8   44.0    474  4.20   4.24   2.65\n",
       "36503   0.30   51.0   67.0    945  4.67   4.62   2.37\n",
       "38840   0.73   70.8   55.0   1049  5.51   5.34   3.84\n",
       "41918   1.03   78.2   54.0   1262  5.72   5.59   4.42\n",
       "45688   0.70   71.6   55.0   1696  5.47   5.28   3.85\n",
       "48410   0.51   61.8   54.7   1970  5.12   5.15  31.80\n",
       "49189   0.51   61.8   55.0   2075  5.15  31.80   5.12\n",
       "50773   0.81   68.8   79.0   2301  5.26   5.20   3.58\n",
       "52860   0.50   79.0   73.0   2579  5.21   5.18   4.09\n",
       "52861   0.50   79.0   73.0   2579  5.21   5.18   4.09"
      ]
     },
     "execution_count": 15,
     "metadata": {},
     "output_type": "execute_result"
    }
   ],
   "source": [
    "df[aykiri_index]"
   ]
  },
  {
   "cell_type": "code",
   "execution_count": 26,
   "metadata": {},
   "outputs": [
    {
     "data": {
      "text/plain": [
       "rec.array([(1.  , 44. , 53. ,  4032, 6.31,  6.24,  4.12),\n",
       "           (1.09, 43. , 54. ,  4778, 6.53,  6.55,  4.12),\n",
       "           (2.  , 58.9, 57. , 12210, 8.09, 58.9 ,  8.06),\n",
       "           (0.29, 62.8, 44. ,   474, 4.2 ,  4.24,  2.65),\n",
       "           (0.3 , 51. , 67. ,   945, 4.67,  4.62,  2.37),\n",
       "           (0.73, 70.8, 55. ,  1049, 5.51,  5.34,  3.84),\n",
       "           (1.03, 78.2, 54. ,  1262, 5.72,  5.59,  4.42),\n",
       "           (0.7 , 71.6, 55. ,  1696, 5.47,  5.28,  3.85),\n",
       "           (0.51, 61.8, 54.7,  1970, 5.12,  5.15, 31.8 ),\n",
       "           (0.51, 61.8, 55. ,  2075, 5.15, 31.8 ,  5.12),\n",
       "           (0.81, 68.8, 79. ,  2301, 5.26,  5.2 ,  3.58),\n",
       "           (0.5 , 79. , 73. ,  2579, 5.21,  5.18,  4.09),\n",
       "           (0.5 , 79. , 73. ,  2579, 5.21,  5.18,  4.09)],\n",
       "          dtype=[('carat', '<f8'), ('depth', '<f8'), ('table', '<f8'), ('price', '<i8'), ('x', '<f8'), ('y', '<f8'), ('z', '<f8')])"
      ]
     },
     "execution_count": 26,
     "metadata": {},
     "output_type": "execute_result"
    }
   ],
   "source": [
    "res=df[aykiri_index].to_records(index=False)\n",
    "res"
   ]
  },
  {
   "cell_type": "code",
   "execution_count": 33,
   "metadata": {},
   "outputs": [
    {
     "data": {
      "text/plain": [
       "rec.array([(1.  , 44. , 53. ,  4032, 6.31,  6.24,  4.12),\n",
       "           (1.09, 43. , 54. ,  4778, 6.53,  6.55,  4.12),\n",
       "           (2.  , 58.9, 57. , 12210, 8.09, 58.9 ,  8.06),\n",
       "           (0.29, 62.8, 44. ,   474, 4.2 ,  4.24,  2.65),\n",
       "           (0.3 , 51. , 67. ,   945, 4.67,  4.62,  2.37),\n",
       "           (0.73, 70.8, 55. ,  1049, 5.51,  5.34,  3.84),\n",
       "           (1.03, 78.2, 54. ,  1262, 5.72,  5.59,  4.42),\n",
       "           (0.7 , 71.6, 55. ,  1696, 5.47,  5.28,  3.85),\n",
       "           (0.51, 61.8, 54.7,  1970, 5.12,  5.15, 31.8 ),\n",
       "           (0.51, 61.8, 55. ,  2075, 5.15, 31.8 ,  5.12),\n",
       "           (0.81, 68.8, 79. ,  2301, 5.26,  5.2 ,  3.58),\n",
       "           (0.5 , 79. , 73. ,  2579, 5.21,  5.18,  4.09),\n",
       "           (0.5 , 79. , 73. ,  2579, 5.21,  5.18,  4.09)],\n",
       "          dtype=[('carat', '<f8'), ('depth', '<f8'), ('table', '<f8'), ('price', '<i8'), ('x', '<f8'), ('y', '<f8'), ('z', '<f8')])"
      ]
     },
     "execution_count": 33,
     "metadata": {},
     "output_type": "execute_result"
    }
   ],
   "source": [
    "res[:]"
   ]
  },
  {
   "cell_type": "code",
   "execution_count": 35,
   "metadata": {},
   "outputs": [
    {
     "data": {
      "text/plain": [
       "rec.array([(0.45, 68.6, 57., 756, 4.73, 4.5, 3.19)],\n",
       "          dtype=[('carat', '<f8'), ('depth', '<f8'), ('table', '<f8'), ('price', '<i8'), ('x', '<f8'), ('y', '<f8'), ('z', '<f8')])"
      ]
     },
     "execution_count": 35,
     "metadata": {},
     "output_type": "execute_result"
    }
   ],
   "source": [
    "esik_deger_esitlenecek=df[df_scores==esik_deger].to_records(index=False)\n",
    "esik_deger_esitlenecek"
   ]
  },
  {
   "cell_type": "code",
   "execution_count": 36,
   "metadata": {},
   "outputs": [],
   "source": [
    "res[:]=esik_deger_esitlenecek"
   ]
  },
  {
   "cell_type": "code",
   "execution_count": 37,
   "metadata": {},
   "outputs": [
    {
     "data": {
      "text/plain": [
       "rec.array([(0.45, 68.6, 57., 756, 4.73, 4.5, 3.19),\n",
       "           (0.45, 68.6, 57., 756, 4.73, 4.5, 3.19),\n",
       "           (0.45, 68.6, 57., 756, 4.73, 4.5, 3.19),\n",
       "           (0.45, 68.6, 57., 756, 4.73, 4.5, 3.19),\n",
       "           (0.45, 68.6, 57., 756, 4.73, 4.5, 3.19),\n",
       "           (0.45, 68.6, 57., 756, 4.73, 4.5, 3.19),\n",
       "           (0.45, 68.6, 57., 756, 4.73, 4.5, 3.19),\n",
       "           (0.45, 68.6, 57., 756, 4.73, 4.5, 3.19),\n",
       "           (0.45, 68.6, 57., 756, 4.73, 4.5, 3.19),\n",
       "           (0.45, 68.6, 57., 756, 4.73, 4.5, 3.19),\n",
       "           (0.45, 68.6, 57., 756, 4.73, 4.5, 3.19),\n",
       "           (0.45, 68.6, 57., 756, 4.73, 4.5, 3.19),\n",
       "           (0.45, 68.6, 57., 756, 4.73, 4.5, 3.19)],\n",
       "          dtype=[('carat', '<f8'), ('depth', '<f8'), ('table', '<f8'), ('price', '<i8'), ('x', '<f8'), ('y', '<f8'), ('z', '<f8')])"
      ]
     },
     "execution_count": 37,
     "metadata": {},
     "output_type": "execute_result"
    }
   ],
   "source": [
    "res[:]"
   ]
  },
  {
   "cell_type": "code",
   "execution_count": 41,
   "metadata": {},
   "outputs": [],
   "source": [
    "df[aykiri_index]=pd.DataFrame(res,index=df[aykiri_index].index)"
   ]
  },
  {
   "cell_type": "code",
   "execution_count": 42,
   "metadata": {},
   "outputs": [
    {
     "data": {
      "text/html": [
       "<div>\n",
       "<style scoped>\n",
       "    .dataframe tbody tr th:only-of-type {\n",
       "        vertical-align: middle;\n",
       "    }\n",
       "\n",
       "    .dataframe tbody tr th {\n",
       "        vertical-align: top;\n",
       "    }\n",
       "\n",
       "    .dataframe thead th {\n",
       "        text-align: right;\n",
       "    }\n",
       "</style>\n",
       "<table border=\"1\" class=\"dataframe\">\n",
       "  <thead>\n",
       "    <tr style=\"text-align: right;\">\n",
       "      <th></th>\n",
       "      <th>carat</th>\n",
       "      <th>depth</th>\n",
       "      <th>table</th>\n",
       "      <th>price</th>\n",
       "      <th>x</th>\n",
       "      <th>y</th>\n",
       "      <th>z</th>\n",
       "    </tr>\n",
       "  </thead>\n",
       "  <tbody>\n",
       "    <tr>\n",
       "      <th>6341</th>\n",
       "      <td>0.45</td>\n",
       "      <td>68.6</td>\n",
       "      <td>57.0</td>\n",
       "      <td>756</td>\n",
       "      <td>4.73</td>\n",
       "      <td>4.5</td>\n",
       "      <td>3.19</td>\n",
       "    </tr>\n",
       "    <tr>\n",
       "      <th>10377</th>\n",
       "      <td>0.45</td>\n",
       "      <td>68.6</td>\n",
       "      <td>57.0</td>\n",
       "      <td>756</td>\n",
       "      <td>4.73</td>\n",
       "      <td>4.5</td>\n",
       "      <td>3.19</td>\n",
       "    </tr>\n",
       "    <tr>\n",
       "      <th>24067</th>\n",
       "      <td>0.45</td>\n",
       "      <td>68.6</td>\n",
       "      <td>57.0</td>\n",
       "      <td>756</td>\n",
       "      <td>4.73</td>\n",
       "      <td>4.5</td>\n",
       "      <td>3.19</td>\n",
       "    </tr>\n",
       "    <tr>\n",
       "      <th>35633</th>\n",
       "      <td>0.45</td>\n",
       "      <td>68.6</td>\n",
       "      <td>57.0</td>\n",
       "      <td>756</td>\n",
       "      <td>4.73</td>\n",
       "      <td>4.5</td>\n",
       "      <td>3.19</td>\n",
       "    </tr>\n",
       "    <tr>\n",
       "      <th>36503</th>\n",
       "      <td>0.45</td>\n",
       "      <td>68.6</td>\n",
       "      <td>57.0</td>\n",
       "      <td>756</td>\n",
       "      <td>4.73</td>\n",
       "      <td>4.5</td>\n",
       "      <td>3.19</td>\n",
       "    </tr>\n",
       "    <tr>\n",
       "      <th>38840</th>\n",
       "      <td>0.45</td>\n",
       "      <td>68.6</td>\n",
       "      <td>57.0</td>\n",
       "      <td>756</td>\n",
       "      <td>4.73</td>\n",
       "      <td>4.5</td>\n",
       "      <td>3.19</td>\n",
       "    </tr>\n",
       "    <tr>\n",
       "      <th>41918</th>\n",
       "      <td>0.45</td>\n",
       "      <td>68.6</td>\n",
       "      <td>57.0</td>\n",
       "      <td>756</td>\n",
       "      <td>4.73</td>\n",
       "      <td>4.5</td>\n",
       "      <td>3.19</td>\n",
       "    </tr>\n",
       "    <tr>\n",
       "      <th>45688</th>\n",
       "      <td>0.45</td>\n",
       "      <td>68.6</td>\n",
       "      <td>57.0</td>\n",
       "      <td>756</td>\n",
       "      <td>4.73</td>\n",
       "      <td>4.5</td>\n",
       "      <td>3.19</td>\n",
       "    </tr>\n",
       "    <tr>\n",
       "      <th>48410</th>\n",
       "      <td>0.45</td>\n",
       "      <td>68.6</td>\n",
       "      <td>57.0</td>\n",
       "      <td>756</td>\n",
       "      <td>4.73</td>\n",
       "      <td>4.5</td>\n",
       "      <td>3.19</td>\n",
       "    </tr>\n",
       "    <tr>\n",
       "      <th>49189</th>\n",
       "      <td>0.45</td>\n",
       "      <td>68.6</td>\n",
       "      <td>57.0</td>\n",
       "      <td>756</td>\n",
       "      <td>4.73</td>\n",
       "      <td>4.5</td>\n",
       "      <td>3.19</td>\n",
       "    </tr>\n",
       "    <tr>\n",
       "      <th>50773</th>\n",
       "      <td>0.45</td>\n",
       "      <td>68.6</td>\n",
       "      <td>57.0</td>\n",
       "      <td>756</td>\n",
       "      <td>4.73</td>\n",
       "      <td>4.5</td>\n",
       "      <td>3.19</td>\n",
       "    </tr>\n",
       "    <tr>\n",
       "      <th>52860</th>\n",
       "      <td>0.45</td>\n",
       "      <td>68.6</td>\n",
       "      <td>57.0</td>\n",
       "      <td>756</td>\n",
       "      <td>4.73</td>\n",
       "      <td>4.5</td>\n",
       "      <td>3.19</td>\n",
       "    </tr>\n",
       "    <tr>\n",
       "      <th>52861</th>\n",
       "      <td>0.45</td>\n",
       "      <td>68.6</td>\n",
       "      <td>57.0</td>\n",
       "      <td>756</td>\n",
       "      <td>4.73</td>\n",
       "      <td>4.5</td>\n",
       "      <td>3.19</td>\n",
       "    </tr>\n",
       "  </tbody>\n",
       "</table>\n",
       "</div>"
      ],
      "text/plain": [
       "       carat  depth  table  price     x    y     z\n",
       "6341    0.45   68.6   57.0    756  4.73  4.5  3.19\n",
       "10377   0.45   68.6   57.0    756  4.73  4.5  3.19\n",
       "24067   0.45   68.6   57.0    756  4.73  4.5  3.19\n",
       "35633   0.45   68.6   57.0    756  4.73  4.5  3.19\n",
       "36503   0.45   68.6   57.0    756  4.73  4.5  3.19\n",
       "38840   0.45   68.6   57.0    756  4.73  4.5  3.19\n",
       "41918   0.45   68.6   57.0    756  4.73  4.5  3.19\n",
       "45688   0.45   68.6   57.0    756  4.73  4.5  3.19\n",
       "48410   0.45   68.6   57.0    756  4.73  4.5  3.19\n",
       "49189   0.45   68.6   57.0    756  4.73  4.5  3.19\n",
       "50773   0.45   68.6   57.0    756  4.73  4.5  3.19\n",
       "52860   0.45   68.6   57.0    756  4.73  4.5  3.19\n",
       "52861   0.45   68.6   57.0    756  4.73  4.5  3.19"
      ]
     },
     "execution_count": 42,
     "metadata": {},
     "output_type": "execute_result"
    }
   ],
   "source": [
    "df[aykiri_index]"
   ]
  },
  {
   "cell_type": "code",
   "execution_count": 1,
   "metadata": {
    "collapsed": true,
    "jupyter": {
     "outputs_hidden": true
    }
   },
   "outputs": [
    {
     "name": "stdout",
     "output_type": "stream",
     "text": [
      "Requirement already satisfied: missingno in c:\\users\\bedir\\anaconda3\\lib\\site-packages (0.4.2)\n",
      "Requirement already satisfied: numpy in c:\\users\\bedir\\anaconda3\\lib\\site-packages (from missingno) (1.18.1)\n",
      "Requirement already satisfied: seaborn in c:\\users\\bedir\\anaconda3\\lib\\site-packages (from missingno) (0.10.0)\n",
      "Requirement already satisfied: scipy in c:\\users\\bedir\\anaconda3\\lib\\site-packages (from missingno) (1.4.1)\n",
      "Requirement already satisfied: matplotlib in c:\\users\\bedir\\anaconda3\\lib\\site-packages (from missingno) (3.1.3)\n",
      "Requirement already satisfied: pandas>=0.22.0 in c:\\users\\bedir\\anaconda3\\lib\\site-packages (from seaborn->missingno) (1.0.1)\n",
      "Requirement already satisfied: python-dateutil>=2.1 in c:\\users\\bedir\\anaconda3\\lib\\site-packages (from matplotlib->missingno) (2.8.1)\n",
      "Requirement already satisfied: pyparsing!=2.0.4,!=2.1.2,!=2.1.6,>=2.0.1 in c:\\users\\bedir\\anaconda3\\lib\\site-packages (from matplotlib->missingno) (2.4.6)\n",
      "Requirement already satisfied: cycler>=0.10 in c:\\users\\bedir\\anaconda3\\lib\\site-packages (from matplotlib->missingno) (0.10.0)\n",
      "Requirement already satisfied: kiwisolver>=1.0.1 in c:\\users\\bedir\\anaconda3\\lib\\site-packages (from matplotlib->missingno) (1.1.0)\n",
      "Requirement already satisfied: pytz>=2017.2 in c:\\users\\bedir\\anaconda3\\lib\\site-packages (from pandas>=0.22.0->seaborn->missingno) (2019.3)\n",
      "Requirement already satisfied: six>=1.5 in c:\\users\\bedir\\anaconda3\\lib\\site-packages (from python-dateutil>=2.1->matplotlib->missingno) (1.14.0)\n",
      "Requirement already satisfied: setuptools in c:\\users\\bedir\\anaconda3\\lib\\site-packages (from kiwisolver>=1.0.1->matplotlib->missingno) (45.2.0.post20200210)\n"
     ]
    }
   ],
   "source": [
    "!pip install missingno"
   ]
  },
  {
   "cell_type": "code",
   "execution_count": 2,
   "metadata": {},
   "outputs": [
    {
     "data": {
      "text/html": [
       "<div>\n",
       "<style scoped>\n",
       "    .dataframe tbody tr th:only-of-type {\n",
       "        vertical-align: middle;\n",
       "    }\n",
       "\n",
       "    .dataframe tbody tr th {\n",
       "        vertical-align: top;\n",
       "    }\n",
       "\n",
       "    .dataframe thead th {\n",
       "        text-align: right;\n",
       "    }\n",
       "</style>\n",
       "<table border=\"1\" class=\"dataframe\">\n",
       "  <thead>\n",
       "    <tr style=\"text-align: right;\">\n",
       "      <th></th>\n",
       "      <th>method</th>\n",
       "      <th>number</th>\n",
       "      <th>orbital_period</th>\n",
       "      <th>mass</th>\n",
       "      <th>distance</th>\n",
       "      <th>year</th>\n",
       "    </tr>\n",
       "  </thead>\n",
       "  <tbody>\n",
       "    <tr>\n",
       "      <th>0</th>\n",
       "      <td>Radial Velocity</td>\n",
       "      <td>1</td>\n",
       "      <td>269.300</td>\n",
       "      <td>7.10</td>\n",
       "      <td>77.40</td>\n",
       "      <td>2006</td>\n",
       "    </tr>\n",
       "    <tr>\n",
       "      <th>1</th>\n",
       "      <td>Radial Velocity</td>\n",
       "      <td>1</td>\n",
       "      <td>874.774</td>\n",
       "      <td>2.21</td>\n",
       "      <td>56.95</td>\n",
       "      <td>2008</td>\n",
       "    </tr>\n",
       "    <tr>\n",
       "      <th>2</th>\n",
       "      <td>Radial Velocity</td>\n",
       "      <td>1</td>\n",
       "      <td>763.000</td>\n",
       "      <td>2.60</td>\n",
       "      <td>19.84</td>\n",
       "      <td>2011</td>\n",
       "    </tr>\n",
       "    <tr>\n",
       "      <th>3</th>\n",
       "      <td>Radial Velocity</td>\n",
       "      <td>1</td>\n",
       "      <td>326.030</td>\n",
       "      <td>19.40</td>\n",
       "      <td>110.62</td>\n",
       "      <td>2007</td>\n",
       "    </tr>\n",
       "    <tr>\n",
       "      <th>4</th>\n",
       "      <td>Radial Velocity</td>\n",
       "      <td>1</td>\n",
       "      <td>516.220</td>\n",
       "      <td>10.50</td>\n",
       "      <td>119.47</td>\n",
       "      <td>2009</td>\n",
       "    </tr>\n",
       "  </tbody>\n",
       "</table>\n",
       "</div>"
      ],
      "text/plain": [
       "            method  number  orbital_period   mass  distance  year\n",
       "0  Radial Velocity       1         269.300   7.10     77.40  2006\n",
       "1  Radial Velocity       1         874.774   2.21     56.95  2008\n",
       "2  Radial Velocity       1         763.000   2.60     19.84  2011\n",
       "3  Radial Velocity       1         326.030  19.40    110.62  2007\n",
       "4  Radial Velocity       1         516.220  10.50    119.47  2009"
      ]
     },
     "execution_count": 2,
     "metadata": {},
     "output_type": "execute_result"
    }
   ],
   "source": [
    "import seaborn as sns\n",
    "df = sns.load_dataset('planets')\n",
    "df.head()"
   ]
  },
  {
   "cell_type": "code",
   "execution_count": 4,
   "metadata": {},
   "outputs": [
    {
     "data": {
      "text/plain": [
       "method              0\n",
       "number              0\n",
       "orbital_period     43\n",
       "mass              522\n",
       "distance          227\n",
       "year                0\n",
       "dtype: int64"
      ]
     },
     "execution_count": 4,
     "metadata": {},
     "output_type": "execute_result"
    }
   ],
   "source": [
    "df.isnull().sum()"
   ]
  },
  {
   "cell_type": "code",
   "execution_count": 6,
   "metadata": {},
   "outputs": [
    {
     "data": {
      "text/plain": [
       "<matplotlib.axes._subplots.AxesSubplot at 0x2525527da88>"
      ]
     },
     "execution_count": 6,
     "metadata": {},
     "output_type": "execute_result"
    },
    {
     "data": {
      "image/png": "[encoded data removed]",
      "text/plain": [
       "<Figure size 1800x720 with 2 Axes>"
      ]
     },
     "metadata": {
      "needs_background": "light"
     },
     "output_type": "display_data"
    }
   ],
   "source": [
    "import missingno as msno\n",
    "msno.matrix(df)"
   ]
  },
  {
   "cell_type": "code",
   "execution_count": 7,
   "metadata": {},
   "outputs": [
    {
     "data": {
      "text/plain": [
       "<matplotlib.axes._subplots.AxesSubplot at 0x252552fd988>"
      ]
     },
     "execution_count": 7,
     "metadata": {},
     "output_type": "execute_result"
    },
    {
     "data": {
      "image/png": "[encoded data removed]",
      "text/plain": [
       "<Figure size 1440x864 with 2 Axes>"
      ]
     },
     "metadata": {
      "needs_background": "light"
     },
     "output_type": "display_data"
    }
   ],
   "source": [
    "msno.heatmap(df)"
   ]
  },
  {
   "cell_type": "code",
   "execution_count": 24,
   "metadata": {},
   "outputs": [],
   "source": [
    "import numpy as np\n",
    "import pandas as pd\n",
    "V1 = np.array([1,3,6,np.NaN,7,1,np.NaN,9,15])\n",
    "V2 = np.array([7,np.NaN,5,8,12,np.NaN,np.NaN,2,3])\n",
    "V3 = np.array([np.NaN,12,5,6,14,7,np.NaN,2,31])\n",
    "\n",
    "df = pd.DataFrame(\n",
    "        {\"V1\" : V1,\n",
    "         \"V2\" : V2,\n",
    "         \"V3\" : V3}        \n",
    ")\n",
    "\n",
    "df\n",
    "dfc=df"
   ]
  },
  {
   "cell_type": "code",
   "execution_count": 25,
   "metadata": {},
   "outputs": [
    {
     "data": {
      "text/html": [
       "<div>\n",
       "<style scoped>\n",
       "    .dataframe tbody tr th:only-of-type {\n",
       "        vertical-align: middle;\n",
       "    }\n",
       "\n",
       "    .dataframe tbody tr th {\n",
       "        vertical-align: top;\n",
       "    }\n",
       "\n",
       "    .dataframe thead th {\n",
       "        text-align: right;\n",
       "    }\n",
       "</style>\n",
       "<table border=\"1\" class=\"dataframe\">\n",
       "  <thead>\n",
       "    <tr style=\"text-align: right;\">\n",
       "      <th></th>\n",
       "      <th>V1</th>\n",
       "      <th>V2</th>\n",
       "      <th>V3</th>\n",
       "    </tr>\n",
       "  </thead>\n",
       "  <tbody>\n",
       "    <tr>\n",
       "      <th>0</th>\n",
       "      <td>1.0</td>\n",
       "      <td>7.0</td>\n",
       "      <td>NaN</td>\n",
       "    </tr>\n",
       "    <tr>\n",
       "      <th>1</th>\n",
       "      <td>3.0</td>\n",
       "      <td>NaN</td>\n",
       "      <td>12.0</td>\n",
       "    </tr>\n",
       "    <tr>\n",
       "      <th>2</th>\n",
       "      <td>6.0</td>\n",
       "      <td>5.0</td>\n",
       "      <td>5.0</td>\n",
       "    </tr>\n",
       "    <tr>\n",
       "      <th>3</th>\n",
       "      <td>NaN</td>\n",
       "      <td>8.0</td>\n",
       "      <td>6.0</td>\n",
       "    </tr>\n",
       "    <tr>\n",
       "      <th>4</th>\n",
       "      <td>7.0</td>\n",
       "      <td>12.0</td>\n",
       "      <td>14.0</td>\n",
       "    </tr>\n",
       "  </tbody>\n",
       "</table>\n",
       "</div>"
      ],
      "text/plain": [
       "    V1    V2    V3\n",
       "0  1.0   7.0   NaN\n",
       "1  3.0   NaN  12.0\n",
       "2  6.0   5.0   5.0\n",
       "3  NaN   8.0   6.0\n",
       "4  7.0  12.0  14.0"
      ]
     },
     "execution_count": 25,
     "metadata": {},
     "output_type": "execute_result"
    }
   ],
   "source": [
    "dfc.head()"
   ]
  },
  {
   "cell_type": "code",
   "execution_count": 33,
   "metadata": {},
   "outputs": [
    {
     "data": {
      "text/html": [
       "<div>\n",
       "<style scoped>\n",
       "    .dataframe tbody tr th:only-of-type {\n",
       "        vertical-align: middle;\n",
       "    }\n",
       "\n",
       "    .dataframe tbody tr th {\n",
       "        vertical-align: top;\n",
       "    }\n",
       "\n",
       "    .dataframe thead th {\n",
       "        text-align: right;\n",
       "    }\n",
       "</style>\n",
       "<table border=\"1\" class=\"dataframe\">\n",
       "  <thead>\n",
       "    <tr style=\"text-align: right;\">\n",
       "      <th></th>\n",
       "      <th>V1</th>\n",
       "      <th>V2</th>\n",
       "      <th>V3</th>\n",
       "    </tr>\n",
       "  </thead>\n",
       "  <tbody>\n",
       "    <tr>\n",
       "      <th>0</th>\n",
       "      <td>1.0</td>\n",
       "      <td>7.000000</td>\n",
       "      <td>11.0</td>\n",
       "    </tr>\n",
       "    <tr>\n",
       "      <th>1</th>\n",
       "      <td>3.0</td>\n",
       "      <td>6.166667</td>\n",
       "      <td>12.0</td>\n",
       "    </tr>\n",
       "    <tr>\n",
       "      <th>2</th>\n",
       "      <td>6.0</td>\n",
       "      <td>5.000000</td>\n",
       "      <td>5.0</td>\n",
       "    </tr>\n",
       "    <tr>\n",
       "      <th>3</th>\n",
       "      <td>6.0</td>\n",
       "      <td>8.000000</td>\n",
       "      <td>6.0</td>\n",
       "    </tr>\n",
       "    <tr>\n",
       "      <th>4</th>\n",
       "      <td>7.0</td>\n",
       "      <td>12.000000</td>\n",
       "      <td>14.0</td>\n",
       "    </tr>\n",
       "    <tr>\n",
       "      <th>5</th>\n",
       "      <td>1.0</td>\n",
       "      <td>6.166667</td>\n",
       "      <td>7.0</td>\n",
       "    </tr>\n",
       "    <tr>\n",
       "      <th>6</th>\n",
       "      <td>6.0</td>\n",
       "      <td>6.166667</td>\n",
       "      <td>11.0</td>\n",
       "    </tr>\n",
       "    <tr>\n",
       "      <th>7</th>\n",
       "      <td>9.0</td>\n",
       "      <td>2.000000</td>\n",
       "      <td>2.0</td>\n",
       "    </tr>\n",
       "    <tr>\n",
       "      <th>8</th>\n",
       "      <td>15.0</td>\n",
       "      <td>3.000000</td>\n",
       "      <td>31.0</td>\n",
       "    </tr>\n",
       "  </tbody>\n",
       "</table>\n",
       "</div>"
      ],
      "text/plain": [
       "     V1         V2    V3\n",
       "0   1.0   7.000000  11.0\n",
       "1   3.0   6.166667  12.0\n",
       "2   6.0   5.000000   5.0\n",
       "3   6.0   8.000000   6.0\n",
       "4   7.0  12.000000  14.0\n",
       "5   1.0   6.166667   7.0\n",
       "6   6.0   6.166667  11.0\n",
       "7   9.0   2.000000   2.0\n",
       "8  15.0   3.000000  31.0"
      ]
     },
     "execution_count": 33,
     "metadata": {},
     "output_type": "execute_result"
    }
   ],
   "source": [
    "dfc.apply(lambda x: x.fillna(x.mean()), axis = 0)"
   ]
  },
  {
   "cell_type": "code",
   "execution_count": 37,
   "metadata": {},
   "outputs": [
    {
     "data": {
      "text/html": [
       "<div>\n",
       "<style scoped>\n",
       "    .dataframe tbody tr th:only-of-type {\n",
       "        vertical-align: middle;\n",
       "    }\n",
       "\n",
       "    .dataframe tbody tr th {\n",
       "        vertical-align: top;\n",
       "    }\n",
       "\n",
       "    .dataframe thead th {\n",
       "        text-align: right;\n",
       "    }\n",
       "</style>\n",
       "<table border=\"1\" class=\"dataframe\">\n",
       "  <thead>\n",
       "    <tr style=\"text-align: right;\">\n",
       "      <th></th>\n",
       "      <th>V1</th>\n",
       "      <th>V2</th>\n",
       "      <th>V3</th>\n",
       "    </tr>\n",
       "  </thead>\n",
       "  <tbody>\n",
       "    <tr>\n",
       "      <th>0</th>\n",
       "      <td>1.0</td>\n",
       "      <td>7.000000</td>\n",
       "      <td>NaN</td>\n",
       "    </tr>\n",
       "    <tr>\n",
       "      <th>1</th>\n",
       "      <td>3.0</td>\n",
       "      <td>6.166667</td>\n",
       "      <td>12.0</td>\n",
       "    </tr>\n",
       "    <tr>\n",
       "      <th>2</th>\n",
       "      <td>6.0</td>\n",
       "      <td>5.000000</td>\n",
       "      <td>5.0</td>\n",
       "    </tr>\n",
       "    <tr>\n",
       "      <th>3</th>\n",
       "      <td>6.0</td>\n",
       "      <td>8.000000</td>\n",
       "      <td>6.0</td>\n",
       "    </tr>\n",
       "    <tr>\n",
       "      <th>4</th>\n",
       "      <td>7.0</td>\n",
       "      <td>12.000000</td>\n",
       "      <td>14.0</td>\n",
       "    </tr>\n",
       "    <tr>\n",
       "      <th>5</th>\n",
       "      <td>1.0</td>\n",
       "      <td>6.166667</td>\n",
       "      <td>7.0</td>\n",
       "    </tr>\n",
       "    <tr>\n",
       "      <th>6</th>\n",
       "      <td>6.0</td>\n",
       "      <td>6.166667</td>\n",
       "      <td>NaN</td>\n",
       "    </tr>\n",
       "    <tr>\n",
       "      <th>7</th>\n",
       "      <td>9.0</td>\n",
       "      <td>2.000000</td>\n",
       "      <td>2.0</td>\n",
       "    </tr>\n",
       "    <tr>\n",
       "      <th>8</th>\n",
       "      <td>15.0</td>\n",
       "      <td>3.000000</td>\n",
       "      <td>31.0</td>\n",
       "    </tr>\n",
       "  </tbody>\n",
       "</table>\n",
       "</div>"
      ],
      "text/plain": [
       "     V1         V2    V3\n",
       "0   1.0   7.000000   NaN\n",
       "1   3.0   6.166667  12.0\n",
       "2   6.0   5.000000   5.0\n",
       "3   6.0   8.000000   6.0\n",
       "4   7.0  12.000000  14.0\n",
       "5   1.0   6.166667   7.0\n",
       "6   6.0   6.166667   NaN\n",
       "7   9.0   2.000000   2.0\n",
       "8  15.0   3.000000  31.0"
      ]
     },
     "execution_count": 37,
     "metadata": {},
     "output_type": "execute_result"
    }
   ],
   "source": [
    "df.fillna(df.mean()[0:2])"
   ]
  },
  {
   "cell_type": "code",
   "execution_count": null,
   "metadata": {},
   "outputs": [],
   "source": []
  },
  {
   "cell_type": "code",
   "execution_count": 38,
   "metadata": {},
   "outputs": [
    {
     "data": {
      "text/html": [
       "<div>\n",
       "<style scoped>\n",
       "    .dataframe tbody tr th:only-of-type {\n",
       "        vertical-align: middle;\n",
       "    }\n",
       "\n",
       "    .dataframe tbody tr th {\n",
       "        vertical-align: top;\n",
       "    }\n",
       "\n",
       "    .dataframe thead th {\n",
       "        text-align: right;\n",
       "    }\n",
       "</style>\n",
       "<table border=\"1\" class=\"dataframe\">\n",
       "  <thead>\n",
       "    <tr style=\"text-align: right;\">\n",
       "      <th></th>\n",
       "      <th>maas</th>\n",
       "      <th>V2</th>\n",
       "      <th>V3</th>\n",
       "      <th>departman</th>\n",
       "    </tr>\n",
       "  </thead>\n",
       "  <tbody>\n",
       "    <tr>\n",
       "      <th>0</th>\n",
       "      <td>1.0</td>\n",
       "      <td>7.0</td>\n",
       "      <td>NaN</td>\n",
       "      <td>IT</td>\n",
       "    </tr>\n",
       "    <tr>\n",
       "      <th>1</th>\n",
       "      <td>3.0</td>\n",
       "      <td>NaN</td>\n",
       "      <td>12.0</td>\n",
       "      <td>IT</td>\n",
       "    </tr>\n",
       "    <tr>\n",
       "      <th>2</th>\n",
       "      <td>6.0</td>\n",
       "      <td>5.0</td>\n",
       "      <td>5.0</td>\n",
       "      <td>IK</td>\n",
       "    </tr>\n",
       "    <tr>\n",
       "      <th>3</th>\n",
       "      <td>NaN</td>\n",
       "      <td>8.0</td>\n",
       "      <td>6.0</td>\n",
       "      <td>IK</td>\n",
       "    </tr>\n",
       "    <tr>\n",
       "      <th>4</th>\n",
       "      <td>7.0</td>\n",
       "      <td>12.0</td>\n",
       "      <td>14.0</td>\n",
       "      <td>IK</td>\n",
       "    </tr>\n",
       "    <tr>\n",
       "      <th>5</th>\n",
       "      <td>1.0</td>\n",
       "      <td>NaN</td>\n",
       "      <td>7.0</td>\n",
       "      <td>IK</td>\n",
       "    </tr>\n",
       "    <tr>\n",
       "      <th>6</th>\n",
       "      <td>NaN</td>\n",
       "      <td>NaN</td>\n",
       "      <td>NaN</td>\n",
       "      <td>IK</td>\n",
       "    </tr>\n",
       "    <tr>\n",
       "      <th>7</th>\n",
       "      <td>9.0</td>\n",
       "      <td>2.0</td>\n",
       "      <td>2.0</td>\n",
       "      <td>IT</td>\n",
       "    </tr>\n",
       "    <tr>\n",
       "      <th>8</th>\n",
       "      <td>15.0</td>\n",
       "      <td>3.0</td>\n",
       "      <td>31.0</td>\n",
       "      <td>IT</td>\n",
       "    </tr>\n",
       "  </tbody>\n",
       "</table>\n",
       "</div>"
      ],
      "text/plain": [
       "   maas    V2    V3 departman\n",
       "0   1.0   7.0   NaN        IT\n",
       "1   3.0   NaN  12.0        IT\n",
       "2   6.0   5.0   5.0        IK\n",
       "3   NaN   8.0   6.0        IK\n",
       "4   7.0  12.0  14.0        IK\n",
       "5   1.0   NaN   7.0        IK\n",
       "6   NaN   NaN   NaN        IK\n",
       "7   9.0   2.0   2.0        IT\n",
       "8  15.0   3.0  31.0        IT"
      ]
     },
     "execution_count": 38,
     "metadata": {},
     "output_type": "execute_result"
    }
   ],
   "source": [
    "V1 = np.array([1,3,6,np.NaN,7,1,np.NaN,9,15])\n",
    "V2 = np.array([7,np.NaN,5,8,12,np.NaN,np.NaN,2,3])\n",
    "V3 = np.array([np.NaN,12,5,6,14,7,np.NaN,2,31])\n",
    "V4 = np.array([\"IT\",\"IT\",\"IK\",\"IK\",\"IK\",\"IK\",\"IK\",\"IT\",\"IT\"])\n",
    "\n",
    "df = pd.DataFrame(\n",
    "        {\"maas\" : V1,\n",
    "         \"V2\" : V2,\n",
    "         \"V3\" : V3,\n",
    "        \"departman\" : V4}        \n",
    ")\n",
    "\n",
    "df"
   ]
  },
  {
   "cell_type": "code",
   "execution_count": 40,
   "metadata": {},
   "outputs": [
    {
     "data": {
      "text/html": [
       "<div>\n",
       "<style scoped>\n",
       "    .dataframe tbody tr th:only-of-type {\n",
       "        vertical-align: middle;\n",
       "    }\n",
       "\n",
       "    .dataframe tbody tr th {\n",
       "        vertical-align: top;\n",
       "    }\n",
       "\n",
       "    .dataframe thead th {\n",
       "        text-align: right;\n",
       "    }\n",
       "</style>\n",
       "<table border=\"1\" class=\"dataframe\">\n",
       "  <thead>\n",
       "    <tr style=\"text-align: right;\">\n",
       "      <th></th>\n",
       "      <th>maas</th>\n",
       "      <th>V2</th>\n",
       "      <th>V3</th>\n",
       "    </tr>\n",
       "    <tr>\n",
       "      <th>departman</th>\n",
       "      <th></th>\n",
       "      <th></th>\n",
       "      <th></th>\n",
       "    </tr>\n",
       "  </thead>\n",
       "  <tbody>\n",
       "    <tr>\n",
       "      <th>IK</th>\n",
       "      <td>4.666667</td>\n",
       "      <td>8.333333</td>\n",
       "      <td>8.0</td>\n",
       "    </tr>\n",
       "    <tr>\n",
       "      <th>IT</th>\n",
       "      <td>7.000000</td>\n",
       "      <td>4.000000</td>\n",
       "      <td>15.0</td>\n",
       "    </tr>\n",
       "  </tbody>\n",
       "</table>\n",
       "</div>"
      ],
      "text/plain": [
       "               maas        V2    V3\n",
       "departman                          \n",
       "IK         4.666667  8.333333   8.0\n",
       "IT         7.000000  4.000000  15.0"
      ]
     },
     "execution_count": 40,
     "metadata": {},
     "output_type": "execute_result"
    }
   ],
   "source": [
    "df.groupby(\"departman\").mean()"
   ]
  },
  {
   "cell_type": "code",
   "execution_count": 49,
   "metadata": {},
   "outputs": [
    {
     "data": {
      "text/plain": [
       "0     1.000000\n",
       "1     3.000000\n",
       "2     6.000000\n",
       "3     4.666667\n",
       "4     7.000000\n",
       "5     1.000000\n",
       "6     4.666667\n",
       "7     9.000000\n",
       "8    15.000000\n",
       "Name: maas, dtype: float64"
      ]
     },
     "execution_count": 49,
     "metadata": {},
     "output_type": "execute_result"
    }
   ],
   "source": [
    "df[\"maas\"].fillna(df.groupby(\"departman\")[\"maas\"].transform(\"mean\"))"
   ]
  },
  {
   "cell_type": "code",
   "execution_count": null,
   "metadata": {},
   "outputs": [],
   "source": []
  },
  {
   "cell_type": "code",
   "execution_count": 65,
   "metadata": {},
   "outputs": [
    {
     "data": {
      "text/html": [
       "<div>\n",
       "<style scoped>\n",
       "    .dataframe tbody tr th:only-of-type {\n",
       "        vertical-align: middle;\n",
       "    }\n",
       "\n",
       "    .dataframe tbody tr th {\n",
       "        vertical-align: top;\n",
       "    }\n",
       "\n",
       "    .dataframe thead th {\n",
       "        text-align: right;\n",
       "    }\n",
       "</style>\n",
       "<table border=\"1\" class=\"dataframe\">\n",
       "  <thead>\n",
       "    <tr style=\"text-align: right;\">\n",
       "      <th></th>\n",
       "      <th>maas</th>\n",
       "      <th>departman</th>\n",
       "      <th>departman2</th>\n",
       "    </tr>\n",
       "  </thead>\n",
       "  <tbody>\n",
       "    <tr>\n",
       "      <th>0</th>\n",
       "      <td>1.0</td>\n",
       "      <td>IT</td>\n",
       "      <td>IT</td>\n",
       "    </tr>\n",
       "    <tr>\n",
       "      <th>1</th>\n",
       "      <td>3.0</td>\n",
       "      <td>NaN</td>\n",
       "      <td>NaN</td>\n",
       "    </tr>\n",
       "    <tr>\n",
       "      <th>2</th>\n",
       "      <td>6.0</td>\n",
       "      <td>IK</td>\n",
       "      <td>dd</td>\n",
       "    </tr>\n",
       "    <tr>\n",
       "      <th>3</th>\n",
       "      <td>NaN</td>\n",
       "      <td>IK</td>\n",
       "      <td>dd</td>\n",
       "    </tr>\n",
       "    <tr>\n",
       "      <th>4</th>\n",
       "      <td>7.0</td>\n",
       "      <td>IdaK</td>\n",
       "      <td>dd</td>\n",
       "    </tr>\n",
       "    <tr>\n",
       "      <th>5</th>\n",
       "      <td>1.0</td>\n",
       "      <td>IKd</td>\n",
       "      <td>dd</td>\n",
       "    </tr>\n",
       "    <tr>\n",
       "      <th>6</th>\n",
       "      <td>NaN</td>\n",
       "      <td>IKd</td>\n",
       "      <td>dd</td>\n",
       "    </tr>\n",
       "    <tr>\n",
       "      <th>7</th>\n",
       "      <td>9.0</td>\n",
       "      <td>IsT</td>\n",
       "      <td>IT</td>\n",
       "    </tr>\n",
       "    <tr>\n",
       "      <th>8</th>\n",
       "      <td>15.0</td>\n",
       "      <td>IsT</td>\n",
       "      <td>IT</td>\n",
       "    </tr>\n",
       "  </tbody>\n",
       "</table>\n",
       "</div>"
      ],
      "text/plain": [
       "   maas departman departman2\n",
       "0   1.0        IT         IT\n",
       "1   3.0       NaN        NaN\n",
       "2   6.0        IK         dd\n",
       "3   NaN        IK         dd\n",
       "4   7.0      IdaK         dd\n",
       "5   1.0       IKd         dd\n",
       "6   NaN       IKd         dd\n",
       "7   9.0       IsT         IT\n",
       "8  15.0       IsT         IT"
      ]
     },
     "execution_count": 65,
     "metadata": {},
     "output_type": "execute_result"
    }
   ],
   "source": [
    "import numpy as np\n",
    "import pandas as pd\n",
    "V1 = np.array([1,3,6,np.NaN,7,1,np.NaN,9,15])\n",
    "V4 = np.array([\"IT\",np.nan,\"IK\",\"IK\",\"IdaK\",\"IKd\",\"IKd\",\"IsT\",\"IsT\"], dtype=object)\n",
    "V3 = np.array([\"IT\",np.nan,\"dd\",\"dd\",\"dd\",\"dd\",\"dd\",\"IT\",\"IT\"], dtype=object)\n",
    "\n",
    "df = pd.DataFrame(\n",
    "        {\"maas\" : V1,\n",
    "        \"departman\" : V4,\n",
    "        \"departman2\" : V3}        \n",
    ")\n",
    "\n",
    "df"
   ]
  },
  {
   "cell_type": "code",
   "execution_count": 69,
   "metadata": {},
   "outputs": [
    {
     "data": {
      "text/plain": [
       "0     IK\n",
       "1    IKd\n",
       "2    IsT\n",
       "dtype: object"
      ]
     },
     "execution_count": 69,
     "metadata": {},
     "output_type": "execute_result"
    }
   ],
   "source": [
    "df[\"departman\"].mode()"
   ]
  },
  {
   "cell_type": "code",
   "execution_count": 70,
   "metadata": {},
   "outputs": [
    {
     "data": {
      "text/plain": [
       "0      IT\n",
       "1      IK\n",
       "2      IK\n",
       "3      IK\n",
       "4    IdaK\n",
       "5     IKd\n",
       "6     IKd\n",
       "7     IsT\n",
       "8     IsT\n",
       "Name: departman, dtype: object"
      ]
     },
     "execution_count": 70,
     "metadata": {},
     "output_type": "execute_result"
    }
   ],
   "source": [
    "df[\"departman\"].fillna(df[\"departman\"].mode()[0])"
   ]
  },
  {
   "cell_type": "code",
   "execution_count": 71,
   "metadata": {},
   "outputs": [
    {
     "data": {
      "text/plain": [
       "0      IT\n",
       "1      IK\n",
       "2      IK\n",
       "3      IK\n",
       "4    IdaK\n",
       "5     IKd\n",
       "6     IKd\n",
       "7     IsT\n",
       "8     IsT\n",
       "Name: departman, dtype: object"
      ]
     },
     "execution_count": 71,
     "metadata": {},
     "output_type": "execute_result"
    }
   ],
   "source": [
    "# eksik değerleri sonrasındaki değerler ile doldurmak istediğimizde,\n",
    "#method=\"bfill argümanını ekleriz\"\n",
    "df[\"departman\"].fillna(method = \"bfill\")"
   ]
  },
  {
   "cell_type": "code",
   "execution_count": null,
   "metadata": {},
   "outputs": [],
   "source": []
  },
  {
   "cell_type": "code",
   "execution_count": 72,
   "metadata": {},
   "outputs": [
    {
     "name": "stdout",
     "output_type": "stream",
     "text": [
      "   survived  pclass   age  sibsp  parch     fare\n",
      "0         0       3  22.0      1      0   7.2500\n",
      "1         1       1  38.0      1      0  71.2833\n",
      "2         1       3  26.0      0      0   7.9250\n",
      "3         1       1  35.0      1      0  53.1000\n",
      "4         0       3  35.0      0      0   8.0500\n"
     ]
    },
    {
     "data": {
      "text/plain": [
       "survived      0\n",
       "pclass        0\n",
       "age         177\n",
       "sibsp         0\n",
       "parch         0\n",
       "fare          0\n",
       "dtype: int64"
      ]
     },
     "execution_count": 72,
     "metadata": {},
     "output_type": "execute_result"
    }
   ],
   "source": [
    "\n",
    "\n",
    "import seaborn as sns\n",
    "import missingno as msno\n",
    "df = sns.load_dataset('titanic')\n",
    "df = df.select_dtypes(include = ['float64', 'int64'])\n",
    "print(df.head())\n",
    "df.isnull().sum()"
   ]
  },
  {
   "cell_type": "code",
   "execution_count": 73,
   "metadata": {
    "collapsed": true,
    "jupyter": {
     "outputs_hidden": true
    }
   },
   "outputs": [
    {
     "name": "stdout",
     "output_type": "stream",
     "text": [
      "Requirement already satisfied: ycimpute in c:\\users\\bedir\\anaconda3\\lib\\site-packages (0.1.1)\n",
      "Requirement already satisfied: scikit-learn>=0.17.1 in c:\\users\\bedir\\anaconda3\\lib\\site-packages (from ycimpute) (0.22.1)\n",
      "Requirement already satisfied: numpy>=1.10 in c:\\users\\bedir\\anaconda3\\lib\\site-packages (from ycimpute) (1.18.1)\n",
      "Requirement already satisfied: scipy in c:\\users\\bedir\\anaconda3\\lib\\site-packages (from ycimpute) (1.4.1)\n",
      "Requirement already satisfied: six in c:\\users\\bedir\\anaconda3\\lib\\site-packages (from ycimpute) (1.14.0)\n",
      "Requirement already satisfied: joblib>=0.11 in c:\\users\\bedir\\anaconda3\\lib\\site-packages (from scikit-learn>=0.17.1->ycimpute) (0.14.1)\n"
     ]
    }
   ],
   "source": [
    "!pip install ycimpute "
   ]
  },
  {
   "cell_type": "code",
   "execution_count": 74,
   "metadata": {},
   "outputs": [],
   "source": [
    "from ycimpute.imputer import knnimput"
   ]
  },
  {
   "cell_type": "code",
   "execution_count": 75,
   "metadata": {},
   "outputs": [
    {
     "data": {
      "text/plain": [
       "['survived', 'pclass', 'age', 'sibsp', 'parch', 'fare']"
      ]
     },
     "execution_count": 75,
     "metadata": {},
     "output_type": "execute_result"
    }
   ],
   "source": [
    "list(df)"
   ]
  },
  {
   "cell_type": "code",
   "execution_count": 76,
   "metadata": {},
   "outputs": [],
   "source": [
    "var_names=list(df)"
   ]
  },
  {
   "cell_type": "code",
   "execution_count": 77,
   "metadata": {},
   "outputs": [],
   "source": [
    "n_df=np.array(df)"
   ]
  },
  {
   "cell_type": "code",
   "execution_count": 80,
   "metadata": {},
   "outputs": [
    {
     "data": {
      "text/plain": [
       "array([[ 0.    ,  3.    , 22.    ,  1.    ,  0.    ,  7.25  ],\n",
       "       [ 1.    ,  1.    , 38.    ,  1.    ,  0.    , 71.2833],\n",
       "       [ 1.    ,  3.    , 26.    ,  0.    ,  0.    ,  7.925 ],\n",
       "       [ 1.    ,  1.    , 35.    ,  1.    ,  0.    , 53.1   ],\n",
       "       [ 0.    ,  3.    , 35.    ,  0.    ,  0.    ,  8.05  ]])"
      ]
     },
     "execution_count": 80,
     "metadata": {},
     "output_type": "execute_result"
    }
   ],
   "source": [
    "n_df[0:5]"
   ]
  },
  {
   "cell_type": "code",
   "execution_count": 81,
   "metadata": {},
   "outputs": [
    {
     "data": {
      "text/plain": [
       "(891, 6)"
      ]
     },
     "execution_count": 81,
     "metadata": {},
     "output_type": "execute_result"
    }
   ],
   "source": [
    "df.shape"
   ]
  },
  {
   "cell_type": "code",
   "execution_count": 82,
   "metadata": {},
   "outputs": [
    {
     "data": {
      "text/plain": [
       "survived      0\n",
       "pclass        0\n",
       "age         177\n",
       "sibsp         0\n",
       "parch         0\n",
       "fare          0\n",
       "dtype: int64"
      ]
     },
     "execution_count": 82,
     "metadata": {},
     "output_type": "execute_result"
    }
   ],
   "source": [
    "df.isnull().sum()"
   ]
  },
  {
   "cell_type": "code",
   "execution_count": 88,
   "metadata": {},
   "outputs": [
    {
     "name": "stdout",
     "output_type": "stream",
     "text": [
      "Imputing row 1/891 with 0 missing, elapsed time: 0.119\n",
      "Imputing row 101/891 with 0 missing, elapsed time: 0.120\n",
      "Imputing row 201/891 with 0 missing, elapsed time: 0.121\n",
      "Imputing row 301/891 with 1 missing, elapsed time: 0.122\n",
      "Imputing row 401/891 with 0 missing, elapsed time: 0.123\n",
      "Imputing row 501/891 with 0 missing, elapsed time: 0.124\n",
      "Imputing row 601/891 with 0 missing, elapsed time: 0.125\n",
      "Imputing row 701/891 with 0 missing, elapsed time: 0.126\n",
      "Imputing row 801/891 with 0 missing, elapsed time: 0.127\n"
     ]
    }
   ],
   "source": [
    "dff=knnimput.KNN(k=4).complete(n_df)"
   ]
  },
  {
   "cell_type": "code",
   "execution_count": 89,
   "metadata": {},
   "outputs": [
    {
     "data": {
      "text/plain": [
       "numpy.ndarray"
      ]
     },
     "execution_count": 89,
     "metadata": {},
     "output_type": "execute_result"
    }
   ],
   "source": [
    "type(dff)"
   ]
  },
  {
   "cell_type": "code",
   "execution_count": 90,
   "metadata": {},
   "outputs": [],
   "source": [
    "dff=pd.DataFrame(dff,columns=var_names)"
   ]
  },
  {
   "cell_type": "code",
   "execution_count": 92,
   "metadata": {},
   "outputs": [
    {
     "data": {
      "text/plain": [
       "(891, 6)"
      ]
     },
     "execution_count": 92,
     "metadata": {},
     "output_type": "execute_result"
    }
   ],
   "source": [
    "dff.shape"
   ]
  },
  {
   "cell_type": "code",
   "execution_count": 93,
   "metadata": {},
   "outputs": [
    {
     "data": {
      "text/plain": [
       "survived    0\n",
       "pclass      0\n",
       "age         0\n",
       "sibsp       0\n",
       "parch       0\n",
       "fare        0\n",
       "dtype: int64"
      ]
     },
     "execution_count": 93,
     "metadata": {},
     "output_type": "execute_result"
    }
   ],
   "source": [
    "dff.isnull().sum()"
   ]
  },
  {
   "cell_type": "code",
   "execution_count": null,
   "metadata": {},
   "outputs": [],
   "source": []
  },
  {
   "cell_type": "code",
   "execution_count": 94,
   "metadata": {},
   "outputs": [],
   "source": [
    "import seaborn as sns\n",
    "import missingno as msno\n",
    "df = sns.load_dataset('titanic')\n",
    "df = df.select_dtypes(include = ['float64', 'int64'])"
   ]
  },
  {
   "cell_type": "code",
   "execution_count": 95,
   "metadata": {},
   "outputs": [
    {
     "data": {
      "text/plain": [
       "survived      0\n",
       "pclass        0\n",
       "age         177\n",
       "sibsp         0\n",
       "parch         0\n",
       "fare          0\n",
       "dtype: int64"
      ]
     },
     "execution_count": 95,
     "metadata": {},
     "output_type": "execute_result"
    }
   ],
   "source": [
    "df.isnull().sum()"
   ]
  },
  {
   "cell_type": "code",
   "execution_count": 96,
   "metadata": {},
   "outputs": [],
   "source": [
    "from ycimpute.imputer import iterforest\n",
    "dff=iterforest.IterImput().complete(n_df)"
   ]
  },
  {
   "cell_type": "code",
   "execution_count": 97,
   "metadata": {},
   "outputs": [
    {
     "data": {
      "text/plain": [
       "array([[ 0.    ,  3.    , 22.    ,  1.    ,  0.    ,  7.25  ],\n",
       "       [ 1.    ,  1.    , 38.    ,  1.    ,  0.    , 71.2833],\n",
       "       [ 1.    ,  3.    , 26.    ,  0.    ,  0.    ,  7.925 ],\n",
       "       ...,\n",
       "       [ 0.    ,  3.    , 25.865 ,  1.    ,  2.    , 23.45  ],\n",
       "       [ 1.    ,  1.    , 26.    ,  0.    ,  0.    , 30.    ],\n",
       "       [ 0.    ,  3.    , 32.    ,  0.    ,  0.    ,  7.75  ]])"
      ]
     },
     "execution_count": 97,
     "metadata": {},
     "output_type": "execute_result"
    }
   ],
   "source": [
    "dff"
   ]
  },
  {
   "cell_type": "code",
   "execution_count": 98,
   "metadata": {},
   "outputs": [],
   "source": [
    "dff = pd.DataFrame(dff, columns = var_names)"
   ]
  },
  {
   "cell_type": "code",
   "execution_count": 99,
   "metadata": {},
   "outputs": [
    {
     "data": {
      "text/plain": [
       "survived    0\n",
       "pclass      0\n",
       "age         0\n",
       "sibsp       0\n",
       "parch       0\n",
       "fare        0\n",
       "dtype: int64"
      ]
     },
     "execution_count": 99,
     "metadata": {},
     "output_type": "execute_result"
    }
   ],
   "source": [
    "dff.isnull().sum()"
   ]
  },
  {
   "cell_type": "code",
   "execution_count": null,
   "metadata": {},
   "outputs": [],
   "source": []
  },
  {
   "cell_type": "code",
   "execution_count": null,
   "metadata": {},
   "outputs": [],
   "source": []
  },
  {
   "cell_type": "code",
   "execution_count": 100,
   "metadata": {},
   "outputs": [
    {
     "data": {
      "text/html": [
       "<div>\n",
       "<style scoped>\n",
       "    .dataframe tbody tr th:only-of-type {\n",
       "        vertical-align: middle;\n",
       "    }\n",
       "\n",
       "    .dataframe tbody tr th {\n",
       "        vertical-align: top;\n",
       "    }\n",
       "\n",
       "    .dataframe thead th {\n",
       "        text-align: right;\n",
       "    }\n",
       "</style>\n",
       "<table border=\"1\" class=\"dataframe\">\n",
       "  <thead>\n",
       "    <tr style=\"text-align: right;\">\n",
       "      <th></th>\n",
       "      <th>V1</th>\n",
       "      <th>V2</th>\n",
       "      <th>V3</th>\n",
       "    </tr>\n",
       "  </thead>\n",
       "  <tbody>\n",
       "    <tr>\n",
       "      <th>0</th>\n",
       "      <td>1.0</td>\n",
       "      <td>7.0</td>\n",
       "      <td>6.0</td>\n",
       "    </tr>\n",
       "    <tr>\n",
       "      <th>1</th>\n",
       "      <td>3.0</td>\n",
       "      <td>7.0</td>\n",
       "      <td>12.0</td>\n",
       "    </tr>\n",
       "    <tr>\n",
       "      <th>2</th>\n",
       "      <td>6.0</td>\n",
       "      <td>5.0</td>\n",
       "      <td>5.0</td>\n",
       "    </tr>\n",
       "    <tr>\n",
       "      <th>3</th>\n",
       "      <td>5.0</td>\n",
       "      <td>8.0</td>\n",
       "      <td>6.0</td>\n",
       "    </tr>\n",
       "    <tr>\n",
       "      <th>4</th>\n",
       "      <td>7.0</td>\n",
       "      <td>12.0</td>\n",
       "      <td>14.0</td>\n",
       "    </tr>\n",
       "  </tbody>\n",
       "</table>\n",
       "</div>"
      ],
      "text/plain": [
       "    V1    V2    V3\n",
       "0  1.0   7.0   6.0\n",
       "1  3.0   7.0  12.0\n",
       "2  6.0   5.0   5.0\n",
       "3  5.0   8.0   6.0\n",
       "4  7.0  12.0  14.0"
      ]
     },
     "execution_count": 100,
     "metadata": {},
     "output_type": "execute_result"
    }
   ],
   "source": [
    "import numpy as np\n",
    "import pandas as pd\n",
    "V1 = np.array([1,3,6,5,7])\n",
    "V2 = np.array([7,7,5,8,12])\n",
    "V3 = np.array([6,12,5,6,14])\n",
    "df = pd.DataFrame(\n",
    "        {\"V1\" : V1,\n",
    "         \"V2\" : V2,\n",
    "         \"V3\" : V3})\n",
    "\n",
    "df = df.astype(float)\n",
    "df"
   ]
  },
  {
   "cell_type": "code",
   "execution_count": 101,
   "metadata": {},
   "outputs": [],
   "source": [
    "from sklearn import preprocessing"
   ]
  },
  {
   "cell_type": "code",
   "execution_count": 102,
   "metadata": {},
   "outputs": [
    {
     "data": {
      "text/plain": [
       "array([[-1.57841037, -0.34554737, -0.70920814],\n",
       "       [-0.64993368, -0.34554737,  0.92742603],\n",
       "       [ 0.74278135, -1.2094158 , -0.98198051],\n",
       "       [ 0.27854301,  0.08638684, -0.70920814],\n",
       "       [ 1.2070197 ,  1.81412369,  1.47297076]])"
      ]
     },
     "execution_count": 102,
     "metadata": {},
     "output_type": "execute_result"
    }
   ],
   "source": [
    "preprocessing.scale(df)\n",
    "#preprocessing= ön işleme"
   ]
  },
  {
   "cell_type": "code",
   "execution_count": 103,
   "metadata": {},
   "outputs": [
    {
     "data": {
      "text/plain": [
       "array([[0.10783277, 0.75482941, 0.64699664],\n",
       "       [0.21107926, 0.49251828, 0.84431705],\n",
       "       [0.64699664, 0.53916387, 0.53916387],\n",
       "       [0.4472136 , 0.71554175, 0.53665631],\n",
       "       [0.35491409, 0.60842415, 0.70982818]])"
      ]
     },
     "execution_count": 103,
     "metadata": {},
     "output_type": "execute_result"
    }
   ],
   "source": [
    "preprocessing.normalize(df) #0-1 arasına dönüştürmek için "
   ]
  },
  {
   "cell_type": "code",
   "execution_count": 104,
   "metadata": {},
   "outputs": [],
   "source": [
    "scaler = preprocessing.MinMaxScaler(feature_range = (100,200))"
   ]
  },
  {
   "cell_type": "code",
   "execution_count": 105,
   "metadata": {},
   "outputs": [
    {
     "data": {
      "text/plain": [
       "array([[100.        , 128.57142857, 111.11111111],\n",
       "       [133.33333333, 128.57142857, 177.77777778],\n",
       "       [183.33333333, 100.        , 100.        ],\n",
       "       [166.66666667, 142.85714286, 111.11111111],\n",
       "       [200.        , 200.        , 200.        ]])"
      ]
     },
     "execution_count": 105,
     "metadata": {},
     "output_type": "execute_result"
    }
   ],
   "source": [
    "scaler.fit_transform(df)"
   ]
  },
  {
   "cell_type": "code",
   "execution_count": null,
   "metadata": {},
   "outputs": [],
   "source": []
  },
  {
   "cell_type": "code",
   "execution_count": null,
   "metadata": {},
   "outputs": [],
   "source": []
  },
  {
   "cell_type": "code",
   "execution_count": null,
   "metadata": {},
   "outputs": [],
   "source": []
  },
  {
   "cell_type": "code",
   "execution_count": 106,
   "metadata": {},
   "outputs": [
    {
     "data": {
      "text/html": [
       "<div>\n",
       "<style scoped>\n",
       "    .dataframe tbody tr th:only-of-type {\n",
       "        vertical-align: middle;\n",
       "    }\n",
       "\n",
       "    .dataframe tbody tr th {\n",
       "        vertical-align: top;\n",
       "    }\n",
       "\n",
       "    .dataframe thead th {\n",
       "        text-align: right;\n",
       "    }\n",
       "</style>\n",
       "<table border=\"1\" class=\"dataframe\">\n",
       "  <thead>\n",
       "    <tr style=\"text-align: right;\">\n",
       "      <th></th>\n",
       "      <th>total_bill</th>\n",
       "      <th>tip</th>\n",
       "      <th>sex</th>\n",
       "      <th>smoker</th>\n",
       "      <th>day</th>\n",
       "      <th>time</th>\n",
       "      <th>size</th>\n",
       "    </tr>\n",
       "  </thead>\n",
       "  <tbody>\n",
       "    <tr>\n",
       "      <th>0</th>\n",
       "      <td>16.99</td>\n",
       "      <td>1.01</td>\n",
       "      <td>Female</td>\n",
       "      <td>No</td>\n",
       "      <td>Sun</td>\n",
       "      <td>Dinner</td>\n",
       "      <td>2</td>\n",
       "    </tr>\n",
       "    <tr>\n",
       "      <th>1</th>\n",
       "      <td>10.34</td>\n",
       "      <td>1.66</td>\n",
       "      <td>Male</td>\n",
       "      <td>No</td>\n",
       "      <td>Sun</td>\n",
       "      <td>Dinner</td>\n",
       "      <td>3</td>\n",
       "    </tr>\n",
       "    <tr>\n",
       "      <th>2</th>\n",
       "      <td>21.01</td>\n",
       "      <td>3.50</td>\n",
       "      <td>Male</td>\n",
       "      <td>No</td>\n",
       "      <td>Sun</td>\n",
       "      <td>Dinner</td>\n",
       "      <td>3</td>\n",
       "    </tr>\n",
       "    <tr>\n",
       "      <th>3</th>\n",
       "      <td>23.68</td>\n",
       "      <td>3.31</td>\n",
       "      <td>Male</td>\n",
       "      <td>No</td>\n",
       "      <td>Sun</td>\n",
       "      <td>Dinner</td>\n",
       "      <td>2</td>\n",
       "    </tr>\n",
       "    <tr>\n",
       "      <th>4</th>\n",
       "      <td>24.59</td>\n",
       "      <td>3.61</td>\n",
       "      <td>Female</td>\n",
       "      <td>No</td>\n",
       "      <td>Sun</td>\n",
       "      <td>Dinner</td>\n",
       "      <td>4</td>\n",
       "    </tr>\n",
       "  </tbody>\n",
       "</table>\n",
       "</div>"
      ],
      "text/plain": [
       "   total_bill   tip     sex smoker  day    time  size\n",
       "0       16.99  1.01  Female     No  Sun  Dinner     2\n",
       "1       10.34  1.66    Male     No  Sun  Dinner     3\n",
       "2       21.01  3.50    Male     No  Sun  Dinner     3\n",
       "3       23.68  3.31    Male     No  Sun  Dinner     2\n",
       "4       24.59  3.61  Female     No  Sun  Dinner     4"
      ]
     },
     "execution_count": 106,
     "metadata": {},
     "output_type": "execute_result"
    }
   ],
   "source": [
    "import seaborn as sns\n",
    "df = sns.load_dataset('tips')\n",
    "df.head()"
   ]
  },
  {
   "cell_type": "code",
   "execution_count": 109,
   "metadata": {},
   "outputs": [],
   "source": [
    "from sklearn.preprocessing import LabelEncoder"
   ]
  },
  {
   "cell_type": "code",
   "execution_count": 110,
   "metadata": {},
   "outputs": [],
   "source": [
    "lbe=LabelEncoder()"
   ]
  },
  {
   "cell_type": "code",
   "execution_count": 111,
   "metadata": {},
   "outputs": [
    {
     "data": {
      "text/plain": [
       "array([0, 1, 1, 1, 0, 1, 1, 1, 1, 1, 1, 0, 1, 1, 0, 1, 0, 1, 0, 1, 1, 0,\n",
       "       0, 1, 1, 1, 1, 1, 1, 0, 1, 1, 0, 0, 1, 1, 1, 0, 1, 1, 1, 1, 1, 1,\n",
       "       1, 1, 1, 1, 1, 1, 1, 0, 0, 1, 1, 1, 1, 0, 1, 1, 1, 1, 1, 1, 1, 1,\n",
       "       0, 0, 1, 1, 1, 0, 0, 0, 0, 1, 1, 1, 1, 1, 1, 1, 0, 1, 1, 0, 1, 1,\n",
       "       1, 1, 1, 1, 0, 0, 0, 1, 1, 1, 1, 1, 0, 0, 0, 0, 0, 1, 1, 1, 1, 0,\n",
       "       1, 0, 1, 1, 0, 0, 1, 0, 0, 0, 1, 0, 1, 1, 0, 0, 1, 0, 0, 1, 1, 0,\n",
       "       0, 0, 0, 0, 0, 0, 1, 0, 0, 1, 1, 0, 0, 0, 0, 0, 1, 1, 1, 1, 1, 1,\n",
       "       1, 0, 1, 0, 0, 1, 1, 1, 0, 1, 0, 1, 1, 1, 0, 0, 1, 1, 1, 1, 1, 1,\n",
       "       1, 1, 0, 1, 1, 1, 1, 1, 1, 1, 0, 1, 0, 1, 1, 0, 1, 1, 1, 1, 1, 0,\n",
       "       0, 1, 1, 0, 0, 0, 1, 0, 1, 1, 1, 0, 1, 1, 1, 0, 0, 0, 1, 1, 1, 0,\n",
       "       1, 0, 1, 0, 1, 0, 0, 1, 1, 0, 1, 1, 1, 1, 1, 1, 1, 1, 0, 1, 0, 1,\n",
       "       1, 0])"
      ]
     },
     "execution_count": 111,
     "metadata": {},
     "output_type": "execute_result"
    }
   ],
   "source": [
    "lbe.fit_transform(df[\"sex\"])"
   ]
  },
  {
   "cell_type": "code",
   "execution_count": 112,
   "metadata": {},
   "outputs": [],
   "source": [
    "df[\"yeni_sex\"]= lbe.fit_transform(df[\"sex\"])"
   ]
  },
  {
   "cell_type": "code",
   "execution_count": 113,
   "metadata": {},
   "outputs": [
    {
     "data": {
      "text/html": [
       "<div>\n",
       "<style scoped>\n",
       "    .dataframe tbody tr th:only-of-type {\n",
       "        vertical-align: middle;\n",
       "    }\n",
       "\n",
       "    .dataframe tbody tr th {\n",
       "        vertical-align: top;\n",
       "    }\n",
       "\n",
       "    .dataframe thead th {\n",
       "        text-align: right;\n",
       "    }\n",
       "</style>\n",
       "<table border=\"1\" class=\"dataframe\">\n",
       "  <thead>\n",
       "    <tr style=\"text-align: right;\">\n",
       "      <th></th>\n",
       "      <th>total_bill</th>\n",
       "      <th>tip</th>\n",
       "      <th>sex</th>\n",
       "      <th>smoker</th>\n",
       "      <th>day</th>\n",
       "      <th>time</th>\n",
       "      <th>size</th>\n",
       "      <th>yeni_sex</th>\n",
       "    </tr>\n",
       "  </thead>\n",
       "  <tbody>\n",
       "    <tr>\n",
       "      <th>0</th>\n",
       "      <td>16.99</td>\n",
       "      <td>1.01</td>\n",
       "      <td>Female</td>\n",
       "      <td>No</td>\n",
       "      <td>Sun</td>\n",
       "      <td>Dinner</td>\n",
       "      <td>2</td>\n",
       "      <td>0</td>\n",
       "    </tr>\n",
       "    <tr>\n",
       "      <th>1</th>\n",
       "      <td>10.34</td>\n",
       "      <td>1.66</td>\n",
       "      <td>Male</td>\n",
       "      <td>No</td>\n",
       "      <td>Sun</td>\n",
       "      <td>Dinner</td>\n",
       "      <td>3</td>\n",
       "      <td>1</td>\n",
       "    </tr>\n",
       "    <tr>\n",
       "      <th>2</th>\n",
       "      <td>21.01</td>\n",
       "      <td>3.50</td>\n",
       "      <td>Male</td>\n",
       "      <td>No</td>\n",
       "      <td>Sun</td>\n",
       "      <td>Dinner</td>\n",
       "      <td>3</td>\n",
       "      <td>1</td>\n",
       "    </tr>\n",
       "    <tr>\n",
       "      <th>3</th>\n",
       "      <td>23.68</td>\n",
       "      <td>3.31</td>\n",
       "      <td>Male</td>\n",
       "      <td>No</td>\n",
       "      <td>Sun</td>\n",
       "      <td>Dinner</td>\n",
       "      <td>2</td>\n",
       "      <td>1</td>\n",
       "    </tr>\n",
       "    <tr>\n",
       "      <th>4</th>\n",
       "      <td>24.59</td>\n",
       "      <td>3.61</td>\n",
       "      <td>Female</td>\n",
       "      <td>No</td>\n",
       "      <td>Sun</td>\n",
       "      <td>Dinner</td>\n",
       "      <td>4</td>\n",
       "      <td>0</td>\n",
       "    </tr>\n",
       "    <tr>\n",
       "      <th>...</th>\n",
       "      <td>...</td>\n",
       "      <td>...</td>\n",
       "      <td>...</td>\n",
       "      <td>...</td>\n",
       "      <td>...</td>\n",
       "      <td>...</td>\n",
       "      <td>...</td>\n",
       "      <td>...</td>\n",
       "    </tr>\n",
       "    <tr>\n",
       "      <th>239</th>\n",
       "      <td>29.03</td>\n",
       "      <td>5.92</td>\n",
       "      <td>Male</td>\n",
       "      <td>No</td>\n",
       "      <td>Sat</td>\n",
       "      <td>Dinner</td>\n",
       "      <td>3</td>\n",
       "      <td>1</td>\n",
       "    </tr>\n",
       "    <tr>\n",
       "      <th>240</th>\n",
       "      <td>27.18</td>\n",
       "      <td>2.00</td>\n",
       "      <td>Female</td>\n",
       "      <td>Yes</td>\n",
       "      <td>Sat</td>\n",
       "      <td>Dinner</td>\n",
       "      <td>2</td>\n",
       "      <td>0</td>\n",
       "    </tr>\n",
       "    <tr>\n",
       "      <th>241</th>\n",
       "      <td>22.67</td>\n",
       "      <td>2.00</td>\n",
       "      <td>Male</td>\n",
       "      <td>Yes</td>\n",
       "      <td>Sat</td>\n",
       "      <td>Dinner</td>\n",
       "      <td>2</td>\n",
       "      <td>1</td>\n",
       "    </tr>\n",
       "    <tr>\n",
       "      <th>242</th>\n",
       "      <td>17.82</td>\n",
       "      <td>1.75</td>\n",
       "      <td>Male</td>\n",
       "      <td>No</td>\n",
       "      <td>Sat</td>\n",
       "      <td>Dinner</td>\n",
       "      <td>2</td>\n",
       "      <td>1</td>\n",
       "    </tr>\n",
       "    <tr>\n",
       "      <th>243</th>\n",
       "      <td>18.78</td>\n",
       "      <td>3.00</td>\n",
       "      <td>Female</td>\n",
       "      <td>No</td>\n",
       "      <td>Thur</td>\n",
       "      <td>Dinner</td>\n",
       "      <td>2</td>\n",
       "      <td>0</td>\n",
       "    </tr>\n",
       "  </tbody>\n",
       "</table>\n",
       "<p>244 rows × 8 columns</p>\n",
       "</div>"
      ],
      "text/plain": [
       "     total_bill   tip     sex smoker   day    time  size  yeni_sex\n",
       "0         16.99  1.01  Female     No   Sun  Dinner     2         0\n",
       "1         10.34  1.66    Male     No   Sun  Dinner     3         1\n",
       "2         21.01  3.50    Male     No   Sun  Dinner     3         1\n",
       "3         23.68  3.31    Male     No   Sun  Dinner     2         1\n",
       "4         24.59  3.61  Female     No   Sun  Dinner     4         0\n",
       "..          ...   ...     ...    ...   ...     ...   ...       ...\n",
       "239       29.03  5.92    Male     No   Sat  Dinner     3         1\n",
       "240       27.18  2.00  Female    Yes   Sat  Dinner     2         0\n",
       "241       22.67  2.00    Male    Yes   Sat  Dinner     2         1\n",
       "242       17.82  1.75    Male     No   Sat  Dinner     2         1\n",
       "243       18.78  3.00  Female     No  Thur  Dinner     2         0\n",
       "\n",
       "[244 rows x 8 columns]"
      ]
     },
     "execution_count": 113,
     "metadata": {},
     "output_type": "execute_result"
    }
   ],
   "source": [
    "df"
   ]
  },
  {
   "cell_type": "code",
   "execution_count": 114,
   "metadata": {},
   "outputs": [],
   "source": [
    "del df['sex']"
   ]
  },
  {
   "cell_type": "code",
   "execution_count": 115,
   "metadata": {},
   "outputs": [
    {
     "data": {
      "text/html": [
       "<div>\n",
       "<style scoped>\n",
       "    .dataframe tbody tr th:only-of-type {\n",
       "        vertical-align: middle;\n",
       "    }\n",
       "\n",
       "    .dataframe tbody tr th {\n",
       "        vertical-align: top;\n",
       "    }\n",
       "\n",
       "    .dataframe thead th {\n",
       "        text-align: right;\n",
       "    }\n",
       "</style>\n",
       "<table border=\"1\" class=\"dataframe\">\n",
       "  <thead>\n",
       "    <tr style=\"text-align: right;\">\n",
       "      <th></th>\n",
       "      <th>total_bill</th>\n",
       "      <th>tip</th>\n",
       "      <th>smoker</th>\n",
       "      <th>day</th>\n",
       "      <th>time</th>\n",
       "      <th>size</th>\n",
       "      <th>yeni_sex</th>\n",
       "    </tr>\n",
       "  </thead>\n",
       "  <tbody>\n",
       "    <tr>\n",
       "      <th>0</th>\n",
       "      <td>16.99</td>\n",
       "      <td>1.01</td>\n",
       "      <td>No</td>\n",
       "      <td>Sun</td>\n",
       "      <td>Dinner</td>\n",
       "      <td>2</td>\n",
       "      <td>0</td>\n",
       "    </tr>\n",
       "    <tr>\n",
       "      <th>1</th>\n",
       "      <td>10.34</td>\n",
       "      <td>1.66</td>\n",
       "      <td>No</td>\n",
       "      <td>Sun</td>\n",
       "      <td>Dinner</td>\n",
       "      <td>3</td>\n",
       "      <td>1</td>\n",
       "    </tr>\n",
       "    <tr>\n",
       "      <th>2</th>\n",
       "      <td>21.01</td>\n",
       "      <td>3.50</td>\n",
       "      <td>No</td>\n",
       "      <td>Sun</td>\n",
       "      <td>Dinner</td>\n",
       "      <td>3</td>\n",
       "      <td>1</td>\n",
       "    </tr>\n",
       "    <tr>\n",
       "      <th>3</th>\n",
       "      <td>23.68</td>\n",
       "      <td>3.31</td>\n",
       "      <td>No</td>\n",
       "      <td>Sun</td>\n",
       "      <td>Dinner</td>\n",
       "      <td>2</td>\n",
       "      <td>1</td>\n",
       "    </tr>\n",
       "    <tr>\n",
       "      <th>4</th>\n",
       "      <td>24.59</td>\n",
       "      <td>3.61</td>\n",
       "      <td>No</td>\n",
       "      <td>Sun</td>\n",
       "      <td>Dinner</td>\n",
       "      <td>4</td>\n",
       "      <td>0</td>\n",
       "    </tr>\n",
       "    <tr>\n",
       "      <th>...</th>\n",
       "      <td>...</td>\n",
       "      <td>...</td>\n",
       "      <td>...</td>\n",
       "      <td>...</td>\n",
       "      <td>...</td>\n",
       "      <td>...</td>\n",
       "      <td>...</td>\n",
       "    </tr>\n",
       "    <tr>\n",
       "      <th>239</th>\n",
       "      <td>29.03</td>\n",
       "      <td>5.92</td>\n",
       "      <td>No</td>\n",
       "      <td>Sat</td>\n",
       "      <td>Dinner</td>\n",
       "      <td>3</td>\n",
       "      <td>1</td>\n",
       "    </tr>\n",
       "    <tr>\n",
       "      <th>240</th>\n",
       "      <td>27.18</td>\n",
       "      <td>2.00</td>\n",
       "      <td>Yes</td>\n",
       "      <td>Sat</td>\n",
       "      <td>Dinner</td>\n",
       "      <td>2</td>\n",
       "      <td>0</td>\n",
       "    </tr>\n",
       "    <tr>\n",
       "      <th>241</th>\n",
       "      <td>22.67</td>\n",
       "      <td>2.00</td>\n",
       "      <td>Yes</td>\n",
       "      <td>Sat</td>\n",
       "      <td>Dinner</td>\n",
       "      <td>2</td>\n",
       "      <td>1</td>\n",
       "    </tr>\n",
       "    <tr>\n",
       "      <th>242</th>\n",
       "      <td>17.82</td>\n",
       "      <td>1.75</td>\n",
       "      <td>No</td>\n",
       "      <td>Sat</td>\n",
       "      <td>Dinner</td>\n",
       "      <td>2</td>\n",
       "      <td>1</td>\n",
       "    </tr>\n",
       "    <tr>\n",
       "      <th>243</th>\n",
       "      <td>18.78</td>\n",
       "      <td>3.00</td>\n",
       "      <td>No</td>\n",
       "      <td>Thur</td>\n",
       "      <td>Dinner</td>\n",
       "      <td>2</td>\n",
       "      <td>0</td>\n",
       "    </tr>\n",
       "  </tbody>\n",
       "</table>\n",
       "<p>244 rows × 7 columns</p>\n",
       "</div>"
      ],
      "text/plain": [
       "     total_bill   tip smoker   day    time  size  yeni_sex\n",
       "0         16.99  1.01     No   Sun  Dinner     2         0\n",
       "1         10.34  1.66     No   Sun  Dinner     3         1\n",
       "2         21.01  3.50     No   Sun  Dinner     3         1\n",
       "3         23.68  3.31     No   Sun  Dinner     2         1\n",
       "4         24.59  3.61     No   Sun  Dinner     4         0\n",
       "..          ...   ...    ...   ...     ...   ...       ...\n",
       "239       29.03  5.92     No   Sat  Dinner     3         1\n",
       "240       27.18  2.00    Yes   Sat  Dinner     2         0\n",
       "241       22.67  2.00    Yes   Sat  Dinner     2         1\n",
       "242       17.82  1.75     No   Sat  Dinner     2         1\n",
       "243       18.78  3.00     No  Thur  Dinner     2         0\n",
       "\n",
       "[244 rows x 7 columns]"
      ]
     },
     "execution_count": 115,
     "metadata": {},
     "output_type": "execute_result"
    }
   ],
   "source": [
    "df"
   ]
  },
  {
   "cell_type": "code",
   "execution_count": 116,
   "metadata": {},
   "outputs": [],
   "source": [
    "import numpy as np"
   ]
  },
  {
   "cell_type": "code",
   "execution_count": 117,
   "metadata": {},
   "outputs": [],
   "source": [
    "df[\"yeni_day\"]=np.where(df[\"day\"].str.contains(\"Sun\"),1,0)"
   ]
  },
  {
   "cell_type": "code",
   "execution_count": 118,
   "metadata": {},
   "outputs": [
    {
     "data": {
      "text/html": [
       "<div>\n",
       "<style scoped>\n",
       "    .dataframe tbody tr th:only-of-type {\n",
       "        vertical-align: middle;\n",
       "    }\n",
       "\n",
       "    .dataframe tbody tr th {\n",
       "        vertical-align: top;\n",
       "    }\n",
       "\n",
       "    .dataframe thead th {\n",
       "        text-align: right;\n",
       "    }\n",
       "</style>\n",
       "<table border=\"1\" class=\"dataframe\">\n",
       "  <thead>\n",
       "    <tr style=\"text-align: right;\">\n",
       "      <th></th>\n",
       "      <th>total_bill</th>\n",
       "      <th>tip</th>\n",
       "      <th>smoker</th>\n",
       "      <th>day</th>\n",
       "      <th>time</th>\n",
       "      <th>size</th>\n",
       "      <th>yeni_sex</th>\n",
       "      <th>yeni_day</th>\n",
       "    </tr>\n",
       "  </thead>\n",
       "  <tbody>\n",
       "    <tr>\n",
       "      <th>0</th>\n",
       "      <td>16.99</td>\n",
       "      <td>1.01</td>\n",
       "      <td>No</td>\n",
       "      <td>Sun</td>\n",
       "      <td>Dinner</td>\n",
       "      <td>2</td>\n",
       "      <td>0</td>\n",
       "      <td>1</td>\n",
       "    </tr>\n",
       "    <tr>\n",
       "      <th>1</th>\n",
       "      <td>10.34</td>\n",
       "      <td>1.66</td>\n",
       "      <td>No</td>\n",
       "      <td>Sun</td>\n",
       "      <td>Dinner</td>\n",
       "      <td>3</td>\n",
       "      <td>1</td>\n",
       "      <td>1</td>\n",
       "    </tr>\n",
       "    <tr>\n",
       "      <th>2</th>\n",
       "      <td>21.01</td>\n",
       "      <td>3.50</td>\n",
       "      <td>No</td>\n",
       "      <td>Sun</td>\n",
       "      <td>Dinner</td>\n",
       "      <td>3</td>\n",
       "      <td>1</td>\n",
       "      <td>1</td>\n",
       "    </tr>\n",
       "    <tr>\n",
       "      <th>3</th>\n",
       "      <td>23.68</td>\n",
       "      <td>3.31</td>\n",
       "      <td>No</td>\n",
       "      <td>Sun</td>\n",
       "      <td>Dinner</td>\n",
       "      <td>2</td>\n",
       "      <td>1</td>\n",
       "      <td>1</td>\n",
       "    </tr>\n",
       "    <tr>\n",
       "      <th>4</th>\n",
       "      <td>24.59</td>\n",
       "      <td>3.61</td>\n",
       "      <td>No</td>\n",
       "      <td>Sun</td>\n",
       "      <td>Dinner</td>\n",
       "      <td>4</td>\n",
       "      <td>0</td>\n",
       "      <td>1</td>\n",
       "    </tr>\n",
       "    <tr>\n",
       "      <th>...</th>\n",
       "      <td>...</td>\n",
       "      <td>...</td>\n",
       "      <td>...</td>\n",
       "      <td>...</td>\n",
       "      <td>...</td>\n",
       "      <td>...</td>\n",
       "      <td>...</td>\n",
       "      <td>...</td>\n",
       "    </tr>\n",
       "    <tr>\n",
       "      <th>239</th>\n",
       "      <td>29.03</td>\n",
       "      <td>5.92</td>\n",
       "      <td>No</td>\n",
       "      <td>Sat</td>\n",
       "      <td>Dinner</td>\n",
       "      <td>3</td>\n",
       "      <td>1</td>\n",
       "      <td>0</td>\n",
       "    </tr>\n",
       "    <tr>\n",
       "      <th>240</th>\n",
       "      <td>27.18</td>\n",
       "      <td>2.00</td>\n",
       "      <td>Yes</td>\n",
       "      <td>Sat</td>\n",
       "      <td>Dinner</td>\n",
       "      <td>2</td>\n",
       "      <td>0</td>\n",
       "      <td>0</td>\n",
       "    </tr>\n",
       "    <tr>\n",
       "      <th>241</th>\n",
       "      <td>22.67</td>\n",
       "      <td>2.00</td>\n",
       "      <td>Yes</td>\n",
       "      <td>Sat</td>\n",
       "      <td>Dinner</td>\n",
       "      <td>2</td>\n",
       "      <td>1</td>\n",
       "      <td>0</td>\n",
       "    </tr>\n",
       "    <tr>\n",
       "      <th>242</th>\n",
       "      <td>17.82</td>\n",
       "      <td>1.75</td>\n",
       "      <td>No</td>\n",
       "      <td>Sat</td>\n",
       "      <td>Dinner</td>\n",
       "      <td>2</td>\n",
       "      <td>1</td>\n",
       "      <td>0</td>\n",
       "    </tr>\n",
       "    <tr>\n",
       "      <th>243</th>\n",
       "      <td>18.78</td>\n",
       "      <td>3.00</td>\n",
       "      <td>No</td>\n",
       "      <td>Thur</td>\n",
       "      <td>Dinner</td>\n",
       "      <td>2</td>\n",
       "      <td>0</td>\n",
       "      <td>0</td>\n",
       "    </tr>\n",
       "  </tbody>\n",
       "</table>\n",
       "<p>244 rows × 8 columns</p>\n",
       "</div>"
      ],
      "text/plain": [
       "     total_bill   tip smoker   day    time  size  yeni_sex  yeni_day\n",
       "0         16.99  1.01     No   Sun  Dinner     2         0         1\n",
       "1         10.34  1.66     No   Sun  Dinner     3         1         1\n",
       "2         21.01  3.50     No   Sun  Dinner     3         1         1\n",
       "3         23.68  3.31     No   Sun  Dinner     2         1         1\n",
       "4         24.59  3.61     No   Sun  Dinner     4         0         1\n",
       "..          ...   ...    ...   ...     ...   ...       ...       ...\n",
       "239       29.03  5.92     No   Sat  Dinner     3         1         0\n",
       "240       27.18  2.00    Yes   Sat  Dinner     2         0         0\n",
       "241       22.67  2.00    Yes   Sat  Dinner     2         1         0\n",
       "242       17.82  1.75     No   Sat  Dinner     2         1         0\n",
       "243       18.78  3.00     No  Thur  Dinner     2         0         0\n",
       "\n",
       "[244 rows x 8 columns]"
      ]
     },
     "execution_count": 118,
     "metadata": {},
     "output_type": "execute_result"
    }
   ],
   "source": [
    "df"
   ]
  },
  {
   "cell_type": "code",
   "execution_count": 119,
   "metadata": {},
   "outputs": [
    {
     "data": {
      "text/plain": [
       "array([2, 2, 2, 2, 2, 2, 2, 2, 2, 2, 2, 2, 2, 2, 2, 2, 2, 2, 2, 1, 1, 1,\n",
       "       1, 1, 1, 1, 1, 1, 1, 1, 1, 1, 1, 1, 1, 1, 1, 1, 1, 1, 1, 2, 2, 2,\n",
       "       2, 2, 2, 2, 2, 2, 2, 2, 2, 2, 2, 2, 1, 1, 1, 1, 1, 1, 1, 1, 1, 1,\n",
       "       1, 1, 1, 1, 1, 1, 1, 1, 1, 1, 1, 3, 3, 3, 3, 3, 3, 3, 3, 3, 3, 3,\n",
       "       3, 3, 0, 0, 0, 0, 0, 0, 0, 0, 0, 0, 0, 0, 1, 1, 1, 1, 1, 1, 1, 1,\n",
       "       1, 1, 2, 2, 2, 2, 2, 3, 3, 3, 3, 3, 3, 3, 3, 3, 3, 3, 3, 3, 3, 3,\n",
       "       3, 3, 3, 3, 3, 3, 3, 3, 3, 3, 3, 3, 3, 3, 3, 3, 3, 3, 2, 2, 2, 2,\n",
       "       2, 2, 2, 2, 2, 2, 2, 2, 2, 2, 2, 2, 2, 2, 1, 1, 1, 1, 2, 2, 2, 2,\n",
       "       2, 2, 2, 2, 2, 2, 2, 2, 2, 2, 2, 2, 2, 2, 2, 3, 3, 3, 3, 3, 3, 3,\n",
       "       3, 3, 3, 3, 3, 3, 3, 3, 1, 1, 1, 1, 1, 1, 1, 1, 1, 1, 1, 1, 1, 1,\n",
       "       0, 0, 0, 0, 0, 0, 0, 1, 1, 1, 1, 1, 1, 1, 1, 1, 1, 1, 1, 1, 1, 1,\n",
       "       1, 3])"
      ]
     },
     "execution_count": 119,
     "metadata": {},
     "output_type": "execute_result"
    }
   ],
   "source": [
    "#çok sınıflı dönüşüm\n",
    "lbe.fit_transform(df[\"day\"])"
   ]
  },
  {
   "cell_type": "code",
   "execution_count": 120,
   "metadata": {},
   "outputs": [
    {
     "data": {
      "text/html": [
       "<div>\n",
       "<style scoped>\n",
       "    .dataframe tbody tr th:only-of-type {\n",
       "        vertical-align: middle;\n",
       "    }\n",
       "\n",
       "    .dataframe tbody tr th {\n",
       "        vertical-align: top;\n",
       "    }\n",
       "\n",
       "    .dataframe thead th {\n",
       "        text-align: right;\n",
       "    }\n",
       "</style>\n",
       "<table border=\"1\" class=\"dataframe\">\n",
       "  <thead>\n",
       "    <tr style=\"text-align: right;\">\n",
       "      <th></th>\n",
       "      <th>total_bill</th>\n",
       "      <th>tip</th>\n",
       "      <th>smoker</th>\n",
       "      <th>day</th>\n",
       "      <th>time</th>\n",
       "      <th>size</th>\n",
       "      <th>yeni_sex</th>\n",
       "      <th>yeni_day</th>\n",
       "    </tr>\n",
       "  </thead>\n",
       "  <tbody>\n",
       "    <tr>\n",
       "      <th>0</th>\n",
       "      <td>16.99</td>\n",
       "      <td>1.01</td>\n",
       "      <td>No</td>\n",
       "      <td>Sun</td>\n",
       "      <td>Dinner</td>\n",
       "      <td>2</td>\n",
       "      <td>0</td>\n",
       "      <td>1</td>\n",
       "    </tr>\n",
       "    <tr>\n",
       "      <th>1</th>\n",
       "      <td>10.34</td>\n",
       "      <td>1.66</td>\n",
       "      <td>No</td>\n",
       "      <td>Sun</td>\n",
       "      <td>Dinner</td>\n",
       "      <td>3</td>\n",
       "      <td>1</td>\n",
       "      <td>1</td>\n",
       "    </tr>\n",
       "    <tr>\n",
       "      <th>2</th>\n",
       "      <td>21.01</td>\n",
       "      <td>3.50</td>\n",
       "      <td>No</td>\n",
       "      <td>Sun</td>\n",
       "      <td>Dinner</td>\n",
       "      <td>3</td>\n",
       "      <td>1</td>\n",
       "      <td>1</td>\n",
       "    </tr>\n",
       "    <tr>\n",
       "      <th>3</th>\n",
       "      <td>23.68</td>\n",
       "      <td>3.31</td>\n",
       "      <td>No</td>\n",
       "      <td>Sun</td>\n",
       "      <td>Dinner</td>\n",
       "      <td>2</td>\n",
       "      <td>1</td>\n",
       "      <td>1</td>\n",
       "    </tr>\n",
       "    <tr>\n",
       "      <th>4</th>\n",
       "      <td>24.59</td>\n",
       "      <td>3.61</td>\n",
       "      <td>No</td>\n",
       "      <td>Sun</td>\n",
       "      <td>Dinner</td>\n",
       "      <td>4</td>\n",
       "      <td>0</td>\n",
       "      <td>1</td>\n",
       "    </tr>\n",
       "    <tr>\n",
       "      <th>...</th>\n",
       "      <td>...</td>\n",
       "      <td>...</td>\n",
       "      <td>...</td>\n",
       "      <td>...</td>\n",
       "      <td>...</td>\n",
       "      <td>...</td>\n",
       "      <td>...</td>\n",
       "      <td>...</td>\n",
       "    </tr>\n",
       "    <tr>\n",
       "      <th>239</th>\n",
       "      <td>29.03</td>\n",
       "      <td>5.92</td>\n",
       "      <td>No</td>\n",
       "      <td>Sat</td>\n",
       "      <td>Dinner</td>\n",
       "      <td>3</td>\n",
       "      <td>1</td>\n",
       "      <td>0</td>\n",
       "    </tr>\n",
       "    <tr>\n",
       "      <th>240</th>\n",
       "      <td>27.18</td>\n",
       "      <td>2.00</td>\n",
       "      <td>Yes</td>\n",
       "      <td>Sat</td>\n",
       "      <td>Dinner</td>\n",
       "      <td>2</td>\n",
       "      <td>0</td>\n",
       "      <td>0</td>\n",
       "    </tr>\n",
       "    <tr>\n",
       "      <th>241</th>\n",
       "      <td>22.67</td>\n",
       "      <td>2.00</td>\n",
       "      <td>Yes</td>\n",
       "      <td>Sat</td>\n",
       "      <td>Dinner</td>\n",
       "      <td>2</td>\n",
       "      <td>1</td>\n",
       "      <td>0</td>\n",
       "    </tr>\n",
       "    <tr>\n",
       "      <th>242</th>\n",
       "      <td>17.82</td>\n",
       "      <td>1.75</td>\n",
       "      <td>No</td>\n",
       "      <td>Sat</td>\n",
       "      <td>Dinner</td>\n",
       "      <td>2</td>\n",
       "      <td>1</td>\n",
       "      <td>0</td>\n",
       "    </tr>\n",
       "    <tr>\n",
       "      <th>243</th>\n",
       "      <td>18.78</td>\n",
       "      <td>3.00</td>\n",
       "      <td>No</td>\n",
       "      <td>Thur</td>\n",
       "      <td>Dinner</td>\n",
       "      <td>2</td>\n",
       "      <td>0</td>\n",
       "      <td>0</td>\n",
       "    </tr>\n",
       "  </tbody>\n",
       "</table>\n",
       "<p>244 rows × 8 columns</p>\n",
       "</div>"
      ],
      "text/plain": [
       "     total_bill   tip smoker   day    time  size  yeni_sex  yeni_day\n",
       "0         16.99  1.01     No   Sun  Dinner     2         0         1\n",
       "1         10.34  1.66     No   Sun  Dinner     3         1         1\n",
       "2         21.01  3.50     No   Sun  Dinner     3         1         1\n",
       "3         23.68  3.31     No   Sun  Dinner     2         1         1\n",
       "4         24.59  3.61     No   Sun  Dinner     4         0         1\n",
       "..          ...   ...    ...   ...     ...   ...       ...       ...\n",
       "239       29.03  5.92     No   Sat  Dinner     3         1         0\n",
       "240       27.18  2.00    Yes   Sat  Dinner     2         0         0\n",
       "241       22.67  2.00    Yes   Sat  Dinner     2         1         0\n",
       "242       17.82  1.75     No   Sat  Dinner     2         1         0\n",
       "243       18.78  3.00     No  Thur  Dinner     2         0         0\n",
       "\n",
       "[244 rows x 8 columns]"
      ]
     },
     "execution_count": 120,
     "metadata": {},
     "output_type": "execute_result"
    }
   ],
   "source": [
    "df"
   ]
  },
  {
   "cell_type": "code",
   "execution_count": null,
   "metadata": {},
   "outputs": [],
   "source": []
  },
  {
   "cell_type": "code",
   "execution_count": null,
   "metadata": {},
   "outputs": [],
   "source": []
  },
  {
   "cell_type": "markdown",
   "metadata": {},
   "source": [
    "# Machine Learning"
   ]
  },
  {
   "cell_type": "code",
   "execution_count": 39,
   "metadata": {},
   "outputs": [
    {
     "data": {
      "text/html": [
       "<div>\n",
       "<style scoped>\n",
       "    .dataframe tbody tr th:only-of-type {\n",
       "        vertical-align: middle;\n",
       "    }\n",
       "\n",
       "    .dataframe tbody tr th {\n",
       "        vertical-align: top;\n",
       "    }\n",
       "\n",
       "    .dataframe thead th {\n",
       "        text-align: right;\n",
       "    }\n",
       "</style>\n",
       "<table border=\"1\" class=\"dataframe\">\n",
       "  <thead>\n",
       "    <tr style=\"text-align: right;\">\n",
       "      <th></th>\n",
       "      <th>total_bill</th>\n",
       "      <th>tip</th>\n",
       "      <th>sex</th>\n",
       "      <th>smoker</th>\n",
       "      <th>day</th>\n",
       "      <th>time</th>\n",
       "      <th>size</th>\n",
       "    </tr>\n",
       "  </thead>\n",
       "  <tbody>\n",
       "    <tr>\n",
       "      <th>0</th>\n",
       "      <td>16.99</td>\n",
       "      <td>1.01</td>\n",
       "      <td>Female</td>\n",
       "      <td>No</td>\n",
       "      <td>Sun</td>\n",
       "      <td>Dinner</td>\n",
       "      <td>2</td>\n",
       "    </tr>\n",
       "    <tr>\n",
       "      <th>1</th>\n",
       "      <td>10.34</td>\n",
       "      <td>1.66</td>\n",
       "      <td>Male</td>\n",
       "      <td>No</td>\n",
       "      <td>Sun</td>\n",
       "      <td>Dinner</td>\n",
       "      <td>3</td>\n",
       "    </tr>\n",
       "    <tr>\n",
       "      <th>2</th>\n",
       "      <td>21.01</td>\n",
       "      <td>3.50</td>\n",
       "      <td>Male</td>\n",
       "      <td>No</td>\n",
       "      <td>Sun</td>\n",
       "      <td>Dinner</td>\n",
       "      <td>3</td>\n",
       "    </tr>\n",
       "    <tr>\n",
       "      <th>3</th>\n",
       "      <td>23.68</td>\n",
       "      <td>3.31</td>\n",
       "      <td>Male</td>\n",
       "      <td>No</td>\n",
       "      <td>Sun</td>\n",
       "      <td>Dinner</td>\n",
       "      <td>2</td>\n",
       "    </tr>\n",
       "    <tr>\n",
       "      <th>4</th>\n",
       "      <td>24.59</td>\n",
       "      <td>3.61</td>\n",
       "      <td>Female</td>\n",
       "      <td>No</td>\n",
       "      <td>Sun</td>\n",
       "      <td>Dinner</td>\n",
       "      <td>4</td>\n",
       "    </tr>\n",
       "  </tbody>\n",
       "</table>\n",
       "</div>"
      ],
      "text/plain": [
       "   total_bill   tip     sex smoker  day    time  size\n",
       "0       16.99  1.01  Female     No  Sun  Dinner     2\n",
       "1       10.34  1.66    Male     No  Sun  Dinner     3\n",
       "2       21.01  3.50    Male     No  Sun  Dinner     3\n",
       "3       23.68  3.31    Male     No  Sun  Dinner     2\n",
       "4       24.59  3.61  Female     No  Sun  Dinner     4"
      ]
     },
     "execution_count": 39,
     "metadata": {},
     "output_type": "execute_result"
    }
   ],
   "source": [
    "import pandas as pd \n",
    "import seaborn as sns \n",
    "ad=sns.load_dataset(\"tips\")\n",
    "df=ad.copy()\n",
    "df.head()"
   ]
  },
  {
   "cell_type": "code",
   "execution_count": 40,
   "metadata": {},
   "outputs": [],
   "source": [
    "df[\"total_Bill\"]=df[\"total_bill\"]-df[\"tip\"]"
   ]
  },
  {
   "cell_type": "code",
   "execution_count": 41,
   "metadata": {},
   "outputs": [
    {
     "data": {
      "text/html": [
       "<div>\n",
       "<style scoped>\n",
       "    .dataframe tbody tr th:only-of-type {\n",
       "        vertical-align: middle;\n",
       "    }\n",
       "\n",
       "    .dataframe tbody tr th {\n",
       "        vertical-align: top;\n",
       "    }\n",
       "\n",
       "    .dataframe thead th {\n",
       "        text-align: right;\n",
       "    }\n",
       "</style>\n",
       "<table border=\"1\" class=\"dataframe\">\n",
       "  <thead>\n",
       "    <tr style=\"text-align: right;\">\n",
       "      <th></th>\n",
       "      <th>total_bill</th>\n",
       "      <th>tip</th>\n",
       "      <th>sex</th>\n",
       "      <th>smoker</th>\n",
       "      <th>day</th>\n",
       "      <th>time</th>\n",
       "      <th>size</th>\n",
       "      <th>total_Bill</th>\n",
       "    </tr>\n",
       "  </thead>\n",
       "  <tbody>\n",
       "    <tr>\n",
       "      <th>0</th>\n",
       "      <td>16.99</td>\n",
       "      <td>1.01</td>\n",
       "      <td>Female</td>\n",
       "      <td>No</td>\n",
       "      <td>Sun</td>\n",
       "      <td>Dinner</td>\n",
       "      <td>2</td>\n",
       "      <td>15.98</td>\n",
       "    </tr>\n",
       "    <tr>\n",
       "      <th>1</th>\n",
       "      <td>10.34</td>\n",
       "      <td>1.66</td>\n",
       "      <td>Male</td>\n",
       "      <td>No</td>\n",
       "      <td>Sun</td>\n",
       "      <td>Dinner</td>\n",
       "      <td>3</td>\n",
       "      <td>8.68</td>\n",
       "    </tr>\n",
       "    <tr>\n",
       "      <th>2</th>\n",
       "      <td>21.01</td>\n",
       "      <td>3.50</td>\n",
       "      <td>Male</td>\n",
       "      <td>No</td>\n",
       "      <td>Sun</td>\n",
       "      <td>Dinner</td>\n",
       "      <td>3</td>\n",
       "      <td>17.51</td>\n",
       "    </tr>\n",
       "    <tr>\n",
       "      <th>3</th>\n",
       "      <td>23.68</td>\n",
       "      <td>3.31</td>\n",
       "      <td>Male</td>\n",
       "      <td>No</td>\n",
       "      <td>Sun</td>\n",
       "      <td>Dinner</td>\n",
       "      <td>2</td>\n",
       "      <td>20.37</td>\n",
       "    </tr>\n",
       "    <tr>\n",
       "      <th>4</th>\n",
       "      <td>24.59</td>\n",
       "      <td>3.61</td>\n",
       "      <td>Female</td>\n",
       "      <td>No</td>\n",
       "      <td>Sun</td>\n",
       "      <td>Dinner</td>\n",
       "      <td>4</td>\n",
       "      <td>20.98</td>\n",
       "    </tr>\n",
       "    <tr>\n",
       "      <th>...</th>\n",
       "      <td>...</td>\n",
       "      <td>...</td>\n",
       "      <td>...</td>\n",
       "      <td>...</td>\n",
       "      <td>...</td>\n",
       "      <td>...</td>\n",
       "      <td>...</td>\n",
       "      <td>...</td>\n",
       "    </tr>\n",
       "    <tr>\n",
       "      <th>239</th>\n",
       "      <td>29.03</td>\n",
       "      <td>5.92</td>\n",
       "      <td>Male</td>\n",
       "      <td>No</td>\n",
       "      <td>Sat</td>\n",
       "      <td>Dinner</td>\n",
       "      <td>3</td>\n",
       "      <td>23.11</td>\n",
       "    </tr>\n",
       "    <tr>\n",
       "      <th>240</th>\n",
       "      <td>27.18</td>\n",
       "      <td>2.00</td>\n",
       "      <td>Female</td>\n",
       "      <td>Yes</td>\n",
       "      <td>Sat</td>\n",
       "      <td>Dinner</td>\n",
       "      <td>2</td>\n",
       "      <td>25.18</td>\n",
       "    </tr>\n",
       "    <tr>\n",
       "      <th>241</th>\n",
       "      <td>22.67</td>\n",
       "      <td>2.00</td>\n",
       "      <td>Male</td>\n",
       "      <td>Yes</td>\n",
       "      <td>Sat</td>\n",
       "      <td>Dinner</td>\n",
       "      <td>2</td>\n",
       "      <td>20.67</td>\n",
       "    </tr>\n",
       "    <tr>\n",
       "      <th>242</th>\n",
       "      <td>17.82</td>\n",
       "      <td>1.75</td>\n",
       "      <td>Male</td>\n",
       "      <td>No</td>\n",
       "      <td>Sat</td>\n",
       "      <td>Dinner</td>\n",
       "      <td>2</td>\n",
       "      <td>16.07</td>\n",
       "    </tr>\n",
       "    <tr>\n",
       "      <th>243</th>\n",
       "      <td>18.78</td>\n",
       "      <td>3.00</td>\n",
       "      <td>Female</td>\n",
       "      <td>No</td>\n",
       "      <td>Thur</td>\n",
       "      <td>Dinner</td>\n",
       "      <td>2</td>\n",
       "      <td>15.78</td>\n",
       "    </tr>\n",
       "  </tbody>\n",
       "</table>\n",
       "<p>244 rows × 8 columns</p>\n",
       "</div>"
      ],
      "text/plain": [
       "     total_bill   tip     sex smoker   day    time  size  total_Bill\n",
       "0         16.99  1.01  Female     No   Sun  Dinner     2       15.98\n",
       "1         10.34  1.66    Male     No   Sun  Dinner     3        8.68\n",
       "2         21.01  3.50    Male     No   Sun  Dinner     3       17.51\n",
       "3         23.68  3.31    Male     No   Sun  Dinner     2       20.37\n",
       "4         24.59  3.61  Female     No   Sun  Dinner     4       20.98\n",
       "..          ...   ...     ...    ...   ...     ...   ...         ...\n",
       "239       29.03  5.92    Male     No   Sat  Dinner     3       23.11\n",
       "240       27.18  2.00  Female    Yes   Sat  Dinner     2       25.18\n",
       "241       22.67  2.00    Male    Yes   Sat  Dinner     2       20.67\n",
       "242       17.82  1.75    Male     No   Sat  Dinner     2       16.07\n",
       "243       18.78  3.00  Female     No  Thur  Dinner     2       15.78\n",
       "\n",
       "[244 rows x 8 columns]"
      ]
     },
     "execution_count": 41,
     "metadata": {},
     "output_type": "execute_result"
    }
   ],
   "source": [
    "df"
   ]
  },
  {
   "cell_type": "code",
   "execution_count": 42,
   "metadata": {},
   "outputs": [],
   "source": [
    "del df[\"total_bill\"]"
   ]
  },
  {
   "cell_type": "code",
   "execution_count": 43,
   "metadata": {},
   "outputs": [
    {
     "data": {
      "text/html": [
       "<div>\n",
       "<style scoped>\n",
       "    .dataframe tbody tr th:only-of-type {\n",
       "        vertical-align: middle;\n",
       "    }\n",
       "\n",
       "    .dataframe tbody tr th {\n",
       "        vertical-align: top;\n",
       "    }\n",
       "\n",
       "    .dataframe thead th {\n",
       "        text-align: right;\n",
       "    }\n",
       "</style>\n",
       "<table border=\"1\" class=\"dataframe\">\n",
       "  <thead>\n",
       "    <tr style=\"text-align: right;\">\n",
       "      <th></th>\n",
       "      <th>tip</th>\n",
       "      <th>sex</th>\n",
       "      <th>smoker</th>\n",
       "      <th>day</th>\n",
       "      <th>time</th>\n",
       "      <th>size</th>\n",
       "      <th>total_Bill</th>\n",
       "    </tr>\n",
       "  </thead>\n",
       "  <tbody>\n",
       "    <tr>\n",
       "      <th>0</th>\n",
       "      <td>1.01</td>\n",
       "      <td>Female</td>\n",
       "      <td>No</td>\n",
       "      <td>Sun</td>\n",
       "      <td>Dinner</td>\n",
       "      <td>2</td>\n",
       "      <td>15.98</td>\n",
       "    </tr>\n",
       "    <tr>\n",
       "      <th>1</th>\n",
       "      <td>1.66</td>\n",
       "      <td>Male</td>\n",
       "      <td>No</td>\n",
       "      <td>Sun</td>\n",
       "      <td>Dinner</td>\n",
       "      <td>3</td>\n",
       "      <td>8.68</td>\n",
       "    </tr>\n",
       "    <tr>\n",
       "      <th>2</th>\n",
       "      <td>3.50</td>\n",
       "      <td>Male</td>\n",
       "      <td>No</td>\n",
       "      <td>Sun</td>\n",
       "      <td>Dinner</td>\n",
       "      <td>3</td>\n",
       "      <td>17.51</td>\n",
       "    </tr>\n",
       "    <tr>\n",
       "      <th>3</th>\n",
       "      <td>3.31</td>\n",
       "      <td>Male</td>\n",
       "      <td>No</td>\n",
       "      <td>Sun</td>\n",
       "      <td>Dinner</td>\n",
       "      <td>2</td>\n",
       "      <td>20.37</td>\n",
       "    </tr>\n",
       "    <tr>\n",
       "      <th>4</th>\n",
       "      <td>3.61</td>\n",
       "      <td>Female</td>\n",
       "      <td>No</td>\n",
       "      <td>Sun</td>\n",
       "      <td>Dinner</td>\n",
       "      <td>4</td>\n",
       "      <td>20.98</td>\n",
       "    </tr>\n",
       "    <tr>\n",
       "      <th>...</th>\n",
       "      <td>...</td>\n",
       "      <td>...</td>\n",
       "      <td>...</td>\n",
       "      <td>...</td>\n",
       "      <td>...</td>\n",
       "      <td>...</td>\n",
       "      <td>...</td>\n",
       "    </tr>\n",
       "    <tr>\n",
       "      <th>239</th>\n",
       "      <td>5.92</td>\n",
       "      <td>Male</td>\n",
       "      <td>No</td>\n",
       "      <td>Sat</td>\n",
       "      <td>Dinner</td>\n",
       "      <td>3</td>\n",
       "      <td>23.11</td>\n",
       "    </tr>\n",
       "    <tr>\n",
       "      <th>240</th>\n",
       "      <td>2.00</td>\n",
       "      <td>Female</td>\n",
       "      <td>Yes</td>\n",
       "      <td>Sat</td>\n",
       "      <td>Dinner</td>\n",
       "      <td>2</td>\n",
       "      <td>25.18</td>\n",
       "    </tr>\n",
       "    <tr>\n",
       "      <th>241</th>\n",
       "      <td>2.00</td>\n",
       "      <td>Male</td>\n",
       "      <td>Yes</td>\n",
       "      <td>Sat</td>\n",
       "      <td>Dinner</td>\n",
       "      <td>2</td>\n",
       "      <td>20.67</td>\n",
       "    </tr>\n",
       "    <tr>\n",
       "      <th>242</th>\n",
       "      <td>1.75</td>\n",
       "      <td>Male</td>\n",
       "      <td>No</td>\n",
       "      <td>Sat</td>\n",
       "      <td>Dinner</td>\n",
       "      <td>2</td>\n",
       "      <td>16.07</td>\n",
       "    </tr>\n",
       "    <tr>\n",
       "      <th>243</th>\n",
       "      <td>3.00</td>\n",
       "      <td>Female</td>\n",
       "      <td>No</td>\n",
       "      <td>Thur</td>\n",
       "      <td>Dinner</td>\n",
       "      <td>2</td>\n",
       "      <td>15.78</td>\n",
       "    </tr>\n",
       "  </tbody>\n",
       "</table>\n",
       "<p>244 rows × 7 columns</p>\n",
       "</div>"
      ],
      "text/plain": [
       "      tip     sex smoker   day    time  size  total_Bill\n",
       "0    1.01  Female     No   Sun  Dinner     2       15.98\n",
       "1    1.66    Male     No   Sun  Dinner     3        8.68\n",
       "2    3.50    Male     No   Sun  Dinner     3       17.51\n",
       "3    3.31    Male     No   Sun  Dinner     2       20.37\n",
       "4    3.61  Female     No   Sun  Dinner     4       20.98\n",
       "..    ...     ...    ...   ...     ...   ...         ...\n",
       "239  5.92    Male     No   Sat  Dinner     3       23.11\n",
       "240  2.00  Female    Yes   Sat  Dinner     2       25.18\n",
       "241  2.00    Male    Yes   Sat  Dinner     2       20.67\n",
       "242  1.75    Male     No   Sat  Dinner     2       16.07\n",
       "243  3.00  Female     No  Thur  Dinner     2       15.78\n",
       "\n",
       "[244 rows x 7 columns]"
      ]
     },
     "execution_count": 43,
     "metadata": {},
     "output_type": "execute_result"
    }
   ],
   "source": [
    " df"
   ]
  },
  {
   "cell_type": "code",
   "execution_count": 44,
   "metadata": {},
   "outputs": [
    {
     "data": {
      "text/html": [
       "<div>\n",
       "<style scoped>\n",
       "    .dataframe tbody tr th:only-of-type {\n",
       "        vertical-align: middle;\n",
       "    }\n",
       "\n",
       "    .dataframe tbody tr th {\n",
       "        vertical-align: top;\n",
       "    }\n",
       "\n",
       "    .dataframe thead th {\n",
       "        text-align: right;\n",
       "    }\n",
       "</style>\n",
       "<table border=\"1\" class=\"dataframe\">\n",
       "  <thead>\n",
       "    <tr style=\"text-align: right;\">\n",
       "      <th></th>\n",
       "      <th>tip</th>\n",
       "      <th>size</th>\n",
       "      <th>total_Bill</th>\n",
       "    </tr>\n",
       "  </thead>\n",
       "  <tbody>\n",
       "    <tr>\n",
       "      <th>tip</th>\n",
       "      <td>1.000000</td>\n",
       "      <td>0.489299</td>\n",
       "      <td>0.576663</td>\n",
       "    </tr>\n",
       "    <tr>\n",
       "      <th>size</th>\n",
       "      <td>0.489299</td>\n",
       "      <td>1.000000</td>\n",
       "      <td>0.578831</td>\n",
       "    </tr>\n",
       "    <tr>\n",
       "      <th>total_Bill</th>\n",
       "      <td>0.576663</td>\n",
       "      <td>0.578831</td>\n",
       "      <td>1.000000</td>\n",
       "    </tr>\n",
       "  </tbody>\n",
       "</table>\n",
       "</div>"
      ],
      "text/plain": [
       "                 tip      size  total_Bill\n",
       "tip         1.000000  0.489299    0.576663\n",
       "size        0.489299  1.000000    0.578831\n",
       "total_Bill  0.576663  0.578831    1.000000"
      ]
     },
     "execution_count": 44,
     "metadata": {},
     "output_type": "execute_result"
    }
   ],
   "source": [
    "df.corr()"
   ]
  },
  {
   "cell_type": "code",
   "execution_count": 45,
   "metadata": {},
   "outputs": [
    {
     "data": {
      "text/html": [
       "<div>\n",
       "<style scoped>\n",
       "    .dataframe tbody tr th:only-of-type {\n",
       "        vertical-align: middle;\n",
       "    }\n",
       "\n",
       "    .dataframe tbody tr th {\n",
       "        vertical-align: top;\n",
       "    }\n",
       "\n",
       "    .dataframe thead th {\n",
       "        text-align: right;\n",
       "    }\n",
       "</style>\n",
       "<table border=\"1\" class=\"dataframe\">\n",
       "  <thead>\n",
       "    <tr style=\"text-align: right;\">\n",
       "      <th></th>\n",
       "      <th>tip</th>\n",
       "      <th>sex</th>\n",
       "      <th>smoker</th>\n",
       "      <th>day</th>\n",
       "      <th>time</th>\n",
       "      <th>size</th>\n",
       "      <th>total_Bill</th>\n",
       "    </tr>\n",
       "  </thead>\n",
       "  <tbody>\n",
       "    <tr>\n",
       "      <th>0</th>\n",
       "      <td>1.01</td>\n",
       "      <td>Female</td>\n",
       "      <td>No</td>\n",
       "      <td>Sun</td>\n",
       "      <td>Dinner</td>\n",
       "      <td>2</td>\n",
       "      <td>15.98</td>\n",
       "    </tr>\n",
       "    <tr>\n",
       "      <th>1</th>\n",
       "      <td>1.66</td>\n",
       "      <td>Male</td>\n",
       "      <td>No</td>\n",
       "      <td>Sun</td>\n",
       "      <td>Dinner</td>\n",
       "      <td>3</td>\n",
       "      <td>8.68</td>\n",
       "    </tr>\n",
       "    <tr>\n",
       "      <th>2</th>\n",
       "      <td>3.50</td>\n",
       "      <td>Male</td>\n",
       "      <td>No</td>\n",
       "      <td>Sun</td>\n",
       "      <td>Dinner</td>\n",
       "      <td>3</td>\n",
       "      <td>17.51</td>\n",
       "    </tr>\n",
       "    <tr>\n",
       "      <th>3</th>\n",
       "      <td>3.31</td>\n",
       "      <td>Male</td>\n",
       "      <td>No</td>\n",
       "      <td>Sun</td>\n",
       "      <td>Dinner</td>\n",
       "      <td>2</td>\n",
       "      <td>20.37</td>\n",
       "    </tr>\n",
       "    <tr>\n",
       "      <th>4</th>\n",
       "      <td>3.61</td>\n",
       "      <td>Female</td>\n",
       "      <td>No</td>\n",
       "      <td>Sun</td>\n",
       "      <td>Dinner</td>\n",
       "      <td>4</td>\n",
       "      <td>20.98</td>\n",
       "    </tr>\n",
       "  </tbody>\n",
       "</table>\n",
       "</div>"
      ],
      "text/plain": [
       "    tip     sex smoker  day    time  size  total_Bill\n",
       "0  1.01  Female     No  Sun  Dinner     2       15.98\n",
       "1  1.66    Male     No  Sun  Dinner     3        8.68\n",
       "2  3.50    Male     No  Sun  Dinner     3       17.51\n",
       "3  3.31    Male     No  Sun  Dinner     2       20.37\n",
       "4  3.61  Female     No  Sun  Dinner     4       20.98"
      ]
     },
     "execution_count": 45,
     "metadata": {},
     "output_type": "execute_result"
    }
   ],
   "source": [
    "df.head()"
   ]
  },
  {
   "cell_type": "code",
   "execution_count": 46,
   "metadata": {},
   "outputs": [
    {
     "data": {
      "text/html": [
       "<div>\n",
       "<style scoped>\n",
       "    .dataframe tbody tr th:only-of-type {\n",
       "        vertical-align: middle;\n",
       "    }\n",
       "\n",
       "    .dataframe tbody tr th {\n",
       "        vertical-align: top;\n",
       "    }\n",
       "\n",
       "    .dataframe thead th {\n",
       "        text-align: right;\n",
       "    }\n",
       "</style>\n",
       "<table border=\"1\" class=\"dataframe\">\n",
       "  <thead>\n",
       "    <tr style=\"text-align: right;\">\n",
       "      <th></th>\n",
       "      <th>tip</th>\n",
       "      <th>size</th>\n",
       "      <th>total_Bill</th>\n",
       "    </tr>\n",
       "  </thead>\n",
       "  <tbody>\n",
       "    <tr>\n",
       "      <th>tip</th>\n",
       "      <td>1.000000</td>\n",
       "      <td>0.489299</td>\n",
       "      <td>0.576663</td>\n",
       "    </tr>\n",
       "    <tr>\n",
       "      <th>size</th>\n",
       "      <td>0.489299</td>\n",
       "      <td>1.000000</td>\n",
       "      <td>0.578831</td>\n",
       "    </tr>\n",
       "    <tr>\n",
       "      <th>total_Bill</th>\n",
       "      <td>0.576663</td>\n",
       "      <td>0.578831</td>\n",
       "      <td>1.000000</td>\n",
       "    </tr>\n",
       "  </tbody>\n",
       "</table>\n",
       "</div>"
      ],
      "text/plain": [
       "                 tip      size  total_Bill\n",
       "tip         1.000000  0.489299    0.576663\n",
       "size        0.489299  1.000000    0.578831\n",
       "total_Bill  0.576663  0.578831    1.000000"
      ]
     },
     "execution_count": 46,
     "metadata": {},
     "output_type": "execute_result"
    }
   ],
   "source": [
    "df.corr()"
   ]
  },
  {
   "cell_type": "code",
   "execution_count": 47,
   "metadata": {},
   "outputs": [
    {
     "data": {
      "text/plain": [
       "False"
      ]
     },
     "execution_count": 47,
     "metadata": {},
     "output_type": "execute_result"
    }
   ],
   "source": [
    "df.isnull().values.any()"
   ]
  },
  {
   "cell_type": "code",
   "execution_count": 48,
   "metadata": {},
   "outputs": [
    {
     "data": {
      "text/plain": [
       "<seaborn.axisgrid.PairGrid at 0x1b8c76ea7c8>"
      ]
     },
     "execution_count": 48,
     "metadata": {},
     "output_type": "execute_result"
    },
    {
     "data": {
      "image/png": "[encoded data removed]",
      "text/plain": [
       "<Figure size 540x540 with 12 Axes>"
      ]
     },
     "metadata": {
      "needs_background": "light"
     },
     "output_type": "display_data"
    }
   ],
   "source": [
    "sns.pairplot(df,kind=\"reg\")"
   ]
  },
  {
   "cell_type": "code",
   "execution_count": 51,
   "metadata": {},
   "outputs": [
    {
     "data": {
      "text/plain": [
       "<seaborn.axisgrid.JointGrid at 0x1b8c86bfa08>"
      ]
     },
     "execution_count": 51,
     "metadata": {},
     "output_type": "execute_result"
    },
    {
     "data": {
      "image/png": "[encoded data removed]",
      "text/plain": [
       "<Figure size 432x432 with 3 Axes>"
      ]
     },
     "metadata": {
      "needs_background": "light"
     },
     "output_type": "display_data"
    }
   ],
   "source": [
    "sns.jointplot(x=\"tip\",y=\"total_Bill\",data=df,kind=\"reg\")"
   ]
  },
  {
   "cell_type": "code",
   "execution_count": 56,
   "metadata": {},
   "outputs": [
    {
     "data": {
      "text/html": [
       "<div>\n",
       "<style scoped>\n",
       "    .dataframe tbody tr th:only-of-type {\n",
       "        vertical-align: middle;\n",
       "    }\n",
       "\n",
       "    .dataframe tbody tr th {\n",
       "        vertical-align: top;\n",
       "    }\n",
       "\n",
       "    .dataframe thead th {\n",
       "        text-align: right;\n",
       "    }\n",
       "</style>\n",
       "<table border=\"1\" class=\"dataframe\">\n",
       "  <thead>\n",
       "    <tr style=\"text-align: right;\">\n",
       "      <th></th>\n",
       "      <th>const</th>\n",
       "      <th>tip</th>\n",
       "    </tr>\n",
       "  </thead>\n",
       "  <tbody>\n",
       "    <tr>\n",
       "      <th>0</th>\n",
       "      <td>1.0</td>\n",
       "      <td>1.01</td>\n",
       "    </tr>\n",
       "    <tr>\n",
       "      <th>1</th>\n",
       "      <td>1.0</td>\n",
       "      <td>1.66</td>\n",
       "    </tr>\n",
       "    <tr>\n",
       "      <th>2</th>\n",
       "      <td>1.0</td>\n",
       "      <td>3.50</td>\n",
       "    </tr>\n",
       "    <tr>\n",
       "      <th>3</th>\n",
       "      <td>1.0</td>\n",
       "      <td>3.31</td>\n",
       "    </tr>\n",
       "    <tr>\n",
       "      <th>4</th>\n",
       "      <td>1.0</td>\n",
       "      <td>3.61</td>\n",
       "    </tr>\n",
       "  </tbody>\n",
       "</table>\n",
       "</div>"
      ],
      "text/plain": [
       "   const   tip\n",
       "0    1.0  1.01\n",
       "1    1.0  1.66\n",
       "2    1.0  3.50\n",
       "3    1.0  3.31\n",
       "4    1.0  3.61"
      ]
     },
     "execution_count": 56,
     "metadata": {},
     "output_type": "execute_result"
    }
   ],
   "source": [
    "import statsmodels.api as sm\n",
    "x=df[[\"tip\"]]\n",
    "x=sm.add_constant(x)\n",
    "x.head()"
   ]
  },
  {
   "cell_type": "code",
   "execution_count": 59,
   "metadata": {},
   "outputs": [],
   "source": [
    "y=df[\"total_Bill\"]"
   ]
  },
  {
   "cell_type": "code",
   "execution_count": 60,
   "metadata": {},
   "outputs": [],
   "source": [
    "lm=sm.OLS(y,x)"
   ]
  },
  {
   "cell_type": "code",
   "execution_count": 64,
   "metadata": {},
   "outputs": [],
   "source": [
    "model=lm.fit()"
   ]
  },
  {
   "cell_type": "code",
   "execution_count": 66,
   "metadata": {},
   "outputs": [
    {
     "data": {
      "text/html": [
       "<table class=\"simpletable\">\n",
       "<caption>OLS Regression Results</caption>\n",
       "<tr>\n",
       "  <th>Dep. Variable:</th>       <td>total_Bill</td>    <th>  R-squared:         </th> <td>   0.333</td>\n",
       "</tr>\n",
       "<tr>\n",
       "  <th>Model:</th>                   <td>OLS</td>       <th>  Adj. R-squared:    </th> <td>   0.330</td>\n",
       "</tr>\n",
       "<tr>\n",
       "  <th>Method:</th>             <td>Least Squares</td>  <th>  F-statistic:       </th> <td>   120.6</td>\n",
       "</tr>\n",
       "<tr>\n",
       "  <th>Date:</th>             <td>Thu, 06 Aug 2020</td> <th>  Prob (F-statistic):</th> <td>5.02e-23</td>\n",
       "</tr>\n",
       "<tr>\n",
       "  <th>Time:</th>                 <td>13:39:41</td>     <th>  Log-Likelihood:    </th> <td> -804.77</td>\n",
       "</tr>\n",
       "<tr>\n",
       "  <th>No. Observations:</th>      <td>   244</td>      <th>  AIC:               </th> <td>   1614.</td>\n",
       "</tr>\n",
       "<tr>\n",
       "  <th>Df Residuals:</th>          <td>   242</td>      <th>  BIC:               </th> <td>   1621.</td>\n",
       "</tr>\n",
       "<tr>\n",
       "  <th>Df Model:</th>              <td>     1</td>      <th>                     </th>     <td> </td>   \n",
       "</tr>\n",
       "<tr>\n",
       "  <th>Covariance Type:</th>      <td>nonrobust</td>    <th>                     </th>     <td> </td>   \n",
       "</tr>\n",
       "</table>\n",
       "<table class=\"simpletable\">\n",
       "<tr>\n",
       "    <td></td>       <th>coef</th>     <th>std err</th>      <th>t</th>      <th>P>|t|</th>  <th>[0.025</th>    <th>0.975]</th>  \n",
       "</tr>\n",
       "<tr>\n",
       "  <th>const</th> <td>    6.7503</td> <td>    1.006</td> <td>    6.707</td> <td> 0.000</td> <td>    4.768</td> <td>    8.733</td>\n",
       "</tr>\n",
       "<tr>\n",
       "  <th>tip</th>   <td>    3.3477</td> <td>    0.305</td> <td>   10.980</td> <td> 0.000</td> <td>    2.747</td> <td>    3.948</td>\n",
       "</tr>\n",
       "</table>\n",
       "<table class=\"simpletable\">\n",
       "<tr>\n",
       "  <th>Omnibus:</th>       <td>58.831</td> <th>  Durbin-Watson:     </th> <td>   2.094</td>\n",
       "</tr>\n",
       "<tr>\n",
       "  <th>Prob(Omnibus):</th> <td> 0.000</td> <th>  Jarque-Bera (JB):  </th> <td> 120.799</td>\n",
       "</tr>\n",
       "<tr>\n",
       "  <th>Skew:</th>          <td> 1.185</td> <th>  Prob(JB):          </th> <td>5.87e-27</td>\n",
       "</tr>\n",
       "<tr>\n",
       "  <th>Kurtosis:</th>      <td> 5.502</td> <th>  Cond. No.          </th> <td>    8.50</td>\n",
       "</tr>\n",
       "</table><br/><br/>Warnings:<br/>[1] Standard Errors assume that the covariance matrix of the errors is correctly specified."
      ],
      "text/plain": [
       "<class 'statsmodels.iolib.summary.Summary'>\n",
       "\"\"\"\n",
       "                            OLS Regression Results                            \n",
       "==============================================================================\n",
       "Dep. Variable:             total_Bill   R-squared:                       0.333\n",
       "Model:                            OLS   Adj. R-squared:                  0.330\n",
       "Method:                 Least Squares   F-statistic:                     120.6\n",
       "Date:                Thu, 06 Aug 2020   Prob (F-statistic):           5.02e-23\n",
       "Time:                        13:39:41   Log-Likelihood:                -804.77\n",
       "No. Observations:                 244   AIC:                             1614.\n",
       "Df Residuals:                     242   BIC:                             1621.\n",
       "Df Model:                           1                                         \n",
       "Covariance Type:            nonrobust                                         \n",
       "==============================================================================\n",
       "                 coef    std err          t      P>|t|      [0.025      0.975]\n",
       "------------------------------------------------------------------------------\n",
       "const          6.7503      1.006      6.707      0.000       4.768       8.733\n",
       "tip            3.3477      0.305     10.980      0.000       2.747       3.948\n",
       "==============================================================================\n",
       "Omnibus:                       58.831   Durbin-Watson:                   2.094\n",
       "Prob(Omnibus):                  0.000   Jarque-Bera (JB):              120.799\n",
       "Skew:                           1.185   Prob(JB):                     5.87e-27\n",
       "Kurtosis:                       5.502   Cond. No.                         8.50\n",
       "==============================================================================\n",
       "\n",
       "Warnings:\n",
       "[1] Standard Errors assume that the covariance matrix of the errors is correctly specified.\n",
       "\"\"\""
      ]
     },
     "execution_count": 66,
     "metadata": {},
     "output_type": "execute_result"
    }
   ],
   "source": [
    "model.summary()"
   ]
  },
  {
   "cell_type": "code",
   "execution_count": 69,
   "metadata": {},
   "outputs": [
    {
     "data": {
      "text/plain": [
       "<matplotlib.axes._subplots.AxesSubplot at 0x1b8ca4a8e08>"
      ]
     },
     "execution_count": 69,
     "metadata": {},
     "output_type": "execute_result"
    },
    {
     "data": {
      "image/png": "[encoded data removed]",
      "text/plain": [
       "<Figure size 432x288 with 1 Axes>"
      ]
     },
     "metadata": {
      "needs_background": "light"
     },
     "output_type": "display_data"
    }
   ],
   "source": [
    "sns.scatterplot(\"total_Bill\",\"tip\",data=df)"
   ]
  },
  {
   "cell_type": "code",
   "execution_count": 77,
   "metadata": {},
   "outputs": [
    {
     "data": {
      "text/plain": [
       "Text(0.5, 0, 'TV Harcamaları')"
      ]
     },
     "execution_count": 77,
     "metadata": {},
     "output_type": "execute_result"
    },
    {
     "data": {
      "image/png": "[encoded data removed]",
      "text/plain": [
       "<Figure size 432x288 with 1 Axes>"
      ]
     },
     "metadata": {
      "needs_background": "light"
     },
     "output_type": "display_data"
    }
   ],
   "source": [
    "g= sns.regplot(df[\"total_Bill\"], df[\"tip\"])\n",
    "g.set_title(\"Model Denklemi: Sales = 7.03 + TV*0.05\")\n",
    "g.set_ylabel(\"Satış Sayısı\")\n",
    "g.set_xlabel(\"TV Harcamaları\")"
   ]
  },
  {
   "cell_type": "code",
   "execution_count": null,
   "metadata": {},
   "outputs": [],
   "source": []
  },
  {
   "cell_type": "code",
   "execution_count": 78,
   "metadata": {},
   "outputs": [],
   "source": [
    "from sklearn.linear_model import LinearRegression"
   ]
  },
  {
   "cell_type": "code",
   "execution_count": 86,
   "metadata": {},
   "outputs": [],
   "source": [
    "x=df[[\"tip\"]]\n",
    "y=df[[\"total_Bill\"]]\n",
    "ln=LinearRegression()\n",
    "model=ln.fit(x,y)"
   ]
  },
  {
   "cell_type": "code",
   "execution_count": 87,
   "metadata": {},
   "outputs": [],
   "source": [
    "y_pred=model.predict(x)"
   ]
  },
  {
   "cell_type": "code",
   "execution_count": 92,
   "metadata": {},
   "outputs": [
    {
     "data": {
      "text/plain": [
       "array([[10.13147512],\n",
       "       [12.30748936],\n",
       "       [18.4672835 ],\n",
       "       [17.8312178 ],\n",
       "       [18.83553206]])"
      ]
     },
     "execution_count": 92,
     "metadata": {},
     "output_type": "execute_result"
    }
   ],
   "source": [
    "y_pred[0:5]"
   ]
  },
  {
   "cell_type": "code",
   "execution_count": 101,
   "metadata": {},
   "outputs": [],
   "source": [
    "import statsmodels.formula.api as smf"
   ]
  },
  {
   "cell_type": "code",
   "execution_count": 102,
   "metadata": {},
   "outputs": [],
   "source": [
    "lm = smf.ols(\"total_Bill~ tip\", df)\n",
    "model = lm.fit()"
   ]
  },
  {
   "cell_type": "code",
   "execution_count": 103,
   "metadata": {},
   "outputs": [],
   "source": [
    "from sklearn.metrics import mean_squared_error,r2_score"
   ]
  },
  {
   "cell_type": "code",
   "execution_count": 106,
   "metadata": {},
   "outputs": [
    {
     "data": {
      "text/plain": [
       "42.88823752111094"
      ]
     },
     "execution_count": 106,
     "metadata": {},
     "output_type": "execute_result"
    }
   ],
   "source": [
    "mse=mean_squared_error(y,model.fittedvalues)\n",
    "mse"
   ]
  },
  {
   "cell_type": "code",
   "execution_count": 108,
   "metadata": {},
   "outputs": [],
   "source": [
    "import numpy as np"
   ]
  },
  {
   "cell_type": "code",
   "execution_count": 110,
   "metadata": {},
   "outputs": [
    {
     "data": {
      "text/plain": [
       "6.5489111706535565"
      ]
     },
     "execution_count": 110,
     "metadata": {},
     "output_type": "execute_result"
    }
   ],
   "source": [
    "rmse=np.sqrt(mse)\n",
    "rmse"
   ]
  },
  {
   "cell_type": "code",
   "execution_count": 122,
   "metadata": {},
   "outputs": [
    {
     "data": {
      "text/plain": [
       "0    1.01\n",
       "1    1.66\n",
       "2    3.50\n",
       "3    3.31\n",
       "4    3.61\n",
       "Name: tip, dtype: float64"
      ]
     },
     "execution_count": 122,
     "metadata": {},
     "output_type": "execute_result"
    }
   ],
   "source": [
    "Karsilastir=pd.DataFrame({\"gercek\":[1,2,3,4,5],\n",
    "                        \"tahmin\":[2,3,4,5,3]})\n",
    "xdegeri=df[\"tip\"]\n",
    "ydegeri=df[\"total_Bill\"]\n",
    "xdegeri[0:5]"
   ]
  },
  {
   "cell_type": "code",
   "execution_count": 121,
   "metadata": {},
   "outputs": [
    {
     "data": {
      "text/plain": [
       "0    15.98\n",
       "1     8.68\n",
       "2    17.51\n",
       "3    20.37\n",
       "4    20.98\n",
       "Name: total_Bill, dtype: float64"
      ]
     },
     "execution_count": 121,
     "metadata": {},
     "output_type": "execute_result"
    }
   ],
   "source": [
    "ydegeri[0:5]"
   ]
  },
  {
   "cell_type": "code",
   "execution_count": 128,
   "metadata": {},
   "outputs": [
    {
     "data": {
      "text/plain": [
       "0    10.131475\n",
       "1    12.307489\n",
       "2    18.467283\n",
       "3    17.831218\n",
       "4    18.835532\n",
       "dtype: float64"
      ]
     },
     "execution_count": 128,
     "metadata": {},
     "output_type": "execute_result"
    }
   ],
   "source": [
    "ytahmin= model.predict(xdegeri)\n",
    "ytahmin[0:5]"
   ]
  },
  {
   "cell_type": "code",
   "execution_count": null,
   "metadata": {},
   "outputs": [],
   "source": []
  },
  {
   "cell_type": "code",
   "execution_count": 131,
   "metadata": {},
   "outputs": [
    {
     "data": {
      "text/html": [
       "<div>\n",
       "<style scoped>\n",
       "    .dataframe tbody tr th:only-of-type {\n",
       "        vertical-align: middle;\n",
       "    }\n",
       "\n",
       "    .dataframe tbody tr th {\n",
       "        vertical-align: top;\n",
       "    }\n",
       "\n",
       "    .dataframe thead th {\n",
       "        text-align: right;\n",
       "    }\n",
       "</style>\n",
       "<table border=\"1\" class=\"dataframe\">\n",
       "  <thead>\n",
       "    <tr style=\"text-align: right;\">\n",
       "      <th></th>\n",
       "      <th>gercek</th>\n",
       "      <th>tahmin</th>\n",
       "    </tr>\n",
       "  </thead>\n",
       "  <tbody>\n",
       "    <tr>\n",
       "      <th>0</th>\n",
       "      <td>15.98</td>\n",
       "      <td>10.131475</td>\n",
       "    </tr>\n",
       "    <tr>\n",
       "      <th>1</th>\n",
       "      <td>8.68</td>\n",
       "      <td>12.307489</td>\n",
       "    </tr>\n",
       "    <tr>\n",
       "      <th>2</th>\n",
       "      <td>17.51</td>\n",
       "      <td>18.467283</td>\n",
       "    </tr>\n",
       "    <tr>\n",
       "      <th>3</th>\n",
       "      <td>20.37</td>\n",
       "      <td>17.831218</td>\n",
       "    </tr>\n",
       "    <tr>\n",
       "      <th>4</th>\n",
       "      <td>20.98</td>\n",
       "      <td>18.835532</td>\n",
       "    </tr>\n",
       "    <tr>\n",
       "      <th>...</th>\n",
       "      <td>...</td>\n",
       "      <td>...</td>\n",
       "    </tr>\n",
       "    <tr>\n",
       "      <th>239</th>\n",
       "      <td>23.11</td>\n",
       "      <td>26.568752</td>\n",
       "    </tr>\n",
       "    <tr>\n",
       "      <th>240</th>\n",
       "      <td>25.18</td>\n",
       "      <td>13.445712</td>\n",
       "    </tr>\n",
       "    <tr>\n",
       "      <th>241</th>\n",
       "      <td>20.67</td>\n",
       "      <td>13.445712</td>\n",
       "    </tr>\n",
       "    <tr>\n",
       "      <th>242</th>\n",
       "      <td>16.07</td>\n",
       "      <td>12.608784</td>\n",
       "    </tr>\n",
       "    <tr>\n",
       "      <th>243</th>\n",
       "      <td>15.78</td>\n",
       "      <td>16.793426</td>\n",
       "    </tr>\n",
       "  </tbody>\n",
       "</table>\n",
       "<p>244 rows × 2 columns</p>\n",
       "</div>"
      ],
      "text/plain": [
       "     gercek     tahmin\n",
       "0     15.98  10.131475\n",
       "1      8.68  12.307489\n",
       "2     17.51  18.467283\n",
       "3     20.37  17.831218\n",
       "4     20.98  18.835532\n",
       "..      ...        ...\n",
       "239   23.11  26.568752\n",
       "240   25.18  13.445712\n",
       "241   20.67  13.445712\n",
       "242   16.07  12.608784\n",
       "243   15.78  16.793426\n",
       "\n",
       "[244 rows x 2 columns]"
      ]
     },
     "execution_count": 131,
     "metadata": {},
     "output_type": "execute_result"
    }
   ],
   "source": [
    "karsilastir=pd.DataFrame({\"gercek\": ydegeri,\n",
    "                        \"tahmin\": ytahmin})\n",
    "karsilastir"
   ]
  },
  {
   "cell_type": "code",
   "execution_count": 132,
   "metadata": {},
   "outputs": [
    {
     "data": {
      "text/html": [
       "<div>\n",
       "<style scoped>\n",
       "    .dataframe tbody tr th:only-of-type {\n",
       "        vertical-align: middle;\n",
       "    }\n",
       "\n",
       "    .dataframe tbody tr th {\n",
       "        vertical-align: top;\n",
       "    }\n",
       "\n",
       "    .dataframe thead th {\n",
       "        text-align: right;\n",
       "    }\n",
       "</style>\n",
       "<table border=\"1\" class=\"dataframe\">\n",
       "  <thead>\n",
       "    <tr style=\"text-align: right;\">\n",
       "      <th></th>\n",
       "      <th>TV</th>\n",
       "      <th>radio</th>\n",
       "      <th>newspaper</th>\n",
       "      <th>sales</th>\n",
       "    </tr>\n",
       "  </thead>\n",
       "  <tbody>\n",
       "    <tr>\n",
       "      <th>0</th>\n",
       "      <td>230.1</td>\n",
       "      <td>37.8</td>\n",
       "      <td>69.2</td>\n",
       "      <td>22.1</td>\n",
       "    </tr>\n",
       "    <tr>\n",
       "      <th>1</th>\n",
       "      <td>44.5</td>\n",
       "      <td>39.3</td>\n",
       "      <td>45.1</td>\n",
       "      <td>10.4</td>\n",
       "    </tr>\n",
       "    <tr>\n",
       "      <th>2</th>\n",
       "      <td>17.2</td>\n",
       "      <td>45.9</td>\n",
       "      <td>69.3</td>\n",
       "      <td>9.3</td>\n",
       "    </tr>\n",
       "    <tr>\n",
       "      <th>3</th>\n",
       "      <td>151.5</td>\n",
       "      <td>41.3</td>\n",
       "      <td>58.5</td>\n",
       "      <td>18.5</td>\n",
       "    </tr>\n",
       "    <tr>\n",
       "      <th>4</th>\n",
       "      <td>180.8</td>\n",
       "      <td>10.8</td>\n",
       "      <td>58.4</td>\n",
       "      <td>12.9</td>\n",
       "    </tr>\n",
       "  </tbody>\n",
       "</table>\n",
       "</div>"
      ],
      "text/plain": [
       "      TV  radio  newspaper  sales\n",
       "0  230.1   37.8       69.2   22.1\n",
       "1   44.5   39.3       45.1   10.4\n",
       "2   17.2   45.9       69.3    9.3\n",
       "3  151.5   41.3       58.5   18.5\n",
       "4  180.8   10.8       58.4   12.9"
      ]
     },
     "execution_count": 132,
     "metadata": {},
     "output_type": "execute_result"
    }
   ],
   "source": [
    "import pandas as pd\n",
    "ad = pd.read_csv(\"Advertising.csv\", usecols = [1,2,3,4])\n",
    "df = ad.copy()\n",
    "df.head()"
   ]
  },
  {
   "cell_type": "code",
   "execution_count": null,
   "metadata": {},
   "outputs": [],
   "source": []
  },
  {
   "cell_type": "code",
   "execution_count": null,
   "metadata": {},
   "outputs": [],
   "source": []
  },
  {
   "cell_type": "code",
   "execution_count": null,
   "metadata": {},
   "outputs": [],
   "source": []
  },
  {
   "cell_type": "markdown",
   "metadata": {},
   "source": [
    "# PCR model"
   ]
  },
  {
   "cell_type": "code",
   "execution_count": 83,
   "metadata": {},
   "outputs": [
    {
     "data": {
      "text/html": [
       "<div>\n",
       "<style scoped>\n",
       "    .dataframe tbody tr th:only-of-type {\n",
       "        vertical-align: middle;\n",
       "    }\n",
       "\n",
       "    .dataframe tbody tr th {\n",
       "        vertical-align: top;\n",
       "    }\n",
       "\n",
       "    .dataframe thead th {\n",
       "        text-align: right;\n",
       "    }\n",
       "</style>\n",
       "<table border=\"1\" class=\"dataframe\">\n",
       "  <thead>\n",
       "    <tr style=\"text-align: right;\">\n",
       "      <th></th>\n",
       "      <th>AtBat</th>\n",
       "      <th>Hits</th>\n",
       "      <th>HmRun</th>\n",
       "      <th>Runs</th>\n",
       "      <th>RBI</th>\n",
       "      <th>Walks</th>\n",
       "      <th>Years</th>\n",
       "      <th>CAtBat</th>\n",
       "      <th>CHits</th>\n",
       "      <th>CHmRun</th>\n",
       "      <th>CRuns</th>\n",
       "      <th>CRBI</th>\n",
       "      <th>CWalks</th>\n",
       "      <th>League</th>\n",
       "      <th>Division</th>\n",
       "      <th>PutOuts</th>\n",
       "      <th>Assists</th>\n",
       "      <th>Errors</th>\n",
       "      <th>Salary</th>\n",
       "      <th>NewLeague</th>\n",
       "    </tr>\n",
       "  </thead>\n",
       "  <tbody>\n",
       "    <tr>\n",
       "      <th>1</th>\n",
       "      <td>315</td>\n",
       "      <td>81</td>\n",
       "      <td>7</td>\n",
       "      <td>24</td>\n",
       "      <td>38</td>\n",
       "      <td>39</td>\n",
       "      <td>14</td>\n",
       "      <td>3449</td>\n",
       "      <td>835</td>\n",
       "      <td>69</td>\n",
       "      <td>321</td>\n",
       "      <td>414</td>\n",
       "      <td>375</td>\n",
       "      <td>N</td>\n",
       "      <td>W</td>\n",
       "      <td>632</td>\n",
       "      <td>43</td>\n",
       "      <td>10</td>\n",
       "      <td>475.0</td>\n",
       "      <td>N</td>\n",
       "    </tr>\n",
       "    <tr>\n",
       "      <th>2</th>\n",
       "      <td>479</td>\n",
       "      <td>130</td>\n",
       "      <td>18</td>\n",
       "      <td>66</td>\n",
       "      <td>72</td>\n",
       "      <td>76</td>\n",
       "      <td>3</td>\n",
       "      <td>1624</td>\n",
       "      <td>457</td>\n",
       "      <td>63</td>\n",
       "      <td>224</td>\n",
       "      <td>266</td>\n",
       "      <td>263</td>\n",
       "      <td>A</td>\n",
       "      <td>W</td>\n",
       "      <td>880</td>\n",
       "      <td>82</td>\n",
       "      <td>14</td>\n",
       "      <td>480.0</td>\n",
       "      <td>A</td>\n",
       "    </tr>\n",
       "    <tr>\n",
       "      <th>3</th>\n",
       "      <td>496</td>\n",
       "      <td>141</td>\n",
       "      <td>20</td>\n",
       "      <td>65</td>\n",
       "      <td>78</td>\n",
       "      <td>37</td>\n",
       "      <td>11</td>\n",
       "      <td>5628</td>\n",
       "      <td>1575</td>\n",
       "      <td>225</td>\n",
       "      <td>828</td>\n",
       "      <td>838</td>\n",
       "      <td>354</td>\n",
       "      <td>N</td>\n",
       "      <td>E</td>\n",
       "      <td>200</td>\n",
       "      <td>11</td>\n",
       "      <td>3</td>\n",
       "      <td>500.0</td>\n",
       "      <td>N</td>\n",
       "    </tr>\n",
       "    <tr>\n",
       "      <th>4</th>\n",
       "      <td>321</td>\n",
       "      <td>87</td>\n",
       "      <td>10</td>\n",
       "      <td>39</td>\n",
       "      <td>42</td>\n",
       "      <td>30</td>\n",
       "      <td>2</td>\n",
       "      <td>396</td>\n",
       "      <td>101</td>\n",
       "      <td>12</td>\n",
       "      <td>48</td>\n",
       "      <td>46</td>\n",
       "      <td>33</td>\n",
       "      <td>N</td>\n",
       "      <td>E</td>\n",
       "      <td>805</td>\n",
       "      <td>40</td>\n",
       "      <td>4</td>\n",
       "      <td>91.5</td>\n",
       "      <td>N</td>\n",
       "    </tr>\n",
       "    <tr>\n",
       "      <th>5</th>\n",
       "      <td>594</td>\n",
       "      <td>169</td>\n",
       "      <td>4</td>\n",
       "      <td>74</td>\n",
       "      <td>51</td>\n",
       "      <td>35</td>\n",
       "      <td>11</td>\n",
       "      <td>4408</td>\n",
       "      <td>1133</td>\n",
       "      <td>19</td>\n",
       "      <td>501</td>\n",
       "      <td>336</td>\n",
       "      <td>194</td>\n",
       "      <td>A</td>\n",
       "      <td>W</td>\n",
       "      <td>282</td>\n",
       "      <td>421</td>\n",
       "      <td>25</td>\n",
       "      <td>750.0</td>\n",
       "      <td>A</td>\n",
       "    </tr>\n",
       "  </tbody>\n",
       "</table>\n",
       "</div>"
      ],
      "text/plain": [
       "   AtBat  Hits  HmRun  Runs  RBI  Walks  Years  CAtBat  CHits  CHmRun  CRuns  \\\n",
       "1    315    81      7    24   38     39     14    3449    835      69    321   \n",
       "2    479   130     18    66   72     76      3    1624    457      63    224   \n",
       "3    496   141     20    65   78     37     11    5628   1575     225    828   \n",
       "4    321    87     10    39   42     30      2     396    101      12     48   \n",
       "5    594   169      4    74   51     35     11    4408   1133      19    501   \n",
       "\n",
       "   CRBI  CWalks League Division  PutOuts  Assists  Errors  Salary NewLeague  \n",
       "1   414     375      N        W      632       43      10   475.0         N  \n",
       "2   266     263      A        W      880       82      14   480.0         A  \n",
       "3   838     354      N        E      200       11       3   500.0         N  \n",
       "4    46      33      N        E      805       40       4    91.5         N  \n",
       "5   336     194      A        W      282      421      25   750.0         A  "
      ]
     },
     "execution_count": 83,
     "metadata": {},
     "output_type": "execute_result"
    }
   ],
   "source": [
    "#amerikan basketbol ligi verileri\n",
    "import pandas as pd\n",
    "import numpy as np\n",
    "hit = pd.read_csv(\"Hitters.csv\")\n",
    "df = hit.copy()\n",
    "df = df.dropna() # bu veri setinde eksik gözlemler var. bunları direk eledik\n",
    "df.head()"
   ]
  },
  {
   "cell_type": "code",
   "execution_count": 84,
   "metadata": {},
   "outputs": [
    {
     "data": {
      "text/html": [
       "<div>\n",
       "<style scoped>\n",
       "    .dataframe tbody tr th:only-of-type {\n",
       "        vertical-align: middle;\n",
       "    }\n",
       "\n",
       "    .dataframe tbody tr th {\n",
       "        vertical-align: top;\n",
       "    }\n",
       "\n",
       "    .dataframe thead th {\n",
       "        text-align: right;\n",
       "    }\n",
       "</style>\n",
       "<table border=\"1\" class=\"dataframe\">\n",
       "  <thead>\n",
       "    <tr style=\"text-align: right;\">\n",
       "      <th></th>\n",
       "      <th>League_A</th>\n",
       "      <th>League_N</th>\n",
       "      <th>Division_E</th>\n",
       "      <th>Division_W</th>\n",
       "      <th>NewLeague_A</th>\n",
       "      <th>NewLeague_N</th>\n",
       "    </tr>\n",
       "  </thead>\n",
       "  <tbody>\n",
       "    <tr>\n",
       "      <th>1</th>\n",
       "      <td>0</td>\n",
       "      <td>1</td>\n",
       "      <td>0</td>\n",
       "      <td>1</td>\n",
       "      <td>0</td>\n",
       "      <td>1</td>\n",
       "    </tr>\n",
       "    <tr>\n",
       "      <th>2</th>\n",
       "      <td>1</td>\n",
       "      <td>0</td>\n",
       "      <td>0</td>\n",
       "      <td>1</td>\n",
       "      <td>1</td>\n",
       "      <td>0</td>\n",
       "    </tr>\n",
       "    <tr>\n",
       "      <th>3</th>\n",
       "      <td>0</td>\n",
       "      <td>1</td>\n",
       "      <td>1</td>\n",
       "      <td>0</td>\n",
       "      <td>0</td>\n",
       "      <td>1</td>\n",
       "    </tr>\n",
       "    <tr>\n",
       "      <th>4</th>\n",
       "      <td>0</td>\n",
       "      <td>1</td>\n",
       "      <td>1</td>\n",
       "      <td>0</td>\n",
       "      <td>0</td>\n",
       "      <td>1</td>\n",
       "    </tr>\n",
       "    <tr>\n",
       "      <th>5</th>\n",
       "      <td>1</td>\n",
       "      <td>0</td>\n",
       "      <td>0</td>\n",
       "      <td>1</td>\n",
       "      <td>1</td>\n",
       "      <td>0</td>\n",
       "    </tr>\n",
       "  </tbody>\n",
       "</table>\n",
       "</div>"
      ],
      "text/plain": [
       "   League_A  League_N  Division_E  Division_W  NewLeague_A  NewLeague_N\n",
       "1         0         1           0           1            0            1\n",
       "2         1         0           0           1            1            0\n",
       "3         0         1           1           0            0            1\n",
       "4         0         1           1           0            0            1\n",
       "5         1         0           0           1            1            0"
      ]
     },
     "execution_count": 84,
     "metadata": {},
     "output_type": "execute_result"
    }
   ],
   "source": [
    "dms=pd.get_dummies(df[['League','Division','NewLeague']])\n",
    "dms.head()"
   ]
  },
  {
   "cell_type": "code",
   "execution_count": 85,
   "metadata": {},
   "outputs": [],
   "source": [
    "y=df[\"Salary\"]"
   ]
  },
  {
   "cell_type": "code",
   "execution_count": 86,
   "metadata": {},
   "outputs": [],
   "source": [
    "x_=df.drop([\"Salary\",\"League\",\"Division\",\"NewLeague\"], axis=1)"
   ]
  },
  {
   "cell_type": "code",
   "execution_count": 87,
   "metadata": {},
   "outputs": [
    {
     "data": {
      "text/html": [
       "<div>\n",
       "<style scoped>\n",
       "    .dataframe tbody tr th:only-of-type {\n",
       "        vertical-align: middle;\n",
       "    }\n",
       "\n",
       "    .dataframe tbody tr th {\n",
       "        vertical-align: top;\n",
       "    }\n",
       "\n",
       "    .dataframe thead th {\n",
       "        text-align: right;\n",
       "    }\n",
       "</style>\n",
       "<table border=\"1\" class=\"dataframe\">\n",
       "  <thead>\n",
       "    <tr style=\"text-align: right;\">\n",
       "      <th></th>\n",
       "      <th>AtBat</th>\n",
       "      <th>Hits</th>\n",
       "      <th>HmRun</th>\n",
       "      <th>Runs</th>\n",
       "      <th>RBI</th>\n",
       "      <th>Walks</th>\n",
       "      <th>Years</th>\n",
       "      <th>CAtBat</th>\n",
       "      <th>CHits</th>\n",
       "      <th>CHmRun</th>\n",
       "      <th>CRuns</th>\n",
       "      <th>CRBI</th>\n",
       "      <th>CWalks</th>\n",
       "      <th>PutOuts</th>\n",
       "      <th>Assists</th>\n",
       "      <th>Errors</th>\n",
       "    </tr>\n",
       "  </thead>\n",
       "  <tbody>\n",
       "    <tr>\n",
       "      <th>1</th>\n",
       "      <td>315</td>\n",
       "      <td>81</td>\n",
       "      <td>7</td>\n",
       "      <td>24</td>\n",
       "      <td>38</td>\n",
       "      <td>39</td>\n",
       "      <td>14</td>\n",
       "      <td>3449</td>\n",
       "      <td>835</td>\n",
       "      <td>69</td>\n",
       "      <td>321</td>\n",
       "      <td>414</td>\n",
       "      <td>375</td>\n",
       "      <td>632</td>\n",
       "      <td>43</td>\n",
       "      <td>10</td>\n",
       "    </tr>\n",
       "    <tr>\n",
       "      <th>2</th>\n",
       "      <td>479</td>\n",
       "      <td>130</td>\n",
       "      <td>18</td>\n",
       "      <td>66</td>\n",
       "      <td>72</td>\n",
       "      <td>76</td>\n",
       "      <td>3</td>\n",
       "      <td>1624</td>\n",
       "      <td>457</td>\n",
       "      <td>63</td>\n",
       "      <td>224</td>\n",
       "      <td>266</td>\n",
       "      <td>263</td>\n",
       "      <td>880</td>\n",
       "      <td>82</td>\n",
       "      <td>14</td>\n",
       "    </tr>\n",
       "    <tr>\n",
       "      <th>3</th>\n",
       "      <td>496</td>\n",
       "      <td>141</td>\n",
       "      <td>20</td>\n",
       "      <td>65</td>\n",
       "      <td>78</td>\n",
       "      <td>37</td>\n",
       "      <td>11</td>\n",
       "      <td>5628</td>\n",
       "      <td>1575</td>\n",
       "      <td>225</td>\n",
       "      <td>828</td>\n",
       "      <td>838</td>\n",
       "      <td>354</td>\n",
       "      <td>200</td>\n",
       "      <td>11</td>\n",
       "      <td>3</td>\n",
       "    </tr>\n",
       "    <tr>\n",
       "      <th>4</th>\n",
       "      <td>321</td>\n",
       "      <td>87</td>\n",
       "      <td>10</td>\n",
       "      <td>39</td>\n",
       "      <td>42</td>\n",
       "      <td>30</td>\n",
       "      <td>2</td>\n",
       "      <td>396</td>\n",
       "      <td>101</td>\n",
       "      <td>12</td>\n",
       "      <td>48</td>\n",
       "      <td>46</td>\n",
       "      <td>33</td>\n",
       "      <td>805</td>\n",
       "      <td>40</td>\n",
       "      <td>4</td>\n",
       "    </tr>\n",
       "    <tr>\n",
       "      <th>5</th>\n",
       "      <td>594</td>\n",
       "      <td>169</td>\n",
       "      <td>4</td>\n",
       "      <td>74</td>\n",
       "      <td>51</td>\n",
       "      <td>35</td>\n",
       "      <td>11</td>\n",
       "      <td>4408</td>\n",
       "      <td>1133</td>\n",
       "      <td>19</td>\n",
       "      <td>501</td>\n",
       "      <td>336</td>\n",
       "      <td>194</td>\n",
       "      <td>282</td>\n",
       "      <td>421</td>\n",
       "      <td>25</td>\n",
       "    </tr>\n",
       "  </tbody>\n",
       "</table>\n",
       "</div>"
      ],
      "text/plain": [
       "   AtBat  Hits  HmRun  Runs  RBI  Walks  Years  CAtBat  CHits  CHmRun  CRuns  \\\n",
       "1    315    81      7    24   38     39     14    3449    835      69    321   \n",
       "2    479   130     18    66   72     76      3    1624    457      63    224   \n",
       "3    496   141     20    65   78     37     11    5628   1575     225    828   \n",
       "4    321    87     10    39   42     30      2     396    101      12     48   \n",
       "5    594   169      4    74   51     35     11    4408   1133      19    501   \n",
       "\n",
       "   CRBI  CWalks  PutOuts  Assists  Errors  \n",
       "1   414     375      632       43      10  \n",
       "2   266     263      880       82      14  \n",
       "3   838     354      200       11       3  \n",
       "4    46      33      805       40       4  \n",
       "5   336     194      282      421      25  "
      ]
     },
     "execution_count": 87,
     "metadata": {},
     "output_type": "execute_result"
    }
   ],
   "source": [
    "x_.head()"
   ]
  },
  {
   "cell_type": "code",
   "execution_count": 88,
   "metadata": {},
   "outputs": [
    {
     "data": {
      "text/html": [
       "<div>\n",
       "<style scoped>\n",
       "    .dataframe tbody tr th:only-of-type {\n",
       "        vertical-align: middle;\n",
       "    }\n",
       "\n",
       "    .dataframe tbody tr th {\n",
       "        vertical-align: top;\n",
       "    }\n",
       "\n",
       "    .dataframe thead th {\n",
       "        text-align: right;\n",
       "    }\n",
       "</style>\n",
       "<table border=\"1\" class=\"dataframe\">\n",
       "  <thead>\n",
       "    <tr style=\"text-align: right;\">\n",
       "      <th></th>\n",
       "      <th>AtBat</th>\n",
       "      <th>Hits</th>\n",
       "      <th>HmRun</th>\n",
       "      <th>Runs</th>\n",
       "      <th>RBI</th>\n",
       "      <th>Walks</th>\n",
       "      <th>Years</th>\n",
       "      <th>CAtBat</th>\n",
       "      <th>CHits</th>\n",
       "      <th>CHmRun</th>\n",
       "      <th>CRuns</th>\n",
       "      <th>CRBI</th>\n",
       "      <th>CWalks</th>\n",
       "      <th>PutOuts</th>\n",
       "      <th>Assists</th>\n",
       "      <th>Errors</th>\n",
       "      <th>League_N</th>\n",
       "      <th>Division_W</th>\n",
       "      <th>NewLeague_N</th>\n",
       "    </tr>\n",
       "  </thead>\n",
       "  <tbody>\n",
       "    <tr>\n",
       "      <th>1</th>\n",
       "      <td>315</td>\n",
       "      <td>81</td>\n",
       "      <td>7</td>\n",
       "      <td>24</td>\n",
       "      <td>38</td>\n",
       "      <td>39</td>\n",
       "      <td>14</td>\n",
       "      <td>3449</td>\n",
       "      <td>835</td>\n",
       "      <td>69</td>\n",
       "      <td>321</td>\n",
       "      <td>414</td>\n",
       "      <td>375</td>\n",
       "      <td>632</td>\n",
       "      <td>43</td>\n",
       "      <td>10</td>\n",
       "      <td>1</td>\n",
       "      <td>1</td>\n",
       "      <td>1</td>\n",
       "    </tr>\n",
       "    <tr>\n",
       "      <th>2</th>\n",
       "      <td>479</td>\n",
       "      <td>130</td>\n",
       "      <td>18</td>\n",
       "      <td>66</td>\n",
       "      <td>72</td>\n",
       "      <td>76</td>\n",
       "      <td>3</td>\n",
       "      <td>1624</td>\n",
       "      <td>457</td>\n",
       "      <td>63</td>\n",
       "      <td>224</td>\n",
       "      <td>266</td>\n",
       "      <td>263</td>\n",
       "      <td>880</td>\n",
       "      <td>82</td>\n",
       "      <td>14</td>\n",
       "      <td>0</td>\n",
       "      <td>1</td>\n",
       "      <td>0</td>\n",
       "    </tr>\n",
       "    <tr>\n",
       "      <th>3</th>\n",
       "      <td>496</td>\n",
       "      <td>141</td>\n",
       "      <td>20</td>\n",
       "      <td>65</td>\n",
       "      <td>78</td>\n",
       "      <td>37</td>\n",
       "      <td>11</td>\n",
       "      <td>5628</td>\n",
       "      <td>1575</td>\n",
       "      <td>225</td>\n",
       "      <td>828</td>\n",
       "      <td>838</td>\n",
       "      <td>354</td>\n",
       "      <td>200</td>\n",
       "      <td>11</td>\n",
       "      <td>3</td>\n",
       "      <td>1</td>\n",
       "      <td>0</td>\n",
       "      <td>1</td>\n",
       "    </tr>\n",
       "    <tr>\n",
       "      <th>4</th>\n",
       "      <td>321</td>\n",
       "      <td>87</td>\n",
       "      <td>10</td>\n",
       "      <td>39</td>\n",
       "      <td>42</td>\n",
       "      <td>30</td>\n",
       "      <td>2</td>\n",
       "      <td>396</td>\n",
       "      <td>101</td>\n",
       "      <td>12</td>\n",
       "      <td>48</td>\n",
       "      <td>46</td>\n",
       "      <td>33</td>\n",
       "      <td>805</td>\n",
       "      <td>40</td>\n",
       "      <td>4</td>\n",
       "      <td>1</td>\n",
       "      <td>0</td>\n",
       "      <td>1</td>\n",
       "    </tr>\n",
       "    <tr>\n",
       "      <th>5</th>\n",
       "      <td>594</td>\n",
       "      <td>169</td>\n",
       "      <td>4</td>\n",
       "      <td>74</td>\n",
       "      <td>51</td>\n",
       "      <td>35</td>\n",
       "      <td>11</td>\n",
       "      <td>4408</td>\n",
       "      <td>1133</td>\n",
       "      <td>19</td>\n",
       "      <td>501</td>\n",
       "      <td>336</td>\n",
       "      <td>194</td>\n",
       "      <td>282</td>\n",
       "      <td>421</td>\n",
       "      <td>25</td>\n",
       "      <td>0</td>\n",
       "      <td>1</td>\n",
       "      <td>0</td>\n",
       "    </tr>\n",
       "  </tbody>\n",
       "</table>\n",
       "</div>"
      ],
      "text/plain": [
       "   AtBat  Hits  HmRun  Runs  RBI  Walks  Years  CAtBat  CHits  CHmRun  CRuns  \\\n",
       "1    315    81      7    24   38     39     14    3449    835      69    321   \n",
       "2    479   130     18    66   72     76      3    1624    457      63    224   \n",
       "3    496   141     20    65   78     37     11    5628   1575     225    828   \n",
       "4    321    87     10    39   42     30      2     396    101      12     48   \n",
       "5    594   169      4    74   51     35     11    4408   1133      19    501   \n",
       "\n",
       "   CRBI  CWalks  PutOuts  Assists  Errors  League_N  Division_W  NewLeague_N  \n",
       "1   414     375      632       43      10         1           1            1  \n",
       "2   266     263      880       82      14         0           1            0  \n",
       "3   838     354      200       11       3         1           0            1  \n",
       "4    46      33      805       40       4         1           0            1  \n",
       "5   336     194      282      421      25         0           1            0  "
      ]
     },
     "execution_count": 88,
     "metadata": {},
     "output_type": "execute_result"
    }
   ],
   "source": [
    "X=pd.concat([x_,dms[[\"League_N\", \"Division_W\",\"NewLeague_N\"]]],axis=1)\n",
    "X.head()"
   ]
  },
  {
   "cell_type": "code",
   "execution_count": 89,
   "metadata": {},
   "outputs": [],
   "source": [
    "import sklearn"
   ]
  },
  {
   "cell_type": "code",
   "execution_count": 90,
   "metadata": {},
   "outputs": [],
   "source": [
    "from sklearn import model_selection as ms"
   ]
  },
  {
   "cell_type": "code",
   "execution_count": 91,
   "metadata": {},
   "outputs": [],
   "source": [
    "X_train, X_test, y_train, y_test = ms.train_test_split(X, \n",
    "                                                    y, \n",
    "                                                    test_size=0.25, \n",
    "                                                    random_state=42)"
   ]
  },
  {
   "cell_type": "code",
   "execution_count": 92,
   "metadata": {},
   "outputs": [
    {
     "data": {
      "text/plain": [
       "(197, 19)"
      ]
     },
     "execution_count": 92,
     "metadata": {},
     "output_type": "execute_result"
    }
   ],
   "source": [
    "X_train.shape"
   ]
  },
  {
   "cell_type": "code",
   "execution_count": 93,
   "metadata": {},
   "outputs": [
    {
     "data": {
      "text/plain": [
       "(66, 19)"
      ]
     },
     "execution_count": 93,
     "metadata": {},
     "output_type": "execute_result"
    }
   ],
   "source": [
    "X_test.shape"
   ]
  },
  {
   "cell_type": "code",
   "execution_count": 94,
   "metadata": {},
   "outputs": [],
   "source": [
    "from sklearn.decomposition import PCA\n",
    "from sklearn.preprocessing import scale"
   ]
  },
  {
   "cell_type": "code",
   "execution_count": 95,
   "metadata": {},
   "outputs": [],
   "source": [
    "pca=PCA()"
   ]
  },
  {
   "cell_type": "code",
   "execution_count": 96,
   "metadata": {},
   "outputs": [],
   "source": [
    "X_reduce_train=pca.fit_transform(scale(X_train))"
   ]
  },
  {
   "cell_type": "code",
   "execution_count": 97,
   "metadata": {},
   "outputs": [
    {
     "data": {
      "text/plain": [
       "array([[-2.49569913e+00, -3.37762397e-01,  7.06391950e-01,\n",
       "        -1.32791025e+00, -8.21824333e-01, -6.62790677e-01,\n",
       "        -6.56764789e-01,  3.68093279e-02, -2.03665105e-01,\n",
       "         1.76134815e-01, -9.20131987e-02,  2.40129020e-01,\n",
       "        -3.60473661e-03, -3.41246327e-02,  4.32799605e-02,\n",
       "         1.02996923e-01,  3.70733348e-03,  1.37933445e-03,\n",
       "        -6.63814471e-03],\n",
       "       [ 1.57074119e+00, -6.26413698e-01,  3.18877005e+00,\n",
       "         1.16212040e+00, -1.53912925e+00, -6.18154504e-01,\n",
       "         1.39000146e+00,  7.71385813e-01,  2.42590210e-01,\n",
       "        -5.72553466e-01, -9.40145630e-02, -5.55425945e-02,\n",
       "         4.10441448e-01,  1.66555516e-02,  2.06437495e-01,\n",
       "         1.24418917e-02,  2.72401324e-02, -1.68108943e-01,\n",
       "         1.20560996e-01],\n",
       "       [ 1.50009234e+00, -1.72148910e+00, -1.68448622e+00,\n",
       "        -9.96357906e-02,  1.13499306e+00, -3.53442413e-01,\n",
       "         4.87946613e-02, -1.48548055e-01, -1.15344444e-01,\n",
       "         3.86504437e-01,  1.10694687e-01, -2.40319632e-01,\n",
       "         2.50834152e-01,  4.03523334e-01, -4.82042669e-01,\n",
       "        -3.51900759e-02,  5.53398813e-02, -9.08519513e-02,\n",
       "        -1.15464804e-02],\n",
       "       [-2.49461763e+00,  1.29479668e+00, -8.73011500e-01,\n",
       "         1.38186166e+00, -1.25393624e+00,  3.35755831e-01,\n",
       "        -2.53314354e-01,  3.23530631e-03, -2.18604937e-01,\n",
       "        -2.17848705e-01, -1.11783462e-01,  1.04907857e-01,\n",
       "        -5.76273534e-01, -9.61961393e-02,  3.26705936e-01,\n",
       "        -2.65075095e-01,  5.31835164e-02,  3.86008386e-02,\n",
       "        -2.61204093e-02]])"
      ]
     },
     "execution_count": 97,
     "metadata": {},
     "output_type": "execute_result"
    }
   ],
   "source": [
    "X_reduce_train[0:4]"
   ]
  },
  {
   "cell_type": "code",
   "execution_count": 98,
   "metadata": {},
   "outputs": [
    {
     "data": {
      "text/plain": [
       "array([38.18, 59.88, 70.88, 78.88, 84.18, 88.45, 92.05, 94.86, 96.34,\n",
       "       97.28])"
      ]
     },
     "execution_count": 98,
     "metadata": {},
     "output_type": "execute_result"
    }
   ],
   "source": [
    "np.cumsum(np. round(pca.explained_variance_ratio_, decimals = 4)*100)[0:10]"
   ]
  },
  {
   "cell_type": "code",
   "execution_count": null,
   "metadata": {},
   "outputs": [],
   "source": []
  },
  {
   "cell_type": "code",
   "execution_count": 99,
   "metadata": {},
   "outputs": [
    {
     "data": {
      "text/plain": [
       "array([[-2.42583842e+03, -1.39128183e+02, -5.78013198e+01, ...,\n",
       "         8.40180901e-01,  4.57543451e-01,  2.03108922e-02],\n",
       "       [ 2.16116114e+03, -1.02920107e+02,  3.51856814e+02, ...,\n",
       "         2.37711454e-01,  1.94818675e-01,  1.13641753e-01],\n",
       "       [ 1.32960286e+02,  4.87394959e+01,  9.64655914e+00, ...,\n",
       "        -5.24231506e-01, -2.08521810e-01, -1.38828231e-02],\n",
       "       ...,\n",
       "       [-2.15189161e+03, -8.89603187e+01,  5.25179576e+00, ...,\n",
       "        -5.08928825e-01, -5.50458373e-01,  4.73509246e-05],\n",
       "       [ 1.77475320e+03, -1.36206470e+02, -1.87711631e+01, ...,\n",
       "        -4.30244880e-01,  6.02298940e-01,  3.86603590e-02],\n",
       "       [-2.15115230e+03, -5.29697795e-01,  2.62849475e+02, ...,\n",
       "        -7.52717339e-01, -3.40873764e-01, -1.48306990e-03]])"
      ]
     },
     "execution_count": 99,
     "metadata": {},
     "output_type": "execute_result"
    }
   ],
   "source": [
    "pca.fit_transform(X_train)"
   ]
  },
  {
   "cell_type": "code",
   "execution_count": 213,
   "metadata": {},
   "outputs": [
    {
     "data": {
      "text/plain": [
       "array([ 97.29,  98.87,  99.33,  99.6 ,  99.8 ,  99.93,  99.98, 100.  ,\n",
       "       100.  , 100.  ])"
      ]
     },
     "execution_count": 213,
     "metadata": {},
     "output_type": "execute_result"
    }
   ],
   "source": [
    "np.cumsum(np. round(pca.explained_variance_ratio_, decimals = 4)*100)[0:10]"
   ]
  },
  {
   "cell_type": "code",
   "execution_count": 219,
   "metadata": {},
   "outputs": [],
   "source": [
    "lm=LinearRegression()"
   ]
  },
  {
   "cell_type": "code",
   "execution_count": 220,
   "metadata": {},
   "outputs": [],
   "source": [
    "pcr_model=lm.fit(X_reduce_train,y_train)"
   ]
  },
  {
   "cell_type": "code",
   "execution_count": 221,
   "metadata": {},
   "outputs": [
    {
     "data": {
      "text/plain": [
       "543.4834416243655"
      ]
     },
     "execution_count": 221,
     "metadata": {},
     "output_type": "execute_result"
    }
   ],
   "source": [
    "pcr_model.intercept_"
   ]
  },
  {
   "cell_type": "code",
   "execution_count": 223,
   "metadata": {},
   "outputs": [
    {
     "data": {
      "text/plain": [
       "array([ 111.13977427,  -29.34209502,   26.29799759,  -38.47549852,\n",
       "        -56.9200785 ,   54.44779423,   40.77493384,  -23.72746012,\n",
       "          9.31198164,   13.02031672,   45.58357748,   31.97791627,\n",
       "         18.93930958, -115.60940171,   24.00382778,  415.70806202,\n",
       "       -449.51779543,  563.07375399,  302.53718462])"
      ]
     },
     "execution_count": 223,
     "metadata": {},
     "output_type": "execute_result"
    }
   ],
   "source": [
    "pcr_model.coef_"
   ]
  },
  {
   "cell_type": "code",
   "execution_count": null,
   "metadata": {},
   "outputs": [],
   "source": []
  },
  {
   "cell_type": "markdown",
   "metadata": {},
   "source": [
    "## Tahmin"
   ]
  },
  {
   "cell_type": "code",
   "execution_count": 235,
   "metadata": {},
   "outputs": [],
   "source": [
    "y_pred=pcr_model.predict(X_reduce_train)"
   ]
  },
  {
   "cell_type": "code",
   "execution_count": 236,
   "metadata": {},
   "outputs": [
    {
     "data": {
      "text/plain": [
       "289.3292825564977"
      ]
     },
     "execution_count": 236,
     "metadata": {},
     "output_type": "execute_result"
    }
   ],
   "source": [
    "np.sqrt(mean_squared_error(y_train, y_pred))"
   ]
  },
  {
   "cell_type": "code",
   "execution_count": 237,
   "metadata": {},
   "outputs": [
    {
     "data": {
      "text/plain": [
       "0.5770075250410178"
      ]
     },
     "execution_count": 237,
     "metadata": {},
     "output_type": "execute_result"
    }
   ],
   "source": [
    "r2_score(y_train,y_pred)"
   ]
  },
  {
   "cell_type": "code",
   "execution_count": 238,
   "metadata": {},
   "outputs": [],
   "source": [
    "pca2=PCA()"
   ]
  },
  {
   "cell_type": "code",
   "execution_count": 239,
   "metadata": {},
   "outputs": [],
   "source": [
    "X_reduce_test=pca.fit_transform(scale(X_test))"
   ]
  },
  {
   "cell_type": "code",
   "execution_count": 241,
   "metadata": {},
   "outputs": [],
   "source": [
    "y_pred_test=pcr_model.predict(X_reduce_test)"
   ]
  },
  {
   "cell_type": "code",
   "execution_count": 242,
   "metadata": {},
   "outputs": [
    {
     "data": {
      "text/plain": [
       "405.15753641499646"
      ]
     },
     "execution_count": 242,
     "metadata": {},
     "output_type": "execute_result"
    }
   ],
   "source": [
    "np.sqrt(mean_squared_error(y_test, y_pred_test))"
   ]
  },
  {
   "cell_type": "markdown",
   "metadata": {},
   "source": [
    "## Model tuning"
   ]
  },
  {
   "cell_type": "code",
   "execution_count": 243,
   "metadata": {},
   "outputs": [],
   "source": [
    "lm= LinearRegression()"
   ]
  },
  {
   "cell_type": "code",
   "execution_count": 244,
   "metadata": {},
   "outputs": [
    {
     "name": "stdout",
     "output_type": "stream",
     "text": [
      "405.15753641499646\n"
     ]
    }
   ],
   "source": [
    "pcr_model=lm.fit(X_reduce_train,y_train)\n",
    "y_pred=pcr_model.predict(X_reduce_test)\n",
    "print(np.sqrt(mean_squared_error(y_test,y_pred)))"
   ]
  },
  {
   "cell_type": "code",
   "execution_count": 246,
   "metadata": {},
   "outputs": [
    {
     "data": {
      "text/plain": [
       "array([ 111.13977427,  -29.34209502,   26.29799759,  -38.47549852,\n",
       "        -56.9200785 ,   54.44779423,   40.77493384,  -23.72746012,\n",
       "          9.31198164,   13.02031672,   45.58357748,   31.97791627,\n",
       "         18.93930958, -115.60940171,   24.00382778,  415.70806202,\n",
       "       -449.51779543,  563.07375399,  302.53718462])"
      ]
     },
     "execution_count": 246,
     "metadata": {},
     "output_type": "execute_result"
    }
   ],
   "source": [
    "pcr_model.coef_"
   ]
  },
  {
   "cell_type": "code",
   "execution_count": 247,
   "metadata": {},
   "outputs": [],
   "source": [
    "from sklearn import model_selection"
   ]
  },
  {
   "cell_type": "code",
   "execution_count": 316,
   "metadata": {},
   "outputs": [],
   "source": [
    "cv_10=model_selection.KFold(n_splits=10,#böl\n",
    "                           shuffle=True,# karıştır\n",
    "                           random_state=1)\n",
    "RMSE=[]"
   ]
  },
  {
   "cell_type": "code",
   "execution_count": 253,
   "metadata": {},
   "outputs": [
    {
     "data": {
      "text/plain": [
       "(66, 19)"
      ]
     },
     "execution_count": 253,
     "metadata": {},
     "output_type": "execute_result"
    }
   ],
   "source": [
    "np.arange(10,20,2)\n"
   ]
  },
  {
   "cell_type": "code",
   "execution_count": 296,
   "metadata": {
    "collapsed": true,
    "jupyter": {
     "outputs_hidden": true
    }
   },
   "outputs": [
    {
     "data": {
      "text/plain": [
       "array([[-2.49569913e+00, -3.37762397e-01,  7.06391950e-01, ...,\n",
       "         3.70733348e-03,  1.37933445e-03, -6.63814471e-03],\n",
       "       [ 1.57074119e+00, -6.26413698e-01,  3.18877005e+00, ...,\n",
       "         2.72401324e-02, -1.68108943e-01,  1.20560996e-01],\n",
       "       [ 1.50009234e+00, -1.72148910e+00, -1.68448622e+00, ...,\n",
       "         5.53398813e-02, -9.08519513e-02, -1.15464804e-02],\n",
       "       ...,\n",
       "       [-3.77250745e-01, -3.00549313e+00, -1.82464645e+00, ...,\n",
       "         1.23657225e-03,  1.73951625e-02, -5.47217393e-04],\n",
       "       [ 9.27889192e-01,  1.35566547e+00, -6.49981255e-01, ...,\n",
       "        -1.94913051e-01, -4.31783126e-02,  1.73446277e-03],\n",
       "       [-2.50242254e+00, -8.43529483e-01,  5.89109906e-01, ...,\n",
       "         4.50587682e-02,  1.03607049e-01, -2.21172969e-02]])"
      ]
     },
     "execution_count": 296,
     "metadata": {},
     "output_type": "execute_result"
    }
   ],
   "source": [
    "X_reduce_train"
   ]
  },
  {
   "cell_type": "code",
   "execution_count": 317,
   "metadata": {
    "collapsed": true,
    "jupyter": {
     "outputs_hidden": true
    }
   },
   "outputs": [
    {
     "name": "stderr",
     "output_type": "stream",
     "text": [
      "C:\\Users\\bedir\\anaconda3\\lib\\site-packages\\sklearn\\model_selection\\_validation.py:536: FitFailedWarning: Estimator fit failed. The score on this train-test partition for these parameters will be set to nan. Details: \n",
      "ValueError: Found array with 0 feature(s) (shape=(177, 0)) while a minimum of 1 is required.\n",
      "\n",
      "  FitFailedWarning)\n",
      "C:\\Users\\bedir\\anaconda3\\lib\\site-packages\\sklearn\\model_selection\\_validation.py:536: FitFailedWarning: Estimator fit failed. The score on this train-test partition for these parameters will be set to nan. Details: \n",
      "ValueError: Found array with 0 feature(s) (shape=(177, 0)) while a minimum of 1 is required.\n",
      "\n",
      "  FitFailedWarning)\n",
      "C:\\Users\\bedir\\anaconda3\\lib\\site-packages\\sklearn\\model_selection\\_validation.py:536: FitFailedWarning: Estimator fit failed. The score on this train-test partition for these parameters will be set to nan. Details: \n",
      "ValueError: Found array with 0 feature(s) (shape=(177, 0)) while a minimum of 1 is required.\n",
      "\n",
      "  FitFailedWarning)\n",
      "C:\\Users\\bedir\\anaconda3\\lib\\site-packages\\sklearn\\model_selection\\_validation.py:536: FitFailedWarning: Estimator fit failed. The score on this train-test partition for these parameters will be set to nan. Details: \n",
      "ValueError: Found array with 0 feature(s) (shape=(177, 0)) while a minimum of 1 is required.\n",
      "\n",
      "  FitFailedWarning)\n",
      "C:\\Users\\bedir\\anaconda3\\lib\\site-packages\\sklearn\\model_selection\\_validation.py:536: FitFailedWarning: Estimator fit failed. The score on this train-test partition for these parameters will be set to nan. Details: \n",
      "ValueError: Found array with 0 feature(s) (shape=(177, 0)) while a minimum of 1 is required.\n",
      "\n",
      "  FitFailedWarning)\n",
      "C:\\Users\\bedir\\anaconda3\\lib\\site-packages\\sklearn\\model_selection\\_validation.py:536: FitFailedWarning: Estimator fit failed. The score on this train-test partition for these parameters will be set to nan. Details: \n",
      "ValueError: Found array with 0 feature(s) (shape=(177, 0)) while a minimum of 1 is required.\n",
      "\n",
      "  FitFailedWarning)\n",
      "C:\\Users\\bedir\\anaconda3\\lib\\site-packages\\sklearn\\model_selection\\_validation.py:536: FitFailedWarning: Estimator fit failed. The score on this train-test partition for these parameters will be set to nan. Details: \n",
      "ValueError: Found array with 0 feature(s) (shape=(177, 0)) while a minimum of 1 is required.\n",
      "\n",
      "  FitFailedWarning)\n",
      "C:\\Users\\bedir\\anaconda3\\lib\\site-packages\\sklearn\\model_selection\\_validation.py:536: FitFailedWarning: Estimator fit failed. The score on this train-test partition for these parameters will be set to nan. Details: \n",
      "ValueError: Found array with 0 feature(s) (shape=(178, 0)) while a minimum of 1 is required.\n",
      "\n",
      "  FitFailedWarning)\n",
      "C:\\Users\\bedir\\anaconda3\\lib\\site-packages\\sklearn\\model_selection\\_validation.py:536: FitFailedWarning: Estimator fit failed. The score on this train-test partition for these parameters will be set to nan. Details: \n",
      "ValueError: Found array with 0 feature(s) (shape=(178, 0)) while a minimum of 1 is required.\n",
      "\n",
      "  FitFailedWarning)\n",
      "C:\\Users\\bedir\\anaconda3\\lib\\site-packages\\sklearn\\model_selection\\_validation.py:536: FitFailedWarning: Estimator fit failed. The score on this train-test partition for these parameters will be set to nan. Details: \n",
      "ValueError: Found array with 0 feature(s) (shape=(178, 0)) while a minimum of 1 is required.\n",
      "\n",
      "  FitFailedWarning)\n"
     ]
    }
   ],
   "source": [
    "for i in np.arange(0,X_reduce_test.shape[1]+1):\n",
    "    score = np.sqrt(-1*model_selection.cross_val_score(lm,\n",
    "                X_reduce_train[:,:i],\n",
    "                y_train.ravel(), # ravel düzene sokuyor. yazmasakta bir şeyi değişmiyor diye gördüm denediğimde.\n",
    "                cv=cv_10,\n",
    "                scoring=\"neg_mean_squared_error\")).mean()\n",
    "    RMSE.append(score)\n"
   ]
  },
  {
   "cell_type": "code",
   "execution_count": 318,
   "metadata": {},
   "outputs": [
    {
     "name": "stdout",
     "output_type": "stream",
     "text": [
      "nan\n",
      "333.59802164966027\n",
      "330.43667300996935\n",
      "330.27528833186346\n",
      "330.66537380220933\n",
      "326.45260847235363\n",
      "323.9149947798536\n",
      "323.2245904693249\n",
      "326.55747999667017\n",
      "328.9126496696056\n",
      "334.720579425334\n",
      "335.60726327139\n",
      "339.85614360189425\n",
      "345.5019883085344\n",
      "351.2549439336468\n",
      "352.10922513683664\n",
      "338.3056464503755\n",
      "338.00121434683905\n",
      "337.2389991814374\n",
      "344.20323640861034\n"
     ]
    }
   ],
   "source": [
    "for i in RMSE:\n",
    "    print(i)"
   ]
  },
  {
   "cell_type": "code",
   "execution_count": 319,
   "metadata": {},
   "outputs": [
    {
     "data": {
      "image/png": "[encoded data removed]",
      "text/plain": [
       "<Figure size 432x288 with 1 Axes>"
      ]
     },
     "metadata": {
      "needs_background": "light"
     },
     "output_type": "display_data"
    }
   ],
   "source": [
    "plt.plot(RMSE,'-v')\n",
    "plt.xlabel('Bileşen Sayısı')\n",
    "plt.ylabel('RMSE')\n",
    "plt.title('Maaş Tahmin Modeli İçin PCR Model Tuning');"
   ]
  },
  {
   "cell_type": "code",
   "execution_count": 320,
   "metadata": {},
   "outputs": [],
   "source": [
    "lm=LinearRegression(X_reduce_train,y_train)"
   ]
  },
  {
   "cell_type": "code",
   "execution_count": 321,
   "metadata": {},
   "outputs": [],
   "source": [
    "pcr_model_v=lm.fit(X_reduce_train[:,0:7],y_train)"
   ]
  },
  {
   "cell_type": "code",
   "execution_count": 323,
   "metadata": {},
   "outputs": [],
   "source": [
    "y_pred_v=pcr_model_v.predict(X_reduce_train[:,0:7])"
   ]
  },
  {
   "cell_type": "code",
   "execution_count": 325,
   "metadata": {},
   "outputs": [
    {
     "name": "stdout",
     "output_type": "stream",
     "text": [
      "306.9776298667308\n"
     ]
    }
   ],
   "source": [
    "print(np.sqrt(mean_squared_error(y_train,y_pred_v)))"
   ]
  },
  {
   "cell_type": "code",
   "execution_count": 326,
   "metadata": {},
   "outputs": [],
   "source": [
    "y_pred_vtest=pcr_model_v.predict(X_reduce_test[:,0:7])"
   ]
  },
  {
   "cell_type": "code",
   "execution_count": 329,
   "metadata": {},
   "outputs": [
    {
     "name": "stdout",
     "output_type": "stream",
     "text": [
      "391.9374992765452\n"
     ]
    }
   ],
   "source": [
    "print(np.sqrt(mean_squared_error(y_test,y_pred_vtest)))"
   ]
  },
  {
   "cell_type": "code",
   "execution_count": null,
   "metadata": {},
   "outputs": [],
   "source": []
  },
  {
   "cell_type": "code",
   "execution_count": null,
   "metadata": {},
   "outputs": [],
   "source": []
  },
  {
   "cell_type": "code",
   "execution_count": null,
   "metadata": {},
   "outputs": [],
   "source": []
  },
  {
   "cell_type": "markdown",
   "metadata": {},
   "source": [
    "# PLS"
   ]
  },
  {
   "cell_type": "code",
   "execution_count": 105,
   "metadata": {},
   "outputs": [],
   "source": [
    "from sklearn.model_selection import train_test_split,cross_val_score,cross_val_predict"
   ]
  },
  {
   "cell_type": "code",
   "execution_count": 106,
   "metadata": {},
   "outputs": [
    {
     "data": {
      "text/html": [
       "<div>\n",
       "<style scoped>\n",
       "    .dataframe tbody tr th:only-of-type {\n",
       "        vertical-align: middle;\n",
       "    }\n",
       "\n",
       "    .dataframe tbody tr th {\n",
       "        vertical-align: top;\n",
       "    }\n",
       "\n",
       "    .dataframe thead th {\n",
       "        text-align: right;\n",
       "    }\n",
       "</style>\n",
       "<table border=\"1\" class=\"dataframe\">\n",
       "  <thead>\n",
       "    <tr style=\"text-align: right;\">\n",
       "      <th></th>\n",
       "      <th>League_A</th>\n",
       "      <th>League_N</th>\n",
       "      <th>Division_E</th>\n",
       "      <th>Division_W</th>\n",
       "      <th>NewLeague_A</th>\n",
       "      <th>NewLeague_N</th>\n",
       "    </tr>\n",
       "  </thead>\n",
       "  <tbody>\n",
       "    <tr>\n",
       "      <th>1</th>\n",
       "      <td>0</td>\n",
       "      <td>1</td>\n",
       "      <td>0</td>\n",
       "      <td>1</td>\n",
       "      <td>0</td>\n",
       "      <td>1</td>\n",
       "    </tr>\n",
       "    <tr>\n",
       "      <th>2</th>\n",
       "      <td>1</td>\n",
       "      <td>0</td>\n",
       "      <td>0</td>\n",
       "      <td>1</td>\n",
       "      <td>1</td>\n",
       "      <td>0</td>\n",
       "    </tr>\n",
       "  </tbody>\n",
       "</table>\n",
       "</div>"
      ],
      "text/plain": [
       "   League_A  League_N  Division_E  Division_W  NewLeague_A  NewLeague_N\n",
       "1         0         1           0           1            0            1\n",
       "2         1         0           0           1            1            0"
      ]
     },
     "execution_count": 106,
     "metadata": {},
     "output_type": "execute_result"
    }
   ],
   "source": [
    "import pandas as pd \n",
    "import numpy as np\n",
    "hit = pd.read_csv(\"Hitters.csv\")\n",
    "df = hit.copy()\n",
    "df = df.dropna()\n",
    "df.head()\n",
    "ms=pd.get_dummies(df[['League', 'Division', 'NewLeague']])\n",
    "ms[0:2]\n"
   ]
  },
  {
   "cell_type": "code",
   "execution_count": 107,
   "metadata": {},
   "outputs": [],
   "source": [
    "y=df[\"Salary\"]"
   ]
  },
  {
   "cell_type": "code",
   "execution_count": 108,
   "metadata": {},
   "outputs": [],
   "source": [
    "X_=df.drop(['Salary','League','Division','NewLeague'],axis=1).astype('float64')\n",
    "X=pd.concat([X_,ms[['League_N','Division_W','NewLeague_N']]],axis=1)"
   ]
  },
  {
   "cell_type": "code",
   "execution_count": 109,
   "metadata": {},
   "outputs": [],
   "source": [
    "X_train,X_test,y_train,y_test= train_test_split(X,y, test_size=0.25,random_state=42)"
   ]
  },
  {
   "cell_type": "code",
   "execution_count": 110,
   "metadata": {},
   "outputs": [
    {
     "data": {
      "text/html": [
       "<div>\n",
       "<style scoped>\n",
       "    .dataframe tbody tr th:only-of-type {\n",
       "        vertical-align: middle;\n",
       "    }\n",
       "\n",
       "    .dataframe tbody tr th {\n",
       "        vertical-align: top;\n",
       "    }\n",
       "\n",
       "    .dataframe thead th {\n",
       "        text-align: right;\n",
       "    }\n",
       "</style>\n",
       "<table border=\"1\" class=\"dataframe\">\n",
       "  <thead>\n",
       "    <tr style=\"text-align: right;\">\n",
       "      <th></th>\n",
       "      <th>AtBat</th>\n",
       "      <th>Hits</th>\n",
       "      <th>HmRun</th>\n",
       "      <th>Runs</th>\n",
       "      <th>RBI</th>\n",
       "      <th>Walks</th>\n",
       "      <th>Years</th>\n",
       "      <th>CAtBat</th>\n",
       "      <th>CHits</th>\n",
       "      <th>CHmRun</th>\n",
       "      <th>CRuns</th>\n",
       "      <th>CRBI</th>\n",
       "      <th>CWalks</th>\n",
       "      <th>PutOuts</th>\n",
       "      <th>Assists</th>\n",
       "      <th>Errors</th>\n",
       "      <th>League_N</th>\n",
       "      <th>Division_W</th>\n",
       "      <th>NewLeague_N</th>\n",
       "    </tr>\n",
       "  </thead>\n",
       "  <tbody>\n",
       "    <tr>\n",
       "      <th>183</th>\n",
       "      <td>328.0</td>\n",
       "      <td>91.0</td>\n",
       "      <td>12.0</td>\n",
       "      <td>51.0</td>\n",
       "      <td>43.0</td>\n",
       "      <td>33.0</td>\n",
       "      <td>2.0</td>\n",
       "      <td>342.0</td>\n",
       "      <td>94.0</td>\n",
       "      <td>12.0</td>\n",
       "      <td>51.0</td>\n",
       "      <td>44.0</td>\n",
       "      <td>33.0</td>\n",
       "      <td>145.0</td>\n",
       "      <td>59.0</td>\n",
       "      <td>8.0</td>\n",
       "      <td>1</td>\n",
       "      <td>0</td>\n",
       "      <td>1</td>\n",
       "    </tr>\n",
       "    <tr>\n",
       "      <th>229</th>\n",
       "      <td>514.0</td>\n",
       "      <td>144.0</td>\n",
       "      <td>0.0</td>\n",
       "      <td>67.0</td>\n",
       "      <td>54.0</td>\n",
       "      <td>79.0</td>\n",
       "      <td>9.0</td>\n",
       "      <td>4739.0</td>\n",
       "      <td>1169.0</td>\n",
       "      <td>13.0</td>\n",
       "      <td>583.0</td>\n",
       "      <td>374.0</td>\n",
       "      <td>528.0</td>\n",
       "      <td>229.0</td>\n",
       "      <td>453.0</td>\n",
       "      <td>15.0</td>\n",
       "      <td>1</td>\n",
       "      <td>0</td>\n",
       "      <td>1</td>\n",
       "    </tr>\n",
       "    <tr>\n",
       "      <th>286</th>\n",
       "      <td>593.0</td>\n",
       "      <td>152.0</td>\n",
       "      <td>23.0</td>\n",
       "      <td>69.0</td>\n",
       "      <td>75.0</td>\n",
       "      <td>53.0</td>\n",
       "      <td>6.0</td>\n",
       "      <td>2765.0</td>\n",
       "      <td>686.0</td>\n",
       "      <td>133.0</td>\n",
       "      <td>369.0</td>\n",
       "      <td>384.0</td>\n",
       "      <td>321.0</td>\n",
       "      <td>315.0</td>\n",
       "      <td>10.0</td>\n",
       "      <td>6.0</td>\n",
       "      <td>0</td>\n",
       "      <td>1</td>\n",
       "      <td>0</td>\n",
       "    </tr>\n",
       "    <tr>\n",
       "      <th>102</th>\n",
       "      <td>233.0</td>\n",
       "      <td>49.0</td>\n",
       "      <td>2.0</td>\n",
       "      <td>41.0</td>\n",
       "      <td>23.0</td>\n",
       "      <td>18.0</td>\n",
       "      <td>8.0</td>\n",
       "      <td>1350.0</td>\n",
       "      <td>336.0</td>\n",
       "      <td>7.0</td>\n",
       "      <td>166.0</td>\n",
       "      <td>122.0</td>\n",
       "      <td>106.0</td>\n",
       "      <td>102.0</td>\n",
       "      <td>132.0</td>\n",
       "      <td>10.0</td>\n",
       "      <td>0</td>\n",
       "      <td>0</td>\n",
       "      <td>0</td>\n",
       "    </tr>\n",
       "    <tr>\n",
       "      <th>153</th>\n",
       "      <td>341.0</td>\n",
       "      <td>95.0</td>\n",
       "      <td>6.0</td>\n",
       "      <td>48.0</td>\n",
       "      <td>42.0</td>\n",
       "      <td>20.0</td>\n",
       "      <td>10.0</td>\n",
       "      <td>2964.0</td>\n",
       "      <td>808.0</td>\n",
       "      <td>81.0</td>\n",
       "      <td>379.0</td>\n",
       "      <td>428.0</td>\n",
       "      <td>221.0</td>\n",
       "      <td>158.0</td>\n",
       "      <td>4.0</td>\n",
       "      <td>5.0</td>\n",
       "      <td>1</td>\n",
       "      <td>1</td>\n",
       "      <td>1</td>\n",
       "    </tr>\n",
       "  </tbody>\n",
       "</table>\n",
       "</div>"
      ],
      "text/plain": [
       "     AtBat   Hits  HmRun  Runs   RBI  Walks  Years  CAtBat   CHits  CHmRun  \\\n",
       "183  328.0   91.0   12.0  51.0  43.0   33.0    2.0   342.0    94.0    12.0   \n",
       "229  514.0  144.0    0.0  67.0  54.0   79.0    9.0  4739.0  1169.0    13.0   \n",
       "286  593.0  152.0   23.0  69.0  75.0   53.0    6.0  2765.0   686.0   133.0   \n",
       "102  233.0   49.0    2.0  41.0  23.0   18.0    8.0  1350.0   336.0     7.0   \n",
       "153  341.0   95.0    6.0  48.0  42.0   20.0   10.0  2964.0   808.0    81.0   \n",
       "\n",
       "     CRuns   CRBI  CWalks  PutOuts  Assists  Errors  League_N  Division_W  \\\n",
       "183   51.0   44.0    33.0    145.0     59.0     8.0         1           0   \n",
       "229  583.0  374.0   528.0    229.0    453.0    15.0         1           0   \n",
       "286  369.0  384.0   321.0    315.0     10.0     6.0         0           1   \n",
       "102  166.0  122.0   106.0    102.0    132.0    10.0         0           0   \n",
       "153  379.0  428.0   221.0    158.0      4.0     5.0         1           1   \n",
       "\n",
       "     NewLeague_N  \n",
       "183            1  \n",
       "229            1  \n",
       "286            0  \n",
       "102            0  \n",
       "153            1  "
      ]
     },
     "execution_count": 110,
     "metadata": {},
     "output_type": "execute_result"
    }
   ],
   "source": [
    "X_train.head()"
   ]
  },
  {
   "cell_type": "code",
   "execution_count": 111,
   "metadata": {},
   "outputs": [],
   "source": [
    "from sklearn.cross_decomposition import PLSRegression, PLSSVD"
   ]
  },
  {
   "cell_type": "code",
   "execution_count": 112,
   "metadata": {},
   "outputs": [],
   "source": [
    "pls_model=PLSRegression()"
   ]
  },
  {
   "cell_type": "code",
   "execution_count": 113,
   "metadata": {},
   "outputs": [],
   "source": [
    "pls_fitted=pls_model.fit(X_train,y_train)"
   ]
  },
  {
   "cell_type": "code",
   "execution_count": 114,
   "metadata": {},
   "outputs": [],
   "source": [
    "y_pred=pls_fitted.predict(X_train)"
   ]
  },
  {
   "cell_type": "code",
   "execution_count": 115,
   "metadata": {},
   "outputs": [],
   "source": [
    "from sklearn.metrics import mean_squared_error, r2_score "
   ]
  },
  {
   "cell_type": "code",
   "execution_count": 116,
   "metadata": {},
   "outputs": [
    {
     "data": {
      "text/plain": [
       "310.1167593109696"
      ]
     },
     "execution_count": 116,
     "metadata": {},
     "output_type": "execute_result"
    }
   ],
   "source": [
    "mlse=np.sqrt(mean_squared_error(y_pred,y_train))\n",
    "mlse # train hatası"
   ]
  },
  {
   "cell_type": "code",
   "execution_count": 117,
   "metadata": {},
   "outputs": [
    {
     "data": {
      "text/plain": [
       "0.5140424486535482"
      ]
     },
     "execution_count": 117,
     "metadata": {},
     "output_type": "execute_result"
    }
   ],
   "source": [
    "r2_score(y_train,y_pred)"
   ]
  },
  {
   "cell_type": "code",
   "execution_count": 118,
   "metadata": {},
   "outputs": [],
   "source": [
    "y_pred_test = pls_model.predict(X_test)"
   ]
  },
  {
   "cell_type": "code",
   "execution_count": 119,
   "metadata": {},
   "outputs": [
    {
     "data": {
      "text/plain": [
       "398.09956327448526"
      ]
     },
     "execution_count": 119,
     "metadata": {},
     "output_type": "execute_result"
    }
   ],
   "source": [
    "mlse_test=np.sqrt(mean_squared_error(y_pred_test,y_test))\n",
    "mlse_test"
   ]
  },
  {
   "cell_type": "markdown",
   "metadata": {},
   "source": [
    "## MODEL TUNİNG"
   ]
  },
  {
   "cell_type": "code",
   "execution_count": 196,
   "metadata": {},
   "outputs": [],
   "source": [
    "from sklearn import model_selection \n",
    "import numpy as np"
   ]
  },
  {
   "cell_type": "code",
   "execution_count": 197,
   "metadata": {},
   "outputs": [
    {
     "data": {
      "text/plain": [
       "332.3639761713549"
      ]
     },
     "execution_count": 197,
     "metadata": {},
     "output_type": "execute_result"
    }
   ],
   "source": [
    "pls=PLSRegression(n_components=2)\n",
    "cv_10=model_selection.KFold(n_splits=10,shuffle=True, random_state=1)\n",
    "np.sqrt(-1*cross_val_score(pls,\n",
    "                         X_train,\n",
    "                         y_train,\n",
    "                         cv=cv_10,\n",
    "                         scoring='neg_mean_squared_error').mean())"
   ]
  },
  {
   "cell_type": "code",
   "execution_count": 198,
   "metadata": {},
   "outputs": [
    {
     "data": {
      "text/plain": [
       "347.34060450905895"
      ]
     },
     "execution_count": 198,
     "metadata": {},
     "output_type": "execute_result"
    }
   ],
   "source": [
    "pls=PLSRegression(n_components=5)\n",
    "cv_10=model_selection.KFold(n_splits=10,shuffle=True, random_state=1)\n",
    "np.sqrt(-1*cross_val_score(pls,\n",
    "                           X_train,\n",
    "                           y_train,\n",
    "                           cv=cv_10,\n",
    "                           scoring='neg_mean_squared_error').mean())"
   ]
  },
  {
   "cell_type": "code",
   "execution_count": 231,
   "metadata": {
    "collapsed": true,
    "jupyter": {
     "outputs_hidden": true
    }
   },
   "outputs": [
    {
     "data": {
      "text/plain": [
       "dict_keys(['explained_variance', 'r2', 'max_error', 'neg_median_absolute_error', 'neg_mean_absolute_error', 'neg_mean_squared_error', 'neg_mean_squared_log_error', 'neg_root_mean_squared_error', 'neg_mean_poisson_deviance', 'neg_mean_gamma_deviance', 'accuracy', 'roc_auc', 'roc_auc_ovr', 'roc_auc_ovo', 'roc_auc_ovr_weighted', 'roc_auc_ovo_weighted', 'balanced_accuracy', 'average_precision', 'neg_log_loss', 'neg_brier_score', 'adjusted_rand_score', 'homogeneity_score', 'completeness_score', 'v_measure_score', 'mutual_info_score', 'adjusted_mutual_info_score', 'normalized_mutual_info_score', 'fowlkes_mallows_score', 'precision', 'precision_macro', 'precision_micro', 'precision_samples', 'precision_weighted', 'recall', 'recall_macro', 'recall_micro', 'recall_samples', 'recall_weighted', 'f1', 'f1_macro', 'f1_micro', 'f1_samples', 'f1_weighted', 'jaccard', 'jaccard_macro', 'jaccard_micro', 'jaccard_samples', 'jaccard_weighted'])"
      ]
     },
     "execution_count": 231,
     "metadata": {},
     "output_type": "execute_result"
    }
   ],
   "source": [
    "sklearn.metrics.SCORERS.keys()"
   ]
  },
  {
   "cell_type": "code",
   "execution_count": 237,
   "metadata": {},
   "outputs": [],
   "source": [
    "cv_10=model_selection.KFold(n_splits=10,shuffle=True, random_state=1)\n",
    "RMSE=[]\n",
    "RMSE2=[]\n",
    "for i in np.arange(1,X_test.shape[1]+1):\n",
    "    pls=PLSRegression(n_components=i)\n",
    "    score=np.sqrt(-1*cross_val_score(pls,\n",
    "                                X_train,\n",
    "                                y_train,\n",
    "                                cv=cv_10,\n",
    "                               scoring=\"neg_mean_squared_error\")).mean()\n",
    "    model=pls.fit(X_train,y_train)\n",
    "    y_pred=model.predict(X_test)\n",
    "    mean_squared_error(y_pred,y_test)\n",
    "    RMSE.append(score)"
   ]
  },
  {
   "cell_type": "code",
   "execution_count": null,
   "metadata": {},
   "outputs": [],
   "source": []
  },
  {
   "cell_type": "code",
   "execution_count": null,
   "metadata": {},
   "outputs": [],
   "source": []
  },
  {
   "cell_type": "code",
   "execution_count": 201,
   "metadata": {},
   "outputs": [
    {
     "data": {
      "text/plain": [
       "[327.8076267799511,\n",
       " 327.5178220787555,\n",
       " 329.7564342804702,\n",
       " 331.9319392446711,\n",
       " 342.4658736135476,\n",
       " 355.016545242922,\n",
       " 357.2777243607114,\n",
       " 347.6609984925577,\n",
       " 341.90192093116536,\n",
       " 340.5272923464332,\n",
       " 338.7137472493426,\n",
       " 337.30707696509705,\n",
       " 335.78733375321576,\n",
       " 339.8460588569017,\n",
       " 340.1389890524407,\n",
       " 339.9141721845118,\n",
       " 340.3918728489855,\n",
       " 340.23908803180865,\n",
       " 344.20323640861]"
      ]
     },
     "execution_count": 201,
     "metadata": {},
     "output_type": "execute_result"
    }
   ],
   "source": [
    "RMSE"
   ]
  },
  {
   "cell_type": "code",
   "execution_count": 202,
   "metadata": {},
   "outputs": [
    {
     "data": {
      "text/plain": [
       "[398.09956327448526,\n",
       " 398.09956327448526,\n",
       " 398.09956327448526,\n",
       " 398.09956327448526,\n",
       " 398.09956327448526,\n",
       " 398.09956327448526,\n",
       " 398.09956327448526,\n",
       " 398.09956327448526,\n",
       " 398.09956327448526,\n",
       " 398.09956327448526,\n",
       " 398.09956327448526,\n",
       " 398.09956327448526,\n",
       " 398.09956327448526,\n",
       " 398.09956327448526,\n",
       " 398.09956327448526,\n",
       " 398.09956327448526,\n",
       " 398.09956327448526,\n",
       " 398.09956327448526,\n",
       " 398.09956327448526]"
      ]
     },
     "execution_count": 202,
     "metadata": {},
     "output_type": "execute_result"
    }
   ],
   "source": [
    "RMSE2"
   ]
  },
  {
   "cell_type": "code",
   "execution_count": 203,
   "metadata": {},
   "outputs": [
    {
     "data": {
      "text/plain": [
       "[<matplotlib.lines.Line2D at 0x25decb16348>]"
      ]
     },
     "execution_count": 203,
     "metadata": {},
     "output_type": "execute_result"
    },
    {
     "data": {
      "image/png": "[encoded data removed]",
      "text/plain": [
       "<Figure size 432x288 with 1 Axes>"
      ]
     },
     "metadata": {
      "needs_background": "light"
     },
     "output_type": "display_data"
    }
   ],
   "source": [
    "import matplotlib.pyplot as plt\n",
    "plt.plot(np.arange(1, X_train.shape[1] +1), np.array(RMSE), '-v', c = \"r\")"
   ]
  },
  {
   "cell_type": "code",
   "execution_count": 204,
   "metadata": {},
   "outputs": [],
   "source": [
    "from sklearn.linear_model import LinearRegression"
   ]
  },
  {
   "cell_type": "code",
   "execution_count": 159,
   "metadata": {
    "collapsed": true,
    "jupyter": {
     "outputs_hidden": true
    }
   },
   "outputs": [
    {
     "data": {
      "text/plain": [
       "\u001b[1;31mInit signature:\u001b[0m\n",
       "\u001b[0mPLSRegression\u001b[0m\u001b[1;33m(\u001b[0m\u001b[1;33m\n",
       "\u001b[0m    \u001b[0mn_components\u001b[0m\u001b[1;33m=\u001b[0m\u001b[1;36m2\u001b[0m\u001b[1;33m,\u001b[0m\u001b[1;33m\n",
       "\u001b[0m    \u001b[0mscale\u001b[0m\u001b[1;33m=\u001b[0m\u001b[1;32mTrue\u001b[0m\u001b[1;33m,\u001b[0m\u001b[1;33m\n",
       "\u001b[0m    \u001b[0mmax_iter\u001b[0m\u001b[1;33m=\u001b[0m\u001b[1;36m500\u001b[0m\u001b[1;33m,\u001b[0m\u001b[1;33m\n",
       "\u001b[0m    \u001b[0mtol\u001b[0m\u001b[1;33m=\u001b[0m\u001b[1;36m1e-06\u001b[0m\u001b[1;33m,\u001b[0m\u001b[1;33m\n",
       "\u001b[0m    \u001b[0mcopy\u001b[0m\u001b[1;33m=\u001b[0m\u001b[1;32mTrue\u001b[0m\u001b[1;33m,\u001b[0m\u001b[1;33m\n",
       "\u001b[0m\u001b[1;33m)\u001b[0m\u001b[1;33m\u001b[0m\u001b[1;33m\u001b[0m\u001b[0m\n",
       "\u001b[1;31mDocstring:\u001b[0m     \n",
       "PLS regression\n",
       "\n",
       "PLSRegression implements the PLS 2 blocks regression known as PLS2 or PLS1\n",
       "in case of one dimensional response.\n",
       "This class inherits from _PLS with mode=\"A\", deflation_mode=\"regression\",\n",
       "norm_y_weights=False and algorithm=\"nipals\".\n",
       "\n",
       "Read more in the :ref:`User Guide <cross_decomposition>`.\n",
       "\n",
       ".. versionadded:: 0.8\n",
       "\n",
       "Parameters\n",
       "----------\n",
       "n_components : int, (default 2)\n",
       "    Number of components to keep.\n",
       "\n",
       "scale : boolean, (default True)\n",
       "    whether to scale the data\n",
       "\n",
       "max_iter : an integer, (default 500)\n",
       "    the maximum number of iterations of the NIPALS inner loop (used\n",
       "    only if algorithm=\"nipals\")\n",
       "\n",
       "tol : non-negative real\n",
       "    Tolerance used in the iterative algorithm default 1e-06.\n",
       "\n",
       "copy : boolean, default True\n",
       "    Whether the deflation should be done on a copy. Let the default\n",
       "    value to True unless you don't care about side effect\n",
       "\n",
       "Attributes\n",
       "----------\n",
       "x_weights_ : array, [p, n_components]\n",
       "    X block weights vectors.\n",
       "\n",
       "y_weights_ : array, [q, n_components]\n",
       "    Y block weights vectors.\n",
       "\n",
       "x_loadings_ : array, [p, n_components]\n",
       "    X block loadings vectors.\n",
       "\n",
       "y_loadings_ : array, [q, n_components]\n",
       "    Y block loadings vectors.\n",
       "\n",
       "x_scores_ : array, [n_samples, n_components]\n",
       "    X scores.\n",
       "\n",
       "y_scores_ : array, [n_samples, n_components]\n",
       "    Y scores.\n",
       "\n",
       "x_rotations_ : array, [p, n_components]\n",
       "    X block to latents rotations.\n",
       "\n",
       "y_rotations_ : array, [q, n_components]\n",
       "    Y block to latents rotations.\n",
       "\n",
       "coef_ : array, [p, q]\n",
       "    The coefficients of the linear model: ``Y = X coef_ + Err``\n",
       "\n",
       "n_iter_ : array-like\n",
       "    Number of iterations of the NIPALS inner loop for each\n",
       "    component.\n",
       "\n",
       "Notes\n",
       "-----\n",
       "Matrices::\n",
       "\n",
       "    T: x_scores_\n",
       "    U: y_scores_\n",
       "    W: x_weights_\n",
       "    C: y_weights_\n",
       "    P: x_loadings_\n",
       "    Q: y_loadings_\n",
       "\n",
       "Are computed such that::\n",
       "\n",
       "    X = T P.T + Err and Y = U Q.T + Err\n",
       "    T[:, k] = Xk W[:, k] for k in range(n_components)\n",
       "    U[:, k] = Yk C[:, k] for k in range(n_components)\n",
       "    x_rotations_ = W (P.T W)^(-1)\n",
       "    y_rotations_ = C (Q.T C)^(-1)\n",
       "\n",
       "where Xk and Yk are residual matrices at iteration k.\n",
       "\n",
       "`Slides explaining\n",
       "PLS <http://www.eigenvector.com/Docs/Wise_pls_properties.pdf>`_\n",
       "\n",
       "\n",
       "For each component k, find weights u, v that optimizes:\n",
       "``max corr(Xk u, Yk v) * std(Xk u) std(Yk u)``, such that ``|u| = 1``\n",
       "\n",
       "Note that it maximizes both the correlations between the scores and the\n",
       "intra-block variances.\n",
       "\n",
       "The residual matrix of X (Xk+1) block is obtained by the deflation on\n",
       "the current X score: x_score.\n",
       "\n",
       "The residual matrix of Y (Yk+1) block is obtained by deflation on the\n",
       "current X score. This performs the PLS regression known as PLS2. This\n",
       "mode is prediction oriented.\n",
       "\n",
       "This implementation provides the same results that 3 PLS packages\n",
       "provided in the R language (R-project):\n",
       "\n",
       "    - \"mixOmics\" with function pls(X, Y, mode = \"regression\")\n",
       "    - \"plspm \" with function plsreg2(X, Y)\n",
       "    - \"pls\" with function oscorespls.fit(X, Y)\n",
       "\n",
       "Examples\n",
       "--------\n",
       ">>> from sklearn.cross_decomposition import PLSRegression\n",
       ">>> X = [[0., 0., 1.], [1.,0.,0.], [2.,2.,2.], [2.,5.,4.]]\n",
       ">>> Y = [[0.1, -0.2], [0.9, 1.1], [6.2, 5.9], [11.9, 12.3]]\n",
       ">>> pls2 = PLSRegression(n_components=2)\n",
       ">>> pls2.fit(X, Y)\n",
       "PLSRegression()\n",
       ">>> Y_pred = pls2.predict(X)\n",
       "\n",
       "References\n",
       "----------\n",
       "\n",
       "Jacob A. Wegelin. A survey of Partial Least Squares (PLS) methods, with\n",
       "emphasis on the two-block case. Technical Report 371, Department of\n",
       "Statistics, University of Washington, Seattle, 2000.\n",
       "\n",
       "In french but still a reference:\n",
       "Tenenhaus, M. (1998). La regression PLS: theorie et pratique. Paris:\n",
       "Editions Technic.\n",
       "\u001b[1;31mFile:\u001b[0m           c:\\users\\bedir\\anaconda3\\lib\\site-packages\\sklearn\\cross_decomposition\\_pls.py\n",
       "\u001b[1;31mType:\u001b[0m           ABCMeta\n",
       "\u001b[1;31mSubclasses:\u001b[0m     \n"
      ]
     },
     "metadata": {},
     "output_type": "display_data"
    }
   ],
   "source": [
    "?PLSRegression"
   ]
  },
  {
   "cell_type": "code",
   "execution_count": 212,
   "metadata": {},
   "outputs": [],
   "source": [
    "pls_model=PLSRegression(n_components=2)\n",
    "pls_fitted=pls_model.fit(X_train,y_train)"
   ]
  },
  {
   "cell_type": "code",
   "execution_count": 213,
   "metadata": {},
   "outputs": [],
   "source": [
    "y_pred=pls_model.predict(X_test)"
   ]
  },
  {
   "cell_type": "code",
   "execution_count": 214,
   "metadata": {},
   "outputs": [
    {
     "data": {
      "text/plain": [
       "383.82007913508414"
      ]
     },
     "execution_count": 214,
     "metadata": {},
     "output_type": "execute_result"
    }
   ],
   "source": [
    "np.sqrt(mean_squared_error(y_test,y_pred))"
   ]
  },
  {
   "cell_type": "code",
   "execution_count": 220,
   "metadata": {},
   "outputs": [
    {
     "data": {
      "text/plain": [
       "398.09956327448526"
      ]
     },
     "execution_count": 220,
     "metadata": {},
     "output_type": "execute_result"
    }
   ],
   "source": [
    "pls_model=PLSRegression(n_components=2)\n",
    "pls_fitted=pls_model.fit(X_train,y_train)\n",
    "y_pred=pls_model.predict(X_test)\n",
    "np.sqrt(mean_squared_error(y_test,y_pred))"
   ]
  },
  {
   "cell_type": "code",
   "execution_count": 222,
   "metadata": {
    "collapsed": true,
    "jupyter": {
     "outputs_hidden": true
    }
   },
   "outputs": [
    {
     "data": {
      "text/plain": [
       "\u001b[1;31mType:\u001b[0m        PCA\n",
       "\u001b[1;31mString form:\u001b[0m\n",
       "PCA(copy=True, iterated_power='auto', n_components=None, random_state=None,\n",
       "    svd_solver='auto', tol=0.0, whiten=False)\n",
       "\u001b[1;31mFile:\u001b[0m        c:\\users\\bedir\\anaconda3\\lib\\site-packages\\sklearn\\decomposition\\_pca.py\n",
       "\u001b[1;31mDocstring:\u001b[0m  \n",
       "Principal component analysis (PCA).\n",
       "\n",
       "Linear dimensionality reduction using Singular Value Decomposition of the\n",
       "data to project it to a lower dimensional space. The input data is centered\n",
       "but not scaled for each feature before applying the SVD.\n",
       "\n",
       "It uses the LAPACK implementation of the full SVD or a randomized truncated\n",
       "SVD by the method of Halko et al. 2009, depending on the shape of the input\n",
       "data and the number of components to extract.\n",
       "\n",
       "It can also use the scipy.sparse.linalg ARPACK implementation of the\n",
       "truncated SVD.\n",
       "\n",
       "Notice that this class does not support sparse input. See\n",
       ":class:`TruncatedSVD` for an alternative with sparse data.\n",
       "\n",
       "Read more in the :ref:`User Guide <PCA>`.\n",
       "\n",
       "Parameters\n",
       "----------\n",
       "n_components : int, float, None or str\n",
       "    Number of components to keep.\n",
       "    if n_components is not set all components are kept::\n",
       "\n",
       "        n_components == min(n_samples, n_features)\n",
       "\n",
       "    If ``n_components == 'mle'`` and ``svd_solver == 'full'``, Minka's\n",
       "    MLE is used to guess the dimension. Use of ``n_components == 'mle'``\n",
       "    will interpret ``svd_solver == 'auto'`` as ``svd_solver == 'full'``.\n",
       "\n",
       "    If ``0 < n_components < 1`` and ``svd_solver == 'full'``, select the\n",
       "    number of components such that the amount of variance that needs to be\n",
       "    explained is greater than the percentage specified by n_components.\n",
       "\n",
       "    If ``svd_solver == 'arpack'``, the number of components must be\n",
       "    strictly less than the minimum of n_features and n_samples.\n",
       "\n",
       "    Hence, the None case results in::\n",
       "\n",
       "        n_components == min(n_samples, n_features) - 1\n",
       "\n",
       "copy : bool, default=True\n",
       "    If False, data passed to fit are overwritten and running\n",
       "    fit(X).transform(X) will not yield the expected results,\n",
       "    use fit_transform(X) instead.\n",
       "\n",
       "whiten : bool, optional (default False)\n",
       "    When True (False by default) the `components_` vectors are multiplied\n",
       "    by the square root of n_samples and then divided by the singular values\n",
       "    to ensure uncorrelated outputs with unit component-wise variances.\n",
       "\n",
       "    Whitening will remove some information from the transformed signal\n",
       "    (the relative variance scales of the components) but can sometime\n",
       "    improve the predictive accuracy of the downstream estimators by\n",
       "    making their data respect some hard-wired assumptions.\n",
       "\n",
       "svd_solver : str {'auto', 'full', 'arpack', 'randomized'}\n",
       "    If auto :\n",
       "        The solver is selected by a default policy based on `X.shape` and\n",
       "        `n_components`: if the input data is larger than 500x500 and the\n",
       "        number of components to extract is lower than 80% of the smallest\n",
       "        dimension of the data, then the more efficient 'randomized'\n",
       "        method is enabled. Otherwise the exact full SVD is computed and\n",
       "        optionally truncated afterwards.\n",
       "    If full :\n",
       "        run exact full SVD calling the standard LAPACK solver via\n",
       "        `scipy.linalg.svd` and select the components by postprocessing\n",
       "    If arpack :\n",
       "        run SVD truncated to n_components calling ARPACK solver via\n",
       "        `scipy.sparse.linalg.svds`. It requires strictly\n",
       "        0 < n_components < min(X.shape)\n",
       "    If randomized :\n",
       "        run randomized SVD by the method of Halko et al.\n",
       "\n",
       "    .. versionadded:: 0.18.0\n",
       "\n",
       "tol : float >= 0, optional (default .0)\n",
       "    Tolerance for singular values computed by svd_solver == 'arpack'.\n",
       "\n",
       "    .. versionadded:: 0.18.0\n",
       "\n",
       "iterated_power : int >= 0, or 'auto', (default 'auto')\n",
       "    Number of iterations for the power method computed by\n",
       "    svd_solver == 'randomized'.\n",
       "\n",
       "    .. versionadded:: 0.18.0\n",
       "\n",
       "random_state : int, RandomState instance or None, optional (default None)\n",
       "    If int, random_state is the seed used by the random number generator;\n",
       "    If RandomState instance, random_state is the random number generator;\n",
       "    If None, the random number generator is the RandomState instance used\n",
       "    by `np.random`. Used when ``svd_solver`` == 'arpack' or 'randomized'.\n",
       "\n",
       "    .. versionadded:: 0.18.0\n",
       "\n",
       "Attributes\n",
       "----------\n",
       "components_ : array, shape (n_components, n_features)\n",
       "    Principal axes in feature space, representing the directions of\n",
       "    maximum variance in the data. The components are sorted by\n",
       "    ``explained_variance_``.\n",
       "\n",
       "explained_variance_ : array, shape (n_components,)\n",
       "    The amount of variance explained by each of the selected components.\n",
       "\n",
       "    Equal to n_components largest eigenvalues\n",
       "    of the covariance matrix of X.\n",
       "\n",
       "    .. versionadded:: 0.18\n",
       "\n",
       "explained_variance_ratio_ : array, shape (n_components,)\n",
       "    Percentage of variance explained by each of the selected components.\n",
       "\n",
       "    If ``n_components`` is not set then all components are stored and the\n",
       "    sum of the ratios is equal to 1.0.\n",
       "\n",
       "singular_values_ : array, shape (n_components,)\n",
       "    The singular values corresponding to each of the selected components.\n",
       "    The singular values are equal to the 2-norms of the ``n_components``\n",
       "    variables in the lower-dimensional space.\n",
       "\n",
       "    .. versionadded:: 0.19\n",
       "\n",
       "mean_ : array, shape (n_features,)\n",
       "    Per-feature empirical mean, estimated from the training set.\n",
       "\n",
       "    Equal to `X.mean(axis=0)`.\n",
       "\n",
       "n_components_ : int\n",
       "    The estimated number of components. When n_components is set\n",
       "    to 'mle' or a number between 0 and 1 (with svd_solver == 'full') this\n",
       "    number is estimated from input data. Otherwise it equals the parameter\n",
       "    n_components, or the lesser value of n_features and n_samples\n",
       "    if n_components is None.\n",
       "\n",
       "n_features_ : int\n",
       "    Number of features in the training data.\n",
       "\n",
       "n_samples_ : int\n",
       "    Number of samples in the training data.\n",
       "\n",
       "noise_variance_ : float\n",
       "    The estimated noise covariance following the Probabilistic PCA model\n",
       "    from Tipping and Bishop 1999. See \"Pattern Recognition and\n",
       "    Machine Learning\" by C. Bishop, 12.2.1 p. 574 or\n",
       "    http://www.miketipping.com/papers/met-mppca.pdf. It is required to\n",
       "    compute the estimated data covariance and score samples.\n",
       "\n",
       "    Equal to the average of (min(n_features, n_samples) - n_components)\n",
       "    smallest eigenvalues of the covariance matrix of X.\n",
       "\n",
       "See Also\n",
       "--------\n",
       "KernelPCA : Kernel Principal Component Analysis.\n",
       "SparsePCA : Sparse Principal Component Analysis.\n",
       "TruncatedSVD : Dimensionality reduction using truncated SVD.\n",
       "IncrementalPCA : Incremental Principal Component Analysis.\n",
       "\n",
       "References\n",
       "----------\n",
       "For n_components == 'mle', this class uses the method of *Minka, T. P.\n",
       "\"Automatic choice of dimensionality for PCA\". In NIPS, pp. 598-604*\n",
       "\n",
       "Implements the probabilistic PCA model from:\n",
       "Tipping, M. E., and Bishop, C. M. (1999). \"Probabilistic principal\n",
       "component analysis\". Journal of the Royal Statistical Society:\n",
       "Series B (Statistical Methodology), 61(3), 611-622.\n",
       "via the score and score_samples methods.\n",
       "See http://www.miketipping.com/papers/met-mppca.pdf\n",
       "\n",
       "For svd_solver == 'arpack', refer to `scipy.sparse.linalg.svds`.\n",
       "\n",
       "For svd_solver == 'randomized', see:\n",
       "*Halko, N., Martinsson, P. G., and Tropp, J. A. (2011).\n",
       "\"Finding structure with randomness: Probabilistic algorithms for\n",
       "constructing approximate matrix decompositions\".\n",
       "SIAM review, 53(2), 217-288.* and also\n",
       "*Martinsson, P. G., Rokhlin, V., and Tygert, M. (2011).\n",
       "\"A randomized algorithm for the decomposition of matrices\".\n",
       "Applied and Computational Harmonic Analysis, 30(1), 47-68.*\n",
       "\n",
       "Examples\n",
       "--------\n",
       ">>> import numpy as np\n",
       ">>> from sklearn.decomposition import PCA\n",
       ">>> X = np.array([[-1, -1], [-2, -1], [-3, -2], [1, 1], [2, 1], [3, 2]])\n",
       ">>> pca = PCA(n_components=2)\n",
       ">>> pca.fit(X)\n",
       "PCA(n_components=2)\n",
       ">>> print(pca.explained_variance_ratio_)\n",
       "[0.9924... 0.0075...]\n",
       ">>> print(pca.singular_values_)\n",
       "[6.30061... 0.54980...]\n",
       "\n",
       ">>> pca = PCA(n_components=2, svd_solver='full')\n",
       ">>> pca.fit(X)\n",
       "PCA(n_components=2, svd_solver='full')\n",
       ">>> print(pca.explained_variance_ratio_)\n",
       "[0.9924... 0.00755...]\n",
       ">>> print(pca.singular_values_)\n",
       "[6.30061... 0.54980...]\n",
       "\n",
       ">>> pca = PCA(n_components=1, svd_solver='arpack')\n",
       ">>> pca.fit(X)\n",
       "PCA(n_components=1, svd_solver='arpack')\n",
       ">>> print(pca.explained_variance_ratio_)\n",
       "[0.99244...]\n",
       ">>> print(pca.singular_values_)\n",
       "[6.30061...]\n"
      ]
     },
     "metadata": {},
     "output_type": "display_data"
    }
   ],
   "source": [
    "?pca"
   ]
  },
  {
   "cell_type": "code",
   "execution_count": 223,
   "metadata": {
    "collapsed": true,
    "jupyter": {
     "outputs_hidden": true
    }
   },
   "outputs": [
    {
     "data": {
      "text/plain": [
       "\u001b[1;31mInit signature:\u001b[0m\n",
       "\u001b[0mPLSRegression\u001b[0m\u001b[1;33m(\u001b[0m\u001b[1;33m\n",
       "\u001b[0m    \u001b[0mn_components\u001b[0m\u001b[1;33m=\u001b[0m\u001b[1;36m2\u001b[0m\u001b[1;33m,\u001b[0m\u001b[1;33m\n",
       "\u001b[0m    \u001b[0mscale\u001b[0m\u001b[1;33m=\u001b[0m\u001b[1;32mTrue\u001b[0m\u001b[1;33m,\u001b[0m\u001b[1;33m\n",
       "\u001b[0m    \u001b[0mmax_iter\u001b[0m\u001b[1;33m=\u001b[0m\u001b[1;36m500\u001b[0m\u001b[1;33m,\u001b[0m\u001b[1;33m\n",
       "\u001b[0m    \u001b[0mtol\u001b[0m\u001b[1;33m=\u001b[0m\u001b[1;36m1e-06\u001b[0m\u001b[1;33m,\u001b[0m\u001b[1;33m\n",
       "\u001b[0m    \u001b[0mcopy\u001b[0m\u001b[1;33m=\u001b[0m\u001b[1;32mTrue\u001b[0m\u001b[1;33m,\u001b[0m\u001b[1;33m\n",
       "\u001b[0m\u001b[1;33m)\u001b[0m\u001b[1;33m\u001b[0m\u001b[1;33m\u001b[0m\u001b[0m\n",
       "\u001b[1;31mDocstring:\u001b[0m     \n",
       "PLS regression\n",
       "\n",
       "PLSRegression implements the PLS 2 blocks regression known as PLS2 or PLS1\n",
       "in case of one dimensional response.\n",
       "This class inherits from _PLS with mode=\"A\", deflation_mode=\"regression\",\n",
       "norm_y_weights=False and algorithm=\"nipals\".\n",
       "\n",
       "Read more in the :ref:`User Guide <cross_decomposition>`.\n",
       "\n",
       ".. versionadded:: 0.8\n",
       "\n",
       "Parameters\n",
       "----------\n",
       "n_components : int, (default 2)\n",
       "    Number of components to keep.\n",
       "\n",
       "scale : boolean, (default True)\n",
       "    whether to scale the data\n",
       "\n",
       "max_iter : an integer, (default 500)\n",
       "    the maximum number of iterations of the NIPALS inner loop (used\n",
       "    only if algorithm=\"nipals\")\n",
       "\n",
       "tol : non-negative real\n",
       "    Tolerance used in the iterative algorithm default 1e-06.\n",
       "\n",
       "copy : boolean, default True\n",
       "    Whether the deflation should be done on a copy. Let the default\n",
       "    value to True unless you don't care about side effect\n",
       "\n",
       "Attributes\n",
       "----------\n",
       "x_weights_ : array, [p, n_components]\n",
       "    X block weights vectors.\n",
       "\n",
       "y_weights_ : array, [q, n_components]\n",
       "    Y block weights vectors.\n",
       "\n",
       "x_loadings_ : array, [p, n_components]\n",
       "    X block loadings vectors.\n",
       "\n",
       "y_loadings_ : array, [q, n_components]\n",
       "    Y block loadings vectors.\n",
       "\n",
       "x_scores_ : array, [n_samples, n_components]\n",
       "    X scores.\n",
       "\n",
       "y_scores_ : array, [n_samples, n_components]\n",
       "    Y scores.\n",
       "\n",
       "x_rotations_ : array, [p, n_components]\n",
       "    X block to latents rotations.\n",
       "\n",
       "y_rotations_ : array, [q, n_components]\n",
       "    Y block to latents rotations.\n",
       "\n",
       "coef_ : array, [p, q]\n",
       "    The coefficients of the linear model: ``Y = X coef_ + Err``\n",
       "\n",
       "n_iter_ : array-like\n",
       "    Number of iterations of the NIPALS inner loop for each\n",
       "    component.\n",
       "\n",
       "Notes\n",
       "-----\n",
       "Matrices::\n",
       "\n",
       "    T: x_scores_\n",
       "    U: y_scores_\n",
       "    W: x_weights_\n",
       "    C: y_weights_\n",
       "    P: x_loadings_\n",
       "    Q: y_loadings_\n",
       "\n",
       "Are computed such that::\n",
       "\n",
       "    X = T P.T + Err and Y = U Q.T + Err\n",
       "    T[:, k] = Xk W[:, k] for k in range(n_components)\n",
       "    U[:, k] = Yk C[:, k] for k in range(n_components)\n",
       "    x_rotations_ = W (P.T W)^(-1)\n",
       "    y_rotations_ = C (Q.T C)^(-1)\n",
       "\n",
       "where Xk and Yk are residual matrices at iteration k.\n",
       "\n",
       "`Slides explaining\n",
       "PLS <http://www.eigenvector.com/Docs/Wise_pls_properties.pdf>`_\n",
       "\n",
       "\n",
       "For each component k, find weights u, v that optimizes:\n",
       "``max corr(Xk u, Yk v) * std(Xk u) std(Yk u)``, such that ``|u| = 1``\n",
       "\n",
       "Note that it maximizes both the correlations between the scores and the\n",
       "intra-block variances.\n",
       "\n",
       "The residual matrix of X (Xk+1) block is obtained by the deflation on\n",
       "the current X score: x_score.\n",
       "\n",
       "The residual matrix of Y (Yk+1) block is obtained by deflation on the\n",
       "current X score. This performs the PLS regression known as PLS2. This\n",
       "mode is prediction oriented.\n",
       "\n",
       "This implementation provides the same results that 3 PLS packages\n",
       "provided in the R language (R-project):\n",
       "\n",
       "    - \"mixOmics\" with function pls(X, Y, mode = \"regression\")\n",
       "    - \"plspm \" with function plsreg2(X, Y)\n",
       "    - \"pls\" with function oscorespls.fit(X, Y)\n",
       "\n",
       "Examples\n",
       "--------\n",
       ">>> from sklearn.cross_decomposition import PLSRegression\n",
       ">>> X = [[0., 0., 1.], [1.,0.,0.], [2.,2.,2.], [2.,5.,4.]]\n",
       ">>> Y = [[0.1, -0.2], [0.9, 1.1], [6.2, 5.9], [11.9, 12.3]]\n",
       ">>> pls2 = PLSRegression(n_components=2)\n",
       ">>> pls2.fit(X, Y)\n",
       "PLSRegression()\n",
       ">>> Y_pred = pls2.predict(X)\n",
       "\n",
       "References\n",
       "----------\n",
       "\n",
       "Jacob A. Wegelin. A survey of Partial Least Squares (PLS) methods, with\n",
       "emphasis on the two-block case. Technical Report 371, Department of\n",
       "Statistics, University of Washington, Seattle, 2000.\n",
       "\n",
       "In french but still a reference:\n",
       "Tenenhaus, M. (1998). La regression PLS: theorie et pratique. Paris:\n",
       "Editions Technic.\n",
       "\u001b[1;31mFile:\u001b[0m           c:\\users\\bedir\\anaconda3\\lib\\site-packages\\sklearn\\cross_decomposition\\_pls.py\n",
       "\u001b[1;31mType:\u001b[0m           ABCMeta\n",
       "\u001b[1;31mSubclasses:\u001b[0m     \n"
      ]
     },
     "metadata": {},
     "output_type": "display_data"
    }
   ],
   "source": [
    "?PLSRegression"
   ]
  },
  {
   "cell_type": "code",
   "execution_count": 225,
   "metadata": {
    "collapsed": true,
    "jupyter": {
     "outputs_hidden": true
    }
   },
   "outputs": [
    {
     "data": {
      "text/plain": [
       "\u001b[1;31mInit signature:\u001b[0m\n",
       "\u001b[0mPCA\u001b[0m\u001b[1;33m(\u001b[0m\u001b[1;33m\n",
       "\u001b[0m    \u001b[0mn_components\u001b[0m\u001b[1;33m=\u001b[0m\u001b[1;32mNone\u001b[0m\u001b[1;33m,\u001b[0m\u001b[1;33m\n",
       "\u001b[0m    \u001b[0mcopy\u001b[0m\u001b[1;33m=\u001b[0m\u001b[1;32mTrue\u001b[0m\u001b[1;33m,\u001b[0m\u001b[1;33m\n",
       "\u001b[0m    \u001b[0mwhiten\u001b[0m\u001b[1;33m=\u001b[0m\u001b[1;32mFalse\u001b[0m\u001b[1;33m,\u001b[0m\u001b[1;33m\n",
       "\u001b[0m    \u001b[0msvd_solver\u001b[0m\u001b[1;33m=\u001b[0m\u001b[1;34m'auto'\u001b[0m\u001b[1;33m,\u001b[0m\u001b[1;33m\n",
       "\u001b[0m    \u001b[0mtol\u001b[0m\u001b[1;33m=\u001b[0m\u001b[1;36m0.0\u001b[0m\u001b[1;33m,\u001b[0m\u001b[1;33m\n",
       "\u001b[0m    \u001b[0miterated_power\u001b[0m\u001b[1;33m=\u001b[0m\u001b[1;34m'auto'\u001b[0m\u001b[1;33m,\u001b[0m\u001b[1;33m\n",
       "\u001b[0m    \u001b[0mrandom_state\u001b[0m\u001b[1;33m=\u001b[0m\u001b[1;32mNone\u001b[0m\u001b[1;33m,\u001b[0m\u001b[1;33m\n",
       "\u001b[0m\u001b[1;33m)\u001b[0m\u001b[1;33m\u001b[0m\u001b[1;33m\u001b[0m\u001b[0m\n",
       "\u001b[1;31mDocstring:\u001b[0m     \n",
       "Principal component analysis (PCA).\n",
       "\n",
       "Linear dimensionality reduction using Singular Value Decomposition of the\n",
       "data to project it to a lower dimensional space. The input data is centered\n",
       "but not scaled for each feature before applying the SVD.\n",
       "\n",
       "It uses the LAPACK implementation of the full SVD or a randomized truncated\n",
       "SVD by the method of Halko et al. 2009, depending on the shape of the input\n",
       "data and the number of components to extract.\n",
       "\n",
       "It can also use the scipy.sparse.linalg ARPACK implementation of the\n",
       "truncated SVD.\n",
       "\n",
       "Notice that this class does not support sparse input. See\n",
       ":class:`TruncatedSVD` for an alternative with sparse data.\n",
       "\n",
       "Read more in the :ref:`User Guide <PCA>`.\n",
       "\n",
       "Parameters\n",
       "----------\n",
       "n_components : int, float, None or str\n",
       "    Number of components to keep.\n",
       "    if n_components is not set all components are kept::\n",
       "\n",
       "        n_components == min(n_samples, n_features)\n",
       "\n",
       "    If ``n_components == 'mle'`` and ``svd_solver == 'full'``, Minka's\n",
       "    MLE is used to guess the dimension. Use of ``n_components == 'mle'``\n",
       "    will interpret ``svd_solver == 'auto'`` as ``svd_solver == 'full'``.\n",
       "\n",
       "    If ``0 < n_components < 1`` and ``svd_solver == 'full'``, select the\n",
       "    number of components such that the amount of variance that needs to be\n",
       "    explained is greater than the percentage specified by n_components.\n",
       "\n",
       "    If ``svd_solver == 'arpack'``, the number of components must be\n",
       "    strictly less than the minimum of n_features and n_samples.\n",
       "\n",
       "    Hence, the None case results in::\n",
       "\n",
       "        n_components == min(n_samples, n_features) - 1\n",
       "\n",
       "copy : bool, default=True\n",
       "    If False, data passed to fit are overwritten and running\n",
       "    fit(X).transform(X) will not yield the expected results,\n",
       "    use fit_transform(X) instead.\n",
       "\n",
       "whiten : bool, optional (default False)\n",
       "    When True (False by default) the `components_` vectors are multiplied\n",
       "    by the square root of n_samples and then divided by the singular values\n",
       "    to ensure uncorrelated outputs with unit component-wise variances.\n",
       "\n",
       "    Whitening will remove some information from the transformed signal\n",
       "    (the relative variance scales of the components) but can sometime\n",
       "    improve the predictive accuracy of the downstream estimators by\n",
       "    making their data respect some hard-wired assumptions.\n",
       "\n",
       "svd_solver : str {'auto', 'full', 'arpack', 'randomized'}\n",
       "    If auto :\n",
       "        The solver is selected by a default policy based on `X.shape` and\n",
       "        `n_components`: if the input data is larger than 500x500 and the\n",
       "        number of components to extract is lower than 80% of the smallest\n",
       "        dimension of the data, then the more efficient 'randomized'\n",
       "        method is enabled. Otherwise the exact full SVD is computed and\n",
       "        optionally truncated afterwards.\n",
       "    If full :\n",
       "        run exact full SVD calling the standard LAPACK solver via\n",
       "        `scipy.linalg.svd` and select the components by postprocessing\n",
       "    If arpack :\n",
       "        run SVD truncated to n_components calling ARPACK solver via\n",
       "        `scipy.sparse.linalg.svds`. It requires strictly\n",
       "        0 < n_components < min(X.shape)\n",
       "    If randomized :\n",
       "        run randomized SVD by the method of Halko et al.\n",
       "\n",
       "    .. versionadded:: 0.18.0\n",
       "\n",
       "tol : float >= 0, optional (default .0)\n",
       "    Tolerance for singular values computed by svd_solver == 'arpack'.\n",
       "\n",
       "    .. versionadded:: 0.18.0\n",
       "\n",
       "iterated_power : int >= 0, or 'auto', (default 'auto')\n",
       "    Number of iterations for the power method computed by\n",
       "    svd_solver == 'randomized'.\n",
       "\n",
       "    .. versionadded:: 0.18.0\n",
       "\n",
       "random_state : int, RandomState instance or None, optional (default None)\n",
       "    If int, random_state is the seed used by the random number generator;\n",
       "    If RandomState instance, random_state is the random number generator;\n",
       "    If None, the random number generator is the RandomState instance used\n",
       "    by `np.random`. Used when ``svd_solver`` == 'arpack' or 'randomized'.\n",
       "\n",
       "    .. versionadded:: 0.18.0\n",
       "\n",
       "Attributes\n",
       "----------\n",
       "components_ : array, shape (n_components, n_features)\n",
       "    Principal axes in feature space, representing the directions of\n",
       "    maximum variance in the data. The components are sorted by\n",
       "    ``explained_variance_``.\n",
       "\n",
       "explained_variance_ : array, shape (n_components,)\n",
       "    The amount of variance explained by each of the selected components.\n",
       "\n",
       "    Equal to n_components largest eigenvalues\n",
       "    of the covariance matrix of X.\n",
       "\n",
       "    .. versionadded:: 0.18\n",
       "\n",
       "explained_variance_ratio_ : array, shape (n_components,)\n",
       "    Percentage of variance explained by each of the selected components.\n",
       "\n",
       "    If ``n_components`` is not set then all components are stored and the\n",
       "    sum of the ratios is equal to 1.0.\n",
       "\n",
       "singular_values_ : array, shape (n_components,)\n",
       "    The singular values corresponding to each of the selected components.\n",
       "    The singular values are equal to the 2-norms of the ``n_components``\n",
       "    variables in the lower-dimensional space.\n",
       "\n",
       "    .. versionadded:: 0.19\n",
       "\n",
       "mean_ : array, shape (n_features,)\n",
       "    Per-feature empirical mean, estimated from the training set.\n",
       "\n",
       "    Equal to `X.mean(axis=0)`.\n",
       "\n",
       "n_components_ : int\n",
       "    The estimated number of components. When n_components is set\n",
       "    to 'mle' or a number between 0 and 1 (with svd_solver == 'full') this\n",
       "    number is estimated from input data. Otherwise it equals the parameter\n",
       "    n_components, or the lesser value of n_features and n_samples\n",
       "    if n_components is None.\n",
       "\n",
       "n_features_ : int\n",
       "    Number of features in the training data.\n",
       "\n",
       "n_samples_ : int\n",
       "    Number of samples in the training data.\n",
       "\n",
       "noise_variance_ : float\n",
       "    The estimated noise covariance following the Probabilistic PCA model\n",
       "    from Tipping and Bishop 1999. See \"Pattern Recognition and\n",
       "    Machine Learning\" by C. Bishop, 12.2.1 p. 574 or\n",
       "    http://www.miketipping.com/papers/met-mppca.pdf. It is required to\n",
       "    compute the estimated data covariance and score samples.\n",
       "\n",
       "    Equal to the average of (min(n_features, n_samples) - n_components)\n",
       "    smallest eigenvalues of the covariance matrix of X.\n",
       "\n",
       "See Also\n",
       "--------\n",
       "KernelPCA : Kernel Principal Component Analysis.\n",
       "SparsePCA : Sparse Principal Component Analysis.\n",
       "TruncatedSVD : Dimensionality reduction using truncated SVD.\n",
       "IncrementalPCA : Incremental Principal Component Analysis.\n",
       "\n",
       "References\n",
       "----------\n",
       "For n_components == 'mle', this class uses the method of *Minka, T. P.\n",
       "\"Automatic choice of dimensionality for PCA\". In NIPS, pp. 598-604*\n",
       "\n",
       "Implements the probabilistic PCA model from:\n",
       "Tipping, M. E., and Bishop, C. M. (1999). \"Probabilistic principal\n",
       "component analysis\". Journal of the Royal Statistical Society:\n",
       "Series B (Statistical Methodology), 61(3), 611-622.\n",
       "via the score and score_samples methods.\n",
       "See http://www.miketipping.com/papers/met-mppca.pdf\n",
       "\n",
       "For svd_solver == 'arpack', refer to `scipy.sparse.linalg.svds`.\n",
       "\n",
       "For svd_solver == 'randomized', see:\n",
       "*Halko, N., Martinsson, P. G., and Tropp, J. A. (2011).\n",
       "\"Finding structure with randomness: Probabilistic algorithms for\n",
       "constructing approximate matrix decompositions\".\n",
       "SIAM review, 53(2), 217-288.* and also\n",
       "*Martinsson, P. G., Rokhlin, V., and Tygert, M. (2011).\n",
       "\"A randomized algorithm for the decomposition of matrices\".\n",
       "Applied and Computational Harmonic Analysis, 30(1), 47-68.*\n",
       "\n",
       "Examples\n",
       "--------\n",
       ">>> import numpy as np\n",
       ">>> from sklearn.decomposition import PCA\n",
       ">>> X = np.array([[-1, -1], [-2, -1], [-3, -2], [1, 1], [2, 1], [3, 2]])\n",
       ">>> pca = PCA(n_components=2)\n",
       ">>> pca.fit(X)\n",
       "PCA(n_components=2)\n",
       ">>> print(pca.explained_variance_ratio_)\n",
       "[0.9924... 0.0075...]\n",
       ">>> print(pca.singular_values_)\n",
       "[6.30061... 0.54980...]\n",
       "\n",
       ">>> pca = PCA(n_components=2, svd_solver='full')\n",
       ">>> pca.fit(X)\n",
       "PCA(n_components=2, svd_solver='full')\n",
       ">>> print(pca.explained_variance_ratio_)\n",
       "[0.9924... 0.00755...]\n",
       ">>> print(pca.singular_values_)\n",
       "[6.30061... 0.54980...]\n",
       "\n",
       ">>> pca = PCA(n_components=1, svd_solver='arpack')\n",
       ">>> pca.fit(X)\n",
       "PCA(n_components=1, svd_solver='arpack')\n",
       ">>> print(pca.explained_variance_ratio_)\n",
       "[0.99244...]\n",
       ">>> print(pca.singular_values_)\n",
       "[6.30061...]\n",
       "\u001b[1;31mFile:\u001b[0m           c:\\users\\bedir\\anaconda3\\lib\\site-packages\\sklearn\\decomposition\\_pca.py\n",
       "\u001b[1;31mType:\u001b[0m           ABCMeta\n",
       "\u001b[1;31mSubclasses:\u001b[0m     \n"
      ]
     },
     "metadata": {},
     "output_type": "display_data"
    }
   ],
   "source": [
    "?PCA"
   ]
  },
  {
   "cell_type": "code",
   "execution_count": null,
   "metadata": {},
   "outputs": [],
   "source": []
  },
  {
   "cell_type": "code",
   "execution_count": null,
   "metadata": {},
   "outputs": [],
   "source": []
  },
  {
   "cell_type": "markdown",
   "metadata": {},
   "source": [
    "# Ridge Regression"
   ]
  },
  {
   "cell_type": "code",
   "execution_count": 59,
   "metadata": {},
   "outputs": [],
   "source": [
    "import pandas as pd \n",
    "hit = pd.read_csv(\"Hitters.csv\")\n",
    "df = hit.copy()\n",
    "df=df.dropna()\n",
    "y=df[\"Salary\"]\n",
    "dm=pd.get_dummies(df[['League','Division','NewLeague']])\n",
    "df=df.drop(['Salary','League','Division','NewLeague'],axis=1).astype('float64')\n",
    "df=pd.concat([df,dm[['League_N', 'Division_W', 'NewLeague_N']]], axis=1)\n",
    "X=df.copy()"
   ]
  },
  {
   "cell_type": "code",
   "execution_count": 60,
   "metadata": {},
   "outputs": [],
   "source": [
    "from sklearn.model_selection import train_test_split, cross_val_score, cross_val_predict"
   ]
  },
  {
   "cell_type": "code",
   "execution_count": 61,
   "metadata": {},
   "outputs": [],
   "source": [
    "X_train,X_test,y_train,y_test=train_test_split(X,y,\n",
    "                                              test_size=0.25,\n",
    "                                              random_state=42)"
   ]
  },
  {
   "cell_type": "code",
   "execution_count": 63,
   "metadata": {},
   "outputs": [],
   "source": [
    "from sklearn.linear_model import Ridge\n",
    "ridge_model = Ridge(alpha = 0.1).fit(X_train, y_train)"
   ]
  },
  {
   "cell_type": "code",
   "execution_count": 64,
   "metadata": {},
   "outputs": [
    {
     "data": {
      "text/plain": [
       "Ridge(alpha=0.1, copy_X=True, fit_intercept=True, max_iter=None,\n",
       "      normalize=False, random_state=None, solver='auto', tol=0.001)"
      ]
     },
     "execution_count": 64,
     "metadata": {},
     "output_type": "execute_result"
    }
   ],
   "source": [
    "ridge_model"
   ]
  },
  {
   "cell_type": "code",
   "execution_count": 66,
   "metadata": {},
   "outputs": [
    {
     "data": {
      "text/plain": [
       "array([ -1.77435737,   8.80240528,   7.29595605,  -3.33257639,\n",
       "        -2.08316481,   5.42531283,   7.58514945,  -0.13752764,\n",
       "        -0.20779701,  -0.60361067,   1.7927957 ,   0.72866408,\n",
       "        -0.68710375,   0.26153564,   0.26888652,  -0.52674278,\n",
       "       112.14640272, -99.80997876, -48.07152768])"
      ]
     },
     "execution_count": 66,
     "metadata": {},
     "output_type": "execute_result"
    }
   ],
   "source": [
    "ridge_model.coef_"
   ]
  },
  {
   "cell_type": "code",
   "execution_count": 85,
   "metadata": {
    "collapsed": true,
    "jupyter": {
     "outputs_hidden": true
    }
   },
   "outputs": [
    {
     "data": {
      "text/plain": [
       "array([5.00000000e+09, 3.78231664e+09, 2.86118383e+09, 2.16438064e+09,\n",
       "       1.63727458e+09, 1.23853818e+09, 9.36908711e+08, 7.08737081e+08,\n",
       "       5.36133611e+08, 4.05565415e+08, 3.06795364e+08, 2.32079442e+08,\n",
       "       1.75559587e+08, 1.32804389e+08, 1.00461650e+08, 7.59955541e+07,\n",
       "       5.74878498e+07, 4.34874501e+07, 3.28966612e+07, 2.48851178e+07,\n",
       "       1.88246790e+07, 1.42401793e+07, 1.07721735e+07, 8.14875417e+06,\n",
       "       6.16423370e+06, 4.66301673e+06, 3.52740116e+06, 2.66834962e+06,\n",
       "       2.01850863e+06, 1.52692775e+06, 1.15506485e+06, 8.73764200e+05,\n",
       "       6.60970574e+05, 5.00000000e+05, 3.78231664e+05, 2.86118383e+05,\n",
       "       2.16438064e+05, 1.63727458e+05, 1.23853818e+05, 9.36908711e+04,\n",
       "       7.08737081e+04, 5.36133611e+04, 4.05565415e+04, 3.06795364e+04,\n",
       "       2.32079442e+04, 1.75559587e+04, 1.32804389e+04, 1.00461650e+04,\n",
       "       7.59955541e+03, 5.74878498e+03, 4.34874501e+03, 3.28966612e+03,\n",
       "       2.48851178e+03, 1.88246790e+03, 1.42401793e+03, 1.07721735e+03,\n",
       "       8.14875417e+02, 6.16423370e+02, 4.66301673e+02, 3.52740116e+02,\n",
       "       2.66834962e+02, 2.01850863e+02, 1.52692775e+02, 1.15506485e+02,\n",
       "       8.73764200e+01, 6.60970574e+01, 5.00000000e+01, 3.78231664e+01,\n",
       "       2.86118383e+01, 2.16438064e+01, 1.63727458e+01, 1.23853818e+01,\n",
       "       9.36908711e+00, 7.08737081e+00, 5.36133611e+00, 4.05565415e+00,\n",
       "       3.06795364e+00, 2.32079442e+00, 1.75559587e+00, 1.32804389e+00,\n",
       "       1.00461650e+00, 7.59955541e-01, 5.74878498e-01, 4.34874501e-01,\n",
       "       3.28966612e-01, 2.48851178e-01, 1.88246790e-01, 1.42401793e-01,\n",
       "       1.07721735e-01, 8.14875417e-02, 6.16423370e-02, 4.66301673e-02,\n",
       "       3.52740116e-02, 2.66834962e-02, 2.01850863e-02, 1.52692775e-02,\n",
       "       1.15506485e-02, 8.73764200e-03, 6.60970574e-03, 5.00000000e-03])"
      ]
     },
     "execution_count": 85,
     "metadata": {},
     "output_type": "execute_result"
    }
   ],
   "source": [
    "import numpy as np\n",
    "lambdalar=10**np.linspace(10,-2,100)*0.5\n",
    "lambdalar"
   ]
  },
  {
   "cell_type": "code",
   "execution_count": 94,
   "metadata": {},
   "outputs": [
    {
     "data": {
      "image/png": "[encoded data removed]",
      "text/plain": [
       "<Figure size 432x288 with 1 Axes>"
      ]
     },
     "metadata": {
      "needs_background": "light"
     },
     "output_type": "display_data"
    }
   ],
   "source": [
    "katsayilar=[]\n",
    "for i in lambdalar:\n",
    "    ridge_model=Ridge(alpha=i).fit(X_train,y_train)\n",
    "    katsayilar.append(ridge_model.coef_)\n",
    "import matplotlib.pyplot as plt\n",
    "ax=plt.gca()\n",
    "ax.plot(lambdalar, katsayilar)\n",
    "ax.set_xscale('log')\n",
    "plt.xlabel('Lambda(Alpha) Değerleri')\n",
    "plt.ylabel('Katsayılar/Ağırlıklar')\n",
    "plt.title('Düzenlileştirmenin Bir Fonksiyonu Olarak Ridge Katsayıları');"
   ]
  },
  {
   "cell_type": "markdown",
   "metadata": {},
   "source": [
    "## model tuning"
   ]
  },
  {
   "cell_type": "code",
   "execution_count": 100,
   "metadata": {},
   "outputs": [
    {
     "data": {
      "text/plain": [
       "RidgeCV(alphas=array([5.00000000e+09, 3.78231664e+09, 2.86118383e+09, 2.16438064e+09,\n",
       "       1.63727458e+09, 1.23853818e+09, 9.36908711e+08, 7.08737081e+08,\n",
       "       5.36133611e+08, 4.05565415e+08, 3.06795364e+08, 2.32079442e+08,\n",
       "       1.75559587e+08, 1.32804389e+08, 1.00461650e+08, 7.59955541e+07,\n",
       "       5.74878498e+07, 4.34874501e+07, 3.28966612e+07, 2.48851178e+07,\n",
       "       1.88246790e+07, 1.42401793e+0...\n",
       "       3.28966612e-01, 2.48851178e-01, 1.88246790e-01, 1.42401793e-01,\n",
       "       1.07721735e-01, 8.14875417e-02, 6.16423370e-02, 4.66301673e-02,\n",
       "       3.52740116e-02, 2.66834962e-02, 2.01850863e-02, 1.52692775e-02,\n",
       "       1.15506485e-02, 8.73764200e-03, 6.60970574e-03, 5.00000000e-03]),\n",
       "        cv=None, fit_intercept=True, gcv_mode=None, normalize=True,\n",
       "        scoring='neg_mean_squared_error', store_cv_values=False)"
      ]
     },
     "execution_count": 100,
     "metadata": {},
     "output_type": "execute_result"
    }
   ],
   "source": [
    "from sklearn.linear_model import RidgeCV\n",
    "ridge_cv=RidgeCV(alphas=lambdalar,\n",
    "                scoring=\"neg_mean_squared_error\",\n",
    "                normalize=True)\n",
    "ridge_cv.fit(X_train,y_train)"
   ]
  },
  {
   "cell_type": "code",
   "execution_count": 101,
   "metadata": {},
   "outputs": [
    {
     "data": {
      "text/plain": [
       "0.7599555414764666"
      ]
     },
     "execution_count": 101,
     "metadata": {},
     "output_type": "execute_result"
    }
   ],
   "source": [
    "ridge_cv.alpha_"
   ]
  },
  {
   "cell_type": "code",
   "execution_count": 102,
   "metadata": {},
   "outputs": [],
   "source": [
    "ridge_tuned=Ridge(alpha=ridge_cv.alpha_).fit(X_train,y_train)"
   ]
  },
  {
   "cell_type": "code",
   "execution_count": 108,
   "metadata": {},
   "outputs": [
    {
     "data": {
      "text/plain": [
       "356.8583047271521"
      ]
     },
     "execution_count": 108,
     "metadata": {},
     "output_type": "execute_result"
    }
   ],
   "source": [
    "from sklearn.metrics import mean_squared_error\n",
    "np.sqrt(mean_squared_error(y_test,ridge_tuned.predict(X_test)))"
   ]
  },
  {
   "cell_type": "code",
   "execution_count": null,
   "metadata": {},
   "outputs": [],
   "source": []
  },
  {
   "cell_type": "code",
   "execution_count": null,
   "metadata": {},
   "outputs": [],
   "source": []
  },
  {
   "cell_type": "markdown",
   "metadata": {},
   "source": [
    "# Losso model"
   ]
  },
  {
   "cell_type": "code",
   "execution_count": 110,
   "metadata": {},
   "outputs": [],
   "source": [
    "import pandas as pd \n",
    "hit = pd.read_csv(\"Hitters.csv\")\n",
    "df = hit.copy()\n",
    "df=df.dropna()\n",
    "y=df[\"Salary\"]\n",
    "dm=pd.get_dummies(df[['League','Division','NewLeague']])\n",
    "df=df.drop(['Salary','League','Division','NewLeague'],axis=1).astype('float64')\n",
    "df=pd.concat([df,dm[['League_N', 'Division_W', 'NewLeague_N']]], axis=1)\n",
    "X=df.copy()"
   ]
  },
  {
   "cell_type": "code",
   "execution_count": 131,
   "metadata": {
    "collapsed": true,
    "jupyter": {
     "outputs_hidden": true
    }
   },
   "outputs": [
    {
     "data": {
      "text/plain": [
       "LassoCV(alphas=None, copy_X=True, cv=None, eps=0.001, fit_intercept=True,\n",
       "        max_iter=1000, n_alphas=100, n_jobs=None, normalize=False,\n",
       "        positive=False, precompute='auto', random_state=None,\n",
       "        selection='cyclic', tol=0.0001, verbose=False)"
      ]
     },
     "execution_count": 131,
     "metadata": {},
     "output_type": "execute_result"
    }
   ],
   "source": [
    "LassoCV()"
   ]
  },
  {
   "cell_type": "code",
   "execution_count": 189,
   "metadata": {},
   "outputs": [],
   "source": [
    "from sklearn.linear_model import Lasso,LassoCV\n",
    "lambdalar=10**np.linspace(10,-2,100)*0.5\n",
    "lasso_cv=LassoCV(alphas=lambdalar,\n",
    "                max_iter=10000,\n",
    "                 cv=10,\n",
    "                normalize=True)"
   ]
  },
  {
   "cell_type": "code",
   "execution_count": 184,
   "metadata": {},
   "outputs": [
    {
     "data": {
      "text/plain": [
       "LassoCV(alphas=array([5.00000000e+09, 3.78231664e+09, 2.86118383e+09, 2.16438064e+09,\n",
       "       1.63727458e+09, 1.23853818e+09, 9.36908711e+08, 7.08737081e+08,\n",
       "       5.36133611e+08, 4.05565415e+08, 3.06795364e+08, 2.32079442e+08,\n",
       "       1.75559587e+08, 1.32804389e+08, 1.00461650e+08, 7.59955541e+07,\n",
       "       5.74878498e+07, 4.34874501e+07, 3.28966612e+07, 2.48851178e+07,\n",
       "       1.88246790e+07, 1.42401793e+0...\n",
       "       1.07721735e-01, 8.14875417e-02, 6.16423370e-02, 4.66301673e-02,\n",
       "       3.52740116e-02, 2.66834962e-02, 2.01850863e-02, 1.52692775e-02,\n",
       "       1.15506485e-02, 8.73764200e-03, 6.60970574e-03, 5.00000000e-03]),\n",
       "        copy_X=True, cv=20, eps=0.001, fit_intercept=True, max_iter=10000,\n",
       "        n_alphas=100, n_jobs=None, normalize=True, positive=False,\n",
       "        precompute='auto', random_state=None, selection='cyclic', tol=0.0001,\n",
       "        verbose=False)"
      ]
     },
     "execution_count": 184,
     "metadata": {},
     "output_type": "execute_result"
    }
   ],
   "source": [
    "lasso_cv.fit(X_train,y_train)"
   ]
  },
  {
   "cell_type": "code",
   "execution_count": 185,
   "metadata": {},
   "outputs": [
    {
     "data": {
      "text/plain": [
       "0.3289666123287841"
      ]
     },
     "execution_count": 185,
     "metadata": {},
     "output_type": "execute_result"
    }
   ],
   "source": [
    "lasso_cv.alpha_"
   ]
  },
  {
   "cell_type": "code",
   "execution_count": 186,
   "metadata": {},
   "outputs": [
    {
     "name": "stderr",
     "output_type": "stream",
     "text": [
      "C:\\Users\\bedir\\anaconda3\\lib\\site-packages\\sklearn\\linear_model\\_coordinate_descent.py:476: ConvergenceWarning: Objective did not converge. You might want to increase the number of iterations. Duality gap: 8252116.626715349, tolerance: 3898.686956380658\n",
      "  positive)\n"
     ]
    }
   ],
   "source": [
    "lasso_tuned=Lasso(alpha=lasso_cv.alpha_).fit(X_train,y_train)"
   ]
  },
  {
   "cell_type": "code",
   "execution_count": 187,
   "metadata": {},
   "outputs": [],
   "source": [
    "y_pred=lasso_tuned.predict(X_test)"
   ]
  },
  {
   "cell_type": "code",
   "execution_count": 188,
   "metadata": {},
   "outputs": [
    {
     "data": {
      "text/plain": [
       "356.5725294630476"
      ]
     },
     "execution_count": 188,
     "metadata": {},
     "output_type": "execute_result"
    }
   ],
   "source": [
    "np.sqrt(mean_squared_error(y_test,y_pred))"
   ]
  },
  {
   "cell_type": "code",
   "execution_count": null,
   "metadata": {},
   "outputs": [],
   "source": []
  },
  {
   "cell_type": "code",
   "execution_count": null,
   "metadata": {},
   "outputs": [],
   "source": []
  },
  {
   "cell_type": "code",
   "execution_count": null,
   "metadata": {},
   "outputs": [],
   "source": []
  },
  {
   "cell_type": "code",
   "execution_count": null,
   "metadata": {},
   "outputs": [],
   "source": []
  },
  {
   "cell_type": "markdown",
   "metadata": {},
   "source": [
    "# Doğrusal Olmayan Regreson Modelleri"
   ]
  },
  {
   "cell_type": "code",
   "execution_count": 2,
   "metadata": {},
   "outputs": [],
   "source": [
    "import numpy as np\n",
    "import pandas as pd \n",
    "from sklearn.model_selection import train_test_split, GridSearchCV,cross_val_score\n",
    "from sklearn.metrics import mean_squared_error, r2_score\n",
    "import matplotlib.pyplot as plt\n",
    "from sklearn.preprocessing import scale \n",
    "from sklearn import model_selection\n",
    "from sklearn.tree import DecisionTreeRegressor, DecisionTreeClassifier\n",
    "from sklearn.neighbors import KNeighborsRegressor\n",
    "from sklearn.ensemble import BaggingRegressor\n",
    "\n",
    "from warnings import filterwarnings\n",
    "filterwarnings('ignore')"
   ]
  },
  {
   "cell_type": "markdown",
   "metadata": {},
   "source": [
    "## KNN"
   ]
  },
  {
   "cell_type": "code",
   "execution_count": 6,
   "metadata": {},
   "outputs": [],
   "source": [
    "hit = pd.read_csv(\"Hitters.csv\")\n",
    "df = hit.copy()\n",
    "df = df.dropna()\n",
    "dms = pd.get_dummies(df[['League', 'Division', 'NewLeague']])\n",
    "y = df[\"Salary\"]\n",
    "X_ = df.drop(['Salary', 'League', 'Division', 'NewLeague'], axis=1).astype('float64')\n",
    "X = pd.concat([X_, dms[['League_N', 'Division_W', 'NewLeague_N']]], axis=1)\n",
    "X_train, X_test, y_train, y_test = train_test_split(X, y, \n",
    "                                                    test_size=0.25, \n",
    "                                                    random_state=42)"
   ]
  },
  {
   "cell_type": "code",
   "execution_count": 7,
   "metadata": {},
   "outputs": [
    {
     "data": {
      "text/plain": [
       "GridSearchCV(cv=10, error_score=nan,\n",
       "             estimator=KNeighborsRegressor(algorithm='auto', leaf_size=30,\n",
       "                                           metric='minkowski',\n",
       "                                           metric_params=None, n_jobs=None,\n",
       "                                           n_neighbors=5, p=2,\n",
       "                                           weights='uniform'),\n",
       "             iid='deprecated', n_jobs=None,\n",
       "             param_grid={'n_neighbors': array([ 1,  2,  3,  4,  5,  6,  7,  8,  9, 10, 11, 12, 13, 14, 15, 16, 17,\n",
       "       18, 19, 20, 21, 22, 23, 24, 25, 26, 27, 28, 29])},\n",
       "             pre_dispatch='2*n_jobs', refit=True, return_train_score=False,\n",
       "             scoring=None, verbose=0)"
      ]
     },
     "execution_count": 7,
     "metadata": {},
     "output_type": "execute_result"
    }
   ],
   "source": [
    "from sklearn.neighbors import KNeighborsRegressor\n",
    "knn_params={'n_neighbors':np.arange(1,30,1)}\n",
    "knn=KNeighborsRegressor()\n",
    "knn_cv_model=GridSearchCV(knn,knn_params,cv=10)\n",
    "knn_cv_model.fit(X_train,y_train)"
   ]
  },
  {
   "cell_type": "code",
   "execution_count": 8,
   "metadata": {},
   "outputs": [
    {
     "data": {
      "text/plain": [
       "{'n_neighbors': 8}"
      ]
     },
     "execution_count": 8,
     "metadata": {},
     "output_type": "execute_result"
    }
   ],
   "source": [
    "knn_cv_model.best_params_"
   ]
  },
  {
   "cell_type": "code",
   "execution_count": 9,
   "metadata": {},
   "outputs": [],
   "source": [
    "knn_tuned=KNeighborsRegressor(n_neighbors=knn_cv_model.best_params_['n_neighbors'])"
   ]
  },
  {
   "cell_type": "code",
   "execution_count": 10,
   "metadata": {},
   "outputs": [
    {
     "data": {
      "text/plain": [
       "KNeighborsRegressor(algorithm='auto', leaf_size=30, metric='minkowski',\n",
       "                    metric_params=None, n_jobs=None, n_neighbors=8, p=2,\n",
       "                    weights='uniform')"
      ]
     },
     "execution_count": 10,
     "metadata": {},
     "output_type": "execute_result"
    }
   ],
   "source": [
    "knn_tuned.fit(X_train,y_train)"
   ]
  },
  {
   "cell_type": "code",
   "execution_count": 12,
   "metadata": {},
   "outputs": [
    {
     "data": {
      "text/plain": [
       "413.7094731463598"
      ]
     },
     "execution_count": 12,
     "metadata": {},
     "output_type": "execute_result"
    }
   ],
   "source": [
    "y_pred=knn_tuned.predict(X_test)\n",
    "from sklearn.metrics import mean_squared_error \n",
    "np.sqrt(mean_squared_error(y_pred,y_test))"
   ]
  },
  {
   "cell_type": "code",
   "execution_count": null,
   "metadata": {},
   "outputs": [],
   "source": []
  },
  {
   "cell_type": "markdown",
   "metadata": {},
   "source": [
    "## Doğrusal SVR"
   ]
  },
  {
   "cell_type": "code",
   "execution_count": 4,
   "metadata": {},
   "outputs": [],
   "source": [
    "hit = pd.read_csv(\"Hitters.csv\")\n",
    "df = hit.copy()\n",
    "df = df.dropna()\n",
    "dms=pd.get_dummies(df[['League', 'Division', 'NewLeague']])\n",
    "y=df[\"Salary\"]\n",
    "X_=df.drop(['Salary', 'League', 'Division', 'NewLeague'], axis=1).astype('float64')\n",
    "X=pd.concat([X_,dms[['League_N', 'Division_W', 'NewLeague_N']]], axis=1)\n",
    "X_train, X_test, y_train, y_test = train_test_split(X, y, \n",
    "                                                    test_size=0.25, \n",
    "                                                    random_state=42)"
   ]
  },
  {
   "cell_type": "code",
   "execution_count": 5,
   "metadata": {},
   "outputs": [],
   "source": [
    "X_train = pd.DataFrame(X_train[\"Hits\"]) # bağımlı değişkenimi hala aynı, salert\n",
    "X_test = pd.DataFrame(X_test[\"Hits\"])# bağımsız değişkenimizi Hits olarak seçtik"
   ]
  },
  {
   "cell_type": "code",
   "execution_count": 6,
   "metadata": {},
   "outputs": [],
   "source": [
    "from sklearn.svm import SVR\n",
    "from sklearn.model_selection import GridSearchCV"
   ]
  },
  {
   "cell_type": "code",
   "execution_count": 11,
   "metadata": {},
   "outputs": [
    {
     "data": {
      "text/plain": [
       "GridSearchCV(cv=10, error_score=nan,\n",
       "             estimator=SVR(C=1.0, cache_size=200, coef0=0.0, degree=3,\n",
       "                           epsilon=0.1, gamma='scale', kernel='linear',\n",
       "                           max_iter=-1, shrinking=True, tol=0.001,\n",
       "                           verbose=False),\n",
       "             iid='deprecated', n_jobs=None,\n",
       "             param_grid={'C': array([0.1, 0.5, 0.9, 1.3, 1.7])},\n",
       "             pre_dispatch='2*n_jobs', refit=True, return_train_score=False,\n",
       "             scoring=None, verbose=0)"
      ]
     },
     "execution_count": 11,
     "metadata": {},
     "output_type": "execute_result"
    }
   ],
   "source": [
    "svr_params={\"C\":np.arange(0.1,2,0.4)}\n",
    "svr_model=SVR(\"linear\").fit(X_train,y_train)\n",
    "svr_cv_model=GridSearchCV(svr_model,svr_params,cv=10)\n",
    "svr_cv_model.fit(X_train,y_train)"
   ]
  },
  {
   "cell_type": "code",
   "execution_count": 12,
   "metadata": {},
   "outputs": [
    {
     "data": {
      "text/plain": [
       "{'C': 0.1}"
      ]
     },
     "execution_count": 12,
     "metadata": {},
     "output_type": "execute_result"
    }
   ],
   "source": [
    "svr_cv_model.best_params_"
   ]
  },
  {
   "cell_type": "code",
   "execution_count": 14,
   "metadata": {},
   "outputs": [],
   "source": [
    "svr_tuned=SVR(\"linear\",C=0.1).fit(X_train, y_train)"
   ]
  },
  {
   "cell_type": "code",
   "execution_count": 16,
   "metadata": {},
   "outputs": [],
   "source": [
    "y_pred = svr_tuned.predict(X_test)"
   ]
  },
  {
   "cell_type": "code",
   "execution_count": 17,
   "metadata": {},
   "outputs": [
    {
     "data": {
      "text/plain": [
       "458.198966781116"
      ]
     },
     "execution_count": 17,
     "metadata": {},
     "output_type": "execute_result"
    }
   ],
   "source": [
    "np.sqrt(mean_squared_error(y_test, y_pred))"
   ]
  },
  {
   "cell_type": "code",
   "execution_count": null,
   "metadata": {},
   "outputs": [],
   "source": []
  },
  {
   "cell_type": "markdown",
   "metadata": {},
   "source": [
    "# Doğrusal Olmayan SVR"
   ]
  },
  {
   "cell_type": "code",
   "execution_count": 57,
   "metadata": {},
   "outputs": [],
   "source": [
    "hit = pd.read_csv(\"Hitters.csv\")\n",
    "df = hit.copy()\n",
    "df = df.dropna()\n",
    "dms=pd.get_dummies(df[['League', 'Division', 'NewLeague']])\n",
    "y=df[\"Salary\"]\n",
    "X_=df.drop(['Salary', 'League', 'Division', 'NewLeague'], axis=1).astype('float64')\n",
    "X=pd.concat([X_,dms[['League_N', 'Division_W', 'NewLeague_N']]], axis=1)\n",
    "X_train, X_test, y_train, y_test = train_test_split(X, y, \n",
    "                                                    test_size=0.25, \n",
    "                                                    random_state=42)"
   ]
  },
  {
   "cell_type": "code",
   "execution_count": 63,
   "metadata": {},
   "outputs": [
    {
     "data": {
      "text/plain": [
       "GridSearchCV(cv=10, error_score=nan,\n",
       "             estimator=SVR(C=1.0, cache_size=200, coef0=0.0, degree=3,\n",
       "                           epsilon=0.1, gamma='scale', kernel='rbf',\n",
       "                           max_iter=-1, shrinking=True, tol=0.001,\n",
       "                           verbose=False),\n",
       "             iid='deprecated', n_jobs=None,\n",
       "             param_grid={'C': [0.05, 0.1, 0.9, 2, 5, 10, 30, 50, 70, 100, 200,\n",
       "                               500, 5000, 10000, 50000]},\n",
       "             pre_dispatch='2*n_jobs', refit=True, return_train_score=False,\n",
       "             scoring=None, verbose=0)"
      ]
     },
     "execution_count": 63,
     "metadata": {},
     "output_type": "execute_result"
    }
   ],
   "source": [
    "radial_svr=SVR(\"rbf\")\n",
    "params={\"C\": [0.05,0.1,1,2,5,10,30,50,70,100,200,500,5000,10000,50000]}\n",
    "svr_cv=GridSearchCV(radial_svr,params,cv=10).fit(X_train,y_train)\n",
    "svr_cv"
   ]
  },
  {
   "cell_type": "code",
   "execution_count": 64,
   "metadata": {},
   "outputs": [
    {
     "data": {
      "text/plain": [
       "{'C': 5000}"
      ]
     },
     "execution_count": 64,
     "metadata": {},
     "output_type": "execute_result"
    }
   ],
   "source": [
    "svr_cv.best_params_"
   ]
  },
  {
   "cell_type": "code",
   "execution_count": 65,
   "metadata": {},
   "outputs": [],
   "source": [
    "svr_tuned=SVR(\"rbf\",C=svr_cv.best_params_[\"C\"]).fit(X_train, y_train)"
   ]
  },
  {
   "cell_type": "code",
   "execution_count": 66,
   "metadata": {},
   "outputs": [
    {
     "data": {
      "text/plain": [
       "376.6274192770624"
      ]
     },
     "execution_count": 66,
     "metadata": {},
     "output_type": "execute_result"
    }
   ],
   "source": [
    "y_pred = svr_tuned.predict(X_test)\n",
    "np.sqrt(mean_squared_error(y_test, y_pred))"
   ]
  },
  {
   "cell_type": "code",
   "execution_count": 67,
   "metadata": {},
   "outputs": [
    {
     "data": {
      "text/plain": [
       "427.7941540882809"
      ]
     },
     "execution_count": 67,
     "metadata": {},
     "output_type": "execute_result"
    }
   ],
   "source": [
    "svr_tuned=SVR(\"rbf\",C=20).fit(X_train, y_train)\n",
    "y_pred = svr_tuned.predict(X_test)\n",
    "np.sqrt(mean_squared_error(y_test, y_pred))"
   ]
  },
  {
   "cell_type": "code",
   "execution_count": null,
   "metadata": {},
   "outputs": [],
   "source": []
  },
  {
   "cell_type": "code",
   "execution_count": null,
   "metadata": {},
   "outputs": [],
   "source": []
  },
  {
   "cell_type": "code",
   "execution_count": null,
   "metadata": {},
   "outputs": [],
   "source": []
  },
  {
   "cell_type": "markdown",
   "metadata": {},
   "source": [
    "# Yapay Sinir Ağları"
   ]
  },
  {
   "cell_type": "code",
   "execution_count": null,
   "metadata": {},
   "outputs": [],
   "source": [
    "hit = pd.read_csv(\"Hitters.csv\")\n",
    "df = hit.copy()\n",
    "df = df.dropna()\n",
    "dms=pd.get_dummies(df[['League', 'Division', 'NewLeague']])\n",
    "y=df[\"Salary\"]\n",
    "X_=df.drop(['Salary', 'League', 'Division', 'NewLeague'], axis=1).astype('float64')\n",
    "X=pd.concat([X_,dms[['League_N', 'Division_W', 'NewLeague_N']]], axis=1)\n",
    "X_train, X_test, y_train, y_test = train_test_split(X, y, \n",
    "                                                    test_size=0.25, \n",
    "                                                    random_state=42)"
   ]
  },
  {
   "cell_type": "code",
   "execution_count": 68,
   "metadata": {},
   "outputs": [],
   "source": [
    "from sklearn.preprocessing import StandardScaler"
   ]
  },
  {
   "cell_type": "code",
   "execution_count": 76,
   "metadata": {},
   "outputs": [],
   "source": [
    "scaler=StandardScaler()\n",
    "scaler=scaler.fit(X_train);"
   ]
  },
  {
   "cell_type": "code",
   "execution_count": 77,
   "metadata": {},
   "outputs": [],
   "source": [
    "X_train_scaled = scaler.transform(X_train)\n",
    "X_test_scaled = scaler.transform(X_test)"
   ]
  },
  {
   "cell_type": "code",
   "execution_count": 80,
   "metadata": {},
   "outputs": [],
   "source": [
    "from sklearn.neural_network import MLPRegressor"
   ]
  },
  {
   "cell_type": "code",
   "execution_count": 82,
   "metadata": {},
   "outputs": [],
   "source": [
    "mlp_model=MLPRegressor()"
   ]
  },
  {
   "cell_type": "code",
   "execution_count": 81,
   "metadata": {},
   "outputs": [],
   "source": [
    "mlp_params = {'alpha': [0.1, 0.01,0.02,0.005],\n",
    "             'hidden_layer_sizes': [(20,20),(100,50,150),(300,200,150)],\n",
    "             'activation': ['relu','logistic']} "
   ]
  },
  {
   "cell_type": "code",
   "execution_count": 86,
   "metadata": {},
   "outputs": [],
   "source": [
    "from sklearn.model_selection import GridSearchCV"
   ]
  },
  {
   "cell_type": "code",
   "execution_count": 87,
   "metadata": {},
   "outputs": [],
   "source": [
    "mlp_cv_model=GridSearchCV(mlp_model,mlp_params,cv=10,n_jobs=-1).fit(X_train_scaled,y_train)"
   ]
  },
  {
   "cell_type": "code",
   "execution_count": 88,
   "metadata": {},
   "outputs": [
    {
     "data": {
      "text/plain": [
       "{'activation': 'relu', 'alpha': 0.02, 'hidden_layer_sizes': (100, 50, 150)}"
      ]
     },
     "execution_count": 88,
     "metadata": {},
     "output_type": "execute_result"
    }
   ],
   "source": [
    "mlp_cv_model.best_params_"
   ]
  },
  {
   "cell_type": "code",
   "execution_count": 90,
   "metadata": {},
   "outputs": [],
   "source": [
    "mls_tuned=MLPRegressor(alpha=0.02,hidden_layer_sizes=(100,50,150))"
   ]
  },
  {
   "cell_type": "code",
   "execution_count": 91,
   "metadata": {},
   "outputs": [
    {
     "data": {
      "text/plain": [
       "MLPRegressor(activation='relu', alpha=0.02, batch_size='auto', beta_1=0.9,\n",
       "             beta_2=0.999, early_stopping=False, epsilon=1e-08,\n",
       "             hidden_layer_sizes=(100, 50, 150), learning_rate='constant',\n",
       "             learning_rate_init=0.001, max_fun=15000, max_iter=200,\n",
       "             momentum=0.9, n_iter_no_change=10, nesterovs_momentum=True,\n",
       "             power_t=0.5, random_state=None, shuffle=True, solver='adam',\n",
       "             tol=0.0001, validation_fraction=0.1, verbose=False,\n",
       "             warm_start=False)"
      ]
     },
     "execution_count": 91,
     "metadata": {},
     "output_type": "execute_result"
    }
   ],
   "source": [
    "mls_tuned.fit(X_train_scaled,y_train)"
   ]
  },
  {
   "cell_type": "code",
   "execution_count": null,
   "metadata": {},
   "outputs": [],
   "source": [
    "import numpy as np\n",
    "from sklearn.metrics import mean_squared_error\n",
    "y_pred=mls_tuned.predict(X_test_scaled)\n",
    "np.sqrt(mean_squared_error(y_pred,y_test))"
   ]
  },
  {
   "cell_type": "code",
   "execution_count": null,
   "metadata": {},
   "outputs": [],
   "source": []
  },
  {
   "cell_type": "code",
   "execution_count": null,
   "metadata": {},
   "outputs": [],
   "source": []
  },
  {
   "cell_type": "code",
   "execution_count": null,
   "metadata": {},
   "outputs": [],
   "source": []
  },
  {
   "cell_type": "markdown",
   "metadata": {},
   "source": [
    "# Karar ağaçları"
   ]
  },
  {
   "cell_type": "markdown",
   "metadata": {},
   "source": [
    "**min_samples_split**, bir dahili düğümü bölmek için gereken minimum örnek sayısını temsil eder\n",
    "\n",
    "**max_depth** ağacın ne kadar derin olabileceğini gösterir. Ağaç ne kadar derinse, sahip olduğu bölünmeler o kadar fazladır ve veriler hakkında daha fazla bilgi toplar.\n",
    "\n",
    "**min_samples_leaf**  şudur: Bir yaprak düğümde olması gereken minimum örnek sayısı\n"
   ]
  },
  {
   "cell_type": "code",
   "execution_count": 2,
   "metadata": {},
   "outputs": [],
   "source": [
    "hit = pd.read_csv(\"Hitters.csv\")\n",
    "df = hit.copy()\n",
    "df = df.dropna()\n",
    "dms = pd.get_dummies(df[['League', 'Division', 'NewLeague']])\n",
    "y = df[\"Salary\"]\n",
    "X_ = df.drop(['Salary', 'League', 'Division', 'NewLeague'], axis=1).astype('float64')\n",
    "X = pd.concat([X_, dms[['League_N', 'Division_W', 'NewLeague_N']]], axis=1)\n",
    "X_train, X_test, y_train, y_test = train_test_split(X, y, \n",
    "                                                    test_size=0.25, \n",
    "                                                    random_state=42)\n"
   ]
  },
  {
   "cell_type": "code",
   "execution_count": 3,
   "metadata": {},
   "outputs": [],
   "source": [
    "# öncelikle değişkenler iseçerek bunu uygulayacağız.\n",
    "X_train = pd.DataFrame(X_train[\"Hits\"])\n",
    "X_test = pd.DataFrame(X_test[\"Hits\"])"
   ]
  },
  {
   "cell_type": "code",
   "execution_count": 4,
   "metadata": {},
   "outputs": [],
   "source": [
    "from sklearn.tree import DecisionTreeRegressor"
   ]
  },
  {
   "cell_type": "code",
   "execution_count": 5,
   "metadata": {},
   "outputs": [
    {
     "data": {
      "text/plain": [
       "GridSearchCV(cv=10, error_score=nan,\n",
       "             estimator=DecisionTreeRegressor(ccp_alpha=0.0, criterion='mse',\n",
       "                                             max_depth=None, max_features=None,\n",
       "                                             max_leaf_nodes=None,\n",
       "                                             min_impurity_decrease=0.0,\n",
       "                                             min_impurity_split=None,\n",
       "                                             min_samples_leaf=1,\n",
       "                                             min_samples_split=2,\n",
       "                                             min_weight_fraction_leaf=0.0,\n",
       "                                             presort='deprecated',\n",
       "                                             random_state=None,\n",
       "                                             splitter='best'),\n",
       "             iid='deprecated', n_jobs=None,\n",
       "             param_grid={'max_leaf_nodes': range(2, 10),\n",
       "                         'min_samples_split': range(2, 100)},\n",
       "             pre_dispatch='2*n_jobs', refit=True, return_train_score=False,\n",
       "             scoring=None, verbose=0)"
      ]
     },
     "execution_count": 5,
     "metadata": {},
     "output_type": "execute_result"
    }
   ],
   "source": [
    "cart_model=DecisionTreeRegressor()\n",
    "cart_params = {\"min_samples_split\": range(2,100),\n",
    "               \"max_leaf_nodes\": range(2,10)}\n",
    "card_cv_model=GridSearchCV(cart_model,cart_params,cv=10)\n",
    "card_cv_model.fit(X_train,y_train)"
   ]
  },
  {
   "cell_type": "code",
   "execution_count": 6,
   "metadata": {},
   "outputs": [
    {
     "data": {
      "text/plain": [
       "{'max_leaf_nodes': 9, 'min_samples_split': 76}"
      ]
     },
     "execution_count": 6,
     "metadata": {},
     "output_type": "execute_result"
    }
   ],
   "source": [
    "card_cv_model.best_params_"
   ]
  },
  {
   "cell_type": "code",
   "execution_count": 7,
   "metadata": {},
   "outputs": [],
   "source": [
    "card_tuned=DecisionTreeRegressor(max_leaf_nodes=9,min_samples_split=76)"
   ]
  },
  {
   "cell_type": "code",
   "execution_count": 9,
   "metadata": {},
   "outputs": [
    {
     "data": {
      "text/plain": [
       "DecisionTreeRegressor(ccp_alpha=0.0, criterion='mse', max_depth=None,\n",
       "                      max_features=None, max_leaf_nodes=9,\n",
       "                      min_impurity_decrease=0.0, min_impurity_split=None,\n",
       "                      min_samples_leaf=1, min_samples_split=76,\n",
       "                      min_weight_fraction_leaf=0.0, presort='deprecated',\n",
       "                      random_state=None, splitter='best')"
      ]
     },
     "execution_count": 9,
     "metadata": {},
     "output_type": "execute_result"
    }
   ],
   "source": [
    "card_tuned.fit(X_train,y_train)"
   ]
  },
  {
   "cell_type": "code",
   "execution_count": 10,
   "metadata": {},
   "outputs": [
    {
     "data": {
      "text/plain": [
       "423.406689243066"
      ]
     },
     "execution_count": 10,
     "metadata": {},
     "output_type": "execute_result"
    }
   ],
   "source": [
    "y_pred=card_tuned.predict(X_test)\n",
    "np.sqrt(mean_squared_error(y_pred,y_test))"
   ]
  },
  {
   "cell_type": "code",
   "execution_count": null,
   "metadata": {},
   "outputs": [],
   "source": []
  },
  {
   "cell_type": "code",
   "execution_count": null,
   "metadata": {},
   "outputs": [],
   "source": []
  },
  {
   "cell_type": "markdown",
   "metadata": {},
   "source": [
    "# Bagged Trees Regresyon"
   ]
  },
  {
   "cell_type": "code",
   "execution_count": 46,
   "metadata": {},
   "outputs": [],
   "source": [
    "hit = pd.read_csv(\"Hitters.csv\")\n",
    "df = hit.copy()\n",
    "df = df.dropna()\n",
    "dms = pd.get_dummies(df[['League', 'Division', 'NewLeague']])\n",
    "y = df[\"Salary\"]\n",
    "X_ = df.drop(['Salary', 'League', 'Division', 'NewLeague'], axis=1).astype('float64')\n",
    "X = pd.concat([X_, dms[['League_N', 'Division_W', 'NewLeague_N']]], axis=1)\n",
    "X_train, X_test, y_train, y_test = train_test_split(X, y, \n",
    "                                                    test_size=0.25, \n",
    "                                                    random_state=42)\n"
   ]
  },
  {
   "cell_type": "code",
   "execution_count": 47,
   "metadata": {},
   "outputs": [],
   "source": [
    "from sklearn.ensemble import BaggingRegressor"
   ]
  },
  {
   "cell_type": "code",
   "execution_count": 48,
   "metadata": {},
   "outputs": [],
   "source": [
    "params={'n_estimators':range(0,20)}"
   ]
  },
  {
   "cell_type": "code",
   "execution_count": 49,
   "metadata": {},
   "outputs": [],
   "source": [
    "bag_model=BaggingRegressor(bootstrap_features=True).fit(X_train,y_train)"
   ]
  },
  {
   "cell_type": "code",
   "execution_count": 50,
   "metadata": {},
   "outputs": [],
   "source": [
    "bag_cv_model=GridSearchCV(bag_model,params,cv=10).fit(X_train,y_train)"
   ]
  },
  {
   "cell_type": "code",
   "execution_count": 51,
   "metadata": {},
   "outputs": [
    {
     "data": {
      "text/plain": [
       "{'n_estimators': 12}"
      ]
     },
     "execution_count": 51,
     "metadata": {},
     "output_type": "execute_result"
    }
   ],
   "source": [
    "bag_cv_model.best_params_"
   ]
  },
  {
   "cell_type": "code",
   "execution_count": 52,
   "metadata": {},
   "outputs": [
    {
     "data": {
      "text/plain": [
       "BaggingRegressor(base_estimator=None, bootstrap=True, bootstrap_features=True,\n",
       "                 max_features=1.0, max_samples=1.0, n_estimators=12,\n",
       "                 n_jobs=None, oob_score=False, random_state=None, verbose=0,\n",
       "                 warm_start=False)"
      ]
     },
     "execution_count": 52,
     "metadata": {},
     "output_type": "execute_result"
    }
   ],
   "source": [
    "bag_tuned=BaggingRegressor(bootstrap_features=True,\n",
    "                           n_estimators=bag_cv_model.best_params_['n_estimators'])\n",
    "bag_tuned.fit(X_train,y_train)"
   ]
  },
  {
   "cell_type": "code",
   "execution_count": 53,
   "metadata": {},
   "outputs": [
    {
     "data": {
      "text/plain": [
       "351.47256672609836"
      ]
     },
     "execution_count": 53,
     "metadata": {},
     "output_type": "execute_result"
    }
   ],
   "source": [
    "y_pred=bag_tuned.predict(X_test)\n",
    "np.sqrt(mean_squared_error(y_pred,y_test))"
   ]
  },
  {
   "cell_type": "code",
   "execution_count": null,
   "metadata": {},
   "outputs": [],
   "source": []
  },
  {
   "cell_type": "code",
   "execution_count": null,
   "metadata": {},
   "outputs": [],
   "source": []
  },
  {
   "cell_type": "markdown",
   "metadata": {},
   "source": [
    "# Random Forests"
   ]
  },
  {
   "cell_type": "code",
   "execution_count": 79,
   "metadata": {},
   "outputs": [],
   "source": [
    "hit = pd.read_csv(\"Hitters.csv\")\n",
    "df = hit.copy()\n",
    "df = df.dropna()\n",
    "dms = pd.get_dummies(df[['League', 'Division', 'NewLeague']])\n",
    "y = df[\"Salary\"]\n",
    "X_ = df.drop(['Salary', 'League', 'Division', 'NewLeague'], axis=1).astype('float64')\n",
    "X = pd.concat([X_, dms[['League_N', 'Division_W', 'NewLeague_N']]], axis=1)\n",
    "X_train, X_test, y_train, y_test = train_test_split(X, y, \n",
    "                                                    test_size=0.25, \n",
    "                                                    random_state=42)"
   ]
  },
  {
   "cell_type": "code",
   "execution_count": 56,
   "metadata": {},
   "outputs": [],
   "source": [
    "from sklearn.ensemble import RandomForestRegressor"
   ]
  },
  {
   "cell_type": "code",
   "execution_count": null,
   "metadata": {},
   "outputs": [],
   "source": [
    "rf_model=RandomForestRegressor().fit(X_train,y_train)\n",
    "params={'n_estimators':[100,500,1000,2000],\n",
    "       'max_depth':list(range(1,10)),\n",
    "        'max_features':[3,5,10,15]}\n",
    "                        \n",
    "rf_cv_model=GridSearchCV(rf_model,\n",
    "                         params,\n",
    "                         cv=10,\n",
    "                         n_jobs=-1)"
   ]
  },
  {
   "cell_type": "code",
   "execution_count": null,
   "metadata": {},
   "outputs": [],
   "source": [
    "rf_cv_model.fit(X_train,y_train)"
   ]
  },
  {
   "cell_type": "code",
   "execution_count": 69,
   "metadata": {},
   "outputs": [
    {
     "data": {
      "text/plain": [
       "{'max_depth': 7, 'max_features': 3, 'n_estimators': 100}"
      ]
     },
     "execution_count": 69,
     "metadata": {},
     "output_type": "execute_result"
    }
   ],
   "source": [
    "rf_cv_model.best_params_"
   ]
  },
  {
   "cell_type": "code",
   "execution_count": 70,
   "metadata": {},
   "outputs": [],
   "source": [
    "rf_tuned = RandomForestRegressor(max_depth  = 7, \n",
    "                                 max_features = 3,# bölünmelerde göz önünde bulunduracagı \n",
    "                                 #max değişken sayısı parametresi=3\n",
    "                                 n_estimators =200)"
   ]
  },
  {
   "cell_type": "code",
   "execution_count": 71,
   "metadata": {},
   "outputs": [
    {
     "data": {
      "text/plain": [
       "RandomForestRegressor(bootstrap=True, ccp_alpha=0.0, criterion='mse',\n",
       "                      max_depth=7, max_features=3, max_leaf_nodes=None,\n",
       "                      max_samples=None, min_impurity_decrease=0.0,\n",
       "                      min_impurity_split=None, min_samples_leaf=1,\n",
       "                      min_samples_split=2, min_weight_fraction_leaf=0.0,\n",
       "                      n_estimators=200, n_jobs=None, oob_score=False,\n",
       "                      random_state=None, verbose=0, warm_start=False)"
      ]
     },
     "execution_count": 71,
     "metadata": {},
     "output_type": "execute_result"
    }
   ],
   "source": [
    "rf_tuned.fit(X_train,y_train)"
   ]
  },
  {
   "cell_type": "code",
   "execution_count": 72,
   "metadata": {},
   "outputs": [],
   "source": [
    "y_pred = rf_tuned.predict(X_test)"
   ]
  },
  {
   "cell_type": "code",
   "execution_count": 73,
   "metadata": {},
   "outputs": [
    {
     "data": {
      "text/plain": [
       "349.18428561651734"
      ]
     },
     "execution_count": 73,
     "metadata": {},
     "output_type": "execute_result"
    }
   ],
   "source": [
    "np.sqrt(mean_squared_error(y_test, y_pred))"
   ]
  },
  {
   "cell_type": "code",
   "execution_count": 77,
   "metadata": {},
   "outputs": [
    {
     "data": {
      "text/plain": [
       "array([0.04293144, 0.05214347, 0.03150022, 0.04213909, 0.04856085,\n",
       "       0.05375856, 0.04015594, 0.09325665, 0.11024201, 0.07153635,\n",
       "       0.11316101, 0.11406793, 0.09748243, 0.04733111, 0.01781142,\n",
       "       0.01485216, 0.00318219, 0.00247275, 0.0034144 ])"
      ]
     },
     "execution_count": 77,
     "metadata": {},
     "output_type": "execute_result"
    }
   ],
   "source": [
    "rf_tuned.feature_importances_ #değişkenlerin önem sırası"
   ]
  },
  {
   "cell_type": "code",
   "execution_count": 88,
   "metadata": {},
   "outputs": [
    {
     "data": {
      "text/html": [
       "<div>\n",
       "<style scoped>\n",
       "    .dataframe tbody tr th:only-of-type {\n",
       "        vertical-align: middle;\n",
       "    }\n",
       "\n",
       "    .dataframe tbody tr th {\n",
       "        vertical-align: top;\n",
       "    }\n",
       "\n",
       "    .dataframe thead th {\n",
       "        text-align: right;\n",
       "    }\n",
       "</style>\n",
       "<table border=\"1\" class=\"dataframe\">\n",
       "  <thead>\n",
       "    <tr style=\"text-align: right;\">\n",
       "      <th></th>\n",
       "      <th>Importance</th>\n",
       "    </tr>\n",
       "  </thead>\n",
       "  <tbody>\n",
       "    <tr>\n",
       "      <th>AtBat</th>\n",
       "      <td>4.293144</td>\n",
       "    </tr>\n",
       "    <tr>\n",
       "      <th>Hits</th>\n",
       "      <td>5.214347</td>\n",
       "    </tr>\n",
       "    <tr>\n",
       "      <th>HmRun</th>\n",
       "      <td>3.150022</td>\n",
       "    </tr>\n",
       "    <tr>\n",
       "      <th>Runs</th>\n",
       "      <td>4.213909</td>\n",
       "    </tr>\n",
       "    <tr>\n",
       "      <th>RBI</th>\n",
       "      <td>4.856085</td>\n",
       "    </tr>\n",
       "  </tbody>\n",
       "</table>\n",
       "</div>"
      ],
      "text/plain": [
       "       Importance\n",
       "AtBat    4.293144\n",
       "Hits     5.214347\n",
       "HmRun    3.150022\n",
       "Runs     4.213909\n",
       "RBI      4.856085"
      ]
     },
     "execution_count": 88,
     "metadata": {},
     "output_type": "execute_result"
    }
   ],
   "source": [
    "Importance=pd.DataFrame({\"Importance\":rf_tuned.feature_importances_*100, },\n",
    "             index=X_train.columns)\n",
    "Importance.head()"
   ]
  },
  {
   "cell_type": "code",
   "execution_count": 89,
   "metadata": {},
   "outputs": [
    {
     "data": {
      "text/plain": [
       "Text(0.5, 0, 'Değişken Önem Düzeyleri')"
      ]
     },
     "execution_count": 89,
     "metadata": {},
     "output_type": "execute_result"
    },
    {
     "data": {
      "image/png": "[encoded data removed]",
      "text/plain": [
       "<Figure size 432x288 with 1 Axes>"
      ]
     },
     "metadata": {
      "needs_background": "light"
     },
     "output_type": "display_data"
    }
   ],
   "source": [
    "Importance.sort_values(by = \"Importance\", \n",
    "                       axis = 0, \n",
    "                       ascending = True).plot(kind =\"barh\", color = \"r\")\n",
    "\n",
    "plt.xlabel(\"Değişken Önem Düzeyleri\")"
   ]
  },
  {
   "cell_type": "code",
   "execution_count": null,
   "metadata": {},
   "outputs": [],
   "source": []
  },
  {
   "cell_type": "code",
   "execution_count": null,
   "metadata": {},
   "outputs": [],
   "source": []
  },
  {
   "cell_type": "code",
   "execution_count": null,
   "metadata": {},
   "outputs": [],
   "source": []
  },
  {
   "cell_type": "markdown",
   "metadata": {},
   "source": [
    "# Gradient Boosting Machines\n",
    "\n",
    "**sonraki göreceğimiz algoritmalar için Bir mihenk taşıdır** \n",
    "\n",
    "Artıklar üzerine tek bir tahminsel model formunda olan modeller serisi kurulur.\n",
    "\n",
    "Bagging'da ağaçlar bağımsızkeni boosting de ağaçların bagımlılıgı söz konusu.\n"
   ]
  },
  {
   "cell_type": "code",
   "execution_count": 2,
   "metadata": {},
   "outputs": [],
   "source": [
    "hit = pd.read_csv(\"Hitters.csv\")\n",
    "df = hit.copy()\n",
    "df = df.dropna()\n",
    "dms = pd.get_dummies(df[['League', 'Division', 'NewLeague']])\n",
    "y = df[\"Salary\"]\n",
    "X_ = df.drop(['Salary', 'League', 'Division', 'NewLeague'], axis=1).astype('float64')\n",
    "X = pd.concat([X_, dms[['League_N', 'Division_W', 'NewLeague_N']]], axis=1)\n",
    "X_train, X_test, y_train, y_test = train_test_split(X, y, \n",
    "                                                    test_size=0.25, \n",
    "                                                    random_state=42)"
   ]
  },
  {
   "cell_type": "code",
   "execution_count": 3,
   "metadata": {},
   "outputs": [],
   "source": [
    "from sklearn.ensemble import GradientBoostingRegressor\n",
    "gbm_params = {\n",
    "    'learning_rate': [0.001, 0.01, 0.1, 0.2],\n",
    "    'max_depth': [3, 5, 8,50,100],\n",
    "    'n_estimators': [200, 500, 1000, 2000],\n",
    "    'subsample': [1,0.5,0.75], # alt örnek\n",
    "}\n",
    "gbm_model=GradientBoostingRegressor().fit(X_train,y_train)\n",
    "gbm_cv_model=GridSearchCV(gbm_model,gbm_params,cv=10,n_jobs=-1,verbose=2)\n",
    "#vverbose= iterasyonları gözlemleme ile alakalı bişeymiş"
   ]
  },
  {
   "cell_type": "code",
   "execution_count": 4,
   "metadata": {
    "collapsed": true,
    "jupyter": {
     "outputs_hidden": true
    }
   },
   "outputs": [
    {
     "name": "stdout",
     "output_type": "stream",
     "text": [
      "Fitting 10 folds for each of 240 candidates, totalling 2400 fits\n"
     ]
    },
    {
     "name": "stderr",
     "output_type": "stream",
     "text": [
      "[Parallel(n_jobs=-1)]: Using backend LokyBackend with 8 concurrent workers.\n",
      "[Parallel(n_jobs=-1)]: Done  25 tasks      | elapsed:    3.2s\n",
      "[Parallel(n_jobs=-1)]: Done 146 tasks      | elapsed:   17.7s\n",
      "[Parallel(n_jobs=-1)]: Done 349 tasks      | elapsed:  1.1min\n",
      "[Parallel(n_jobs=-1)]: Done 632 tasks      | elapsed:  2.5min\n",
      "[Parallel(n_jobs=-1)]: Done 997 tasks      | elapsed:  4.2min\n",
      "[Parallel(n_jobs=-1)]: Done 1442 tasks      | elapsed:  6.3min\n",
      "[Parallel(n_jobs=-1)]: Done 1969 tasks      | elapsed:  7.3min\n",
      "[Parallel(n_jobs=-1)]: Done 2400 out of 2400 | elapsed:  8.0min finished\n"
     ]
    },
    {
     "data": {
      "text/plain": [
       "GridSearchCV(cv=10, error_score=nan,\n",
       "             estimator=GradientBoostingRegressor(alpha=0.9, ccp_alpha=0.0,\n",
       "                                                 criterion='friedman_mse',\n",
       "                                                 init=None, learning_rate=0.1,\n",
       "                                                 loss='ls', max_depth=3,\n",
       "                                                 max_features=None,\n",
       "                                                 max_leaf_nodes=None,\n",
       "                                                 min_impurity_decrease=0.0,\n",
       "                                                 min_impurity_split=None,\n",
       "                                                 min_samples_leaf=1,\n",
       "                                                 min_samples_split=2,\n",
       "                                                 min_weight_fraction_leaf=0.0,\n",
       "                                                 n_estimators=100,\n",
       "                                                 n_iter_...\n",
       "                                                 presort='deprecated',\n",
       "                                                 random_state=None,\n",
       "                                                 subsample=1.0, tol=0.0001,\n",
       "                                                 validation_fraction=0.1,\n",
       "                                                 verbose=0, warm_start=False),\n",
       "             iid='deprecated', n_jobs=-1,\n",
       "             param_grid={'learning_rate': [0.001, 0.01, 0.1, 0.2],\n",
       "                         'max_depth': [3, 5, 8, 50, 100],\n",
       "                         'n_estimators': [200, 500, 1000, 2000],\n",
       "                         'subsample': [1, 0.5, 0.75]},\n",
       "             pre_dispatch='2*n_jobs', refit=True, return_train_score=False,\n",
       "             scoring=None, verbose=2)"
      ]
     },
     "execution_count": 4,
     "metadata": {},
     "output_type": "execute_result"
    }
   ],
   "source": [
    "gbm_cv_model.fit(X_train,y_train)"
   ]
  },
  {
   "cell_type": "code",
   "execution_count": 6,
   "metadata": {},
   "outputs": [
    {
     "data": {
      "text/plain": [
       "{'learning_rate': 0.01, 'max_depth': 8, 'n_estimators': 1000, 'subsample': 0.5}"
      ]
     },
     "execution_count": 6,
     "metadata": {},
     "output_type": "execute_result"
    }
   ],
   "source": [
    "gbm_cv_model.best_params_"
   ]
  },
  {
   "cell_type": "code",
   "execution_count": 10,
   "metadata": {},
   "outputs": [],
   "source": [
    "gbm_tuned=GradientBoostingRegressor(learning_rate= 0.01,\n",
    "                                    max_depth= 8,\n",
    "                                    n_estimators= 1000,\n",
    "                                    subsample= 0.5)"
   ]
  },
  {
   "cell_type": "code",
   "execution_count": 11,
   "metadata": {},
   "outputs": [],
   "source": [
    "gbm_tuned=gbm_tuned.fit(X_train,y_train)"
   ]
  },
  {
   "cell_type": "code",
   "execution_count": 12,
   "metadata": {},
   "outputs": [
    {
     "data": {
      "text/plain": [
       "333.283128410909"
      ]
     },
     "execution_count": 12,
     "metadata": {},
     "output_type": "execute_result"
    }
   ],
   "source": [
    "y_pred=gbm_tuned.predict(X_test)\n",
    "np.sqrt(mean_squared_error(y_pred,y_test))"
   ]
  },
  {
   "cell_type": "code",
   "execution_count": null,
   "metadata": {},
   "outputs": [],
   "source": []
  },
  {
   "cell_type": "code",
   "execution_count": null,
   "metadata": {},
   "outputs": [],
   "source": []
  },
  {
   "cell_type": "markdown",
   "metadata": {},
   "source": [
    "# XGBoost"
   ]
  },
  {
   "cell_type": "code",
   "execution_count": 49,
   "metadata": {},
   "outputs": [],
   "source": [
    "hit = pd.read_csv(\"Hitters.csv\")\n",
    "df = hit.copy()\n",
    "df = df.dropna()\n",
    "dms = pd.get_dummies(df[['League', 'Division', 'NewLeague']])\n",
    "y = df[\"Salary\"]\n",
    "X_ = df.drop(['Salary', 'League', 'Division', 'NewLeague'], axis=1).astype('float64')\n",
    "X = pd.concat([X_, dms[['League_N', 'Division_W', 'NewLeague_N']]], axis=1)\n",
    "X_train, X_test, y_train, y_test = train_test_split(X, y, \n",
    "                                                    test_size=0.25, \n",
    "                                                    random_state=42)\n"
   ]
  },
  {
   "cell_type": "code",
   "execution_count": 53,
   "metadata": {},
   "outputs": [
    {
     "name": "stdout",
     "output_type": "stream",
     "text": [
      "Requirement already satisfied: xgboost in c:\\users\\bedir\\anaconda3\\lib\\site-packages (1.1.1)\n",
      "Requirement already satisfied: numpy in c:\\users\\bedir\\anaconda3\\lib\\site-packages (from xgboost) (1.18.1)\n",
      "Requirement already satisfied: scipy in c:\\users\\bedir\\anaconda3\\lib\\site-packages (from xgboost) (1.4.1)\n"
     ]
    }
   ],
   "source": [
    "!pip install xgboost"
   ]
  },
  {
   "cell_type": "code",
   "execution_count": 54,
   "metadata": {
    "collapsed": true,
    "jupyter": {
     "outputs_hidden": true
    }
   },
   "outputs": [
    {
     "ename": "ModuleNotFoundError",
     "evalue": "No module named 'xgboots'",
     "output_type": "error",
     "traceback": [
      "\u001b[1;31m---------------------------------------------------------------------------\u001b[0m",
      "\u001b[1;31mModuleNotFoundError\u001b[0m                       Traceback (most recent call last)",
      "\u001b[1;32m<ipython-input-54-7fc30581aba5>\u001b[0m in \u001b[0;36m<module>\u001b[1;34m\u001b[0m\n\u001b[1;32m----> 1\u001b[1;33m \u001b[1;32mimport\u001b[0m \u001b[0mxgboots\u001b[0m \u001b[1;32mas\u001b[0m \u001b[0mxgb\u001b[0m\u001b[1;33m\u001b[0m\u001b[1;33m\u001b[0m\u001b[0m\n\u001b[0m",
      "\u001b[1;31mModuleNotFoundError\u001b[0m: No module named 'xgboots'"
     ]
    }
   ],
   "source": [
    "import xgboots as xgb"
   ]
  },
  {
   "cell_type": "code",
   "execution_count": 55,
   "metadata": {},
   "outputs": [],
   "source": [
    "from xgboost import XGBRegressor"
   ]
  },
  {
   "cell_type": "code",
   "execution_count": 56,
   "metadata": {},
   "outputs": [
    {
     "data": {
      "text/plain": [
       "XGBRegressor(base_score=None, booster=None, colsample_bylevel=None,\n",
       "             colsample_bynode=None, colsample_bytree=None, gamma=None,\n",
       "             gpu_id=None, importance_type='gain', interaction_constraints=None,\n",
       "             learning_rate=None, max_delta_step=None, max_depth=None,\n",
       "             min_child_weight=None, missing=nan, monotone_constraints=None,\n",
       "             n_estimators=100, n_jobs=None, num_parallel_tree=None,\n",
       "             objective='reg:squarederror', random_state=None, reg_alpha=None,\n",
       "             reg_lambda=None, scale_pos_weight=None, subsample=None,\n",
       "             tree_method=None, validate_parameters=None, verbosity=None)"
      ]
     },
     "execution_count": 56,
     "metadata": {},
     "output_type": "execute_result"
    }
   ],
   "source": [
    "xgb_model=XGBRegressor()\n",
    "xgb_model"
   ]
  },
  {
   "cell_type": "code",
   "execution_count": 57,
   "metadata": {},
   "outputs": [],
   "source": [
    "params={\n",
    "     'colsample_bytree': [0.4, 0.5,0.6,0.9,1], #ağaç başşında değişkenlerden alınacak örnek oranı\n",
    "     'n_estimators':[100, 200, 500, 1000],# ağaç şeysi.\n",
    "     'max_depth': [2,3,4,5,6], #overfitin önünne geçmekiçin, karmaşıklık parametresi\n",
    "     'learning_rate': [0.1, 0.01, 0.5] # daraltma adım boyu, owerfiti engellemek için.\n",
    "}"
   ]
  },
  {
   "cell_type": "code",
   "execution_count": 58,
   "metadata": {},
   "outputs": [],
   "source": [
    "from sklearn.model_selection import GridSearchCV\n",
    "xgb_cv_model=GridSearchCV(xgb_model,\n",
    "                          params,\n",
    "                          n_jobs=-1,\n",
    "                         verbose=2,\n",
    "                         cv=10)"
   ]
  },
  {
   "cell_type": "code",
   "execution_count": 59,
   "metadata": {},
   "outputs": [
    {
     "name": "stdout",
     "output_type": "stream",
     "text": [
      "Fitting 10 folds for each of 300 candidates, totalling 3000 fits\n"
     ]
    },
    {
     "name": "stderr",
     "output_type": "stream",
     "text": [
      "[Parallel(n_jobs=-1)]: Using backend LokyBackend with 8 concurrent workers.\n",
      "[Parallel(n_jobs=-1)]: Done  25 tasks      | elapsed:    3.9s\n",
      "[Parallel(n_jobs=-1)]: Done 228 tasks      | elapsed:    8.0s\n",
      "[Parallel(n_jobs=-1)]: Done 634 tasks      | elapsed:   15.0s\n",
      "[Parallel(n_jobs=-1)]: Done 1200 tasks      | elapsed:   27.7s\n",
      "[Parallel(n_jobs=-1)]: Done 1930 tasks      | elapsed:   47.1s\n",
      "[Parallel(n_jobs=-1)]: Done 2522 tasks      | elapsed:  1.1min\n",
      "[Parallel(n_jobs=-1)]: Done 3000 out of 3000 | elapsed:  1.4min finished\n"
     ]
    },
    {
     "data": {
      "text/plain": [
       "GridSearchCV(cv=10, error_score=nan,\n",
       "             estimator=XGBRegressor(base_score=None, booster=None,\n",
       "                                    colsample_bylevel=None,\n",
       "                                    colsample_bynode=None,\n",
       "                                    colsample_bytree=None, gamma=None,\n",
       "                                    gpu_id=None, importance_type='gain',\n",
       "                                    interaction_constraints=None,\n",
       "                                    learning_rate=None, max_delta_step=None,\n",
       "                                    max_depth=None, min_child_weight=None,\n",
       "                                    missing=nan, monotone_constraints=None,\n",
       "                                    n_estim...\n",
       "                                    reg_lambda=None, scale_pos_weight=None,\n",
       "                                    subsample=None, tree_method=None,\n",
       "                                    validate_parameters=None, verbosity=None),\n",
       "             iid='deprecated', n_jobs=-1,\n",
       "             param_grid={'colsample_bytree': [0.4, 0.5, 0.6, 0.9, 1],\n",
       "                         'learning_rate': [0.1, 0.01, 0.5],\n",
       "                         'max_depth': [2, 3, 4, 5, 6],\n",
       "                         'n_estimators': [100, 200, 500, 1000]},\n",
       "             pre_dispatch='2*n_jobs', refit=True, return_train_score=False,\n",
       "             scoring=None, verbose=2)"
      ]
     },
     "execution_count": 59,
     "metadata": {},
     "output_type": "execute_result"
    }
   ],
   "source": [
    "xgb_cv_model.fit(X_train,y_train)"
   ]
  },
  {
   "cell_type": "code",
   "execution_count": 63,
   "metadata": {},
   "outputs": [
    {
     "data": {
      "text/plain": [
       "{'colsample_bytree': 0.5,\n",
       " 'learning_rate': 0.1,\n",
       " 'max_depth': 2,\n",
       " 'n_estimators': 500}"
      ]
     },
     "execution_count": 63,
     "metadata": {},
     "output_type": "execute_result"
    }
   ],
   "source": [
    "xgb_cv_model.best_params_"
   ]
  },
  {
   "cell_type": "code",
   "execution_count": 154,
   "metadata": {},
   "outputs": [],
   "source": [
    "xgb_tuned=XGBRegressor(\n",
    " colsample_bytree= 0.5,\n",
    " learning_rate= 0.1,\n",
    " max_depth= 2,\n",
    " n_estimators= 500)\n",
    "xgb_tuned=xgb_tuned.fit(X_train,y_train)"
   ]
  },
  {
   "cell_type": "code",
   "execution_count": 155,
   "metadata": {},
   "outputs": [
    {
     "data": {
      "text/plain": [
       "346.0275157777717"
      ]
     },
     "execution_count": 155,
     "metadata": {},
     "output_type": "execute_result"
    }
   ],
   "source": [
    "y_pred=xgb_tuned.predict(X_test)\n",
    "np.sqrt(mean_squared_error(y_pred,y_test))"
   ]
  },
  {
   "cell_type": "code",
   "execution_count": 156,
   "metadata": {},
   "outputs": [
    {
     "data": {
      "text/plain": [
       "23.43618260960554"
      ]
     },
     "execution_count": 156,
     "metadata": {},
     "output_type": "execute_result"
    }
   ],
   "source": [
    "y_pred_train=xgb_tuned.predict(X_train)\n",
    "np.sqrt(mean_squared_error(y_pred_train,y_train))"
   ]
  },
  {
   "cell_type": "code",
   "execution_count": 157,
   "metadata": {},
   "outputs": [],
   "source": [
    "TRA=pd.DataFrame(y_train)"
   ]
  },
  {
   "cell_type": "code",
   "execution_count": 158,
   "metadata": {},
   "outputs": [],
   "source": [
    "TRAP=pd.DataFrame(y_pred_train,index=y_train.index)"
   ]
  },
  {
   "cell_type": "code",
   "execution_count": 159,
   "metadata": {},
   "outputs": [
    {
     "data": {
      "text/html": [
       "<div>\n",
       "<style scoped>\n",
       "    .dataframe tbody tr th:only-of-type {\n",
       "        vertical-align: middle;\n",
       "    }\n",
       "\n",
       "    .dataframe tbody tr th {\n",
       "        vertical-align: top;\n",
       "    }\n",
       "\n",
       "    .dataframe thead th {\n",
       "        text-align: right;\n",
       "    }\n",
       "</style>\n",
       "<table border=\"1\" class=\"dataframe\">\n",
       "  <thead>\n",
       "    <tr style=\"text-align: right;\">\n",
       "      <th></th>\n",
       "      <th>Salary</th>\n",
       "      <th>0</th>\n",
       "    </tr>\n",
       "  </thead>\n",
       "  <tbody>\n",
       "    <tr>\n",
       "      <th>183</th>\n",
       "      <td>125.000</td>\n",
       "      <td>125.154846</td>\n",
       "    </tr>\n",
       "    <tr>\n",
       "      <th>229</th>\n",
       "      <td>1940.000</td>\n",
       "      <td>1921.328125</td>\n",
       "    </tr>\n",
       "    <tr>\n",
       "      <th>286</th>\n",
       "      <td>940.000</td>\n",
       "      <td>928.155762</td>\n",
       "    </tr>\n",
       "    <tr>\n",
       "      <th>102</th>\n",
       "      <td>375.000</td>\n",
       "      <td>365.273254</td>\n",
       "    </tr>\n",
       "    <tr>\n",
       "      <th>153</th>\n",
       "      <td>100.000</td>\n",
       "      <td>159.747452</td>\n",
       "    </tr>\n",
       "    <tr>\n",
       "      <th>...</th>\n",
       "      <td>...</td>\n",
       "      <td>...</td>\n",
       "    </tr>\n",
       "    <tr>\n",
       "      <th>24</th>\n",
       "      <td>776.667</td>\n",
       "      <td>785.666687</td>\n",
       "    </tr>\n",
       "    <tr>\n",
       "      <th>236</th>\n",
       "      <td>750.000</td>\n",
       "      <td>751.223022</td>\n",
       "    </tr>\n",
       "    <tr>\n",
       "      <th>93</th>\n",
       "      <td>145.000</td>\n",
       "      <td>168.951080</td>\n",
       "    </tr>\n",
       "    <tr>\n",
       "      <th>137</th>\n",
       "      <td>430.000</td>\n",
       "      <td>418.557770</td>\n",
       "    </tr>\n",
       "    <tr>\n",
       "      <th>133</th>\n",
       "      <td>87.500</td>\n",
       "      <td>104.661880</td>\n",
       "    </tr>\n",
       "  </tbody>\n",
       "</table>\n",
       "<p>197 rows × 2 columns</p>\n",
       "</div>"
      ],
      "text/plain": [
       "       Salary            0\n",
       "183   125.000   125.154846\n",
       "229  1940.000  1921.328125\n",
       "286   940.000   928.155762\n",
       "102   375.000   365.273254\n",
       "153   100.000   159.747452\n",
       "..        ...          ...\n",
       "24    776.667   785.666687\n",
       "236   750.000   751.223022\n",
       "93    145.000   168.951080\n",
       "137   430.000   418.557770\n",
       "133    87.500   104.661880\n",
       "\n",
       "[197 rows x 2 columns]"
      ]
     },
     "execution_count": 159,
     "metadata": {},
     "output_type": "execute_result"
    }
   ],
   "source": [
    "pd.concat([TRA,TRAP],axis=1)"
   ]
  },
  {
   "cell_type": "code",
   "execution_count": null,
   "metadata": {},
   "outputs": [],
   "source": []
  },
  {
   "cell_type": "code",
   "execution_count": 160,
   "metadata": {},
   "outputs": [
    {
     "data": {
      "text/html": [
       "<div>\n",
       "<style scoped>\n",
       "    .dataframe tbody tr th:only-of-type {\n",
       "        vertical-align: middle;\n",
       "    }\n",
       "\n",
       "    .dataframe tbody tr th {\n",
       "        vertical-align: top;\n",
       "    }\n",
       "\n",
       "    .dataframe thead th {\n",
       "        text-align: right;\n",
       "    }\n",
       "</style>\n",
       "<table border=\"1\" class=\"dataframe\">\n",
       "  <thead>\n",
       "    <tr style=\"text-align: right;\">\n",
       "      <th></th>\n",
       "      <th>Salary</th>\n",
       "      <th>0</th>\n",
       "    </tr>\n",
       "  </thead>\n",
       "  <tbody>\n",
       "    <tr>\n",
       "      <th>148</th>\n",
       "      <td>850.0</td>\n",
       "      <td>689.965332</td>\n",
       "    </tr>\n",
       "    <tr>\n",
       "      <th>154</th>\n",
       "      <td>277.5</td>\n",
       "      <td>729.055054</td>\n",
       "    </tr>\n",
       "    <tr>\n",
       "      <th>318</th>\n",
       "      <td>875.0</td>\n",
       "      <td>1384.563965</td>\n",
       "    </tr>\n",
       "    <tr>\n",
       "      <th>279</th>\n",
       "      <td>150.0</td>\n",
       "      <td>185.114838</td>\n",
       "    </tr>\n",
       "    <tr>\n",
       "      <th>88</th>\n",
       "      <td>260.0</td>\n",
       "      <td>595.289612</td>\n",
       "    </tr>\n",
       "    <tr>\n",
       "      <th>...</th>\n",
       "      <td>...</td>\n",
       "      <td>...</td>\n",
       "    </tr>\n",
       "    <tr>\n",
       "      <th>122</th>\n",
       "      <td>400.0</td>\n",
       "      <td>492.657440</td>\n",
       "    </tr>\n",
       "    <tr>\n",
       "      <th>282</th>\n",
       "      <td>90.0</td>\n",
       "      <td>670.789673</td>\n",
       "    </tr>\n",
       "    <tr>\n",
       "      <th>111</th>\n",
       "      <td>385.0</td>\n",
       "      <td>437.488647</td>\n",
       "    </tr>\n",
       "    <tr>\n",
       "      <th>232</th>\n",
       "      <td>450.0</td>\n",
       "      <td>476.409607</td>\n",
       "    </tr>\n",
       "    <tr>\n",
       "      <th>51</th>\n",
       "      <td>70.0</td>\n",
       "      <td>81.465065</td>\n",
       "    </tr>\n",
       "  </tbody>\n",
       "</table>\n",
       "<p>66 rows × 2 columns</p>\n",
       "</div>"
      ],
      "text/plain": [
       "     Salary            0\n",
       "148   850.0   689.965332\n",
       "154   277.5   729.055054\n",
       "318   875.0  1384.563965\n",
       "279   150.0   185.114838\n",
       "88    260.0   595.289612\n",
       "..      ...          ...\n",
       "122   400.0   492.657440\n",
       "282    90.0   670.789673\n",
       "111   385.0   437.488647\n",
       "232   450.0   476.409607\n",
       "51     70.0    81.465065\n",
       "\n",
       "[66 rows x 2 columns]"
      ]
     },
     "execution_count": 160,
     "metadata": {},
     "output_type": "execute_result"
    }
   ],
   "source": [
    "TRAte=pd.DataFrame(y_test)\n",
    "TRAPte=pd.DataFrame(y_pred,index=y_test.index)\n",
    "pd.concat([TRAte,TRAPte],axis=1)"
   ]
  },
  {
   "cell_type": "code",
   "execution_count": null,
   "metadata": {},
   "outputs": [],
   "source": []
  },
  {
   "cell_type": "markdown",
   "metadata": {},
   "source": [
    "# Light GBM"
   ]
  },
  {
   "cell_type": "code",
   "execution_count": 162,
   "metadata": {},
   "outputs": [],
   "source": [
    "hit = pd.read_csv(\"Hitters.csv\")\n",
    "df = hit.copy()\n",
    "df = df.dropna()\n",
    "dms = pd.get_dummies(df[['League', 'Division', 'NewLeague']])\n",
    "y = df[\"Salary\"]\n",
    "X_ = df.drop(['Salary', 'League', 'Division', 'NewLeague'], axis=1).astype('float64')\n",
    "X = pd.concat([X_, dms[['League_N', 'Division_W', 'NewLeague_N']]], axis=1)\n",
    "X_train, X_test, y_train, y_test = train_test_split(X, y, \n",
    "                                                    test_size=0.25, \n",
    "                                                    random_state=42)"
   ]
  },
  {
   "cell_type": "code",
   "execution_count": 163,
   "metadata": {
    "collapsed": true,
    "jupyter": {
     "outputs_hidden": true
    }
   },
   "outputs": [
    {
     "name": "stdout",
     "output_type": "stream",
     "text": [
      "Requirement already satisfied: lightgbm in c:\\users\\bedir\\anaconda3\\lib\\site-packages (2.3.1)\n",
      "Requirement already satisfied: numpy in c:\\users\\bedir\\anaconda3\\lib\\site-packages (from lightgbm) (1.18.1)\n",
      "Requirement already satisfied: scikit-learn in c:\\users\\bedir\\anaconda3\\lib\\site-packages (from lightgbm) (0.22.1)\n",
      "Requirement already satisfied: scipy in c:\\users\\bedir\\anaconda3\\lib\\site-packages (from lightgbm) (1.4.1)\n",
      "Requirement already satisfied: joblib>=0.11 in c:\\users\\bedir\\anaconda3\\lib\\site-packages (from scikit-learn->lightgbm) (0.14.1)\n"
     ]
    }
   ],
   "source": [
    "!pip install lightgbm"
   ]
  },
  {
   "cell_type": "code",
   "execution_count": 164,
   "metadata": {},
   "outputs": [],
   "source": [
    "from lightgbm import LGBMRegressor"
   ]
  },
  {
   "cell_type": "code",
   "execution_count": 168,
   "metadata": {},
   "outputs": [],
   "source": [
    "lgbm_grid = {\n",
    "    'colsample_bytree': [0.4, 0.5,0.6,0.9,1],\n",
    "    'learning_rate': [0.01, 0.1, 0.5,1],\n",
    "    'n_estimators': [20, 40, 100, 200, 500,1000],\n",
    "    'max_depth': [1,2,3,4,5,6,7,8] }\n",
    "\n",
    "lgbm = LGBMRegressor().fit(X_train,y_train)\n",
    "lgbm_cv_model = GridSearchCV(lgbm, lgbm_grid, cv=10, n_jobs = -1, verbose = 2)"
   ]
  },
  {
   "cell_type": "code",
   "execution_count": 170,
   "metadata": {},
   "outputs": [
    {
     "name": "stdout",
     "output_type": "stream",
     "text": [
      "Fitting 10 folds for each of 960 candidates, totalling 9600 fits\n"
     ]
    },
    {
     "name": "stderr",
     "output_type": "stream",
     "text": [
      "[Parallel(n_jobs=-1)]: Using backend LokyBackend with 8 concurrent workers.\n",
      "[Parallel(n_jobs=-1)]: Done  34 tasks      | elapsed:    0.1s\n",
      "[Parallel(n_jobs=-1)]: Done 896 tasks      | elapsed:    9.6s\n",
      "[Parallel(n_jobs=-1)]: Done 1828 tasks      | elapsed:   21.0s\n",
      "[Parallel(n_jobs=-1)]: Done 2960 tasks      | elapsed:   35.4s\n",
      "[Parallel(n_jobs=-1)]: Done 4420 tasks      | elapsed:   55.0s\n",
      "[Parallel(n_jobs=-1)]: Done 6200 tasks      | elapsed:  1.3min\n",
      "[Parallel(n_jobs=-1)]: Done 8308 tasks      | elapsed:  1.9min\n",
      "[Parallel(n_jobs=-1)]: Done 9600 out of 9600 | elapsed:  2.3min finished\n"
     ]
    },
    {
     "data": {
      "text/plain": [
       "GridSearchCV(cv=10, error_score=nan,\n",
       "             estimator=LGBMRegressor(boosting_type='gbdt', class_weight=None,\n",
       "                                     colsample_bytree=1.0,\n",
       "                                     importance_type='split', learning_rate=0.1,\n",
       "                                     max_depth=-1, min_child_samples=20,\n",
       "                                     min_child_weight=0.001, min_split_gain=0.0,\n",
       "                                     n_estimators=100, n_jobs=-1, num_leaves=31,\n",
       "                                     objective=None, random_state=None,\n",
       "                                     reg_alpha=0.0, reg_lambda=0.0, silent=True,\n",
       "                                     subsample=1.0, subsample_for_bin=200000,\n",
       "                                     subsample_freq=0),\n",
       "             iid='deprecated', n_jobs=-1,\n",
       "             param_grid={'colsample_bytree': [0.4, 0.5, 0.6, 0.9, 1],\n",
       "                         'learning_rate': [0.01, 0.1, 0.5, 1],\n",
       "                         'max_depth': [1, 2, 3, 4, 5, 6, 7, 8],\n",
       "                         'n_estimators': [20, 40, 100, 200, 500, 1000]},\n",
       "             pre_dispatch='2*n_jobs', refit=True, return_train_score=False,\n",
       "             scoring=None, verbose=2)"
      ]
     },
     "execution_count": 170,
     "metadata": {},
     "output_type": "execute_result"
    }
   ],
   "source": [
    "lgbm_cv_model.fit(X_train,y_train)"
   ]
  },
  {
   "cell_type": "code",
   "execution_count": 174,
   "metadata": {},
   "outputs": [
    {
     "data": {
      "text/plain": [
       "{'colsample_bytree': 0.4,\n",
       " 'learning_rate': 0.1,\n",
       " 'max_depth': 5,\n",
       " 'n_estimators': 40}"
      ]
     },
     "execution_count": 174,
     "metadata": {},
     "output_type": "execute_result"
    }
   ],
   "source": [
    "lgbm_cv_model.best_params_"
   ]
  },
  {
   "cell_type": "code",
   "execution_count": 175,
   "metadata": {},
   "outputs": [],
   "source": [
    "lgbm_tuned=LGBMRegressor(colsample_bytree=0.5,\n",
    "                        learning_rate=0.1,\n",
    "                        max_depth=5,\n",
    "                        n_estimators=40)"
   ]
  },
  {
   "cell_type": "code",
   "execution_count": 176,
   "metadata": {},
   "outputs": [
    {
     "data": {
      "text/plain": [
       "LGBMRegressor(boosting_type='gbdt', class_weight=None, colsample_bytree=0.5,\n",
       "              importance_type='split', learning_rate=0.1, max_depth=5,\n",
       "              min_child_samples=20, min_child_weight=0.001, min_split_gain=0.0,\n",
       "              n_estimators=40, n_jobs=-1, num_leaves=31, objective=None,\n",
       "              random_state=None, reg_alpha=0.0, reg_lambda=0.0, silent=True,\n",
       "              subsample=1.0, subsample_for_bin=200000, subsample_freq=0)"
      ]
     },
     "execution_count": 176,
     "metadata": {},
     "output_type": "execute_result"
    }
   ],
   "source": [
    "lgbm_tuned.fit(X_train,y_train)"
   ]
  },
  {
   "cell_type": "code",
   "execution_count": 177,
   "metadata": {},
   "outputs": [
    {
     "data": {
      "text/plain": [
       "372.6362243138388"
      ]
     },
     "execution_count": 177,
     "metadata": {},
     "output_type": "execute_result"
    }
   ],
   "source": [
    "y_pred=lgbm_tuned.predict(X_test)\n",
    "np.sqrt(mean_squared_error(y_pred,y_test))"
   ]
  },
  {
   "cell_type": "code",
   "execution_count": null,
   "metadata": {},
   "outputs": [],
   "source": []
  },
  {
   "cell_type": "markdown",
   "metadata": {},
   "source": [
    "# CatBoost\n",
    "\n",
    "**Category Boosting**"
   ]
  },
  {
   "cell_type": "code",
   "execution_count": 171,
   "metadata": {},
   "outputs": [],
   "source": [
    "hit = pd.read_csv(\"Hitters.csv\")\n",
    "df = hit.copy()\n",
    "df = df.dropna()\n",
    "dms = pd.get_dummies(df[['League', 'Division', 'NewLeague']])\n",
    "y = df[\"Salary\"]\n",
    "X_ = df.drop(['Salary', 'League', 'Division', 'NewLeague'], axis=1).astype('float64')\n",
    "X = pd.concat([X_, dms[['League_N', 'Division_W', 'NewLeague_N']]], axis=1)\n",
    "X_train, X_test, y_train, y_test = train_test_split(X, y, \n",
    "                                                    test_size=0.25, \n",
    "                                                    random_state=42)\n"
   ]
  },
  {
   "cell_type": "code",
   "execution_count": 172,
   "metadata": {},
   "outputs": [
    {
     "name": "stdout",
     "output_type": "stream",
     "text": [
      "Requirement already satisfied: catboost in c:\\users\\bedir\\anaconda3\\lib\\site-packages (0.23.2)\n",
      "Requirement already satisfied: pandas>=0.24.0 in c:\\users\\bedir\\anaconda3\\lib\\site-packages (from catboost) (1.0.1)\n",
      "Requirement already satisfied: graphviz in c:\\users\\bedir\\anaconda3\\lib\\site-packages (from catboost) (0.14.1)\n",
      "Requirement already satisfied: matplotlib in c:\\users\\bedir\\anaconda3\\lib\\site-packages (from catboost) (3.1.3)\n",
      "Requirement already satisfied: plotly in c:\\users\\bedir\\anaconda3\\lib\\site-packages (from catboost) (4.9.0)\n",
      "Requirement already satisfied: numpy>=1.16.0 in c:\\users\\bedir\\anaconda3\\lib\\site-packages (from catboost) (1.18.1)\n",
      "Requirement already satisfied: scipy in c:\\users\\bedir\\anaconda3\\lib\\site-packages (from catboost) (1.4.1)\n",
      "Requirement already satisfied: six in c:\\users\\bedir\\anaconda3\\lib\\site-packages (from catboost) (1.14.0)\n",
      "Requirement already satisfied: pytz>=2017.2 in c:\\users\\bedir\\anaconda3\\lib\\site-packages (from pandas>=0.24.0->catboost) (2019.3)\n",
      "Requirement already satisfied: python-dateutil>=2.6.1 in c:\\users\\bedir\\anaconda3\\lib\\site-packages (from pandas>=0.24.0->catboost) (2.8.1)\n",
      "Requirement already satisfied: pyparsing!=2.0.4,!=2.1.2,!=2.1.6,>=2.0.1 in c:\\users\\bedir\\anaconda3\\lib\\site-packages (from matplotlib->catboost) (2.4.6)\n",
      "Requirement already satisfied: kiwisolver>=1.0.1 in c:\\users\\bedir\\anaconda3\\lib\\site-packages (from matplotlib->catboost) (1.1.0)\n",
      "Requirement already satisfied: cycler>=0.10 in c:\\users\\bedir\\anaconda3\\lib\\site-packages (from matplotlib->catboost) (0.10.0)\n",
      "Requirement already satisfied: retrying>=1.3.3 in c:\\users\\bedir\\anaconda3\\lib\\site-packages (from plotly->catboost) (1.3.3)\n",
      "Requirement already satisfied: setuptools in c:\\users\\bedir\\anaconda3\\lib\\site-packages (from kiwisolver>=1.0.1->matplotlib->catboost) (45.2.0.post20200210)\n"
     ]
    }
   ],
   "source": [
    "!pip install catboost"
   ]
  },
  {
   "cell_type": "code",
   "execution_count": 173,
   "metadata": {},
   "outputs": [],
   "source": [
    "from catboost import CatBoostRegressor"
   ]
  },
  {
   "cell_type": "code",
   "execution_count": 188,
   "metadata": {},
   "outputs": [],
   "source": [
    "catb_grid = {\n",
    "    'iterations': [200,500,1000,2000],\n",
    "    'learning_rate': [0.01, 0.03, 0.05, 0.1],\n",
    "    'depth': [3,4,5,6,7,8] }"
   ]
  },
  {
   "cell_type": "code",
   "execution_count": 189,
   "metadata": {},
   "outputs": [],
   "source": [
    "catb = CatBoostRegressor()\n",
    "catb_cv_model = GridSearchCV(catb, catb_grid, cv=5, n_jobs = -1, verbose = 2)"
   ]
  },
  {
   "cell_type": "code",
   "execution_count": 190,
   "metadata": {},
   "outputs": [
    {
     "name": "stdout",
     "output_type": "stream",
     "text": [
      "Fitting 5 folds for each of 96 candidates, totalling 480 fits\n"
     ]
    },
    {
     "name": "stderr",
     "output_type": "stream",
     "text": [
      "[Parallel(n_jobs=-1)]: Using backend LokyBackend with 8 concurrent workers.\n",
      "[Parallel(n_jobs=-1)]: Done  25 tasks      | elapsed:    8.3s\n",
      "[Parallel(n_jobs=-1)]: Done 146 tasks      | elapsed:  1.5min\n",
      "[Parallel(n_jobs=-1)]: Done 349 tasks      | elapsed:  5.6min\n",
      "[Parallel(n_jobs=-1)]: Done 480 out of 480 | elapsed: 12.7min finished\n"
     ]
    },
    {
     "name": "stdout",
     "output_type": "stream",
     "text": [
      "0:\tlearn: 422.4143448\ttotal: 1.92ms\tremaining: 1.92s\n",
      "1:\tlearn: 404.1864276\ttotal: 3.6ms\tremaining: 1.79s\n",
      "2:\tlearn: 386.3231718\ttotal: 4.75ms\tremaining: 1.58s\n",
      "3:\tlearn: 370.5548032\ttotal: 6.05ms\tremaining: 1.51s\n",
      "4:\tlearn: 354.9242038\ttotal: 7.45ms\tremaining: 1.48s\n",
      "5:\tlearn: 342.3403984\ttotal: 8.74ms\tremaining: 1.45s\n",
      "6:\tlearn: 328.2370070\ttotal: 9.95ms\tremaining: 1.41s\n",
      "7:\tlearn: 317.5056526\ttotal: 11.4ms\tremaining: 1.41s\n",
      "8:\tlearn: 306.6243511\ttotal: 12.6ms\tremaining: 1.38s\n",
      "9:\tlearn: 297.3147023\ttotal: 13.7ms\tremaining: 1.35s\n",
      "10:\tlearn: 288.3685892\ttotal: 14.8ms\tremaining: 1.33s\n",
      "11:\tlearn: 281.0996220\ttotal: 16ms\tremaining: 1.31s\n",
      "12:\tlearn: 273.2254898\ttotal: 17.1ms\tremaining: 1.3s\n",
      "13:\tlearn: 266.9003385\ttotal: 18.2ms\tremaining: 1.28s\n",
      "14:\tlearn: 261.9092500\ttotal: 19.3ms\tremaining: 1.27s\n",
      "15:\tlearn: 256.2637350\ttotal: 20.6ms\tremaining: 1.26s\n",
      "16:\tlearn: 250.3667935\ttotal: 21.7ms\tremaining: 1.25s\n",
      "17:\tlearn: 244.8631098\ttotal: 23ms\tremaining: 1.25s\n",
      "18:\tlearn: 240.1540669\ttotal: 24.2ms\tremaining: 1.25s\n",
      "19:\tlearn: 235.6057263\ttotal: 25.3ms\tremaining: 1.24s\n",
      "20:\tlearn: 231.2431102\ttotal: 26.4ms\tremaining: 1.23s\n",
      "21:\tlearn: 226.4912464\ttotal: 27.4ms\tremaining: 1.22s\n",
      "22:\tlearn: 223.5591707\ttotal: 28.1ms\tremaining: 1.19s\n",
      "23:\tlearn: 219.6098928\ttotal: 29.2ms\tremaining: 1.19s\n",
      "24:\tlearn: 215.3653069\ttotal: 30.4ms\tremaining: 1.19s\n",
      "25:\tlearn: 212.0589058\ttotal: 31.7ms\tremaining: 1.19s\n",
      "26:\tlearn: 209.7717728\ttotal: 32.9ms\tremaining: 1.19s\n",
      "27:\tlearn: 206.4800180\ttotal: 34.2ms\tremaining: 1.19s\n",
      "28:\tlearn: 204.4998286\ttotal: 35.9ms\tremaining: 1.2s\n",
      "29:\tlearn: 202.5999376\ttotal: 37.1ms\tremaining: 1.2s\n",
      "30:\tlearn: 199.5099986\ttotal: 38.6ms\tremaining: 1.21s\n",
      "31:\tlearn: 196.9435690\ttotal: 39.7ms\tremaining: 1.2s\n",
      "32:\tlearn: 194.9855023\ttotal: 40.8ms\tremaining: 1.2s\n",
      "33:\tlearn: 193.0037094\ttotal: 42ms\tremaining: 1.19s\n",
      "34:\tlearn: 191.6771224\ttotal: 43.1ms\tremaining: 1.19s\n",
      "35:\tlearn: 188.6440989\ttotal: 44.5ms\tremaining: 1.19s\n",
      "36:\tlearn: 186.7575822\ttotal: 45.5ms\tremaining: 1.18s\n",
      "37:\tlearn: 183.5070965\ttotal: 46.6ms\tremaining: 1.18s\n",
      "38:\tlearn: 181.9932704\ttotal: 48ms\tremaining: 1.18s\n",
      "39:\tlearn: 180.4612043\ttotal: 49.1ms\tremaining: 1.18s\n",
      "40:\tlearn: 178.9727236\ttotal: 50.2ms\tremaining: 1.17s\n",
      "41:\tlearn: 176.9704782\ttotal: 52.5ms\tremaining: 1.2s\n",
      "42:\tlearn: 172.9583917\ttotal: 54.7ms\tremaining: 1.22s\n",
      "43:\tlearn: 172.0259404\ttotal: 55.7ms\tremaining: 1.21s\n",
      "44:\tlearn: 169.6703908\ttotal: 56.8ms\tremaining: 1.21s\n",
      "45:\tlearn: 167.0349788\ttotal: 58ms\tremaining: 1.2s\n",
      "46:\tlearn: 166.0151540\ttotal: 59.4ms\tremaining: 1.2s\n",
      "47:\tlearn: 164.3432866\ttotal: 60.9ms\tremaining: 1.21s\n",
      "48:\tlearn: 163.7139546\ttotal: 62ms\tremaining: 1.2s\n",
      "49:\tlearn: 162.0231882\ttotal: 63ms\tremaining: 1.2s\n",
      "50:\tlearn: 159.4806540\ttotal: 64.1ms\tremaining: 1.19s\n",
      "51:\tlearn: 156.5835618\ttotal: 65.1ms\tremaining: 1.19s\n",
      "52:\tlearn: 155.1124833\ttotal: 66.2ms\tremaining: 1.18s\n",
      "53:\tlearn: 154.3849650\ttotal: 67.2ms\tremaining: 1.18s\n",
      "54:\tlearn: 153.2243534\ttotal: 68.5ms\tremaining: 1.18s\n",
      "55:\tlearn: 152.3205510\ttotal: 70ms\tremaining: 1.18s\n",
      "56:\tlearn: 151.0666069\ttotal: 71.3ms\tremaining: 1.18s\n",
      "57:\tlearn: 150.0992693\ttotal: 72.7ms\tremaining: 1.18s\n",
      "58:\tlearn: 149.7214223\ttotal: 74.1ms\tremaining: 1.18s\n",
      "59:\tlearn: 149.3420563\ttotal: 75.4ms\tremaining: 1.18s\n",
      "60:\tlearn: 147.1527638\ttotal: 76.5ms\tremaining: 1.18s\n",
      "61:\tlearn: 146.0849045\ttotal: 78ms\tremaining: 1.18s\n",
      "62:\tlearn: 145.2592821\ttotal: 79.5ms\tremaining: 1.18s\n",
      "63:\tlearn: 143.9723823\ttotal: 80.8ms\tremaining: 1.18s\n",
      "64:\tlearn: 142.9337890\ttotal: 82.5ms\tremaining: 1.19s\n",
      "65:\tlearn: 141.2456060\ttotal: 83.8ms\tremaining: 1.19s\n",
      "66:\tlearn: 140.0933886\ttotal: 85.3ms\tremaining: 1.19s\n",
      "67:\tlearn: 139.0122411\ttotal: 86.6ms\tremaining: 1.19s\n",
      "68:\tlearn: 137.0658535\ttotal: 90.1ms\tremaining: 1.22s\n",
      "69:\tlearn: 136.5187600\ttotal: 91.8ms\tremaining: 1.22s\n",
      "70:\tlearn: 135.3177866\ttotal: 93ms\tremaining: 1.22s\n",
      "71:\tlearn: 134.4397288\ttotal: 94.4ms\tremaining: 1.22s\n",
      "72:\tlearn: 133.9689054\ttotal: 95.6ms\tremaining: 1.21s\n",
      "73:\tlearn: 132.9503812\ttotal: 96.8ms\tremaining: 1.21s\n",
      "74:\tlearn: 132.4790284\ttotal: 98.1ms\tremaining: 1.21s\n",
      "75:\tlearn: 130.0079846\ttotal: 99.4ms\tremaining: 1.21s\n",
      "76:\tlearn: 128.6536311\ttotal: 101ms\tremaining: 1.21s\n",
      "77:\tlearn: 126.4149435\ttotal: 102ms\tremaining: 1.2s\n",
      "78:\tlearn: 124.7339610\ttotal: 103ms\tremaining: 1.2s\n",
      "79:\tlearn: 123.6799098\ttotal: 104ms\tremaining: 1.2s\n",
      "80:\tlearn: 122.0132818\ttotal: 106ms\tremaining: 1.2s\n",
      "81:\tlearn: 121.7718402\ttotal: 107ms\tremaining: 1.2s\n",
      "82:\tlearn: 121.0226763\ttotal: 108ms\tremaining: 1.2s\n",
      "83:\tlearn: 119.0352412\ttotal: 110ms\tremaining: 1.2s\n",
      "84:\tlearn: 118.1578472\ttotal: 111ms\tremaining: 1.2s\n",
      "85:\tlearn: 117.3963152\ttotal: 112ms\tremaining: 1.19s\n",
      "86:\tlearn: 116.8601830\ttotal: 114ms\tremaining: 1.19s\n",
      "87:\tlearn: 115.1485488\ttotal: 115ms\tremaining: 1.19s\n",
      "88:\tlearn: 113.3802066\ttotal: 116ms\tremaining: 1.19s\n",
      "89:\tlearn: 111.8047507\ttotal: 118ms\tremaining: 1.19s\n",
      "90:\tlearn: 111.2173889\ttotal: 120ms\tremaining: 1.19s\n",
      "91:\tlearn: 109.7797673\ttotal: 121ms\tremaining: 1.19s\n",
      "92:\tlearn: 108.5968886\ttotal: 122ms\tremaining: 1.19s\n",
      "93:\tlearn: 107.3902106\ttotal: 124ms\tremaining: 1.19s\n",
      "94:\tlearn: 106.5920119\ttotal: 125ms\tremaining: 1.19s\n",
      "95:\tlearn: 105.9400132\ttotal: 127ms\tremaining: 1.19s\n",
      "96:\tlearn: 104.5018068\ttotal: 128ms\tremaining: 1.19s\n",
      "97:\tlearn: 104.2449785\ttotal: 130ms\tremaining: 1.19s\n",
      "98:\tlearn: 102.4745810\ttotal: 131ms\tremaining: 1.19s\n",
      "99:\tlearn: 101.5007722\ttotal: 132ms\tremaining: 1.19s\n",
      "100:\tlearn: 101.0929742\ttotal: 134ms\tremaining: 1.19s\n",
      "101:\tlearn: 100.8864538\ttotal: 135ms\tremaining: 1.19s\n",
      "102:\tlearn: 99.5007076\ttotal: 137ms\tremaining: 1.19s\n",
      "103:\tlearn: 98.1646778\ttotal: 138ms\tremaining: 1.19s\n",
      "104:\tlearn: 97.1950961\ttotal: 140ms\tremaining: 1.19s\n",
      "105:\tlearn: 96.0991462\ttotal: 141ms\tremaining: 1.19s\n",
      "106:\tlearn: 95.4337941\ttotal: 143ms\tremaining: 1.19s\n",
      "107:\tlearn: 94.9099345\ttotal: 144ms\tremaining: 1.19s\n",
      "108:\tlearn: 94.3889362\ttotal: 146ms\tremaining: 1.19s\n",
      "109:\tlearn: 94.2091744\ttotal: 147ms\tremaining: 1.19s\n",
      "110:\tlearn: 92.8508793\ttotal: 148ms\tremaining: 1.19s\n",
      "111:\tlearn: 92.1784338\ttotal: 150ms\tremaining: 1.19s\n",
      "112:\tlearn: 91.6689944\ttotal: 151ms\tremaining: 1.19s\n",
      "113:\tlearn: 90.6644520\ttotal: 153ms\tremaining: 1.19s\n",
      "114:\tlearn: 90.5375287\ttotal: 154ms\tremaining: 1.18s\n",
      "115:\tlearn: 90.3442623\ttotal: 155ms\tremaining: 1.18s\n",
      "116:\tlearn: 89.3637881\ttotal: 156ms\tremaining: 1.18s\n",
      "117:\tlearn: 88.5340073\ttotal: 158ms\tremaining: 1.18s\n",
      "118:\tlearn: 88.3598014\ttotal: 159ms\tremaining: 1.18s\n",
      "119:\tlearn: 87.1290719\ttotal: 160ms\tremaining: 1.17s\n",
      "120:\tlearn: 87.0034893\ttotal: 161ms\tremaining: 1.17s\n",
      "121:\tlearn: 85.9581724\ttotal: 162ms\tremaining: 1.17s\n",
      "122:\tlearn: 84.7062226\ttotal: 164ms\tremaining: 1.17s\n",
      "123:\tlearn: 84.6114296\ttotal: 165ms\tremaining: 1.16s\n",
      "124:\tlearn: 83.3769126\ttotal: 166ms\tremaining: 1.16s\n",
      "125:\tlearn: 82.2866094\ttotal: 167ms\tremaining: 1.16s\n",
      "126:\tlearn: 81.7817112\ttotal: 169ms\tremaining: 1.16s\n",
      "127:\tlearn: 80.3710545\ttotal: 170ms\tremaining: 1.16s\n",
      "128:\tlearn: 79.3458239\ttotal: 171ms\tremaining: 1.16s\n",
      "129:\tlearn: 78.8966509\ttotal: 173ms\tremaining: 1.16s\n",
      "130:\tlearn: 78.7683699\ttotal: 174ms\tremaining: 1.15s\n",
      "131:\tlearn: 78.0116712\ttotal: 175ms\tremaining: 1.15s\n",
      "132:\tlearn: 77.5728582\ttotal: 176ms\tremaining: 1.15s\n",
      "133:\tlearn: 76.4635356\ttotal: 178ms\tremaining: 1.15s\n",
      "134:\tlearn: 75.6109482\ttotal: 179ms\tremaining: 1.15s\n",
      "135:\tlearn: 74.8287886\ttotal: 180ms\tremaining: 1.15s\n",
      "136:\tlearn: 74.2493825\ttotal: 182ms\tremaining: 1.14s\n",
      "137:\tlearn: 73.3192822\ttotal: 183ms\tremaining: 1.14s\n",
      "138:\tlearn: 72.9755066\ttotal: 184ms\tremaining: 1.14s\n",
      "139:\tlearn: 72.8423874\ttotal: 186ms\tremaining: 1.14s\n",
      "140:\tlearn: 71.5949506\ttotal: 187ms\tremaining: 1.14s\n",
      "141:\tlearn: 70.9408732\ttotal: 188ms\tremaining: 1.14s\n",
      "142:\tlearn: 70.1699642\ttotal: 190ms\tremaining: 1.14s\n",
      "143:\tlearn: 69.8737644\ttotal: 191ms\tremaining: 1.13s\n",
      "144:\tlearn: 69.0963759\ttotal: 192ms\tremaining: 1.13s\n",
      "145:\tlearn: 68.9702397\ttotal: 193ms\tremaining: 1.13s\n",
      "146:\tlearn: 67.8950397\ttotal: 194ms\tremaining: 1.13s\n",
      "147:\tlearn: 67.1501269\ttotal: 196ms\tremaining: 1.13s\n",
      "148:\tlearn: 66.4028868\ttotal: 197ms\tremaining: 1.12s\n",
      "149:\tlearn: 65.3349813\ttotal: 198ms\tremaining: 1.12s\n",
      "150:\tlearn: 64.6766190\ttotal: 199ms\tremaining: 1.12s\n",
      "151:\tlearn: 63.7390417\ttotal: 200ms\tremaining: 1.12s\n",
      "152:\tlearn: 62.9043101\ttotal: 201ms\tremaining: 1.11s\n",
      "153:\tlearn: 62.5922794\ttotal: 203ms\tremaining: 1.11s\n",
      "154:\tlearn: 62.1160450\ttotal: 204ms\tremaining: 1.11s\n",
      "155:\tlearn: 61.7702532\ttotal: 205ms\tremaining: 1.11s\n",
      "156:\tlearn: 61.2433354\ttotal: 206ms\tremaining: 1.11s\n",
      "157:\tlearn: 60.8455422\ttotal: 207ms\tremaining: 1.1s\n",
      "158:\tlearn: 60.6755303\ttotal: 208ms\tremaining: 1.1s\n",
      "159:\tlearn: 59.9631043\ttotal: 209ms\tremaining: 1.1s\n",
      "160:\tlearn: 59.2211911\ttotal: 210ms\tremaining: 1.1s\n",
      "161:\tlearn: 59.1400932\ttotal: 212ms\tremaining: 1.09s\n",
      "162:\tlearn: 58.9164262\ttotal: 213ms\tremaining: 1.09s\n",
      "163:\tlearn: 58.2084420\ttotal: 214ms\tremaining: 1.09s\n",
      "164:\tlearn: 57.9934649\ttotal: 215ms\tremaining: 1.09s\n",
      "165:\tlearn: 57.3736694\ttotal: 217ms\tremaining: 1.09s\n",
      "166:\tlearn: 56.8338370\ttotal: 218ms\tremaining: 1.09s\n",
      "167:\tlearn: 56.5518049\ttotal: 219ms\tremaining: 1.08s\n",
      "168:\tlearn: 55.9777349\ttotal: 220ms\tremaining: 1.08s\n",
      "169:\tlearn: 55.4485860\ttotal: 222ms\tremaining: 1.08s\n",
      "170:\tlearn: 55.0892542\ttotal: 223ms\tremaining: 1.08s\n",
      "171:\tlearn: 54.9915464\ttotal: 224ms\tremaining: 1.08s\n",
      "172:\tlearn: 54.3968112\ttotal: 225ms\tremaining: 1.08s\n",
      "173:\tlearn: 53.7708163\ttotal: 226ms\tremaining: 1.07s\n",
      "174:\tlearn: 53.1993023\ttotal: 228ms\tremaining: 1.07s\n",
      "175:\tlearn: 52.7773821\ttotal: 229ms\tremaining: 1.07s\n",
      "176:\tlearn: 52.5186612\ttotal: 230ms\tremaining: 1.07s\n",
      "177:\tlearn: 52.0038075\ttotal: 231ms\tremaining: 1.07s\n",
      "178:\tlearn: 51.7971195\ttotal: 232ms\tremaining: 1.07s\n",
      "179:\tlearn: 51.4334863\ttotal: 234ms\tremaining: 1.06s\n",
      "180:\tlearn: 50.9151359\ttotal: 236ms\tremaining: 1.07s\n",
      "181:\tlearn: 50.8252320\ttotal: 238ms\tremaining: 1.07s\n",
      "182:\tlearn: 50.4143487\ttotal: 239ms\tremaining: 1.06s\n",
      "183:\tlearn: 50.0253432\ttotal: 240ms\tremaining: 1.06s\n",
      "184:\tlearn: 49.6769233\ttotal: 241ms\tremaining: 1.06s\n",
      "185:\tlearn: 49.5689505\ttotal: 242ms\tremaining: 1.06s\n",
      "186:\tlearn: 49.0813531\ttotal: 243ms\tremaining: 1.06s\n",
      "187:\tlearn: 48.9396335\ttotal: 245ms\tremaining: 1.06s\n",
      "188:\tlearn: 48.5040716\ttotal: 246ms\tremaining: 1.05s\n",
      "189:\tlearn: 47.9644995\ttotal: 247ms\tremaining: 1.05s\n",
      "190:\tlearn: 47.8292554\ttotal: 249ms\tremaining: 1.05s\n",
      "191:\tlearn: 47.4433025\ttotal: 250ms\tremaining: 1.05s\n",
      "192:\tlearn: 46.9286959\ttotal: 251ms\tremaining: 1.05s\n",
      "193:\tlearn: 46.3092347\ttotal: 252ms\tremaining: 1.05s\n",
      "194:\tlearn: 45.7431428\ttotal: 253ms\tremaining: 1.05s\n",
      "195:\tlearn: 45.6714261\ttotal: 254ms\tremaining: 1.04s\n",
      "196:\tlearn: 45.5088158\ttotal: 255ms\tremaining: 1.04s\n",
      "197:\tlearn: 45.4713460\ttotal: 256ms\tremaining: 1.04s\n",
      "198:\tlearn: 45.0942536\ttotal: 258ms\tremaining: 1.04s\n",
      "199:\tlearn: 44.7625600\ttotal: 259ms\tremaining: 1.03s\n",
      "200:\tlearn: 44.3247006\ttotal: 261ms\tremaining: 1.04s\n",
      "201:\tlearn: 43.8054974\ttotal: 262ms\tremaining: 1.03s\n",
      "202:\tlearn: 43.3359785\ttotal: 263ms\tremaining: 1.03s\n",
      "203:\tlearn: 42.8698272\ttotal: 264ms\tremaining: 1.03s\n",
      "204:\tlearn: 42.4275364\ttotal: 265ms\tremaining: 1.03s\n",
      "205:\tlearn: 41.9463597\ttotal: 267ms\tremaining: 1.03s\n",
      "206:\tlearn: 41.7547985\ttotal: 268ms\tremaining: 1.03s\n",
      "207:\tlearn: 41.6019714\ttotal: 269ms\tremaining: 1.02s\n",
      "208:\tlearn: 41.4342896\ttotal: 270ms\tremaining: 1.02s\n",
      "209:\tlearn: 41.0764993\ttotal: 272ms\tremaining: 1.02s\n",
      "210:\tlearn: 40.7895715\ttotal: 273ms\tremaining: 1.02s\n",
      "211:\tlearn: 40.4428042\ttotal: 274ms\tremaining: 1.02s\n",
      "212:\tlearn: 39.9370849\ttotal: 275ms\tremaining: 1.02s\n",
      "213:\tlearn: 39.4885257\ttotal: 276ms\tremaining: 1.01s\n",
      "214:\tlearn: 39.1268375\ttotal: 277ms\tremaining: 1.01s\n",
      "215:\tlearn: 38.9591271\ttotal: 279ms\tremaining: 1.01s\n",
      "216:\tlearn: 38.8008893\ttotal: 280ms\tremaining: 1.01s\n",
      "217:\tlearn: 38.4956003\ttotal: 282ms\tremaining: 1.01s\n",
      "218:\tlearn: 38.3528545\ttotal: 284ms\tremaining: 1.01s\n",
      "219:\tlearn: 38.1794276\ttotal: 285ms\tremaining: 1.01s\n",
      "220:\tlearn: 38.1135196\ttotal: 287ms\tremaining: 1.01s\n",
      "221:\tlearn: 37.9126665\ttotal: 288ms\tremaining: 1.01s\n",
      "222:\tlearn: 37.5375523\ttotal: 290ms\tremaining: 1.01s\n",
      "223:\tlearn: 37.3774479\ttotal: 291ms\tremaining: 1.01s\n",
      "224:\tlearn: 36.8965396\ttotal: 293ms\tremaining: 1.01s\n",
      "225:\tlearn: 36.4012999\ttotal: 294ms\tremaining: 1.01s\n",
      "226:\tlearn: 35.9300616\ttotal: 296ms\tremaining: 1.01s\n",
      "227:\tlearn: 35.6148029\ttotal: 297ms\tremaining: 1.01s\n",
      "228:\tlearn: 35.2741594\ttotal: 298ms\tremaining: 1s\n",
      "229:\tlearn: 35.0196015\ttotal: 300ms\tremaining: 1s\n",
      "230:\tlearn: 34.5877862\ttotal: 301ms\tremaining: 1s\n",
      "231:\tlearn: 34.4128370\ttotal: 303ms\tremaining: 1s\n",
      "232:\tlearn: 34.2685016\ttotal: 305ms\tremaining: 1s\n",
      "233:\tlearn: 34.2021290\ttotal: 306ms\tremaining: 1s\n",
      "234:\tlearn: 34.1117548\ttotal: 307ms\tremaining: 999ms\n",
      "235:\tlearn: 33.7038307\ttotal: 308ms\tremaining: 998ms\n",
      "236:\tlearn: 33.6591145\ttotal: 310ms\tremaining: 997ms\n",
      "237:\tlearn: 33.6134076\ttotal: 311ms\tremaining: 996ms\n",
      "238:\tlearn: 33.3091022\ttotal: 312ms\tremaining: 994ms\n",
      "239:\tlearn: 33.2050988\ttotal: 314ms\tremaining: 993ms\n",
      "240:\tlearn: 32.7984087\ttotal: 315ms\tremaining: 992ms\n",
      "241:\tlearn: 32.4886567\ttotal: 316ms\tremaining: 991ms\n",
      "242:\tlearn: 32.3354906\ttotal: 318ms\tremaining: 989ms\n",
      "243:\tlearn: 32.1610609\ttotal: 319ms\tremaining: 988ms\n",
      "244:\tlearn: 31.9242693\ttotal: 320ms\tremaining: 987ms\n",
      "245:\tlearn: 31.4693550\ttotal: 322ms\tremaining: 986ms\n",
      "246:\tlearn: 31.1071532\ttotal: 323ms\tremaining: 985ms\n",
      "247:\tlearn: 30.7311162\ttotal: 325ms\tremaining: 984ms\n",
      "248:\tlearn: 30.4892550\ttotal: 326ms\tremaining: 983ms\n",
      "249:\tlearn: 30.3680212\ttotal: 329ms\tremaining: 988ms\n",
      "250:\tlearn: 30.1346007\ttotal: 331ms\tremaining: 987ms\n",
      "251:\tlearn: 29.8046285\ttotal: 332ms\tremaining: 987ms\n",
      "252:\tlearn: 29.6637514\ttotal: 334ms\tremaining: 986ms\n",
      "253:\tlearn: 29.5176095\ttotal: 335ms\tremaining: 985ms\n",
      "254:\tlearn: 29.3723319\ttotal: 337ms\tremaining: 984ms\n",
      "255:\tlearn: 29.1301438\ttotal: 338ms\tremaining: 982ms\n",
      "256:\tlearn: 29.1025017\ttotal: 340ms\tremaining: 982ms\n",
      "257:\tlearn: 28.8276340\ttotal: 341ms\tremaining: 980ms\n",
      "258:\tlearn: 28.6313979\ttotal: 342ms\tremaining: 978ms\n",
      "259:\tlearn: 28.3904787\ttotal: 343ms\tremaining: 977ms\n",
      "260:\tlearn: 27.9496011\ttotal: 344ms\tremaining: 975ms\n",
      "261:\tlearn: 27.6744647\ttotal: 345ms\tremaining: 973ms\n",
      "262:\tlearn: 27.5631687\ttotal: 347ms\tremaining: 972ms\n",
      "263:\tlearn: 27.2940171\ttotal: 348ms\tremaining: 970ms\n",
      "264:\tlearn: 27.0524989\ttotal: 349ms\tremaining: 968ms\n",
      "265:\tlearn: 26.9019408\ttotal: 351ms\tremaining: 967ms\n",
      "266:\tlearn: 26.7539234\ttotal: 352ms\tremaining: 965ms\n",
      "267:\tlearn: 26.5906135\ttotal: 353ms\tremaining: 965ms\n",
      "268:\tlearn: 26.3413069\ttotal: 354ms\tremaining: 963ms\n",
      "269:\tlearn: 26.2300985\ttotal: 355ms\tremaining: 961ms\n",
      "270:\tlearn: 25.7633750\ttotal: 356ms\tremaining: 959ms\n",
      "271:\tlearn: 25.5999298\ttotal: 357ms\tremaining: 957ms\n",
      "272:\tlearn: 25.4034221\ttotal: 359ms\tremaining: 955ms\n",
      "273:\tlearn: 25.3449361\ttotal: 360ms\tremaining: 953ms\n",
      "274:\tlearn: 25.1308675\ttotal: 361ms\tremaining: 952ms\n",
      "275:\tlearn: 24.8170605\ttotal: 362ms\tremaining: 950ms\n",
      "276:\tlearn: 24.5265387\ttotal: 364ms\tremaining: 949ms\n",
      "277:\tlearn: 24.3891773\ttotal: 365ms\tremaining: 947ms\n",
      "278:\tlearn: 24.1691955\ttotal: 366ms\tremaining: 945ms\n",
      "279:\tlearn: 23.9780841\ttotal: 367ms\tremaining: 943ms\n",
      "280:\tlearn: 23.7459991\ttotal: 368ms\tremaining: 942ms\n",
      "281:\tlearn: 23.5762098\ttotal: 369ms\tremaining: 941ms\n",
      "282:\tlearn: 23.4130148\ttotal: 371ms\tremaining: 939ms\n",
      "283:\tlearn: 23.1365659\ttotal: 372ms\tremaining: 938ms\n",
      "284:\tlearn: 22.9605139\ttotal: 373ms\tremaining: 936ms\n",
      "285:\tlearn: 22.8198952\ttotal: 375ms\tremaining: 935ms\n",
      "286:\tlearn: 22.7220776\ttotal: 376ms\tremaining: 933ms\n",
      "287:\tlearn: 22.6349162\ttotal: 377ms\tremaining: 931ms\n",
      "288:\tlearn: 22.5037731\ttotal: 378ms\tremaining: 930ms\n",
      "289:\tlearn: 22.4280658\ttotal: 380ms\tremaining: 929ms\n",
      "290:\tlearn: 22.4111078\ttotal: 381ms\tremaining: 927ms\n",
      "291:\tlearn: 22.2582825\ttotal: 382ms\tremaining: 925ms\n",
      "292:\tlearn: 22.0361847\ttotal: 383ms\tremaining: 924ms\n",
      "293:\tlearn: 21.9197616\ttotal: 384ms\tremaining: 922ms\n",
      "294:\tlearn: 21.8934931\ttotal: 385ms\tremaining: 921ms\n",
      "295:\tlearn: 21.8385467\ttotal: 386ms\tremaining: 919ms\n",
      "296:\tlearn: 21.6056469\ttotal: 387ms\tremaining: 917ms\n",
      "297:\tlearn: 21.3638471\ttotal: 389ms\tremaining: 916ms\n",
      "298:\tlearn: 21.2403020\ttotal: 390ms\tremaining: 915ms\n",
      "299:\tlearn: 20.9940588\ttotal: 391ms\tremaining: 913ms\n",
      "300:\tlearn: 20.8606002\ttotal: 393ms\tremaining: 912ms\n",
      "301:\tlearn: 20.7521062\ttotal: 394ms\tremaining: 911ms\n",
      "302:\tlearn: 20.4914061\ttotal: 395ms\tremaining: 909ms\n",
      "303:\tlearn: 20.4390781\ttotal: 397ms\tremaining: 910ms\n",
      "304:\tlearn: 20.4261039\ttotal: 399ms\tremaining: 909ms\n",
      "305:\tlearn: 20.3429361\ttotal: 400ms\tremaining: 907ms\n",
      "306:\tlearn: 20.3186699\ttotal: 401ms\tremaining: 905ms\n",
      "307:\tlearn: 20.2200547\ttotal: 402ms\tremaining: 904ms\n",
      "308:\tlearn: 20.0363798\ttotal: 403ms\tremaining: 902ms\n",
      "309:\tlearn: 19.9375964\ttotal: 404ms\tremaining: 900ms\n",
      "310:\tlearn: 19.8562475\ttotal: 406ms\tremaining: 899ms\n",
      "311:\tlearn: 19.7207383\ttotal: 407ms\tremaining: 897ms\n",
      "312:\tlearn: 19.5840205\ttotal: 408ms\tremaining: 895ms\n",
      "313:\tlearn: 19.4498604\ttotal: 409ms\tremaining: 893ms\n",
      "314:\tlearn: 19.3106313\ttotal: 410ms\tremaining: 891ms\n",
      "315:\tlearn: 19.1555646\ttotal: 411ms\tremaining: 890ms\n",
      "316:\tlearn: 19.1426558\ttotal: 412ms\tremaining: 888ms\n",
      "317:\tlearn: 19.0179770\ttotal: 413ms\tremaining: 887ms\n",
      "318:\tlearn: 18.9331646\ttotal: 415ms\tremaining: 886ms\n",
      "319:\tlearn: 18.7759664\ttotal: 416ms\tremaining: 884ms\n",
      "320:\tlearn: 18.7302473\ttotal: 417ms\tremaining: 882ms\n",
      "321:\tlearn: 18.6822773\ttotal: 418ms\tremaining: 880ms\n",
      "322:\tlearn: 18.6212081\ttotal: 419ms\tremaining: 879ms\n",
      "323:\tlearn: 18.3825932\ttotal: 420ms\tremaining: 877ms\n",
      "324:\tlearn: 18.0840511\ttotal: 422ms\tremaining: 876ms\n",
      "325:\tlearn: 17.9626242\ttotal: 423ms\tremaining: 874ms\n",
      "326:\tlearn: 17.8194649\ttotal: 424ms\tremaining: 872ms\n",
      "327:\tlearn: 17.6897852\ttotal: 425ms\tremaining: 870ms\n",
      "328:\tlearn: 17.6729587\ttotal: 426ms\tremaining: 869ms\n",
      "329:\tlearn: 17.5730192\ttotal: 427ms\tremaining: 867ms\n",
      "330:\tlearn: 17.3061709\ttotal: 428ms\tremaining: 866ms\n",
      "331:\tlearn: 17.2732138\ttotal: 429ms\tremaining: 864ms\n",
      "332:\tlearn: 17.1284244\ttotal: 431ms\tremaining: 863ms\n",
      "333:\tlearn: 17.0578788\ttotal: 432ms\tremaining: 861ms\n",
      "334:\tlearn: 16.9109643\ttotal: 434ms\tremaining: 861ms\n",
      "335:\tlearn: 16.6595095\ttotal: 435ms\tremaining: 860ms\n",
      "336:\tlearn: 16.5240861\ttotal: 436ms\tremaining: 858ms\n",
      "337:\tlearn: 16.3631551\ttotal: 437ms\tremaining: 857ms\n",
      "338:\tlearn: 16.2364521\ttotal: 439ms\tremaining: 855ms\n",
      "339:\tlearn: 16.1259236\ttotal: 440ms\tremaining: 854ms\n",
      "340:\tlearn: 16.1070160\ttotal: 441ms\tremaining: 852ms\n",
      "341:\tlearn: 15.9446333\ttotal: 442ms\tremaining: 851ms\n",
      "342:\tlearn: 15.8404109\ttotal: 443ms\tremaining: 849ms\n",
      "343:\tlearn: 15.7616719\ttotal: 445ms\tremaining: 848ms\n",
      "344:\tlearn: 15.7046860\ttotal: 446ms\tremaining: 847ms\n",
      "345:\tlearn: 15.5565531\ttotal: 447ms\tremaining: 845ms\n",
      "346:\tlearn: 15.4739767\ttotal: 448ms\tremaining: 844ms\n",
      "347:\tlearn: 15.4214691\ttotal: 450ms\tremaining: 842ms\n",
      "348:\tlearn: 15.3830392\ttotal: 451ms\tremaining: 841ms\n",
      "349:\tlearn: 15.2925503\ttotal: 452ms\tremaining: 840ms\n",
      "350:\tlearn: 15.2685305\ttotal: 454ms\tremaining: 839ms\n",
      "351:\tlearn: 15.0959980\ttotal: 455ms\tremaining: 837ms\n",
      "352:\tlearn: 15.0185539\ttotal: 456ms\tremaining: 837ms\n",
      "353:\tlearn: 14.9344909\ttotal: 458ms\tremaining: 836ms\n",
      "354:\tlearn: 14.8185511\ttotal: 459ms\tremaining: 835ms\n",
      "355:\tlearn: 14.7621205\ttotal: 461ms\tremaining: 833ms\n",
      "356:\tlearn: 14.6824384\ttotal: 462ms\tremaining: 832ms\n",
      "357:\tlearn: 14.5918871\ttotal: 463ms\tremaining: 831ms\n",
      "358:\tlearn: 14.4898356\ttotal: 465ms\tremaining: 830ms\n",
      "359:\tlearn: 14.4773981\ttotal: 466ms\tremaining: 829ms\n",
      "360:\tlearn: 14.3256006\ttotal: 468ms\tremaining: 828ms\n",
      "361:\tlearn: 14.1704867\ttotal: 470ms\tremaining: 828ms\n",
      "362:\tlearn: 14.0453382\ttotal: 471ms\tremaining: 827ms\n",
      "363:\tlearn: 13.9488312\ttotal: 473ms\tremaining: 826ms\n",
      "364:\tlearn: 13.8932251\ttotal: 475ms\tremaining: 826ms\n",
      "365:\tlearn: 13.7368549\ttotal: 476ms\tremaining: 825ms\n",
      "366:\tlearn: 13.6533268\ttotal: 478ms\tremaining: 825ms\n",
      "367:\tlearn: 13.5191569\ttotal: 480ms\tremaining: 824ms\n",
      "368:\tlearn: 13.4712080\ttotal: 481ms\tremaining: 823ms\n",
      "369:\tlearn: 13.3454926\ttotal: 483ms\tremaining: 823ms\n",
      "370:\tlearn: 13.2804919\ttotal: 485ms\tremaining: 822ms\n",
      "371:\tlearn: 13.2609934\ttotal: 487ms\tremaining: 822ms\n",
      "372:\tlearn: 13.1804458\ttotal: 488ms\tremaining: 821ms\n",
      "373:\tlearn: 13.0381162\ttotal: 490ms\tremaining: 820ms\n",
      "374:\tlearn: 13.0250736\ttotal: 492ms\tremaining: 820ms\n",
      "375:\tlearn: 13.0006609\ttotal: 494ms\tremaining: 820ms\n",
      "376:\tlearn: 12.8507663\ttotal: 496ms\tremaining: 819ms\n",
      "377:\tlearn: 12.6986039\ttotal: 497ms\tremaining: 819ms\n",
      "378:\tlearn: 12.5574544\ttotal: 500ms\tremaining: 819ms\n",
      "379:\tlearn: 12.4864386\ttotal: 507ms\tremaining: 828ms\n",
      "380:\tlearn: 12.3739036\ttotal: 509ms\tremaining: 827ms\n",
      "381:\tlearn: 12.3110117\ttotal: 510ms\tremaining: 825ms\n",
      "382:\tlearn: 12.2077088\ttotal: 512ms\tremaining: 824ms\n",
      "383:\tlearn: 12.1065885\ttotal: 513ms\tremaining: 823ms\n",
      "384:\tlearn: 12.0323948\ttotal: 514ms\tremaining: 822ms\n",
      "385:\tlearn: 12.0014896\ttotal: 516ms\tremaining: 821ms\n",
      "386:\tlearn: 11.8568080\ttotal: 518ms\tremaining: 820ms\n",
      "387:\tlearn: 11.7867144\ttotal: 519ms\tremaining: 819ms\n",
      "388:\tlearn: 11.7500836\ttotal: 520ms\tremaining: 817ms\n",
      "389:\tlearn: 11.7348877\ttotal: 522ms\tremaining: 816ms\n",
      "390:\tlearn: 11.7286653\ttotal: 523ms\tremaining: 815ms\n",
      "391:\tlearn: 11.6241305\ttotal: 524ms\tremaining: 813ms\n",
      "392:\tlearn: 11.5960420\ttotal: 526ms\tremaining: 812ms\n",
      "393:\tlearn: 11.5729987\ttotal: 527ms\tremaining: 811ms\n",
      "394:\tlearn: 11.5635235\ttotal: 528ms\tremaining: 809ms\n",
      "395:\tlearn: 11.4873129\ttotal: 530ms\tremaining: 808ms\n",
      "396:\tlearn: 11.3564378\ttotal: 534ms\tremaining: 811ms\n",
      "397:\tlearn: 11.2078876\ttotal: 535ms\tremaining: 810ms\n",
      "398:\tlearn: 11.1598904\ttotal: 537ms\tremaining: 808ms\n",
      "399:\tlearn: 11.0885074\ttotal: 538ms\tremaining: 807ms\n",
      "400:\tlearn: 11.0278575\ttotal: 540ms\tremaining: 807ms\n",
      "401:\tlearn: 10.9865756\ttotal: 542ms\tremaining: 806ms\n",
      "402:\tlearn: 10.8794931\ttotal: 543ms\tremaining: 805ms\n",
      "403:\tlearn: 10.8382558\ttotal: 544ms\tremaining: 803ms\n",
      "404:\tlearn: 10.7596014\ttotal: 546ms\tremaining: 802ms\n",
      "405:\tlearn: 10.7064165\ttotal: 547ms\tremaining: 801ms\n",
      "406:\tlearn: 10.6372130\ttotal: 548ms\tremaining: 799ms\n",
      "407:\tlearn: 10.5505037\ttotal: 550ms\tremaining: 798ms\n",
      "408:\tlearn: 10.4676489\ttotal: 551ms\tremaining: 796ms\n",
      "409:\tlearn: 10.3632792\ttotal: 553ms\tremaining: 795ms\n",
      "410:\tlearn: 10.3399756\ttotal: 554ms\tremaining: 794ms\n",
      "411:\tlearn: 10.2905778\ttotal: 555ms\tremaining: 792ms\n",
      "412:\tlearn: 10.2175164\ttotal: 556ms\tremaining: 791ms\n",
      "413:\tlearn: 10.1482923\ttotal: 558ms\tremaining: 789ms\n",
      "414:\tlearn: 10.0590953\ttotal: 559ms\tremaining: 788ms\n",
      "415:\tlearn: 9.9982795\ttotal: 560ms\tremaining: 787ms\n",
      "416:\tlearn: 9.9099074\ttotal: 562ms\tremaining: 785ms\n",
      "417:\tlearn: 9.8641812\ttotal: 563ms\tremaining: 784ms\n",
      "418:\tlearn: 9.8207799\ttotal: 564ms\tremaining: 782ms\n",
      "419:\tlearn: 9.7000976\ttotal: 565ms\tremaining: 781ms\n",
      "420:\tlearn: 9.6211675\ttotal: 567ms\tremaining: 779ms\n",
      "421:\tlearn: 9.5821946\ttotal: 568ms\tremaining: 778ms\n",
      "422:\tlearn: 9.5314530\ttotal: 569ms\tremaining: 776ms\n",
      "423:\tlearn: 9.5231706\ttotal: 570ms\tremaining: 774ms\n",
      "424:\tlearn: 9.4897613\ttotal: 571ms\tremaining: 773ms\n",
      "425:\tlearn: 9.4178254\ttotal: 573ms\tremaining: 771ms\n",
      "426:\tlearn: 9.3468512\ttotal: 574ms\tremaining: 770ms\n",
      "427:\tlearn: 9.2916542\ttotal: 576ms\tremaining: 770ms\n",
      "428:\tlearn: 9.2671046\ttotal: 577ms\tremaining: 768ms\n",
      "429:\tlearn: 9.1507425\ttotal: 579ms\tremaining: 767ms\n",
      "430:\tlearn: 9.0905964\ttotal: 580ms\tremaining: 766ms\n",
      "431:\tlearn: 9.0599172\ttotal: 581ms\tremaining: 764ms\n",
      "432:\tlearn: 8.9911670\ttotal: 583ms\tremaining: 763ms\n",
      "433:\tlearn: 8.9769178\ttotal: 584ms\tremaining: 762ms\n",
      "434:\tlearn: 8.9011639\ttotal: 585ms\tremaining: 760ms\n",
      "435:\tlearn: 8.8578447\ttotal: 587ms\tremaining: 759ms\n",
      "436:\tlearn: 8.7766216\ttotal: 588ms\tremaining: 757ms\n",
      "437:\tlearn: 8.7600187\ttotal: 589ms\tremaining: 756ms\n",
      "438:\tlearn: 8.7039464\ttotal: 590ms\tremaining: 755ms\n",
      "439:\tlearn: 8.6701908\ttotal: 592ms\tremaining: 753ms\n",
      "440:\tlearn: 8.6561906\ttotal: 593ms\tremaining: 751ms\n",
      "441:\tlearn: 8.6030579\ttotal: 594ms\tremaining: 750ms\n",
      "442:\tlearn: 8.5192884\ttotal: 595ms\tremaining: 748ms\n",
      "443:\tlearn: 8.4605490\ttotal: 596ms\tremaining: 747ms\n",
      "444:\tlearn: 8.3846572\ttotal: 597ms\tremaining: 745ms\n",
      "445:\tlearn: 8.3429264\ttotal: 599ms\tremaining: 744ms\n",
      "446:\tlearn: 8.3068488\ttotal: 600ms\tremaining: 742ms\n",
      "447:\tlearn: 8.2662142\ttotal: 601ms\tremaining: 740ms\n",
      "448:\tlearn: 8.1806196\ttotal: 602ms\tremaining: 739ms\n",
      "449:\tlearn: 8.1475696\ttotal: 603ms\tremaining: 737ms\n",
      "450:\tlearn: 8.1145904\ttotal: 605ms\tremaining: 736ms\n",
      "451:\tlearn: 8.0740309\ttotal: 606ms\tremaining: 734ms\n",
      "452:\tlearn: 8.0095799\ttotal: 607ms\tremaining: 733ms\n",
      "453:\tlearn: 7.9857193\ttotal: 608ms\tremaining: 731ms\n",
      "454:\tlearn: 7.9300069\ttotal: 610ms\tremaining: 730ms\n",
      "455:\tlearn: 7.9088282\ttotal: 611ms\tremaining: 729ms\n",
      "456:\tlearn: 7.8726359\ttotal: 612ms\tremaining: 727ms\n",
      "457:\tlearn: 7.8453260\ttotal: 614ms\tremaining: 726ms\n",
      "458:\tlearn: 7.8015145\ttotal: 615ms\tremaining: 725ms\n",
      "459:\tlearn: 7.7552434\ttotal: 616ms\tremaining: 723ms\n",
      "460:\tlearn: 7.7033074\ttotal: 617ms\tremaining: 722ms\n",
      "461:\tlearn: 7.6732816\ttotal: 618ms\tremaining: 720ms\n",
      "462:\tlearn: 7.6387343\ttotal: 620ms\tremaining: 719ms\n",
      "463:\tlearn: 7.5939225\ttotal: 621ms\tremaining: 717ms\n",
      "464:\tlearn: 7.5495985\ttotal: 622ms\tremaining: 716ms\n",
      "465:\tlearn: 7.5164784\ttotal: 623ms\tremaining: 714ms\n",
      "466:\tlearn: 7.4692120\ttotal: 625ms\tremaining: 713ms\n",
      "467:\tlearn: 7.4602739\ttotal: 626ms\tremaining: 711ms\n",
      "468:\tlearn: 7.4245927\ttotal: 627ms\tremaining: 710ms\n",
      "469:\tlearn: 7.3402299\ttotal: 629ms\tremaining: 709ms\n",
      "470:\tlearn: 7.2998185\ttotal: 630ms\tremaining: 707ms\n",
      "471:\tlearn: 7.2014577\ttotal: 631ms\tremaining: 706ms\n",
      "472:\tlearn: 7.1904207\ttotal: 632ms\tremaining: 705ms\n",
      "473:\tlearn: 7.1527862\ttotal: 634ms\tremaining: 703ms\n",
      "474:\tlearn: 7.0771473\ttotal: 635ms\tremaining: 702ms\n",
      "475:\tlearn: 7.0539525\ttotal: 637ms\tremaining: 701ms\n",
      "476:\tlearn: 6.9846025\ttotal: 638ms\tremaining: 699ms\n",
      "477:\tlearn: 6.9534313\ttotal: 639ms\tremaining: 698ms\n",
      "478:\tlearn: 6.8975880\ttotal: 641ms\tremaining: 697ms\n",
      "479:\tlearn: 6.8254191\ttotal: 642ms\tremaining: 695ms\n",
      "480:\tlearn: 6.8112478\ttotal: 643ms\tremaining: 694ms\n",
      "481:\tlearn: 6.7648902\ttotal: 644ms\tremaining: 692ms\n",
      "482:\tlearn: 6.6860735\ttotal: 645ms\tremaining: 691ms\n",
      "483:\tlearn: 6.6633461\ttotal: 647ms\tremaining: 689ms\n",
      "484:\tlearn: 6.6475279\ttotal: 648ms\tremaining: 688ms\n",
      "485:\tlearn: 6.5921608\ttotal: 649ms\tremaining: 686ms\n",
      "486:\tlearn: 6.5602794\ttotal: 650ms\tremaining: 685ms\n",
      "487:\tlearn: 6.5499659\ttotal: 651ms\tremaining: 683ms\n",
      "488:\tlearn: 6.4940006\ttotal: 653ms\tremaining: 682ms\n",
      "489:\tlearn: 6.4247752\ttotal: 654ms\tremaining: 680ms\n",
      "490:\tlearn: 6.3877601\ttotal: 655ms\tremaining: 679ms\n",
      "491:\tlearn: 6.3314191\ttotal: 657ms\tremaining: 678ms\n",
      "492:\tlearn: 6.2812751\ttotal: 659ms\tremaining: 678ms\n",
      "493:\tlearn: 6.2685065\ttotal: 660ms\tremaining: 676ms\n",
      "494:\tlearn: 6.2241138\ttotal: 661ms\tremaining: 675ms\n",
      "495:\tlearn: 6.1695214\ttotal: 663ms\tremaining: 674ms\n",
      "496:\tlearn: 6.1421906\ttotal: 664ms\tremaining: 672ms\n",
      "497:\tlearn: 6.1331850\ttotal: 666ms\tremaining: 671ms\n",
      "498:\tlearn: 6.1166327\ttotal: 667ms\tremaining: 670ms\n",
      "499:\tlearn: 6.0829602\ttotal: 669ms\tremaining: 669ms\n",
      "500:\tlearn: 6.0650422\ttotal: 670ms\tremaining: 667ms\n",
      "501:\tlearn: 6.0436563\ttotal: 671ms\tremaining: 666ms\n",
      "502:\tlearn: 5.9902804\ttotal: 672ms\tremaining: 664ms\n",
      "503:\tlearn: 5.9121675\ttotal: 673ms\tremaining: 663ms\n",
      "504:\tlearn: 5.9091850\ttotal: 674ms\tremaining: 661ms\n",
      "505:\tlearn: 5.8967995\ttotal: 676ms\tremaining: 660ms\n",
      "506:\tlearn: 5.8430221\ttotal: 677ms\tremaining: 658ms\n",
      "507:\tlearn: 5.8135495\ttotal: 678ms\tremaining: 657ms\n",
      "508:\tlearn: 5.7890913\ttotal: 679ms\tremaining: 655ms\n",
      "509:\tlearn: 5.7577091\ttotal: 681ms\tremaining: 654ms\n",
      "510:\tlearn: 5.7523488\ttotal: 682ms\tremaining: 653ms\n",
      "511:\tlearn: 5.6546493\ttotal: 683ms\tremaining: 651ms\n",
      "512:\tlearn: 5.6194513\ttotal: 685ms\tremaining: 650ms\n",
      "513:\tlearn: 5.5672252\ttotal: 686ms\tremaining: 649ms\n",
      "514:\tlearn: 5.5539421\ttotal: 688ms\tremaining: 648ms\n",
      "515:\tlearn: 5.5185620\ttotal: 689ms\tremaining: 646ms\n",
      "516:\tlearn: 5.4789463\ttotal: 691ms\tremaining: 645ms\n",
      "517:\tlearn: 5.4236755\ttotal: 692ms\tremaining: 644ms\n",
      "518:\tlearn: 5.3864207\ttotal: 693ms\tremaining: 643ms\n",
      "519:\tlearn: 5.3533466\ttotal: 695ms\tremaining: 641ms\n",
      "520:\tlearn: 5.3369921\ttotal: 696ms\tremaining: 640ms\n",
      "521:\tlearn: 5.2560437\ttotal: 697ms\tremaining: 638ms\n",
      "522:\tlearn: 5.2017840\ttotal: 698ms\tremaining: 637ms\n",
      "523:\tlearn: 5.1755812\ttotal: 700ms\tremaining: 635ms\n",
      "524:\tlearn: 5.1385832\ttotal: 701ms\tremaining: 634ms\n",
      "525:\tlearn: 5.1335579\ttotal: 702ms\tremaining: 633ms\n",
      "526:\tlearn: 5.0585358\ttotal: 704ms\tremaining: 632ms\n",
      "527:\tlearn: 5.0021152\ttotal: 706ms\tremaining: 631ms\n",
      "528:\tlearn: 4.9822398\ttotal: 707ms\tremaining: 630ms\n",
      "529:\tlearn: 4.9752376\ttotal: 709ms\tremaining: 628ms\n",
      "530:\tlearn: 4.9479232\ttotal: 710ms\tremaining: 627ms\n",
      "531:\tlearn: 4.9271142\ttotal: 711ms\tremaining: 625ms\n",
      "532:\tlearn: 4.9023595\ttotal: 712ms\tremaining: 624ms\n",
      "533:\tlearn: 4.8555527\ttotal: 713ms\tremaining: 622ms\n",
      "534:\tlearn: 4.8367794\ttotal: 715ms\tremaining: 621ms\n",
      "535:\tlearn: 4.7952444\ttotal: 716ms\tremaining: 620ms\n",
      "536:\tlearn: 4.7409194\ttotal: 717ms\tremaining: 618ms\n",
      "537:\tlearn: 4.6929973\ttotal: 718ms\tremaining: 617ms\n",
      "538:\tlearn: 4.6579685\ttotal: 720ms\tremaining: 615ms\n",
      "539:\tlearn: 4.6195745\ttotal: 721ms\tremaining: 614ms\n",
      "540:\tlearn: 4.5964136\ttotal: 722ms\tremaining: 612ms\n",
      "541:\tlearn: 4.5836819\ttotal: 723ms\tremaining: 611ms\n",
      "542:\tlearn: 4.5766395\ttotal: 724ms\tremaining: 609ms\n",
      "543:\tlearn: 4.5639948\ttotal: 725ms\tremaining: 608ms\n",
      "544:\tlearn: 4.5321336\ttotal: 726ms\tremaining: 606ms\n",
      "545:\tlearn: 4.5257262\ttotal: 728ms\tremaining: 605ms\n",
      "546:\tlearn: 4.5121200\ttotal: 729ms\tremaining: 604ms\n",
      "547:\tlearn: 4.5000971\ttotal: 730ms\tremaining: 602ms\n",
      "548:\tlearn: 4.4699564\ttotal: 731ms\tremaining: 601ms\n",
      "549:\tlearn: 4.4223918\ttotal: 732ms\tremaining: 599ms\n",
      "550:\tlearn: 4.3900850\ttotal: 733ms\tremaining: 598ms\n",
      "551:\tlearn: 4.3865832\ttotal: 735ms\tremaining: 596ms\n",
      "552:\tlearn: 4.3555236\ttotal: 736ms\tremaining: 595ms\n",
      "553:\tlearn: 4.3326942\ttotal: 737ms\tremaining: 593ms\n",
      "554:\tlearn: 4.3083453\ttotal: 738ms\tremaining: 591ms\n",
      "555:\tlearn: 4.2783012\ttotal: 739ms\tremaining: 590ms\n",
      "556:\tlearn: 4.2386680\ttotal: 740ms\tremaining: 588ms\n",
      "557:\tlearn: 4.1982182\ttotal: 741ms\tremaining: 587ms\n",
      "558:\tlearn: 4.1818634\ttotal: 742ms\tremaining: 585ms\n",
      "559:\tlearn: 4.1603123\ttotal: 743ms\tremaining: 584ms\n",
      "560:\tlearn: 4.1162392\ttotal: 744ms\tremaining: 582ms\n",
      "561:\tlearn: 4.0942539\ttotal: 745ms\tremaining: 581ms\n",
      "562:\tlearn: 4.0833944\ttotal: 746ms\tremaining: 579ms\n",
      "563:\tlearn: 4.0651220\ttotal: 748ms\tremaining: 578ms\n",
      "564:\tlearn: 4.0359525\ttotal: 749ms\tremaining: 577ms\n",
      "565:\tlearn: 4.0331482\ttotal: 751ms\tremaining: 576ms\n",
      "566:\tlearn: 4.0110785\ttotal: 753ms\tremaining: 575ms\n",
      "567:\tlearn: 3.9846807\ttotal: 754ms\tremaining: 573ms\n",
      "568:\tlearn: 3.9611224\ttotal: 755ms\tremaining: 572ms\n",
      "569:\tlearn: 3.9238317\ttotal: 756ms\tremaining: 570ms\n",
      "570:\tlearn: 3.9105718\ttotal: 757ms\tremaining: 569ms\n",
      "571:\tlearn: 3.8725349\ttotal: 758ms\tremaining: 567ms\n",
      "572:\tlearn: 3.8589458\ttotal: 759ms\tremaining: 566ms\n",
      "573:\tlearn: 3.8201118\ttotal: 761ms\tremaining: 565ms\n",
      "574:\tlearn: 3.8100971\ttotal: 762ms\tremaining: 563ms\n",
      "575:\tlearn: 3.7824233\ttotal: 763ms\tremaining: 562ms\n",
      "576:\tlearn: 3.7652240\ttotal: 765ms\tremaining: 561ms\n",
      "577:\tlearn: 3.7320270\ttotal: 766ms\tremaining: 559ms\n",
      "578:\tlearn: 3.7227983\ttotal: 767ms\tremaining: 558ms\n",
      "579:\tlearn: 3.7007934\ttotal: 769ms\tremaining: 557ms\n",
      "580:\tlearn: 3.6703626\ttotal: 770ms\tremaining: 555ms\n",
      "581:\tlearn: 3.6587500\ttotal: 771ms\tremaining: 554ms\n",
      "582:\tlearn: 3.6435213\ttotal: 772ms\tremaining: 552ms\n",
      "583:\tlearn: 3.6165255\ttotal: 773ms\tremaining: 551ms\n",
      "584:\tlearn: 3.5921438\ttotal: 774ms\tremaining: 549ms\n",
      "585:\tlearn: 3.5823094\ttotal: 776ms\tremaining: 548ms\n",
      "586:\tlearn: 3.5707107\ttotal: 777ms\tremaining: 547ms\n",
      "587:\tlearn: 3.5585582\ttotal: 778ms\tremaining: 545ms\n",
      "588:\tlearn: 3.5083056\ttotal: 780ms\tremaining: 544ms\n",
      "589:\tlearn: 3.4896083\ttotal: 781ms\tremaining: 543ms\n",
      "590:\tlearn: 3.4745190\ttotal: 782ms\tremaining: 541ms\n",
      "591:\tlearn: 3.4627260\ttotal: 783ms\tremaining: 540ms\n",
      "592:\tlearn: 3.4385625\ttotal: 785ms\tremaining: 539ms\n",
      "593:\tlearn: 3.3997235\ttotal: 786ms\tremaining: 537ms\n",
      "594:\tlearn: 3.3764192\ttotal: 788ms\tremaining: 536ms\n",
      "595:\tlearn: 3.3590522\ttotal: 789ms\tremaining: 535ms\n",
      "596:\tlearn: 3.3474857\ttotal: 791ms\tremaining: 534ms\n",
      "597:\tlearn: 3.3123623\ttotal: 792ms\tremaining: 532ms\n",
      "598:\tlearn: 3.2999589\ttotal: 794ms\tremaining: 531ms\n",
      "599:\tlearn: 3.2767538\ttotal: 795ms\tremaining: 530ms\n",
      "600:\tlearn: 3.2530783\ttotal: 797ms\tremaining: 529ms\n",
      "601:\tlearn: 3.2269777\ttotal: 799ms\tremaining: 528ms\n",
      "602:\tlearn: 3.1938868\ttotal: 800ms\tremaining: 527ms\n",
      "603:\tlearn: 3.1728589\ttotal: 801ms\tremaining: 525ms\n",
      "604:\tlearn: 3.1549029\ttotal: 802ms\tremaining: 524ms\n",
      "605:\tlearn: 3.1478118\ttotal: 803ms\tremaining: 522ms\n",
      "606:\tlearn: 3.1145245\ttotal: 805ms\tremaining: 521ms\n",
      "607:\tlearn: 3.0718905\ttotal: 806ms\tremaining: 520ms\n",
      "608:\tlearn: 3.0352714\ttotal: 808ms\tremaining: 518ms\n",
      "609:\tlearn: 2.9984985\ttotal: 809ms\tremaining: 517ms\n",
      "610:\tlearn: 2.9594115\ttotal: 810ms\tremaining: 516ms\n",
      "611:\tlearn: 2.9438145\ttotal: 812ms\tremaining: 515ms\n",
      "612:\tlearn: 2.9265773\ttotal: 813ms\tremaining: 513ms\n",
      "613:\tlearn: 2.9036898\ttotal: 814ms\tremaining: 512ms\n",
      "614:\tlearn: 2.8790612\ttotal: 816ms\tremaining: 511ms\n",
      "615:\tlearn: 2.8654898\ttotal: 817ms\tremaining: 509ms\n",
      "616:\tlearn: 2.8462561\ttotal: 820ms\tremaining: 509ms\n",
      "617:\tlearn: 2.8254976\ttotal: 821ms\tremaining: 508ms\n",
      "618:\tlearn: 2.8190407\ttotal: 823ms\tremaining: 506ms\n",
      "619:\tlearn: 2.8129812\ttotal: 824ms\tremaining: 505ms\n",
      "620:\tlearn: 2.8097755\ttotal: 825ms\tremaining: 504ms\n",
      "621:\tlearn: 2.7960320\ttotal: 826ms\tremaining: 502ms\n",
      "622:\tlearn: 2.7878495\ttotal: 828ms\tremaining: 501ms\n",
      "623:\tlearn: 2.7602980\ttotal: 829ms\tremaining: 500ms\n",
      "624:\tlearn: 2.7341408\ttotal: 831ms\tremaining: 498ms\n",
      "625:\tlearn: 2.7302545\ttotal: 832ms\tremaining: 497ms\n",
      "626:\tlearn: 2.7120252\ttotal: 833ms\tremaining: 496ms\n",
      "627:\tlearn: 2.7075024\ttotal: 835ms\tremaining: 495ms\n",
      "628:\tlearn: 2.6970031\ttotal: 836ms\tremaining: 493ms\n",
      "629:\tlearn: 2.6928246\ttotal: 838ms\tremaining: 492ms\n",
      "630:\tlearn: 2.6709120\ttotal: 839ms\tremaining: 491ms\n",
      "631:\tlearn: 2.6656247\ttotal: 840ms\tremaining: 489ms\n",
      "632:\tlearn: 2.6452838\ttotal: 842ms\tremaining: 488ms\n",
      "633:\tlearn: 2.6271014\ttotal: 843ms\tremaining: 487ms\n",
      "634:\tlearn: 2.6089454\ttotal: 844ms\tremaining: 485ms\n",
      "635:\tlearn: 2.5996271\ttotal: 845ms\tremaining: 484ms\n",
      "636:\tlearn: 2.5923568\ttotal: 847ms\tremaining: 483ms\n",
      "637:\tlearn: 2.5837611\ttotal: 848ms\tremaining: 481ms\n",
      "638:\tlearn: 2.5726721\ttotal: 850ms\tremaining: 480ms\n",
      "639:\tlearn: 2.5577477\ttotal: 851ms\tremaining: 479ms\n",
      "640:\tlearn: 2.5500744\ttotal: 853ms\tremaining: 478ms\n",
      "641:\tlearn: 2.5274442\ttotal: 854ms\tremaining: 476ms\n",
      "642:\tlearn: 2.5157559\ttotal: 855ms\tremaining: 475ms\n",
      "643:\tlearn: 2.5053856\ttotal: 857ms\tremaining: 473ms\n",
      "644:\tlearn: 2.4841922\ttotal: 858ms\tremaining: 472ms\n",
      "645:\tlearn: 2.4674035\ttotal: 859ms\tremaining: 471ms\n",
      "646:\tlearn: 2.4484158\ttotal: 861ms\tremaining: 470ms\n",
      "647:\tlearn: 2.4263246\ttotal: 862ms\tremaining: 468ms\n",
      "648:\tlearn: 2.4052258\ttotal: 863ms\tremaining: 467ms\n",
      "649:\tlearn: 2.3816894\ttotal: 864ms\tremaining: 465ms\n",
      "650:\tlearn: 2.3659119\ttotal: 866ms\tremaining: 464ms\n",
      "651:\tlearn: 2.3576051\ttotal: 867ms\tremaining: 463ms\n",
      "652:\tlearn: 2.3288476\ttotal: 868ms\tremaining: 462ms\n",
      "653:\tlearn: 2.3109502\ttotal: 870ms\tremaining: 460ms\n",
      "654:\tlearn: 2.3021504\ttotal: 871ms\tremaining: 459ms\n",
      "655:\tlearn: 2.3009515\ttotal: 872ms\tremaining: 457ms\n",
      "656:\tlearn: 2.2893680\ttotal: 873ms\tremaining: 456ms\n",
      "657:\tlearn: 2.2852898\ttotal: 874ms\tremaining: 455ms\n",
      "658:\tlearn: 2.2647131\ttotal: 876ms\tremaining: 453ms\n",
      "659:\tlearn: 2.2437777\ttotal: 877ms\tremaining: 452ms\n",
      "660:\tlearn: 2.2228007\ttotal: 878ms\tremaining: 450ms\n",
      "661:\tlearn: 2.2030047\ttotal: 879ms\tremaining: 449ms\n",
      "662:\tlearn: 2.1823076\ttotal: 880ms\tremaining: 448ms\n",
      "663:\tlearn: 2.1607769\ttotal: 882ms\tremaining: 446ms\n",
      "664:\tlearn: 2.1491049\ttotal: 883ms\tremaining: 445ms\n",
      "665:\tlearn: 2.1403920\ttotal: 885ms\tremaining: 444ms\n",
      "666:\tlearn: 2.1255852\ttotal: 886ms\tremaining: 442ms\n",
      "667:\tlearn: 2.1087714\ttotal: 887ms\tremaining: 441ms\n",
      "668:\tlearn: 2.1033385\ttotal: 888ms\tremaining: 439ms\n",
      "669:\tlearn: 2.0923091\ttotal: 889ms\tremaining: 438ms\n",
      "670:\tlearn: 2.0834076\ttotal: 890ms\tremaining: 437ms\n",
      "671:\tlearn: 2.0735926\ttotal: 892ms\tremaining: 435ms\n",
      "672:\tlearn: 2.0603541\ttotal: 893ms\tremaining: 434ms\n",
      "673:\tlearn: 2.0576392\ttotal: 895ms\tremaining: 433ms\n",
      "674:\tlearn: 2.0455537\ttotal: 896ms\tremaining: 431ms\n",
      "675:\tlearn: 2.0282804\ttotal: 897ms\tremaining: 430ms\n",
      "676:\tlearn: 2.0217423\ttotal: 899ms\tremaining: 429ms\n",
      "677:\tlearn: 2.0119192\ttotal: 900ms\tremaining: 427ms\n",
      "678:\tlearn: 2.0001332\ttotal: 901ms\tremaining: 426ms\n",
      "679:\tlearn: 1.9979894\ttotal: 902ms\tremaining: 425ms\n",
      "680:\tlearn: 1.9907747\ttotal: 904ms\tremaining: 423ms\n",
      "681:\tlearn: 1.9736817\ttotal: 905ms\tremaining: 422ms\n",
      "682:\tlearn: 1.9600965\ttotal: 907ms\tremaining: 421ms\n",
      "683:\tlearn: 1.9539201\ttotal: 908ms\tremaining: 419ms\n",
      "684:\tlearn: 1.9449369\ttotal: 909ms\tremaining: 418ms\n",
      "685:\tlearn: 1.9419454\ttotal: 910ms\tremaining: 417ms\n",
      "686:\tlearn: 1.9326842\ttotal: 911ms\tremaining: 415ms\n",
      "687:\tlearn: 1.9288548\ttotal: 912ms\tremaining: 414ms\n",
      "688:\tlearn: 1.9236716\ttotal: 913ms\tremaining: 412ms\n",
      "689:\tlearn: 1.9228496\ttotal: 915ms\tremaining: 411ms\n",
      "690:\tlearn: 1.9176354\ttotal: 916ms\tremaining: 409ms\n",
      "691:\tlearn: 1.9147659\ttotal: 917ms\tremaining: 408ms\n",
      "692:\tlearn: 1.9079892\ttotal: 918ms\tremaining: 407ms\n",
      "693:\tlearn: 1.9048238\ttotal: 919ms\tremaining: 405ms\n",
      "694:\tlearn: 1.8959419\ttotal: 920ms\tremaining: 404ms\n",
      "695:\tlearn: 1.8711502\ttotal: 921ms\tremaining: 402ms\n",
      "696:\tlearn: 1.8583228\ttotal: 922ms\tremaining: 401ms\n",
      "697:\tlearn: 1.8482604\ttotal: 923ms\tremaining: 400ms\n",
      "698:\tlearn: 1.8456936\ttotal: 925ms\tremaining: 398ms\n",
      "699:\tlearn: 1.8273471\ttotal: 926ms\tremaining: 397ms\n",
      "700:\tlearn: 1.8067825\ttotal: 927ms\tremaining: 395ms\n",
      "701:\tlearn: 1.8022221\ttotal: 929ms\tremaining: 394ms\n",
      "702:\tlearn: 1.7912070\ttotal: 930ms\tremaining: 393ms\n",
      "703:\tlearn: 1.7755760\ttotal: 931ms\tremaining: 392ms\n",
      "704:\tlearn: 1.7712682\ttotal: 932ms\tremaining: 390ms\n",
      "705:\tlearn: 1.7648319\ttotal: 933ms\tremaining: 389ms\n",
      "706:\tlearn: 1.7532904\ttotal: 934ms\tremaining: 387ms\n",
      "707:\tlearn: 1.7463625\ttotal: 936ms\tremaining: 386ms\n",
      "708:\tlearn: 1.7418161\ttotal: 937ms\tremaining: 385ms\n",
      "709:\tlearn: 1.7272345\ttotal: 938ms\tremaining: 383ms\n",
      "710:\tlearn: 1.7217505\ttotal: 939ms\tremaining: 382ms\n",
      "711:\tlearn: 1.7151154\ttotal: 940ms\tremaining: 380ms\n",
      "712:\tlearn: 1.7092925\ttotal: 942ms\tremaining: 379ms\n",
      "713:\tlearn: 1.7025995\ttotal: 943ms\tremaining: 378ms\n",
      "714:\tlearn: 1.6807623\ttotal: 944ms\tremaining: 376ms\n",
      "715:\tlearn: 1.6674907\ttotal: 945ms\tremaining: 375ms\n",
      "716:\tlearn: 1.6544638\ttotal: 946ms\tremaining: 373ms\n",
      "717:\tlearn: 1.6411236\ttotal: 947ms\tremaining: 372ms\n",
      "718:\tlearn: 1.6290477\ttotal: 948ms\tremaining: 371ms\n",
      "719:\tlearn: 1.6222366\ttotal: 951ms\tremaining: 370ms\n",
      "720:\tlearn: 1.6142656\ttotal: 952ms\tremaining: 368ms\n",
      "721:\tlearn: 1.6004470\ttotal: 953ms\tremaining: 367ms\n",
      "722:\tlearn: 1.5932177\ttotal: 954ms\tremaining: 366ms\n",
      "723:\tlearn: 1.5743215\ttotal: 955ms\tremaining: 364ms\n",
      "724:\tlearn: 1.5629066\ttotal: 956ms\tremaining: 363ms\n",
      "725:\tlearn: 1.5505525\ttotal: 957ms\tremaining: 361ms\n",
      "726:\tlearn: 1.5302974\ttotal: 959ms\tremaining: 360ms\n",
      "727:\tlearn: 1.5260700\ttotal: 960ms\tremaining: 359ms\n",
      "728:\tlearn: 1.5188723\ttotal: 962ms\tremaining: 358ms\n",
      "729:\tlearn: 1.5085309\ttotal: 963ms\tremaining: 356ms\n",
      "730:\tlearn: 1.5038733\ttotal: 964ms\tremaining: 355ms\n",
      "731:\tlearn: 1.5008194\ttotal: 965ms\tremaining: 353ms\n",
      "732:\tlearn: 1.4908829\ttotal: 967ms\tremaining: 352ms\n",
      "733:\tlearn: 1.4782605\ttotal: 968ms\tremaining: 351ms\n",
      "734:\tlearn: 1.4639356\ttotal: 969ms\tremaining: 349ms\n",
      "735:\tlearn: 1.4471455\ttotal: 971ms\tremaining: 348ms\n",
      "736:\tlearn: 1.4454285\ttotal: 973ms\tremaining: 347ms\n",
      "737:\tlearn: 1.4416273\ttotal: 974ms\tremaining: 346ms\n",
      "738:\tlearn: 1.4302267\ttotal: 975ms\tremaining: 344ms\n",
      "739:\tlearn: 1.4219328\ttotal: 977ms\tremaining: 343ms\n",
      "740:\tlearn: 1.4105579\ttotal: 978ms\tremaining: 342ms\n",
      "741:\tlearn: 1.4075838\ttotal: 979ms\tremaining: 340ms\n",
      "742:\tlearn: 1.4017014\ttotal: 980ms\tremaining: 339ms\n",
      "743:\tlearn: 1.3974208\ttotal: 981ms\tremaining: 338ms\n",
      "744:\tlearn: 1.3862572\ttotal: 983ms\tremaining: 336ms\n",
      "745:\tlearn: 1.3729360\ttotal: 984ms\tremaining: 335ms\n",
      "746:\tlearn: 1.3630904\ttotal: 985ms\tremaining: 334ms\n",
      "747:\tlearn: 1.3477583\ttotal: 986ms\tremaining: 332ms\n",
      "748:\tlearn: 1.3348270\ttotal: 988ms\tremaining: 331ms\n",
      "749:\tlearn: 1.3236754\ttotal: 989ms\tremaining: 330ms\n",
      "750:\tlearn: 1.3171961\ttotal: 990ms\tremaining: 328ms\n",
      "751:\tlearn: 1.3113457\ttotal: 992ms\tremaining: 327ms\n",
      "752:\tlearn: 1.3036391\ttotal: 993ms\tremaining: 326ms\n",
      "753:\tlearn: 1.2935829\ttotal: 995ms\tremaining: 325ms\n",
      "754:\tlearn: 1.2837612\ttotal: 996ms\tremaining: 323ms\n",
      "755:\tlearn: 1.2768260\ttotal: 997ms\tremaining: 322ms\n",
      "756:\tlearn: 1.2689370\ttotal: 998ms\tremaining: 320ms\n",
      "757:\tlearn: 1.2561567\ttotal: 1s\tremaining: 319ms\n",
      "758:\tlearn: 1.2475100\ttotal: 1s\tremaining: 318ms\n",
      "759:\tlearn: 1.2405978\ttotal: 1s\tremaining: 317ms\n",
      "760:\tlearn: 1.2342628\ttotal: 1s\tremaining: 315ms\n",
      "761:\tlearn: 1.2271880\ttotal: 1s\tremaining: 314ms\n",
      "762:\tlearn: 1.2138527\ttotal: 1.01s\tremaining: 313ms\n",
      "763:\tlearn: 1.2076889\ttotal: 1.01s\tremaining: 311ms\n",
      "764:\tlearn: 1.2041847\ttotal: 1.01s\tremaining: 310ms\n",
      "765:\tlearn: 1.1970019\ttotal: 1.01s\tremaining: 309ms\n",
      "766:\tlearn: 1.1892878\ttotal: 1.01s\tremaining: 307ms\n",
      "767:\tlearn: 1.1858432\ttotal: 1.01s\tremaining: 306ms\n",
      "768:\tlearn: 1.1746182\ttotal: 1.01s\tremaining: 305ms\n",
      "769:\tlearn: 1.1694876\ttotal: 1.02s\tremaining: 304ms\n",
      "770:\tlearn: 1.1657055\ttotal: 1.02s\tremaining: 302ms\n",
      "771:\tlearn: 1.1556043\ttotal: 1.02s\tremaining: 301ms\n",
      "772:\tlearn: 1.1540774\ttotal: 1.02s\tremaining: 300ms\n",
      "773:\tlearn: 1.1473715\ttotal: 1.02s\tremaining: 298ms\n",
      "774:\tlearn: 1.1419763\ttotal: 1.02s\tremaining: 297ms\n",
      "775:\tlearn: 1.1303590\ttotal: 1.02s\tremaining: 295ms\n",
      "776:\tlearn: 1.1230587\ttotal: 1.02s\tremaining: 294ms\n",
      "777:\tlearn: 1.1143917\ttotal: 1.03s\tremaining: 293ms\n",
      "778:\tlearn: 1.1112687\ttotal: 1.03s\tremaining: 291ms\n",
      "779:\tlearn: 1.1009863\ttotal: 1.03s\tremaining: 290ms\n",
      "780:\tlearn: 1.0899260\ttotal: 1.03s\tremaining: 289ms\n",
      "781:\tlearn: 1.0855158\ttotal: 1.03s\tremaining: 287ms\n",
      "782:\tlearn: 1.0808031\ttotal: 1.03s\tremaining: 286ms\n",
      "783:\tlearn: 1.0763884\ttotal: 1.03s\tremaining: 285ms\n",
      "784:\tlearn: 1.0710758\ttotal: 1.03s\tremaining: 284ms\n",
      "785:\tlearn: 1.0634482\ttotal: 1.04s\tremaining: 282ms\n",
      "786:\tlearn: 1.0529874\ttotal: 1.04s\tremaining: 281ms\n",
      "787:\tlearn: 1.0501903\ttotal: 1.04s\tremaining: 279ms\n",
      "788:\tlearn: 1.0410587\ttotal: 1.04s\tremaining: 278ms\n",
      "789:\tlearn: 1.0386261\ttotal: 1.04s\tremaining: 277ms\n",
      "790:\tlearn: 1.0351082\ttotal: 1.04s\tremaining: 276ms\n",
      "791:\tlearn: 1.0320987\ttotal: 1.04s\tremaining: 274ms\n",
      "792:\tlearn: 1.0294915\ttotal: 1.04s\tremaining: 273ms\n",
      "793:\tlearn: 1.0233284\ttotal: 1.04s\tremaining: 271ms\n",
      "794:\tlearn: 1.0176815\ttotal: 1.05s\tremaining: 270ms\n",
      "795:\tlearn: 1.0074411\ttotal: 1.05s\tremaining: 269ms\n",
      "796:\tlearn: 1.0020197\ttotal: 1.05s\tremaining: 267ms\n",
      "797:\tlearn: 0.9989044\ttotal: 1.05s\tremaining: 266ms\n",
      "798:\tlearn: 0.9937483\ttotal: 1.05s\tremaining: 265ms\n",
      "799:\tlearn: 0.9867329\ttotal: 1.05s\tremaining: 263ms\n",
      "800:\tlearn: 0.9819829\ttotal: 1.05s\tremaining: 262ms\n",
      "801:\tlearn: 0.9777514\ttotal: 1.05s\tremaining: 260ms\n",
      "802:\tlearn: 0.9757462\ttotal: 1.06s\tremaining: 259ms\n",
      "803:\tlearn: 0.9702440\ttotal: 1.06s\tremaining: 258ms\n",
      "804:\tlearn: 0.9636471\ttotal: 1.06s\tremaining: 257ms\n",
      "805:\tlearn: 0.9548362\ttotal: 1.06s\tremaining: 255ms\n",
      "806:\tlearn: 0.9470745\ttotal: 1.06s\tremaining: 254ms\n",
      "807:\tlearn: 0.9408578\ttotal: 1.06s\tremaining: 253ms\n",
      "808:\tlearn: 0.9350692\ttotal: 1.06s\tremaining: 251ms\n",
      "809:\tlearn: 0.9290967\ttotal: 1.07s\tremaining: 250ms\n",
      "810:\tlearn: 0.9267158\ttotal: 1.07s\tremaining: 249ms\n",
      "811:\tlearn: 0.9235794\ttotal: 1.07s\tremaining: 247ms\n",
      "812:\tlearn: 0.9226084\ttotal: 1.07s\tremaining: 246ms\n",
      "813:\tlearn: 0.9139012\ttotal: 1.07s\tremaining: 245ms\n",
      "814:\tlearn: 0.9073690\ttotal: 1.07s\tremaining: 243ms\n",
      "815:\tlearn: 0.9024018\ttotal: 1.07s\tremaining: 242ms\n",
      "816:\tlearn: 0.9001693\ttotal: 1.07s\tremaining: 241ms\n",
      "817:\tlearn: 0.8970481\ttotal: 1.08s\tremaining: 240ms\n",
      "818:\tlearn: 0.8907494\ttotal: 1.08s\tremaining: 238ms\n",
      "819:\tlearn: 0.8886718\ttotal: 1.08s\tremaining: 237ms\n",
      "820:\tlearn: 0.8869259\ttotal: 1.08s\tremaining: 236ms\n",
      "821:\tlearn: 0.8804683\ttotal: 1.08s\tremaining: 234ms\n",
      "822:\tlearn: 0.8666371\ttotal: 1.08s\tremaining: 233ms\n",
      "823:\tlearn: 0.8659600\ttotal: 1.08s\tremaining: 232ms\n",
      "824:\tlearn: 0.8604612\ttotal: 1.09s\tremaining: 230ms\n",
      "825:\tlearn: 0.8544955\ttotal: 1.09s\tremaining: 229ms\n",
      "826:\tlearn: 0.8496739\ttotal: 1.09s\tremaining: 228ms\n",
      "827:\tlearn: 0.8420906\ttotal: 1.09s\tremaining: 226ms\n",
      "828:\tlearn: 0.8398457\ttotal: 1.09s\tremaining: 225ms\n",
      "829:\tlearn: 0.8358570\ttotal: 1.09s\tremaining: 224ms\n",
      "830:\tlearn: 0.8293211\ttotal: 1.09s\tremaining: 222ms\n",
      "831:\tlearn: 0.8236188\ttotal: 1.09s\tremaining: 221ms\n",
      "832:\tlearn: 0.8175017\ttotal: 1.1s\tremaining: 220ms\n",
      "833:\tlearn: 0.8128315\ttotal: 1.1s\tremaining: 218ms\n",
      "834:\tlearn: 0.8096197\ttotal: 1.1s\tremaining: 217ms\n",
      "835:\tlearn: 0.8027133\ttotal: 1.1s\tremaining: 216ms\n",
      "836:\tlearn: 0.7987555\ttotal: 1.1s\tremaining: 215ms\n",
      "837:\tlearn: 0.7928141\ttotal: 1.1s\tremaining: 213ms\n",
      "838:\tlearn: 0.7897563\ttotal: 1.1s\tremaining: 212ms\n",
      "839:\tlearn: 0.7876758\ttotal: 1.1s\tremaining: 211ms\n",
      "840:\tlearn: 0.7777598\ttotal: 1.11s\tremaining: 209ms\n",
      "841:\tlearn: 0.7767597\ttotal: 1.11s\tremaining: 208ms\n",
      "842:\tlearn: 0.7665043\ttotal: 1.11s\tremaining: 207ms\n",
      "843:\tlearn: 0.7626478\ttotal: 1.11s\tremaining: 205ms\n",
      "844:\tlearn: 0.7540439\ttotal: 1.11s\tremaining: 204ms\n",
      "845:\tlearn: 0.7508537\ttotal: 1.11s\tremaining: 203ms\n",
      "846:\tlearn: 0.7459152\ttotal: 1.12s\tremaining: 202ms\n",
      "847:\tlearn: 0.7447900\ttotal: 1.12s\tremaining: 200ms\n",
      "848:\tlearn: 0.7418475\ttotal: 1.12s\tremaining: 199ms\n",
      "849:\tlearn: 0.7379949\ttotal: 1.12s\tremaining: 198ms\n",
      "850:\tlearn: 0.7369054\ttotal: 1.12s\tremaining: 196ms\n",
      "851:\tlearn: 0.7327236\ttotal: 1.12s\tremaining: 195ms\n",
      "852:\tlearn: 0.7311790\ttotal: 1.12s\tremaining: 194ms\n",
      "853:\tlearn: 0.7226495\ttotal: 1.13s\tremaining: 192ms\n",
      "854:\tlearn: 0.7168390\ttotal: 1.13s\tremaining: 191ms\n",
      "855:\tlearn: 0.7117890\ttotal: 1.13s\tremaining: 190ms\n",
      "856:\tlearn: 0.7040100\ttotal: 1.13s\tremaining: 188ms\n",
      "857:\tlearn: 0.6960021\ttotal: 1.13s\tremaining: 187ms\n",
      "858:\tlearn: 0.6920263\ttotal: 1.13s\tremaining: 186ms\n",
      "859:\tlearn: 0.6853317\ttotal: 1.13s\tremaining: 185ms\n",
      "860:\tlearn: 0.6805108\ttotal: 1.13s\tremaining: 183ms\n",
      "861:\tlearn: 0.6771728\ttotal: 1.14s\tremaining: 182ms\n",
      "862:\tlearn: 0.6708199\ttotal: 1.14s\tremaining: 181ms\n",
      "863:\tlearn: 0.6689468\ttotal: 1.14s\tremaining: 179ms\n",
      "864:\tlearn: 0.6647579\ttotal: 1.14s\tremaining: 178ms\n",
      "865:\tlearn: 0.6587745\ttotal: 1.14s\tremaining: 177ms\n",
      "866:\tlearn: 0.6549437\ttotal: 1.14s\tremaining: 175ms\n",
      "867:\tlearn: 0.6484944\ttotal: 1.14s\tremaining: 174ms\n",
      "868:\tlearn: 0.6455316\ttotal: 1.14s\tremaining: 173ms\n",
      "869:\tlearn: 0.6420739\ttotal: 1.15s\tremaining: 171ms\n",
      "870:\tlearn: 0.6375667\ttotal: 1.15s\tremaining: 170ms\n",
      "871:\tlearn: 0.6358236\ttotal: 1.15s\tremaining: 169ms\n",
      "872:\tlearn: 0.6320335\ttotal: 1.15s\tremaining: 167ms\n",
      "873:\tlearn: 0.6288025\ttotal: 1.15s\tremaining: 166ms\n",
      "874:\tlearn: 0.6243292\ttotal: 1.15s\tremaining: 165ms\n",
      "875:\tlearn: 0.6165696\ttotal: 1.15s\tremaining: 163ms\n",
      "876:\tlearn: 0.6128782\ttotal: 1.16s\tremaining: 162ms\n",
      "877:\tlearn: 0.6057460\ttotal: 1.16s\tremaining: 161ms\n",
      "878:\tlearn: 0.6048833\ttotal: 1.16s\tremaining: 160ms\n",
      "879:\tlearn: 0.5984637\ttotal: 1.16s\tremaining: 158ms\n",
      "880:\tlearn: 0.5935168\ttotal: 1.16s\tremaining: 157ms\n",
      "881:\tlearn: 0.5892604\ttotal: 1.16s\tremaining: 156ms\n",
      "882:\tlearn: 0.5846504\ttotal: 1.16s\tremaining: 154ms\n",
      "883:\tlearn: 0.5814985\ttotal: 1.17s\tremaining: 153ms\n",
      "884:\tlearn: 0.5778053\ttotal: 1.17s\tremaining: 152ms\n",
      "885:\tlearn: 0.5739896\ttotal: 1.17s\tremaining: 150ms\n",
      "886:\tlearn: 0.5729847\ttotal: 1.17s\tremaining: 149ms\n",
      "887:\tlearn: 0.5724598\ttotal: 1.17s\tremaining: 148ms\n",
      "888:\tlearn: 0.5718988\ttotal: 1.17s\tremaining: 146ms\n",
      "889:\tlearn: 0.5672314\ttotal: 1.17s\tremaining: 145ms\n",
      "890:\tlearn: 0.5659035\ttotal: 1.18s\tremaining: 144ms\n",
      "891:\tlearn: 0.5587131\ttotal: 1.18s\tremaining: 142ms\n",
      "892:\tlearn: 0.5562858\ttotal: 1.18s\tremaining: 141ms\n",
      "893:\tlearn: 0.5555127\ttotal: 1.18s\tremaining: 140ms\n",
      "894:\tlearn: 0.5527685\ttotal: 1.18s\tremaining: 139ms\n",
      "895:\tlearn: 0.5499500\ttotal: 1.18s\tremaining: 137ms\n",
      "896:\tlearn: 0.5456148\ttotal: 1.18s\tremaining: 136ms\n",
      "897:\tlearn: 0.5403285\ttotal: 1.18s\tremaining: 135ms\n",
      "898:\tlearn: 0.5377774\ttotal: 1.19s\tremaining: 133ms\n",
      "899:\tlearn: 0.5371353\ttotal: 1.19s\tremaining: 132ms\n",
      "900:\tlearn: 0.5332613\ttotal: 1.19s\tremaining: 131ms\n",
      "901:\tlearn: 0.5289379\ttotal: 1.19s\tremaining: 129ms\n",
      "902:\tlearn: 0.5277948\ttotal: 1.19s\tremaining: 128ms\n",
      "903:\tlearn: 0.5229979\ttotal: 1.19s\tremaining: 127ms\n",
      "904:\tlearn: 0.5176545\ttotal: 1.19s\tremaining: 125ms\n",
      "905:\tlearn: 0.5167566\ttotal: 1.19s\tremaining: 124ms\n",
      "906:\tlearn: 0.5163313\ttotal: 1.2s\tremaining: 123ms\n",
      "907:\tlearn: 0.5116777\ttotal: 1.2s\tremaining: 121ms\n",
      "908:\tlearn: 0.5097952\ttotal: 1.2s\tremaining: 120ms\n",
      "909:\tlearn: 0.5071290\ttotal: 1.2s\tremaining: 119ms\n",
      "910:\tlearn: 0.5049191\ttotal: 1.2s\tremaining: 117ms\n",
      "911:\tlearn: 0.5018383\ttotal: 1.2s\tremaining: 116ms\n",
      "912:\tlearn: 0.5007466\ttotal: 1.2s\tremaining: 115ms\n",
      "913:\tlearn: 0.4998771\ttotal: 1.2s\tremaining: 113ms\n",
      "914:\tlearn: 0.4954624\ttotal: 1.2s\tremaining: 112ms\n",
      "915:\tlearn: 0.4942071\ttotal: 1.21s\tremaining: 111ms\n",
      "916:\tlearn: 0.4893003\ttotal: 1.21s\tremaining: 109ms\n",
      "917:\tlearn: 0.4870233\ttotal: 1.21s\tremaining: 108ms\n",
      "918:\tlearn: 0.4830379\ttotal: 1.21s\tremaining: 107ms\n",
      "919:\tlearn: 0.4753426\ttotal: 1.21s\tremaining: 105ms\n",
      "920:\tlearn: 0.4730706\ttotal: 1.21s\tremaining: 104ms\n",
      "921:\tlearn: 0.4679650\ttotal: 1.21s\tremaining: 103ms\n",
      "922:\tlearn: 0.4651630\ttotal: 1.21s\tremaining: 101ms\n",
      "923:\tlearn: 0.4634313\ttotal: 1.22s\tremaining: 100ms\n",
      "924:\tlearn: 0.4607284\ttotal: 1.22s\tremaining: 98.7ms\n",
      "925:\tlearn: 0.4589159\ttotal: 1.22s\tremaining: 97.3ms\n",
      "926:\tlearn: 0.4532169\ttotal: 1.22s\tremaining: 96ms\n",
      "927:\tlearn: 0.4509932\ttotal: 1.22s\tremaining: 94.7ms\n",
      "928:\tlearn: 0.4506088\ttotal: 1.22s\tremaining: 93.3ms\n",
      "929:\tlearn: 0.4501478\ttotal: 1.22s\tremaining: 92ms\n",
      "930:\tlearn: 0.4490581\ttotal: 1.22s\tremaining: 90.7ms\n",
      "931:\tlearn: 0.4447316\ttotal: 1.22s\tremaining: 89.3ms\n",
      "932:\tlearn: 0.4415148\ttotal: 1.23s\tremaining: 88ms\n",
      "933:\tlearn: 0.4391051\ttotal: 1.23s\tremaining: 86.7ms\n",
      "934:\tlearn: 0.4357356\ttotal: 1.23s\tremaining: 85.3ms\n",
      "935:\tlearn: 0.4323983\ttotal: 1.23s\tremaining: 84ms\n",
      "936:\tlearn: 0.4302143\ttotal: 1.23s\tremaining: 82.7ms\n",
      "937:\tlearn: 0.4289117\ttotal: 1.23s\tremaining: 81.4ms\n",
      "938:\tlearn: 0.4284339\ttotal: 1.23s\tremaining: 80.1ms\n",
      "939:\tlearn: 0.4244107\ttotal: 1.23s\tremaining: 78.8ms\n",
      "940:\tlearn: 0.4237451\ttotal: 1.23s\tremaining: 77.4ms\n",
      "941:\tlearn: 0.4215386\ttotal: 1.24s\tremaining: 76.1ms\n",
      "942:\tlearn: 0.4180705\ttotal: 1.24s\tremaining: 74.8ms\n",
      "943:\tlearn: 0.4154760\ttotal: 1.24s\tremaining: 73.4ms\n",
      "944:\tlearn: 0.4124859\ttotal: 1.24s\tremaining: 72.1ms\n",
      "945:\tlearn: 0.4119886\ttotal: 1.24s\tremaining: 70.8ms\n",
      "946:\tlearn: 0.4115906\ttotal: 1.24s\tremaining: 69.5ms\n",
      "947:\tlearn: 0.4081974\ttotal: 1.24s\tremaining: 68.2ms\n",
      "948:\tlearn: 0.4064530\ttotal: 1.24s\tremaining: 66.9ms\n",
      "949:\tlearn: 0.4040915\ttotal: 1.25s\tremaining: 65.5ms\n",
      "950:\tlearn: 0.4008861\ttotal: 1.25s\tremaining: 64.2ms\n",
      "951:\tlearn: 0.3970913\ttotal: 1.25s\tremaining: 62.9ms\n",
      "952:\tlearn: 0.3943258\ttotal: 1.25s\tremaining: 61.6ms\n",
      "953:\tlearn: 0.3926270\ttotal: 1.25s\tremaining: 60.3ms\n",
      "954:\tlearn: 0.3909448\ttotal: 1.25s\tremaining: 59ms\n",
      "955:\tlearn: 0.3887707\ttotal: 1.25s\tremaining: 57.7ms\n",
      "956:\tlearn: 0.3868345\ttotal: 1.25s\tremaining: 56.3ms\n",
      "957:\tlearn: 0.3839349\ttotal: 1.25s\tremaining: 55ms\n",
      "958:\tlearn: 0.3808497\ttotal: 1.26s\tremaining: 53.7ms\n",
      "959:\tlearn: 0.3779283\ttotal: 1.26s\tremaining: 52.4ms\n",
      "960:\tlearn: 0.3755090\ttotal: 1.26s\tremaining: 51.1ms\n",
      "961:\tlearn: 0.3734292\ttotal: 1.26s\tremaining: 49.9ms\n",
      "962:\tlearn: 0.3731558\ttotal: 1.26s\tremaining: 48.5ms\n",
      "963:\tlearn: 0.3716642\ttotal: 1.26s\tremaining: 47.2ms\n",
      "964:\tlearn: 0.3700879\ttotal: 1.27s\tremaining: 45.9ms\n",
      "965:\tlearn: 0.3676034\ttotal: 1.27s\tremaining: 44.6ms\n",
      "966:\tlearn: 0.3640425\ttotal: 1.27s\tremaining: 43.3ms\n",
      "967:\tlearn: 0.3632495\ttotal: 1.27s\tremaining: 42ms\n",
      "968:\tlearn: 0.3603878\ttotal: 1.27s\tremaining: 40.7ms\n",
      "969:\tlearn: 0.3584398\ttotal: 1.27s\tremaining: 39.4ms\n",
      "970:\tlearn: 0.3560019\ttotal: 1.27s\tremaining: 38.1ms\n",
      "971:\tlearn: 0.3535719\ttotal: 1.28s\tremaining: 36.8ms\n",
      "972:\tlearn: 0.3518950\ttotal: 1.28s\tremaining: 35.5ms\n",
      "973:\tlearn: 0.3479039\ttotal: 1.28s\tremaining: 34.1ms\n",
      "974:\tlearn: 0.3463938\ttotal: 1.28s\tremaining: 32.8ms\n",
      "975:\tlearn: 0.3433932\ttotal: 1.28s\tremaining: 31.5ms\n",
      "976:\tlearn: 0.3410148\ttotal: 1.28s\tremaining: 30.2ms\n",
      "977:\tlearn: 0.3393532\ttotal: 1.28s\tremaining: 28.9ms\n",
      "978:\tlearn: 0.3373067\ttotal: 1.29s\tremaining: 27.6ms\n",
      "979:\tlearn: 0.3359122\ttotal: 1.29s\tremaining: 26.3ms\n",
      "980:\tlearn: 0.3340848\ttotal: 1.29s\tremaining: 25ms\n",
      "981:\tlearn: 0.3331220\ttotal: 1.29s\tremaining: 23.7ms\n",
      "982:\tlearn: 0.3308795\ttotal: 1.3s\tremaining: 22.6ms\n",
      "983:\tlearn: 0.3288012\ttotal: 1.31s\tremaining: 21.2ms\n",
      "984:\tlearn: 0.3271648\ttotal: 1.31s\tremaining: 19.9ms\n",
      "985:\tlearn: 0.3246514\ttotal: 1.31s\tremaining: 18.6ms\n",
      "986:\tlearn: 0.3218383\ttotal: 1.31s\tremaining: 17.3ms\n",
      "987:\tlearn: 0.3206535\ttotal: 1.31s\tremaining: 15.9ms\n",
      "988:\tlearn: 0.3190063\ttotal: 1.31s\tremaining: 14.6ms\n",
      "989:\tlearn: 0.3176250\ttotal: 1.31s\tremaining: 13.3ms\n",
      "990:\tlearn: 0.3146329\ttotal: 1.31s\tremaining: 11.9ms\n",
      "991:\tlearn: 0.3130835\ttotal: 1.32s\tremaining: 10.6ms\n",
      "992:\tlearn: 0.3107534\ttotal: 1.32s\tremaining: 9.29ms\n",
      "993:\tlearn: 0.3089626\ttotal: 1.32s\tremaining: 7.96ms\n",
      "994:\tlearn: 0.3080205\ttotal: 1.32s\tremaining: 6.63ms\n",
      "995:\tlearn: 0.3055692\ttotal: 1.32s\tremaining: 5.31ms\n",
      "996:\tlearn: 0.3035687\ttotal: 1.32s\tremaining: 3.98ms\n",
      "997:\tlearn: 0.3019582\ttotal: 1.32s\tremaining: 2.65ms\n",
      "998:\tlearn: 0.3000480\ttotal: 1.32s\tremaining: 1.33ms\n",
      "999:\tlearn: 0.2971131\ttotal: 1.33s\tremaining: 0us\n"
     ]
    },
    {
     "data": {
      "text/plain": [
       "GridSearchCV(cv=5, error_score=nan,\n",
       "             estimator=<catboost.core.CatBoostRegressor object at 0x000001CD39BAC448>,\n",
       "             iid='deprecated', n_jobs=-1,\n",
       "             param_grid={'depth': [3, 4, 5, 6, 7, 8],\n",
       "                         'iterations': [200, 500, 1000, 2000],\n",
       "                         'learning_rate': [0.01, 0.03, 0.05, 0.1]},\n",
       "             pre_dispatch='2*n_jobs', refit=True, return_train_score=False,\n",
       "             scoring=None, verbose=2)"
      ]
     },
     "execution_count": 190,
     "metadata": {},
     "output_type": "execute_result"
    }
   ],
   "source": [
    "catb_cv_model.fit(X_train, y_train)"
   ]
  },
  {
   "cell_type": "code",
   "execution_count": 191,
   "metadata": {},
   "outputs": [
    {
     "data": {
      "text/plain": [
       "{'depth': 5, 'iterations': 1000, 'learning_rate': 0.1}"
      ]
     },
     "execution_count": 191,
     "metadata": {},
     "output_type": "execute_result"
    }
   ],
   "source": [
    "catb_cv_model.best_params_"
   ]
  },
  {
   "cell_type": "code",
   "execution_count": 192,
   "metadata": {},
   "outputs": [],
   "source": [
    "catb_tuned=CatBoostRegressor(depth=5,\n",
    "                            iterations=1000,\n",
    "                            learning_rate=0.1)"
   ]
  },
  {
   "cell_type": "code",
   "execution_count": 193,
   "metadata": {
    "collapsed": true,
    "jupyter": {
     "outputs_hidden": true
    }
   },
   "outputs": [
    {
     "name": "stdout",
     "output_type": "stream",
     "text": [
      "0:\tlearn: 422.4143448\ttotal: 7.48ms\tremaining: 7.47s\n",
      "1:\tlearn: 404.1864276\ttotal: 8.97ms\tremaining: 4.47s\n",
      "2:\tlearn: 386.3231718\ttotal: 10.3ms\tremaining: 3.42s\n",
      "3:\tlearn: 370.5548032\ttotal: 11.6ms\tremaining: 2.89s\n",
      "4:\tlearn: 354.9242038\ttotal: 12.9ms\tremaining: 2.56s\n",
      "5:\tlearn: 342.3403984\ttotal: 14.2ms\tremaining: 2.35s\n",
      "6:\tlearn: 328.2370070\ttotal: 16.1ms\tremaining: 2.28s\n",
      "7:\tlearn: 317.5056526\ttotal: 17.3ms\tremaining: 2.14s\n",
      "8:\tlearn: 306.6243511\ttotal: 18.4ms\tremaining: 2.03s\n",
      "9:\tlearn: 297.3147023\ttotal: 19.5ms\tremaining: 1.93s\n",
      "10:\tlearn: 288.3685892\ttotal: 20.7ms\tremaining: 1.86s\n",
      "11:\tlearn: 281.0996220\ttotal: 22.1ms\tremaining: 1.81s\n",
      "12:\tlearn: 273.2254898\ttotal: 23.2ms\tremaining: 1.76s\n",
      "13:\tlearn: 266.9003385\ttotal: 24.5ms\tremaining: 1.72s\n",
      "14:\tlearn: 261.9092500\ttotal: 26.2ms\tremaining: 1.72s\n",
      "15:\tlearn: 256.2637350\ttotal: 27.5ms\tremaining: 1.69s\n",
      "16:\tlearn: 250.3667935\ttotal: 28.9ms\tremaining: 1.67s\n",
      "17:\tlearn: 244.8631098\ttotal: 30.1ms\tremaining: 1.64s\n",
      "18:\tlearn: 240.1540669\ttotal: 31.3ms\tremaining: 1.61s\n",
      "19:\tlearn: 235.6057263\ttotal: 32.6ms\tremaining: 1.59s\n",
      "20:\tlearn: 231.2431102\ttotal: 33.8ms\tremaining: 1.57s\n",
      "21:\tlearn: 226.4912464\ttotal: 35ms\tremaining: 1.55s\n",
      "22:\tlearn: 223.5591707\ttotal: 35.7ms\tremaining: 1.52s\n",
      "23:\tlearn: 219.6098928\ttotal: 36.9ms\tremaining: 1.5s\n",
      "24:\tlearn: 215.3653069\ttotal: 38.1ms\tremaining: 1.48s\n",
      "25:\tlearn: 212.0589058\ttotal: 39.3ms\tremaining: 1.47s\n",
      "26:\tlearn: 209.7717728\ttotal: 40.6ms\tremaining: 1.46s\n",
      "27:\tlearn: 206.4800180\ttotal: 41.9ms\tremaining: 1.45s\n",
      "28:\tlearn: 204.4998286\ttotal: 43.2ms\tremaining: 1.45s\n",
      "29:\tlearn: 202.5999376\ttotal: 44.5ms\tremaining: 1.44s\n",
      "30:\tlearn: 199.5099986\ttotal: 45.7ms\tremaining: 1.43s\n",
      "31:\tlearn: 196.9435690\ttotal: 46.9ms\tremaining: 1.42s\n",
      "32:\tlearn: 194.9855023\ttotal: 48.2ms\tremaining: 1.41s\n",
      "33:\tlearn: 193.0037094\ttotal: 49.7ms\tremaining: 1.41s\n",
      "34:\tlearn: 191.6771224\ttotal: 51.1ms\tremaining: 1.41s\n",
      "35:\tlearn: 188.6440989\ttotal: 52.3ms\tremaining: 1.4s\n",
      "36:\tlearn: 186.7575822\ttotal: 53.5ms\tremaining: 1.39s\n",
      "37:\tlearn: 183.5070965\ttotal: 54.6ms\tremaining: 1.38s\n",
      "38:\tlearn: 181.9932704\ttotal: 55.8ms\tremaining: 1.38s\n",
      "39:\tlearn: 180.4612043\ttotal: 57ms\tremaining: 1.37s\n",
      "40:\tlearn: 178.9727236\ttotal: 58.2ms\tremaining: 1.36s\n",
      "41:\tlearn: 176.9704782\ttotal: 59.3ms\tremaining: 1.35s\n",
      "42:\tlearn: 172.9583917\ttotal: 60.4ms\tremaining: 1.34s\n",
      "43:\tlearn: 172.0259404\ttotal: 61.9ms\tremaining: 1.34s\n",
      "44:\tlearn: 169.6703908\ttotal: 63ms\tremaining: 1.34s\n",
      "45:\tlearn: 167.0349788\ttotal: 64.1ms\tremaining: 1.33s\n",
      "46:\tlearn: 166.0151540\ttotal: 65.6ms\tremaining: 1.33s\n",
      "47:\tlearn: 164.3432866\ttotal: 66.6ms\tremaining: 1.32s\n",
      "48:\tlearn: 163.7139546\ttotal: 67.8ms\tremaining: 1.31s\n",
      "49:\tlearn: 162.0231882\ttotal: 69ms\tremaining: 1.31s\n",
      "50:\tlearn: 159.4806540\ttotal: 70.2ms\tremaining: 1.31s\n",
      "51:\tlearn: 156.5835618\ttotal: 71.3ms\tremaining: 1.3s\n",
      "52:\tlearn: 155.1124833\ttotal: 72.3ms\tremaining: 1.29s\n",
      "53:\tlearn: 154.3849650\ttotal: 73.3ms\tremaining: 1.28s\n",
      "54:\tlearn: 153.2243534\ttotal: 74.6ms\tremaining: 1.28s\n",
      "55:\tlearn: 152.3205510\ttotal: 75.8ms\tremaining: 1.28s\n",
      "56:\tlearn: 151.0666069\ttotal: 77.2ms\tremaining: 1.28s\n",
      "57:\tlearn: 150.0992693\ttotal: 78.3ms\tremaining: 1.27s\n",
      "58:\tlearn: 149.7214223\ttotal: 79.6ms\tremaining: 1.27s\n",
      "59:\tlearn: 149.3420563\ttotal: 80.8ms\tremaining: 1.26s\n",
      "60:\tlearn: 147.1527638\ttotal: 82ms\tremaining: 1.26s\n",
      "61:\tlearn: 146.0849045\ttotal: 83.2ms\tremaining: 1.26s\n",
      "62:\tlearn: 145.2592821\ttotal: 84.4ms\tremaining: 1.25s\n",
      "63:\tlearn: 143.9723823\ttotal: 85.7ms\tremaining: 1.25s\n",
      "64:\tlearn: 142.9337890\ttotal: 86.7ms\tremaining: 1.25s\n",
      "65:\tlearn: 141.2456060\ttotal: 87.8ms\tremaining: 1.24s\n",
      "66:\tlearn: 140.0933886\ttotal: 88.8ms\tremaining: 1.24s\n",
      "67:\tlearn: 139.0122411\ttotal: 89.9ms\tremaining: 1.23s\n",
      "68:\tlearn: 137.0658535\ttotal: 91.1ms\tremaining: 1.23s\n",
      "69:\tlearn: 136.5187600\ttotal: 92.3ms\tremaining: 1.23s\n",
      "70:\tlearn: 135.3177866\ttotal: 93.6ms\tremaining: 1.23s\n",
      "71:\tlearn: 134.4397288\ttotal: 95.1ms\tremaining: 1.23s\n",
      "72:\tlearn: 133.9689054\ttotal: 96.3ms\tremaining: 1.22s\n",
      "73:\tlearn: 132.9503812\ttotal: 97.4ms\tremaining: 1.22s\n",
      "74:\tlearn: 132.4790284\ttotal: 98.7ms\tremaining: 1.22s\n",
      "75:\tlearn: 130.0079846\ttotal: 99.8ms\tremaining: 1.21s\n",
      "76:\tlearn: 128.6536311\ttotal: 101ms\tremaining: 1.21s\n",
      "77:\tlearn: 126.4149435\ttotal: 102ms\tremaining: 1.21s\n",
      "78:\tlearn: 124.7339610\ttotal: 103ms\tremaining: 1.2s\n",
      "79:\tlearn: 123.6799098\ttotal: 105ms\tremaining: 1.21s\n",
      "80:\tlearn: 122.0132818\ttotal: 106ms\tremaining: 1.2s\n",
      "81:\tlearn: 121.7718402\ttotal: 107ms\tremaining: 1.2s\n",
      "82:\tlearn: 121.0226763\ttotal: 109ms\tremaining: 1.2s\n",
      "83:\tlearn: 119.0352412\ttotal: 110ms\tremaining: 1.2s\n",
      "84:\tlearn: 118.1578472\ttotal: 111ms\tremaining: 1.19s\n",
      "85:\tlearn: 117.3963152\ttotal: 112ms\tremaining: 1.19s\n",
      "86:\tlearn: 116.8601830\ttotal: 113ms\tremaining: 1.19s\n",
      "87:\tlearn: 115.1485488\ttotal: 115ms\tremaining: 1.19s\n",
      "88:\tlearn: 113.3802066\ttotal: 116ms\tremaining: 1.18s\n",
      "89:\tlearn: 111.8047507\ttotal: 117ms\tremaining: 1.18s\n",
      "90:\tlearn: 111.2173889\ttotal: 118ms\tremaining: 1.18s\n",
      "91:\tlearn: 109.7797673\ttotal: 119ms\tremaining: 1.17s\n",
      "92:\tlearn: 108.5968886\ttotal: 120ms\tremaining: 1.17s\n",
      "93:\tlearn: 107.3902106\ttotal: 121ms\tremaining: 1.17s\n",
      "94:\tlearn: 106.5920119\ttotal: 123ms\tremaining: 1.17s\n",
      "95:\tlearn: 105.9400132\ttotal: 124ms\tremaining: 1.17s\n",
      "96:\tlearn: 104.5018068\ttotal: 125ms\tremaining: 1.16s\n",
      "97:\tlearn: 104.2449785\ttotal: 126ms\tremaining: 1.16s\n",
      "98:\tlearn: 102.4745810\ttotal: 127ms\tremaining: 1.15s\n",
      "99:\tlearn: 101.5007722\ttotal: 128ms\tremaining: 1.15s\n",
      "100:\tlearn: 101.0929742\ttotal: 129ms\tremaining: 1.15s\n",
      "101:\tlearn: 100.8864538\ttotal: 130ms\tremaining: 1.15s\n",
      "102:\tlearn: 99.5007076\ttotal: 131ms\tremaining: 1.14s\n",
      "103:\tlearn: 98.1646778\ttotal: 133ms\tremaining: 1.14s\n",
      "104:\tlearn: 97.1950961\ttotal: 134ms\tremaining: 1.14s\n",
      "105:\tlearn: 96.0991462\ttotal: 135ms\tremaining: 1.14s\n",
      "106:\tlearn: 95.4337941\ttotal: 136ms\tremaining: 1.14s\n",
      "107:\tlearn: 94.9099345\ttotal: 137ms\tremaining: 1.13s\n",
      "108:\tlearn: 94.3889362\ttotal: 138ms\tremaining: 1.13s\n",
      "109:\tlearn: 94.2091744\ttotal: 139ms\tremaining: 1.13s\n",
      "110:\tlearn: 92.8508793\ttotal: 141ms\tremaining: 1.13s\n",
      "111:\tlearn: 92.1784338\ttotal: 142ms\tremaining: 1.13s\n",
      "112:\tlearn: 91.6689944\ttotal: 143ms\tremaining: 1.12s\n",
      "113:\tlearn: 90.6644520\ttotal: 144ms\tremaining: 1.12s\n",
      "114:\tlearn: 90.5375287\ttotal: 145ms\tremaining: 1.12s\n",
      "115:\tlearn: 90.3442623\ttotal: 147ms\tremaining: 1.12s\n",
      "116:\tlearn: 89.3637881\ttotal: 148ms\tremaining: 1.12s\n",
      "117:\tlearn: 88.5340073\ttotal: 149ms\tremaining: 1.11s\n",
      "118:\tlearn: 88.3598014\ttotal: 150ms\tremaining: 1.11s\n",
      "119:\tlearn: 87.1290719\ttotal: 151ms\tremaining: 1.11s\n",
      "120:\tlearn: 87.0034893\ttotal: 152ms\tremaining: 1.11s\n",
      "121:\tlearn: 85.9581724\ttotal: 153ms\tremaining: 1.1s\n",
      "122:\tlearn: 84.7062226\ttotal: 155ms\tremaining: 1.1s\n",
      "123:\tlearn: 84.6114296\ttotal: 156ms\tremaining: 1.1s\n",
      "124:\tlearn: 83.3769126\ttotal: 157ms\tremaining: 1.1s\n",
      "125:\tlearn: 82.2866094\ttotal: 158ms\tremaining: 1.1s\n",
      "126:\tlearn: 81.7817112\ttotal: 159ms\tremaining: 1.09s\n",
      "127:\tlearn: 80.3710545\ttotal: 160ms\tremaining: 1.09s\n",
      "128:\tlearn: 79.3458239\ttotal: 161ms\tremaining: 1.09s\n",
      "129:\tlearn: 78.8966509\ttotal: 162ms\tremaining: 1.09s\n",
      "130:\tlearn: 78.7683699\ttotal: 163ms\tremaining: 1.08s\n",
      "131:\tlearn: 78.0116712\ttotal: 164ms\tremaining: 1.08s\n",
      "132:\tlearn: 77.5728582\ttotal: 165ms\tremaining: 1.08s\n",
      "133:\tlearn: 76.4635356\ttotal: 166ms\tremaining: 1.07s\n",
      "134:\tlearn: 75.6109482\ttotal: 167ms\tremaining: 1.07s\n",
      "135:\tlearn: 74.8287886\ttotal: 168ms\tremaining: 1.07s\n",
      "136:\tlearn: 74.2493825\ttotal: 169ms\tremaining: 1.06s\n",
      "137:\tlearn: 73.3192822\ttotal: 170ms\tremaining: 1.06s\n",
      "138:\tlearn: 72.9755066\ttotal: 171ms\tremaining: 1.06s\n",
      "139:\tlearn: 72.8423874\ttotal: 172ms\tremaining: 1.06s\n",
      "140:\tlearn: 71.5949506\ttotal: 173ms\tremaining: 1.06s\n",
      "141:\tlearn: 70.9408732\ttotal: 175ms\tremaining: 1.05s\n",
      "142:\tlearn: 70.1699642\ttotal: 176ms\tremaining: 1.05s\n",
      "143:\tlearn: 69.8737644\ttotal: 177ms\tremaining: 1.05s\n",
      "144:\tlearn: 69.0963759\ttotal: 178ms\tremaining: 1.05s\n",
      "145:\tlearn: 68.9702397\ttotal: 179ms\tremaining: 1.04s\n",
      "146:\tlearn: 67.8950397\ttotal: 180ms\tremaining: 1.04s\n",
      "147:\tlearn: 67.1501269\ttotal: 180ms\tremaining: 1.04s\n",
      "148:\tlearn: 66.4028868\ttotal: 181ms\tremaining: 1.04s\n",
      "149:\tlearn: 65.3349813\ttotal: 183ms\tremaining: 1.03s\n",
      "150:\tlearn: 64.6766190\ttotal: 184ms\tremaining: 1.03s\n",
      "151:\tlearn: 63.7390417\ttotal: 185ms\tremaining: 1.03s\n",
      "152:\tlearn: 62.9043101\ttotal: 186ms\tremaining: 1.03s\n",
      "153:\tlearn: 62.5922794\ttotal: 187ms\tremaining: 1.03s\n",
      "154:\tlearn: 62.1160450\ttotal: 188ms\tremaining: 1.02s\n",
      "155:\tlearn: 61.7702532\ttotal: 189ms\tremaining: 1.02s\n",
      "156:\tlearn: 61.2433354\ttotal: 190ms\tremaining: 1.02s\n",
      "157:\tlearn: 60.8455422\ttotal: 191ms\tremaining: 1.02s\n",
      "158:\tlearn: 60.6755303\ttotal: 193ms\tremaining: 1.02s\n",
      "159:\tlearn: 59.9631043\ttotal: 194ms\tremaining: 1.02s\n",
      "160:\tlearn: 59.2211911\ttotal: 195ms\tremaining: 1.02s\n",
      "161:\tlearn: 59.1400932\ttotal: 197ms\tremaining: 1.02s\n",
      "162:\tlearn: 58.9164262\ttotal: 198ms\tremaining: 1.02s\n",
      "163:\tlearn: 58.2084420\ttotal: 200ms\tremaining: 1.02s\n",
      "164:\tlearn: 57.9934649\ttotal: 201ms\tremaining: 1.02s\n",
      "165:\tlearn: 57.3736694\ttotal: 202ms\tremaining: 1.01s\n",
      "166:\tlearn: 56.8338370\ttotal: 203ms\tremaining: 1.01s\n",
      "167:\tlearn: 56.5518049\ttotal: 204ms\tremaining: 1.01s\n",
      "168:\tlearn: 55.9777349\ttotal: 206ms\tremaining: 1.01s\n",
      "169:\tlearn: 55.4485860\ttotal: 207ms\tremaining: 1.01s\n",
      "170:\tlearn: 55.0892542\ttotal: 208ms\tremaining: 1.01s\n",
      "171:\tlearn: 54.9915464\ttotal: 210ms\tremaining: 1.01s\n",
      "172:\tlearn: 54.3968112\ttotal: 211ms\tremaining: 1.01s\n",
      "173:\tlearn: 53.7708163\ttotal: 212ms\tremaining: 1.01s\n",
      "174:\tlearn: 53.1993023\ttotal: 213ms\tremaining: 1s\n",
      "175:\tlearn: 52.7773821\ttotal: 215ms\tremaining: 1s\n",
      "176:\tlearn: 52.5186612\ttotal: 216ms\tremaining: 1s\n",
      "177:\tlearn: 52.0038075\ttotal: 217ms\tremaining: 1s\n",
      "178:\tlearn: 51.7971195\ttotal: 219ms\tremaining: 1s\n",
      "179:\tlearn: 51.4334863\ttotal: 220ms\tremaining: 1s\n",
      "180:\tlearn: 50.9151359\ttotal: 221ms\tremaining: 1000ms\n",
      "181:\tlearn: 50.8252320\ttotal: 222ms\tremaining: 999ms\n",
      "182:\tlearn: 50.4143487\ttotal: 223ms\tremaining: 997ms\n",
      "183:\tlearn: 50.0253432\ttotal: 225ms\tremaining: 996ms\n",
      "184:\tlearn: 49.6769233\ttotal: 226ms\tremaining: 994ms\n",
      "185:\tlearn: 49.5689505\ttotal: 227ms\tremaining: 994ms\n",
      "186:\tlearn: 49.0813531\ttotal: 228ms\tremaining: 993ms\n",
      "187:\tlearn: 48.9396335\ttotal: 229ms\tremaining: 991ms\n",
      "188:\tlearn: 48.5040716\ttotal: 231ms\tremaining: 989ms\n",
      "189:\tlearn: 47.9644995\ttotal: 232ms\tremaining: 987ms\n",
      "190:\tlearn: 47.8292554\ttotal: 233ms\tremaining: 986ms\n",
      "191:\tlearn: 47.4433025\ttotal: 234ms\tremaining: 985ms\n",
      "192:\tlearn: 46.9286959\ttotal: 235ms\tremaining: 983ms\n",
      "193:\tlearn: 46.3092347\ttotal: 237ms\tremaining: 985ms\n",
      "194:\tlearn: 45.7431428\ttotal: 238ms\tremaining: 983ms\n",
      "195:\tlearn: 45.6714261\ttotal: 239ms\tremaining: 982ms\n",
      "196:\tlearn: 45.5088158\ttotal: 241ms\tremaining: 981ms\n",
      "197:\tlearn: 45.4713460\ttotal: 242ms\tremaining: 979ms\n",
      "198:\tlearn: 45.0942536\ttotal: 243ms\tremaining: 978ms\n",
      "199:\tlearn: 44.7625600\ttotal: 244ms\tremaining: 977ms\n",
      "200:\tlearn: 44.3247006\ttotal: 245ms\tremaining: 975ms\n",
      "201:\tlearn: 43.8054974\ttotal: 247ms\tremaining: 975ms\n",
      "202:\tlearn: 43.3359785\ttotal: 248ms\tremaining: 973ms\n",
      "203:\tlearn: 42.8698272\ttotal: 249ms\tremaining: 971ms\n",
      "204:\tlearn: 42.4275364\ttotal: 250ms\tremaining: 969ms\n",
      "205:\tlearn: 41.9463597\ttotal: 251ms\tremaining: 967ms\n",
      "206:\tlearn: 41.7547985\ttotal: 252ms\tremaining: 965ms\n",
      "207:\tlearn: 41.6019714\ttotal: 253ms\tremaining: 963ms\n",
      "208:\tlearn: 41.4342896\ttotal: 254ms\tremaining: 961ms\n",
      "209:\tlearn: 41.0764993\ttotal: 255ms\tremaining: 959ms\n",
      "210:\tlearn: 40.7895715\ttotal: 256ms\tremaining: 958ms\n",
      "211:\tlearn: 40.4428042\ttotal: 257ms\tremaining: 956ms\n",
      "212:\tlearn: 39.9370849\ttotal: 258ms\tremaining: 953ms\n",
      "213:\tlearn: 39.4885257\ttotal: 259ms\tremaining: 952ms\n",
      "214:\tlearn: 39.1268375\ttotal: 260ms\tremaining: 951ms\n",
      "215:\tlearn: 38.9591271\ttotal: 261ms\tremaining: 949ms\n",
      "216:\tlearn: 38.8008893\ttotal: 262ms\tremaining: 947ms\n",
      "217:\tlearn: 38.4956003\ttotal: 263ms\tremaining: 945ms\n",
      "218:\tlearn: 38.3528545\ttotal: 264ms\tremaining: 943ms\n",
      "219:\tlearn: 38.1794276\ttotal: 265ms\tremaining: 941ms\n",
      "220:\tlearn: 38.1135196\ttotal: 266ms\tremaining: 939ms\n",
      "221:\tlearn: 37.9126665\ttotal: 267ms\tremaining: 937ms\n",
      "222:\tlearn: 37.5375523\ttotal: 269ms\tremaining: 936ms\n",
      "223:\tlearn: 37.3774479\ttotal: 270ms\tremaining: 935ms\n",
      "224:\tlearn: 36.8965396\ttotal: 271ms\tremaining: 933ms\n",
      "225:\tlearn: 36.4012999\ttotal: 272ms\tremaining: 931ms\n",
      "226:\tlearn: 35.9300616\ttotal: 273ms\tremaining: 929ms\n",
      "227:\tlearn: 35.6148029\ttotal: 274ms\tremaining: 927ms\n",
      "228:\tlearn: 35.2741594\ttotal: 275ms\tremaining: 926ms\n",
      "229:\tlearn: 35.0196015\ttotal: 276ms\tremaining: 924ms\n",
      "230:\tlearn: 34.5877862\ttotal: 277ms\tremaining: 922ms\n",
      "231:\tlearn: 34.4128370\ttotal: 278ms\tremaining: 920ms\n",
      "232:\tlearn: 34.2685016\ttotal: 279ms\tremaining: 917ms\n",
      "233:\tlearn: 34.2021290\ttotal: 280ms\tremaining: 915ms\n",
      "234:\tlearn: 34.1117548\ttotal: 280ms\tremaining: 913ms\n",
      "235:\tlearn: 33.7038307\ttotal: 281ms\tremaining: 911ms\n",
      "236:\tlearn: 33.6591145\ttotal: 282ms\tremaining: 909ms\n",
      "237:\tlearn: 33.6134076\ttotal: 284ms\tremaining: 908ms\n",
      "238:\tlearn: 33.3091022\ttotal: 285ms\tremaining: 907ms\n",
      "239:\tlearn: 33.2050988\ttotal: 286ms\tremaining: 905ms\n",
      "240:\tlearn: 32.7984087\ttotal: 287ms\tremaining: 904ms\n",
      "241:\tlearn: 32.4886567\ttotal: 288ms\tremaining: 902ms\n",
      "242:\tlearn: 32.3354906\ttotal: 289ms\tremaining: 901ms\n",
      "243:\tlearn: 32.1610609\ttotal: 290ms\tremaining: 899ms\n",
      "244:\tlearn: 31.9242693\ttotal: 291ms\tremaining: 897ms\n",
      "245:\tlearn: 31.4693550\ttotal: 292ms\tremaining: 895ms\n",
      "246:\tlearn: 31.1071532\ttotal: 293ms\tremaining: 893ms\n",
      "247:\tlearn: 30.7311162\ttotal: 294ms\tremaining: 891ms\n",
      "248:\tlearn: 30.4892550\ttotal: 295ms\tremaining: 889ms\n",
      "249:\tlearn: 30.3680212\ttotal: 296ms\tremaining: 888ms\n",
      "250:\tlearn: 30.1346007\ttotal: 297ms\tremaining: 887ms\n",
      "251:\tlearn: 29.8046285\ttotal: 299ms\tremaining: 886ms\n",
      "252:\tlearn: 29.6637514\ttotal: 300ms\tremaining: 886ms\n",
      "253:\tlearn: 29.5176095\ttotal: 301ms\tremaining: 884ms\n",
      "254:\tlearn: 29.3723319\ttotal: 302ms\tremaining: 883ms\n",
      "255:\tlearn: 29.1301438\ttotal: 303ms\tremaining: 881ms\n",
      "256:\tlearn: 29.1025017\ttotal: 304ms\tremaining: 880ms\n",
      "257:\tlearn: 28.8276340\ttotal: 306ms\tremaining: 879ms\n",
      "258:\tlearn: 28.6313979\ttotal: 307ms\tremaining: 878ms\n",
      "259:\tlearn: 28.3904787\ttotal: 308ms\tremaining: 876ms\n",
      "260:\tlearn: 27.9496011\ttotal: 309ms\tremaining: 874ms\n",
      "261:\tlearn: 27.6744647\ttotal: 310ms\tremaining: 873ms\n",
      "262:\tlearn: 27.5631687\ttotal: 311ms\tremaining: 872ms\n",
      "263:\tlearn: 27.2940171\ttotal: 312ms\tremaining: 870ms\n",
      "264:\tlearn: 27.0524989\ttotal: 313ms\tremaining: 869ms\n",
      "265:\tlearn: 26.9019408\ttotal: 314ms\tremaining: 868ms\n",
      "266:\tlearn: 26.7539234\ttotal: 316ms\tremaining: 867ms\n",
      "267:\tlearn: 26.5906135\ttotal: 317ms\tremaining: 865ms\n",
      "268:\tlearn: 26.3413069\ttotal: 318ms\tremaining: 864ms\n",
      "269:\tlearn: 26.2300985\ttotal: 319ms\tremaining: 863ms\n",
      "270:\tlearn: 25.7633750\ttotal: 320ms\tremaining: 861ms\n",
      "271:\tlearn: 25.5999298\ttotal: 321ms\tremaining: 860ms\n",
      "272:\tlearn: 25.4034221\ttotal: 322ms\tremaining: 858ms\n",
      "273:\tlearn: 25.3449361\ttotal: 324ms\tremaining: 858ms\n",
      "274:\tlearn: 25.1308675\ttotal: 325ms\tremaining: 857ms\n",
      "275:\tlearn: 24.8170605\ttotal: 326ms\tremaining: 856ms\n",
      "276:\tlearn: 24.5265387\ttotal: 327ms\tremaining: 854ms\n",
      "277:\tlearn: 24.3891773\ttotal: 328ms\tremaining: 852ms\n",
      "278:\tlearn: 24.1691955\ttotal: 329ms\tremaining: 851ms\n",
      "279:\tlearn: 23.9780841\ttotal: 330ms\tremaining: 849ms\n",
      "280:\tlearn: 23.7459991\ttotal: 331ms\tremaining: 848ms\n",
      "281:\tlearn: 23.5762098\ttotal: 332ms\tremaining: 846ms\n",
      "282:\tlearn: 23.4130148\ttotal: 333ms\tremaining: 845ms\n",
      "283:\tlearn: 23.1365659\ttotal: 334ms\tremaining: 843ms\n",
      "284:\tlearn: 22.9605139\ttotal: 335ms\tremaining: 841ms\n",
      "285:\tlearn: 22.8198952\ttotal: 337ms\tremaining: 841ms\n",
      "286:\tlearn: 22.7220776\ttotal: 338ms\tremaining: 839ms\n",
      "287:\tlearn: 22.6349162\ttotal: 339ms\tremaining: 838ms\n",
      "288:\tlearn: 22.5037731\ttotal: 340ms\tremaining: 836ms\n",
      "289:\tlearn: 22.4280658\ttotal: 341ms\tremaining: 835ms\n",
      "290:\tlearn: 22.4111078\ttotal: 342ms\tremaining: 834ms\n",
      "291:\tlearn: 22.2582825\ttotal: 344ms\tremaining: 833ms\n",
      "292:\tlearn: 22.0361847\ttotal: 345ms\tremaining: 832ms\n",
      "293:\tlearn: 21.9197616\ttotal: 346ms\tremaining: 830ms\n",
      "294:\tlearn: 21.8934931\ttotal: 347ms\tremaining: 829ms\n",
      "295:\tlearn: 21.8385467\ttotal: 348ms\tremaining: 827ms\n",
      "296:\tlearn: 21.6056469\ttotal: 349ms\tremaining: 826ms\n",
      "297:\tlearn: 21.3638471\ttotal: 350ms\tremaining: 824ms\n",
      "298:\tlearn: 21.2403020\ttotal: 351ms\tremaining: 823ms\n",
      "299:\tlearn: 20.9940588\ttotal: 352ms\tremaining: 821ms\n",
      "300:\tlearn: 20.8606002\ttotal: 353ms\tremaining: 819ms\n",
      "301:\tlearn: 20.7521062\ttotal: 354ms\tremaining: 818ms\n",
      "302:\tlearn: 20.4914061\ttotal: 355ms\tremaining: 816ms\n",
      "303:\tlearn: 20.4390781\ttotal: 356ms\tremaining: 815ms\n",
      "304:\tlearn: 20.4261039\ttotal: 357ms\tremaining: 813ms\n",
      "305:\tlearn: 20.3429361\ttotal: 358ms\tremaining: 811ms\n",
      "306:\tlearn: 20.3186699\ttotal: 359ms\tremaining: 810ms\n",
      "307:\tlearn: 20.2200547\ttotal: 360ms\tremaining: 808ms\n",
      "308:\tlearn: 20.0363798\ttotal: 361ms\tremaining: 807ms\n",
      "309:\tlearn: 19.9375964\ttotal: 362ms\tremaining: 805ms\n",
      "310:\tlearn: 19.8562475\ttotal: 363ms\tremaining: 803ms\n",
      "311:\tlearn: 19.7207383\ttotal: 364ms\tremaining: 802ms\n",
      "312:\tlearn: 19.5840205\ttotal: 365ms\tremaining: 800ms\n",
      "313:\tlearn: 19.4498604\ttotal: 365ms\tremaining: 798ms\n",
      "314:\tlearn: 19.3106313\ttotal: 366ms\tremaining: 797ms\n",
      "315:\tlearn: 19.1555646\ttotal: 367ms\tremaining: 795ms\n",
      "316:\tlearn: 19.1426558\ttotal: 368ms\tremaining: 793ms\n",
      "317:\tlearn: 19.0179770\ttotal: 369ms\tremaining: 792ms\n",
      "318:\tlearn: 18.9331646\ttotal: 370ms\tremaining: 790ms\n",
      "319:\tlearn: 18.7759664\ttotal: 371ms\tremaining: 789ms\n",
      "320:\tlearn: 18.7302473\ttotal: 372ms\tremaining: 787ms\n",
      "321:\tlearn: 18.6822773\ttotal: 373ms\tremaining: 786ms\n",
      "322:\tlearn: 18.6212081\ttotal: 374ms\tremaining: 784ms\n",
      "323:\tlearn: 18.3825932\ttotal: 375ms\tremaining: 783ms\n",
      "324:\tlearn: 18.0840511\ttotal: 376ms\tremaining: 782ms\n",
      "325:\tlearn: 17.9626242\ttotal: 377ms\tremaining: 780ms\n",
      "326:\tlearn: 17.8194649\ttotal: 378ms\tremaining: 779ms\n",
      "327:\tlearn: 17.6897852\ttotal: 379ms\tremaining: 777ms\n",
      "328:\tlearn: 17.6729587\ttotal: 380ms\tremaining: 776ms\n",
      "329:\tlearn: 17.5730192\ttotal: 381ms\tremaining: 774ms\n",
      "330:\tlearn: 17.3061709\ttotal: 382ms\tremaining: 773ms\n",
      "331:\tlearn: 17.2732138\ttotal: 383ms\tremaining: 771ms\n",
      "332:\tlearn: 17.1284244\ttotal: 385ms\tremaining: 770ms\n",
      "333:\tlearn: 17.0578788\ttotal: 386ms\tremaining: 769ms\n",
      "334:\tlearn: 16.9109643\ttotal: 387ms\tremaining: 767ms\n",
      "335:\tlearn: 16.6595095\ttotal: 388ms\tremaining: 766ms\n",
      "336:\tlearn: 16.5240861\ttotal: 389ms\tremaining: 765ms\n",
      "337:\tlearn: 16.3631551\ttotal: 390ms\tremaining: 764ms\n",
      "338:\tlearn: 16.2364521\ttotal: 391ms\tremaining: 763ms\n",
      "339:\tlearn: 16.1259236\ttotal: 392ms\tremaining: 761ms\n",
      "340:\tlearn: 16.1070160\ttotal: 393ms\tremaining: 760ms\n",
      "341:\tlearn: 15.9446333\ttotal: 394ms\tremaining: 759ms\n",
      "342:\tlearn: 15.8404109\ttotal: 395ms\tremaining: 757ms\n",
      "343:\tlearn: 15.7616719\ttotal: 396ms\tremaining: 756ms\n",
      "344:\tlearn: 15.7046860\ttotal: 397ms\tremaining: 754ms\n",
      "345:\tlearn: 15.5565531\ttotal: 398ms\tremaining: 753ms\n",
      "346:\tlearn: 15.4739767\ttotal: 399ms\tremaining: 751ms\n",
      "347:\tlearn: 15.4214691\ttotal: 400ms\tremaining: 750ms\n",
      "348:\tlearn: 15.3830392\ttotal: 401ms\tremaining: 749ms\n",
      "349:\tlearn: 15.2925503\ttotal: 402ms\tremaining: 747ms\n",
      "350:\tlearn: 15.2685305\ttotal: 403ms\tremaining: 746ms\n",
      "351:\tlearn: 15.0959980\ttotal: 404ms\tremaining: 744ms\n",
      "352:\tlearn: 15.0185539\ttotal: 405ms\tremaining: 743ms\n",
      "353:\tlearn: 14.9344909\ttotal: 406ms\tremaining: 742ms\n",
      "354:\tlearn: 14.8185511\ttotal: 407ms\tremaining: 740ms\n",
      "355:\tlearn: 14.7621205\ttotal: 408ms\tremaining: 738ms\n",
      "356:\tlearn: 14.6824384\ttotal: 409ms\tremaining: 737ms\n",
      "357:\tlearn: 14.5918871\ttotal: 410ms\tremaining: 735ms\n",
      "358:\tlearn: 14.4898356\ttotal: 411ms\tremaining: 734ms\n",
      "359:\tlearn: 14.4773981\ttotal: 412ms\tremaining: 732ms\n",
      "360:\tlearn: 14.3256006\ttotal: 413ms\tremaining: 731ms\n",
      "361:\tlearn: 14.1704867\ttotal: 414ms\tremaining: 730ms\n",
      "362:\tlearn: 14.0453382\ttotal: 415ms\tremaining: 729ms\n",
      "363:\tlearn: 13.9488312\ttotal: 416ms\tremaining: 727ms\n",
      "364:\tlearn: 13.8932251\ttotal: 417ms\tremaining: 725ms\n",
      "365:\tlearn: 13.7368549\ttotal: 418ms\tremaining: 724ms\n",
      "366:\tlearn: 13.6533268\ttotal: 419ms\tremaining: 722ms\n",
      "367:\tlearn: 13.5191569\ttotal: 420ms\tremaining: 721ms\n",
      "368:\tlearn: 13.4712080\ttotal: 421ms\tremaining: 719ms\n",
      "369:\tlearn: 13.3454926\ttotal: 422ms\tremaining: 718ms\n",
      "370:\tlearn: 13.2804919\ttotal: 423ms\tremaining: 717ms\n",
      "371:\tlearn: 13.2609934\ttotal: 424ms\tremaining: 715ms\n",
      "372:\tlearn: 13.1804458\ttotal: 425ms\tremaining: 714ms\n",
      "373:\tlearn: 13.0381162\ttotal: 426ms\tremaining: 713ms\n",
      "374:\tlearn: 13.0250736\ttotal: 427ms\tremaining: 712ms\n",
      "375:\tlearn: 13.0006609\ttotal: 428ms\tremaining: 711ms\n",
      "376:\tlearn: 12.8507663\ttotal: 429ms\tremaining: 709ms\n",
      "377:\tlearn: 12.6986039\ttotal: 430ms\tremaining: 708ms\n",
      "378:\tlearn: 12.5574544\ttotal: 431ms\tremaining: 706ms\n",
      "379:\tlearn: 12.4864386\ttotal: 432ms\tremaining: 705ms\n",
      "380:\tlearn: 12.3739036\ttotal: 433ms\tremaining: 704ms\n",
      "381:\tlearn: 12.3110117\ttotal: 434ms\tremaining: 702ms\n",
      "382:\tlearn: 12.2077088\ttotal: 435ms\tremaining: 701ms\n",
      "383:\tlearn: 12.1065885\ttotal: 436ms\tremaining: 699ms\n",
      "384:\tlearn: 12.0323948\ttotal: 437ms\tremaining: 698ms\n",
      "385:\tlearn: 12.0014896\ttotal: 438ms\tremaining: 696ms\n",
      "386:\tlearn: 11.8568080\ttotal: 439ms\tremaining: 695ms\n",
      "387:\tlearn: 11.7867144\ttotal: 440ms\tremaining: 694ms\n",
      "388:\tlearn: 11.7500836\ttotal: 441ms\tremaining: 692ms\n",
      "389:\tlearn: 11.7348877\ttotal: 442ms\tremaining: 691ms\n",
      "390:\tlearn: 11.7286653\ttotal: 443ms\tremaining: 689ms\n",
      "391:\tlearn: 11.6241305\ttotal: 444ms\tremaining: 688ms\n",
      "392:\tlearn: 11.5960420\ttotal: 445ms\tremaining: 687ms\n",
      "393:\tlearn: 11.5729987\ttotal: 446ms\tremaining: 686ms\n",
      "394:\tlearn: 11.5635235\ttotal: 447ms\tremaining: 685ms\n",
      "395:\tlearn: 11.4873129\ttotal: 449ms\tremaining: 684ms\n",
      "396:\tlearn: 11.3564378\ttotal: 450ms\tremaining: 683ms\n",
      "397:\tlearn: 11.2078876\ttotal: 451ms\tremaining: 681ms\n",
      "398:\tlearn: 11.1598904\ttotal: 452ms\tremaining: 680ms\n",
      "399:\tlearn: 11.0885074\ttotal: 453ms\tremaining: 679ms\n",
      "400:\tlearn: 11.0278575\ttotal: 454ms\tremaining: 678ms\n",
      "401:\tlearn: 10.9865756\ttotal: 455ms\tremaining: 676ms\n",
      "402:\tlearn: 10.8794931\ttotal: 456ms\tremaining: 675ms\n",
      "403:\tlearn: 10.8382558\ttotal: 457ms\tremaining: 674ms\n",
      "404:\tlearn: 10.7596014\ttotal: 458ms\tremaining: 672ms\n",
      "405:\tlearn: 10.7064165\ttotal: 459ms\tremaining: 671ms\n",
      "406:\tlearn: 10.6372130\ttotal: 460ms\tremaining: 670ms\n",
      "407:\tlearn: 10.5505037\ttotal: 461ms\tremaining: 669ms\n",
      "408:\tlearn: 10.4676489\ttotal: 462ms\tremaining: 667ms\n",
      "409:\tlearn: 10.3632792\ttotal: 463ms\tremaining: 666ms\n",
      "410:\tlearn: 10.3399756\ttotal: 464ms\tremaining: 664ms\n",
      "411:\tlearn: 10.2905778\ttotal: 465ms\tremaining: 663ms\n",
      "412:\tlearn: 10.2175164\ttotal: 466ms\tremaining: 663ms\n",
      "413:\tlearn: 10.1482923\ttotal: 467ms\tremaining: 662ms\n",
      "414:\tlearn: 10.0590953\ttotal: 469ms\tremaining: 661ms\n",
      "415:\tlearn: 9.9982795\ttotal: 470ms\tremaining: 660ms\n",
      "416:\tlearn: 9.9099074\ttotal: 472ms\tremaining: 659ms\n",
      "417:\tlearn: 9.8641812\ttotal: 473ms\tremaining: 658ms\n",
      "418:\tlearn: 9.8207799\ttotal: 474ms\tremaining: 658ms\n",
      "419:\tlearn: 9.7000976\ttotal: 475ms\tremaining: 657ms\n",
      "420:\tlearn: 9.6211675\ttotal: 477ms\tremaining: 656ms\n",
      "421:\tlearn: 9.5821946\ttotal: 478ms\tremaining: 654ms\n",
      "422:\tlearn: 9.5314530\ttotal: 479ms\tremaining: 653ms\n",
      "423:\tlearn: 9.5231706\ttotal: 480ms\tremaining: 652ms\n",
      "424:\tlearn: 9.4897613\ttotal: 481ms\tremaining: 650ms\n",
      "425:\tlearn: 9.4178254\ttotal: 482ms\tremaining: 649ms\n",
      "426:\tlearn: 9.3468512\ttotal: 483ms\tremaining: 648ms\n",
      "427:\tlearn: 9.2916542\ttotal: 484ms\tremaining: 646ms\n",
      "428:\tlearn: 9.2671046\ttotal: 485ms\tremaining: 645ms\n",
      "429:\tlearn: 9.1507425\ttotal: 486ms\tremaining: 644ms\n",
      "430:\tlearn: 9.0905964\ttotal: 487ms\tremaining: 643ms\n",
      "431:\tlearn: 9.0599172\ttotal: 488ms\tremaining: 642ms\n",
      "432:\tlearn: 8.9911670\ttotal: 489ms\tremaining: 641ms\n",
      "433:\tlearn: 8.9769178\ttotal: 491ms\tremaining: 640ms\n",
      "434:\tlearn: 8.9011639\ttotal: 492ms\tremaining: 639ms\n",
      "435:\tlearn: 8.8578447\ttotal: 493ms\tremaining: 637ms\n",
      "436:\tlearn: 8.7766216\ttotal: 493ms\tremaining: 636ms\n",
      "437:\tlearn: 8.7600187\ttotal: 494ms\tremaining: 634ms\n",
      "438:\tlearn: 8.7039464\ttotal: 495ms\tremaining: 633ms\n",
      "439:\tlearn: 8.6701908\ttotal: 496ms\tremaining: 632ms\n",
      "440:\tlearn: 8.6561906\ttotal: 497ms\tremaining: 630ms\n",
      "441:\tlearn: 8.6030579\ttotal: 499ms\tremaining: 629ms\n",
      "442:\tlearn: 8.5192884\ttotal: 500ms\tremaining: 628ms\n",
      "443:\tlearn: 8.4605490\ttotal: 500ms\tremaining: 627ms\n",
      "444:\tlearn: 8.3846572\ttotal: 501ms\tremaining: 625ms\n",
      "445:\tlearn: 8.3429264\ttotal: 502ms\tremaining: 624ms\n",
      "446:\tlearn: 8.3068488\ttotal: 504ms\tremaining: 623ms\n",
      "447:\tlearn: 8.2662142\ttotal: 505ms\tremaining: 622ms\n",
      "448:\tlearn: 8.1806196\ttotal: 505ms\tremaining: 620ms\n",
      "449:\tlearn: 8.1475696\ttotal: 506ms\tremaining: 619ms\n",
      "450:\tlearn: 8.1145904\ttotal: 507ms\tremaining: 618ms\n",
      "451:\tlearn: 8.0740309\ttotal: 508ms\tremaining: 616ms\n",
      "452:\tlearn: 8.0095799\ttotal: 509ms\tremaining: 615ms\n",
      "453:\tlearn: 7.9857193\ttotal: 510ms\tremaining: 614ms\n",
      "454:\tlearn: 7.9300069\ttotal: 511ms\tremaining: 613ms\n",
      "455:\tlearn: 7.9088282\ttotal: 512ms\tremaining: 611ms\n",
      "456:\tlearn: 7.8726359\ttotal: 513ms\tremaining: 610ms\n",
      "457:\tlearn: 7.8453260\ttotal: 514ms\tremaining: 609ms\n",
      "458:\tlearn: 7.8015145\ttotal: 515ms\tremaining: 607ms\n",
      "459:\tlearn: 7.7552434\ttotal: 516ms\tremaining: 606ms\n",
      "460:\tlearn: 7.7033074\ttotal: 517ms\tremaining: 605ms\n",
      "461:\tlearn: 7.6732816\ttotal: 518ms\tremaining: 603ms\n",
      "462:\tlearn: 7.6387343\ttotal: 519ms\tremaining: 602ms\n",
      "463:\tlearn: 7.5939225\ttotal: 520ms\tremaining: 601ms\n",
      "464:\tlearn: 7.5495985\ttotal: 521ms\tremaining: 600ms\n",
      "465:\tlearn: 7.5164784\ttotal: 522ms\tremaining: 598ms\n",
      "466:\tlearn: 7.4692120\ttotal: 523ms\tremaining: 597ms\n",
      "467:\tlearn: 7.4602739\ttotal: 524ms\tremaining: 596ms\n",
      "468:\tlearn: 7.4245927\ttotal: 525ms\tremaining: 594ms\n",
      "469:\tlearn: 7.3402299\ttotal: 526ms\tremaining: 593ms\n",
      "470:\tlearn: 7.2998185\ttotal: 527ms\tremaining: 592ms\n",
      "471:\tlearn: 7.2014577\ttotal: 528ms\tremaining: 591ms\n",
      "472:\tlearn: 7.1904207\ttotal: 529ms\tremaining: 589ms\n",
      "473:\tlearn: 7.1527862\ttotal: 530ms\tremaining: 588ms\n",
      "474:\tlearn: 7.0771473\ttotal: 531ms\tremaining: 587ms\n",
      "475:\tlearn: 7.0539525\ttotal: 532ms\tremaining: 586ms\n",
      "476:\tlearn: 6.9846025\ttotal: 533ms\tremaining: 584ms\n",
      "477:\tlearn: 6.9534313\ttotal: 534ms\tremaining: 583ms\n",
      "478:\tlearn: 6.8975880\ttotal: 535ms\tremaining: 582ms\n",
      "479:\tlearn: 6.8254191\ttotal: 536ms\tremaining: 580ms\n",
      "480:\tlearn: 6.8112478\ttotal: 537ms\tremaining: 579ms\n",
      "481:\tlearn: 6.7648902\ttotal: 538ms\tremaining: 578ms\n",
      "482:\tlearn: 6.6860735\ttotal: 539ms\tremaining: 577ms\n",
      "483:\tlearn: 6.6633461\ttotal: 540ms\tremaining: 576ms\n",
      "484:\tlearn: 6.6475279\ttotal: 541ms\tremaining: 574ms\n",
      "485:\tlearn: 6.5921608\ttotal: 542ms\tremaining: 573ms\n",
      "486:\tlearn: 6.5602794\ttotal: 543ms\tremaining: 572ms\n",
      "487:\tlearn: 6.5499659\ttotal: 544ms\tremaining: 570ms\n",
      "488:\tlearn: 6.4940006\ttotal: 545ms\tremaining: 569ms\n",
      "489:\tlearn: 6.4247752\ttotal: 546ms\tremaining: 568ms\n",
      "490:\tlearn: 6.3877601\ttotal: 547ms\tremaining: 567ms\n",
      "491:\tlearn: 6.3314191\ttotal: 548ms\tremaining: 566ms\n",
      "492:\tlearn: 6.2812751\ttotal: 549ms\tremaining: 565ms\n",
      "493:\tlearn: 6.2685065\ttotal: 550ms\tremaining: 563ms\n",
      "494:\tlearn: 6.2241138\ttotal: 551ms\tremaining: 562ms\n",
      "495:\tlearn: 6.1695214\ttotal: 552ms\tremaining: 561ms\n",
      "496:\tlearn: 6.1421906\ttotal: 553ms\tremaining: 560ms\n",
      "497:\tlearn: 6.1331850\ttotal: 554ms\tremaining: 558ms\n",
      "498:\tlearn: 6.1166327\ttotal: 555ms\tremaining: 557ms\n",
      "499:\tlearn: 6.0829602\ttotal: 556ms\tremaining: 556ms\n",
      "500:\tlearn: 6.0650422\ttotal: 557ms\tremaining: 555ms\n",
      "501:\tlearn: 6.0436563\ttotal: 559ms\tremaining: 554ms\n",
      "502:\tlearn: 5.9902804\ttotal: 560ms\tremaining: 553ms\n",
      "503:\tlearn: 5.9121675\ttotal: 561ms\tremaining: 552ms\n",
      "504:\tlearn: 5.9091850\ttotal: 561ms\tremaining: 550ms\n",
      "505:\tlearn: 5.8967995\ttotal: 562ms\tremaining: 549ms\n",
      "506:\tlearn: 5.8430221\ttotal: 563ms\tremaining: 548ms\n",
      "507:\tlearn: 5.8135495\ttotal: 565ms\tremaining: 547ms\n",
      "508:\tlearn: 5.7890913\ttotal: 565ms\tremaining: 545ms\n",
      "509:\tlearn: 5.7577091\ttotal: 566ms\tremaining: 544ms\n",
      "510:\tlearn: 5.7523488\ttotal: 567ms\tremaining: 543ms\n",
      "511:\tlearn: 5.6546493\ttotal: 568ms\tremaining: 542ms\n",
      "512:\tlearn: 5.6194513\ttotal: 569ms\tremaining: 541ms\n",
      "513:\tlearn: 5.5672252\ttotal: 570ms\tremaining: 539ms\n",
      "514:\tlearn: 5.5539421\ttotal: 572ms\tremaining: 538ms\n",
      "515:\tlearn: 5.5185620\ttotal: 573ms\tremaining: 537ms\n",
      "516:\tlearn: 5.4789463\ttotal: 574ms\tremaining: 536ms\n",
      "517:\tlearn: 5.4236755\ttotal: 575ms\tremaining: 535ms\n",
      "518:\tlearn: 5.3864207\ttotal: 576ms\tremaining: 534ms\n",
      "519:\tlearn: 5.3533466\ttotal: 577ms\tremaining: 532ms\n",
      "520:\tlearn: 5.3369921\ttotal: 578ms\tremaining: 531ms\n",
      "521:\tlearn: 5.2560437\ttotal: 579ms\tremaining: 530ms\n",
      "522:\tlearn: 5.2017840\ttotal: 580ms\tremaining: 529ms\n",
      "523:\tlearn: 5.1755812\ttotal: 581ms\tremaining: 527ms\n",
      "524:\tlearn: 5.1385832\ttotal: 582ms\tremaining: 526ms\n",
      "525:\tlearn: 5.1335579\ttotal: 583ms\tremaining: 525ms\n",
      "526:\tlearn: 5.0585358\ttotal: 584ms\tremaining: 524ms\n",
      "527:\tlearn: 5.0021152\ttotal: 585ms\tremaining: 523ms\n",
      "528:\tlearn: 4.9822398\ttotal: 586ms\tremaining: 522ms\n",
      "529:\tlearn: 4.9752376\ttotal: 587ms\tremaining: 520ms\n",
      "530:\tlearn: 4.9479232\ttotal: 588ms\tremaining: 519ms\n",
      "531:\tlearn: 4.9271142\ttotal: 589ms\tremaining: 518ms\n",
      "532:\tlearn: 4.9023595\ttotal: 590ms\tremaining: 517ms\n",
      "533:\tlearn: 4.8555527\ttotal: 591ms\tremaining: 516ms\n",
      "534:\tlearn: 4.8367794\ttotal: 592ms\tremaining: 514ms\n",
      "535:\tlearn: 4.7952444\ttotal: 593ms\tremaining: 513ms\n",
      "536:\tlearn: 4.7409194\ttotal: 594ms\tremaining: 512ms\n",
      "537:\tlearn: 4.6929973\ttotal: 595ms\tremaining: 511ms\n",
      "538:\tlearn: 4.6579685\ttotal: 595ms\tremaining: 509ms\n",
      "539:\tlearn: 4.6195745\ttotal: 596ms\tremaining: 508ms\n",
      "540:\tlearn: 4.5964136\ttotal: 597ms\tremaining: 507ms\n",
      "541:\tlearn: 4.5836819\ttotal: 598ms\tremaining: 506ms\n",
      "542:\tlearn: 4.5766395\ttotal: 600ms\tremaining: 505ms\n",
      "543:\tlearn: 4.5639948\ttotal: 601ms\tremaining: 504ms\n",
      "544:\tlearn: 4.5321336\ttotal: 602ms\tremaining: 502ms\n",
      "545:\tlearn: 4.5257262\ttotal: 603ms\tremaining: 501ms\n",
      "546:\tlearn: 4.5121200\ttotal: 603ms\tremaining: 500ms\n",
      "547:\tlearn: 4.5000971\ttotal: 604ms\tremaining: 498ms\n",
      "548:\tlearn: 4.4699564\ttotal: 605ms\tremaining: 497ms\n",
      "549:\tlearn: 4.4223918\ttotal: 606ms\tremaining: 496ms\n",
      "550:\tlearn: 4.3900850\ttotal: 607ms\tremaining: 495ms\n",
      "551:\tlearn: 4.3865832\ttotal: 608ms\tremaining: 494ms\n",
      "552:\tlearn: 4.3555236\ttotal: 609ms\tremaining: 492ms\n",
      "553:\tlearn: 4.3326942\ttotal: 610ms\tremaining: 491ms\n",
      "554:\tlearn: 4.3083453\ttotal: 611ms\tremaining: 490ms\n",
      "555:\tlearn: 4.2783012\ttotal: 612ms\tremaining: 489ms\n",
      "556:\tlearn: 4.2386680\ttotal: 613ms\tremaining: 488ms\n",
      "557:\tlearn: 4.1982182\ttotal: 614ms\tremaining: 486ms\n",
      "558:\tlearn: 4.1818634\ttotal: 615ms\tremaining: 485ms\n",
      "559:\tlearn: 4.1603123\ttotal: 616ms\tremaining: 484ms\n",
      "560:\tlearn: 4.1162392\ttotal: 617ms\tremaining: 483ms\n",
      "561:\tlearn: 4.0942539\ttotal: 618ms\tremaining: 482ms\n",
      "562:\tlearn: 4.0833944\ttotal: 619ms\tremaining: 481ms\n",
      "563:\tlearn: 4.0651220\ttotal: 620ms\tremaining: 479ms\n",
      "564:\tlearn: 4.0359525\ttotal: 621ms\tremaining: 478ms\n",
      "565:\tlearn: 4.0331482\ttotal: 622ms\tremaining: 477ms\n",
      "566:\tlearn: 4.0110785\ttotal: 623ms\tremaining: 476ms\n",
      "567:\tlearn: 3.9846807\ttotal: 624ms\tremaining: 475ms\n",
      "568:\tlearn: 3.9611224\ttotal: 625ms\tremaining: 473ms\n",
      "569:\tlearn: 3.9238317\ttotal: 626ms\tremaining: 472ms\n",
      "570:\tlearn: 3.9105718\ttotal: 627ms\tremaining: 471ms\n",
      "571:\tlearn: 3.8725349\ttotal: 628ms\tremaining: 470ms\n",
      "572:\tlearn: 3.8589458\ttotal: 629ms\tremaining: 469ms\n",
      "573:\tlearn: 3.8201118\ttotal: 630ms\tremaining: 467ms\n",
      "574:\tlearn: 3.8100971\ttotal: 631ms\tremaining: 467ms\n",
      "575:\tlearn: 3.7824233\ttotal: 632ms\tremaining: 466ms\n",
      "576:\tlearn: 3.7652240\ttotal: 633ms\tremaining: 464ms\n",
      "577:\tlearn: 3.7320270\ttotal: 634ms\tremaining: 463ms\n",
      "578:\tlearn: 3.7227983\ttotal: 636ms\tremaining: 462ms\n",
      "579:\tlearn: 3.7007934\ttotal: 637ms\tremaining: 461ms\n",
      "580:\tlearn: 3.6703626\ttotal: 638ms\tremaining: 460ms\n",
      "581:\tlearn: 3.6587500\ttotal: 640ms\tremaining: 459ms\n",
      "582:\tlearn: 3.6435213\ttotal: 641ms\tremaining: 458ms\n",
      "583:\tlearn: 3.6165255\ttotal: 642ms\tremaining: 457ms\n",
      "584:\tlearn: 3.5921438\ttotal: 643ms\tremaining: 456ms\n",
      "585:\tlearn: 3.5823094\ttotal: 644ms\tremaining: 455ms\n",
      "586:\tlearn: 3.5707107\ttotal: 644ms\tremaining: 453ms\n",
      "587:\tlearn: 3.5585582\ttotal: 645ms\tremaining: 452ms\n",
      "588:\tlearn: 3.5083056\ttotal: 646ms\tremaining: 451ms\n",
      "589:\tlearn: 3.4896083\ttotal: 647ms\tremaining: 450ms\n",
      "590:\tlearn: 3.4745190\ttotal: 648ms\tremaining: 449ms\n",
      "591:\tlearn: 3.4627260\ttotal: 649ms\tremaining: 447ms\n",
      "592:\tlearn: 3.4385625\ttotal: 650ms\tremaining: 446ms\n",
      "593:\tlearn: 3.3997235\ttotal: 651ms\tremaining: 445ms\n",
      "594:\tlearn: 3.3764192\ttotal: 652ms\tremaining: 444ms\n",
      "595:\tlearn: 3.3590522\ttotal: 653ms\tremaining: 443ms\n",
      "596:\tlearn: 3.3474857\ttotal: 654ms\tremaining: 441ms\n",
      "597:\tlearn: 3.3123623\ttotal: 655ms\tremaining: 440ms\n",
      "598:\tlearn: 3.2999589\ttotal: 656ms\tremaining: 439ms\n",
      "599:\tlearn: 3.2767538\ttotal: 658ms\tremaining: 438ms\n",
      "600:\tlearn: 3.2530783\ttotal: 659ms\tremaining: 437ms\n",
      "601:\tlearn: 3.2269777\ttotal: 660ms\tremaining: 436ms\n",
      "602:\tlearn: 3.1938868\ttotal: 661ms\tremaining: 435ms\n",
      "603:\tlearn: 3.1728589\ttotal: 663ms\tremaining: 435ms\n",
      "604:\tlearn: 3.1549029\ttotal: 665ms\tremaining: 434ms\n",
      "605:\tlearn: 3.1478118\ttotal: 666ms\tremaining: 433ms\n",
      "606:\tlearn: 3.1145245\ttotal: 667ms\tremaining: 432ms\n",
      "607:\tlearn: 3.0718905\ttotal: 668ms\tremaining: 431ms\n",
      "608:\tlearn: 3.0352714\ttotal: 670ms\tremaining: 430ms\n",
      "609:\tlearn: 2.9984985\ttotal: 671ms\tremaining: 429ms\n",
      "610:\tlearn: 2.9594115\ttotal: 672ms\tremaining: 428ms\n",
      "611:\tlearn: 2.9438145\ttotal: 673ms\tremaining: 427ms\n",
      "612:\tlearn: 2.9265773\ttotal: 675ms\tremaining: 426ms\n",
      "613:\tlearn: 2.9036898\ttotal: 676ms\tremaining: 425ms\n",
      "614:\tlearn: 2.8790612\ttotal: 677ms\tremaining: 424ms\n",
      "615:\tlearn: 2.8654898\ttotal: 679ms\tremaining: 423ms\n",
      "616:\tlearn: 2.8462561\ttotal: 681ms\tremaining: 423ms\n",
      "617:\tlearn: 2.8254976\ttotal: 682ms\tremaining: 422ms\n",
      "618:\tlearn: 2.8190407\ttotal: 685ms\tremaining: 421ms\n",
      "619:\tlearn: 2.8129812\ttotal: 686ms\tremaining: 420ms\n",
      "620:\tlearn: 2.8097755\ttotal: 687ms\tremaining: 419ms\n",
      "621:\tlearn: 2.7960320\ttotal: 689ms\tremaining: 418ms\n",
      "622:\tlearn: 2.7878495\ttotal: 690ms\tremaining: 418ms\n",
      "623:\tlearn: 2.7602980\ttotal: 692ms\tremaining: 417ms\n",
      "624:\tlearn: 2.7341408\ttotal: 693ms\tremaining: 416ms\n",
      "625:\tlearn: 2.7302545\ttotal: 694ms\tremaining: 415ms\n",
      "626:\tlearn: 2.7120252\ttotal: 696ms\tremaining: 414ms\n",
      "627:\tlearn: 2.7075024\ttotal: 697ms\tremaining: 413ms\n",
      "628:\tlearn: 2.6970031\ttotal: 699ms\tremaining: 412ms\n",
      "629:\tlearn: 2.6928246\ttotal: 700ms\tremaining: 411ms\n",
      "630:\tlearn: 2.6709120\ttotal: 702ms\tremaining: 411ms\n",
      "631:\tlearn: 2.6656247\ttotal: 704ms\tremaining: 410ms\n",
      "632:\tlearn: 2.6452838\ttotal: 705ms\tremaining: 409ms\n",
      "633:\tlearn: 2.6271014\ttotal: 707ms\tremaining: 408ms\n",
      "634:\tlearn: 2.6089454\ttotal: 708ms\tremaining: 407ms\n",
      "635:\tlearn: 2.5996271\ttotal: 710ms\tremaining: 406ms\n",
      "636:\tlearn: 2.5923568\ttotal: 711ms\tremaining: 405ms\n",
      "637:\tlearn: 2.5837611\ttotal: 714ms\tremaining: 405ms\n",
      "638:\tlearn: 2.5726721\ttotal: 715ms\tremaining: 404ms\n",
      "639:\tlearn: 2.5577477\ttotal: 716ms\tremaining: 403ms\n",
      "640:\tlearn: 2.5500744\ttotal: 718ms\tremaining: 402ms\n",
      "641:\tlearn: 2.5274442\ttotal: 719ms\tremaining: 401ms\n",
      "642:\tlearn: 2.5157559\ttotal: 721ms\tremaining: 400ms\n",
      "643:\tlearn: 2.5053856\ttotal: 722ms\tremaining: 399ms\n",
      "644:\tlearn: 2.4841922\ttotal: 723ms\tremaining: 398ms\n",
      "645:\tlearn: 2.4674035\ttotal: 725ms\tremaining: 397ms\n",
      "646:\tlearn: 2.4484158\ttotal: 728ms\tremaining: 397ms\n",
      "647:\tlearn: 2.4263246\ttotal: 729ms\tremaining: 396ms\n",
      "648:\tlearn: 2.4052258\ttotal: 731ms\tremaining: 395ms\n",
      "649:\tlearn: 2.3816894\ttotal: 732ms\tremaining: 394ms\n",
      "650:\tlearn: 2.3659119\ttotal: 733ms\tremaining: 393ms\n",
      "651:\tlearn: 2.3576051\ttotal: 734ms\tremaining: 392ms\n",
      "652:\tlearn: 2.3288476\ttotal: 736ms\tremaining: 391ms\n",
      "653:\tlearn: 2.3109502\ttotal: 738ms\tremaining: 390ms\n",
      "654:\tlearn: 2.3021504\ttotal: 739ms\tremaining: 389ms\n",
      "655:\tlearn: 2.3009515\ttotal: 741ms\tremaining: 388ms\n",
      "656:\tlearn: 2.2893680\ttotal: 742ms\tremaining: 387ms\n",
      "657:\tlearn: 2.2852898\ttotal: 743ms\tremaining: 386ms\n",
      "658:\tlearn: 2.2647131\ttotal: 744ms\tremaining: 385ms\n",
      "659:\tlearn: 2.2437777\ttotal: 745ms\tremaining: 384ms\n",
      "660:\tlearn: 2.2228007\ttotal: 747ms\tremaining: 383ms\n",
      "661:\tlearn: 2.2030047\ttotal: 748ms\tremaining: 382ms\n",
      "662:\tlearn: 2.1823076\ttotal: 750ms\tremaining: 381ms\n",
      "663:\tlearn: 2.1607769\ttotal: 751ms\tremaining: 380ms\n",
      "664:\tlearn: 2.1491049\ttotal: 753ms\tremaining: 379ms\n",
      "665:\tlearn: 2.1403920\ttotal: 754ms\tremaining: 378ms\n",
      "666:\tlearn: 2.1255852\ttotal: 755ms\tremaining: 377ms\n",
      "667:\tlearn: 2.1087714\ttotal: 756ms\tremaining: 376ms\n",
      "668:\tlearn: 2.1033385\ttotal: 757ms\tremaining: 375ms\n",
      "669:\tlearn: 2.0923091\ttotal: 758ms\tremaining: 373ms\n",
      "670:\tlearn: 2.0834076\ttotal: 759ms\tremaining: 372ms\n",
      "671:\tlearn: 2.0735926\ttotal: 760ms\tremaining: 371ms\n",
      "672:\tlearn: 2.0603541\ttotal: 762ms\tremaining: 370ms\n",
      "673:\tlearn: 2.0576392\ttotal: 763ms\tremaining: 369ms\n",
      "674:\tlearn: 2.0455537\ttotal: 764ms\tremaining: 368ms\n",
      "675:\tlearn: 2.0282804\ttotal: 765ms\tremaining: 367ms\n",
      "676:\tlearn: 2.0217423\ttotal: 766ms\tremaining: 366ms\n",
      "677:\tlearn: 2.0119192\ttotal: 768ms\tremaining: 365ms\n",
      "678:\tlearn: 2.0001332\ttotal: 769ms\tremaining: 363ms\n",
      "679:\tlearn: 1.9979894\ttotal: 770ms\tremaining: 362ms\n",
      "680:\tlearn: 1.9907747\ttotal: 771ms\tremaining: 361ms\n",
      "681:\tlearn: 1.9736817\ttotal: 772ms\tremaining: 360ms\n",
      "682:\tlearn: 1.9600965\ttotal: 774ms\tremaining: 359ms\n",
      "683:\tlearn: 1.9539201\ttotal: 775ms\tremaining: 358ms\n",
      "684:\tlearn: 1.9449369\ttotal: 777ms\tremaining: 357ms\n",
      "685:\tlearn: 1.9419454\ttotal: 778ms\tremaining: 356ms\n",
      "686:\tlearn: 1.9326842\ttotal: 779ms\tremaining: 355ms\n",
      "687:\tlearn: 1.9288548\ttotal: 781ms\tremaining: 354ms\n",
      "688:\tlearn: 1.9236716\ttotal: 782ms\tremaining: 353ms\n",
      "689:\tlearn: 1.9228496\ttotal: 784ms\tremaining: 352ms\n",
      "690:\tlearn: 1.9176354\ttotal: 785ms\tremaining: 351ms\n",
      "691:\tlearn: 1.9147659\ttotal: 786ms\tremaining: 350ms\n",
      "692:\tlearn: 1.9079892\ttotal: 787ms\tremaining: 349ms\n",
      "693:\tlearn: 1.9048238\ttotal: 788ms\tremaining: 348ms\n",
      "694:\tlearn: 1.8959419\ttotal: 790ms\tremaining: 347ms\n",
      "695:\tlearn: 1.8711502\ttotal: 791ms\tremaining: 346ms\n",
      "696:\tlearn: 1.8583228\ttotal: 792ms\tremaining: 344ms\n",
      "697:\tlearn: 1.8482604\ttotal: 793ms\tremaining: 343ms\n",
      "698:\tlearn: 1.8456936\ttotal: 795ms\tremaining: 342ms\n",
      "699:\tlearn: 1.8273471\ttotal: 796ms\tremaining: 341ms\n",
      "700:\tlearn: 1.8067825\ttotal: 797ms\tremaining: 340ms\n",
      "701:\tlearn: 1.8022221\ttotal: 799ms\tremaining: 339ms\n",
      "702:\tlearn: 1.7912070\ttotal: 800ms\tremaining: 338ms\n",
      "703:\tlearn: 1.7755760\ttotal: 801ms\tremaining: 337ms\n",
      "704:\tlearn: 1.7712682\ttotal: 802ms\tremaining: 336ms\n",
      "705:\tlearn: 1.7648319\ttotal: 803ms\tremaining: 334ms\n",
      "706:\tlearn: 1.7532904\ttotal: 804ms\tremaining: 333ms\n",
      "707:\tlearn: 1.7463625\ttotal: 805ms\tremaining: 332ms\n",
      "708:\tlearn: 1.7418161\ttotal: 806ms\tremaining: 331ms\n",
      "709:\tlearn: 1.7272345\ttotal: 807ms\tremaining: 330ms\n",
      "710:\tlearn: 1.7217505\ttotal: 808ms\tremaining: 328ms\n",
      "711:\tlearn: 1.7151154\ttotal: 809ms\tremaining: 327ms\n",
      "712:\tlearn: 1.7092925\ttotal: 810ms\tremaining: 326ms\n",
      "713:\tlearn: 1.7025995\ttotal: 811ms\tremaining: 325ms\n",
      "714:\tlearn: 1.6807623\ttotal: 813ms\tremaining: 324ms\n",
      "715:\tlearn: 1.6674907\ttotal: 814ms\tremaining: 323ms\n",
      "716:\tlearn: 1.6544638\ttotal: 815ms\tremaining: 322ms\n",
      "717:\tlearn: 1.6411236\ttotal: 817ms\tremaining: 321ms\n",
      "718:\tlearn: 1.6290477\ttotal: 818ms\tremaining: 320ms\n",
      "719:\tlearn: 1.6222366\ttotal: 820ms\tremaining: 319ms\n",
      "720:\tlearn: 1.6142656\ttotal: 821ms\tremaining: 318ms\n",
      "721:\tlearn: 1.6004470\ttotal: 822ms\tremaining: 317ms\n",
      "722:\tlearn: 1.5932177\ttotal: 823ms\tremaining: 315ms\n",
      "723:\tlearn: 1.5743215\ttotal: 825ms\tremaining: 314ms\n",
      "724:\tlearn: 1.5629066\ttotal: 826ms\tremaining: 313ms\n",
      "725:\tlearn: 1.5505525\ttotal: 827ms\tremaining: 312ms\n",
      "726:\tlearn: 1.5302974\ttotal: 828ms\tremaining: 311ms\n",
      "727:\tlearn: 1.5260700\ttotal: 830ms\tremaining: 310ms\n",
      "728:\tlearn: 1.5188723\ttotal: 831ms\tremaining: 309ms\n",
      "729:\tlearn: 1.5085309\ttotal: 833ms\tremaining: 308ms\n",
      "730:\tlearn: 1.5038733\ttotal: 834ms\tremaining: 307ms\n",
      "731:\tlearn: 1.5008194\ttotal: 835ms\tremaining: 306ms\n",
      "732:\tlearn: 1.4908829\ttotal: 837ms\tremaining: 305ms\n",
      "733:\tlearn: 1.4782605\ttotal: 838ms\tremaining: 304ms\n",
      "734:\tlearn: 1.4639356\ttotal: 839ms\tremaining: 302ms\n",
      "735:\tlearn: 1.4471455\ttotal: 840ms\tremaining: 301ms\n",
      "736:\tlearn: 1.4454285\ttotal: 841ms\tremaining: 300ms\n",
      "737:\tlearn: 1.4416273\ttotal: 843ms\tremaining: 299ms\n",
      "738:\tlearn: 1.4302267\ttotal: 844ms\tremaining: 298ms\n",
      "739:\tlearn: 1.4219328\ttotal: 845ms\tremaining: 297ms\n",
      "740:\tlearn: 1.4105579\ttotal: 846ms\tremaining: 296ms\n",
      "741:\tlearn: 1.4075838\ttotal: 847ms\tremaining: 295ms\n",
      "742:\tlearn: 1.4017014\ttotal: 849ms\tremaining: 294ms\n",
      "743:\tlearn: 1.3974208\ttotal: 850ms\tremaining: 292ms\n",
      "744:\tlearn: 1.3862572\ttotal: 851ms\tremaining: 291ms\n",
      "745:\tlearn: 1.3729360\ttotal: 853ms\tremaining: 290ms\n",
      "746:\tlearn: 1.3630904\ttotal: 854ms\tremaining: 289ms\n",
      "747:\tlearn: 1.3477583\ttotal: 856ms\tremaining: 288ms\n",
      "748:\tlearn: 1.3348270\ttotal: 857ms\tremaining: 287ms\n",
      "749:\tlearn: 1.3236754\ttotal: 858ms\tremaining: 286ms\n",
      "750:\tlearn: 1.3171961\ttotal: 859ms\tremaining: 285ms\n",
      "751:\tlearn: 1.3113457\ttotal: 860ms\tremaining: 284ms\n",
      "752:\tlearn: 1.3036391\ttotal: 862ms\tremaining: 283ms\n",
      "753:\tlearn: 1.2935829\ttotal: 863ms\tremaining: 282ms\n",
      "754:\tlearn: 1.2837612\ttotal: 865ms\tremaining: 281ms\n",
      "755:\tlearn: 1.2768260\ttotal: 866ms\tremaining: 280ms\n",
      "756:\tlearn: 1.2689370\ttotal: 867ms\tremaining: 278ms\n",
      "757:\tlearn: 1.2561567\ttotal: 869ms\tremaining: 277ms\n",
      "758:\tlearn: 1.2475100\ttotal: 870ms\tremaining: 276ms\n",
      "759:\tlearn: 1.2405978\ttotal: 871ms\tremaining: 275ms\n",
      "760:\tlearn: 1.2342628\ttotal: 872ms\tremaining: 274ms\n",
      "761:\tlearn: 1.2271880\ttotal: 873ms\tremaining: 273ms\n",
      "762:\tlearn: 1.2138527\ttotal: 874ms\tremaining: 271ms\n",
      "763:\tlearn: 1.2076889\ttotal: 875ms\tremaining: 270ms\n",
      "764:\tlearn: 1.2041847\ttotal: 876ms\tremaining: 269ms\n",
      "765:\tlearn: 1.1970019\ttotal: 877ms\tremaining: 268ms\n",
      "766:\tlearn: 1.1892878\ttotal: 878ms\tremaining: 267ms\n",
      "767:\tlearn: 1.1858432\ttotal: 879ms\tremaining: 266ms\n",
      "768:\tlearn: 1.1746182\ttotal: 881ms\tremaining: 265ms\n",
      "769:\tlearn: 1.1694876\ttotal: 882ms\tremaining: 263ms\n",
      "770:\tlearn: 1.1657055\ttotal: 883ms\tremaining: 262ms\n",
      "771:\tlearn: 1.1556043\ttotal: 884ms\tremaining: 261ms\n",
      "772:\tlearn: 1.1540774\ttotal: 885ms\tremaining: 260ms\n",
      "773:\tlearn: 1.1473715\ttotal: 886ms\tremaining: 259ms\n",
      "774:\tlearn: 1.1419763\ttotal: 887ms\tremaining: 257ms\n",
      "775:\tlearn: 1.1303590\ttotal: 888ms\tremaining: 256ms\n",
      "776:\tlearn: 1.1230587\ttotal: 889ms\tremaining: 255ms\n",
      "777:\tlearn: 1.1143917\ttotal: 890ms\tremaining: 254ms\n",
      "778:\tlearn: 1.1112687\ttotal: 891ms\tremaining: 253ms\n",
      "779:\tlearn: 1.1009863\ttotal: 892ms\tremaining: 252ms\n",
      "780:\tlearn: 1.0899260\ttotal: 893ms\tremaining: 250ms\n",
      "781:\tlearn: 1.0855158\ttotal: 894ms\tremaining: 249ms\n",
      "782:\tlearn: 1.0808031\ttotal: 896ms\tremaining: 248ms\n",
      "783:\tlearn: 1.0763884\ttotal: 897ms\tremaining: 247ms\n",
      "784:\tlearn: 1.0710758\ttotal: 898ms\tremaining: 246ms\n",
      "785:\tlearn: 1.0634482\ttotal: 899ms\tremaining: 245ms\n",
      "786:\tlearn: 1.0529874\ttotal: 900ms\tremaining: 244ms\n",
      "787:\tlearn: 1.0501903\ttotal: 901ms\tremaining: 242ms\n",
      "788:\tlearn: 1.0410587\ttotal: 902ms\tremaining: 241ms\n",
      "789:\tlearn: 1.0386261\ttotal: 903ms\tremaining: 240ms\n",
      "790:\tlearn: 1.0351082\ttotal: 904ms\tremaining: 239ms\n",
      "791:\tlearn: 1.0320987\ttotal: 905ms\tremaining: 238ms\n",
      "792:\tlearn: 1.0294915\ttotal: 907ms\tremaining: 237ms\n",
      "793:\tlearn: 1.0233284\ttotal: 908ms\tremaining: 235ms\n",
      "794:\tlearn: 1.0176815\ttotal: 909ms\tremaining: 234ms\n",
      "795:\tlearn: 1.0074411\ttotal: 910ms\tremaining: 233ms\n",
      "796:\tlearn: 1.0020197\ttotal: 911ms\tremaining: 232ms\n",
      "797:\tlearn: 0.9989044\ttotal: 912ms\tremaining: 231ms\n",
      "798:\tlearn: 0.9937483\ttotal: 913ms\tremaining: 230ms\n",
      "799:\tlearn: 0.9867329\ttotal: 914ms\tremaining: 228ms\n",
      "800:\tlearn: 0.9819829\ttotal: 915ms\tremaining: 227ms\n",
      "801:\tlearn: 0.9777514\ttotal: 916ms\tremaining: 226ms\n",
      "802:\tlearn: 0.9757462\ttotal: 917ms\tremaining: 225ms\n",
      "803:\tlearn: 0.9702440\ttotal: 918ms\tremaining: 224ms\n",
      "804:\tlearn: 0.9636471\ttotal: 919ms\tremaining: 223ms\n",
      "805:\tlearn: 0.9548362\ttotal: 920ms\tremaining: 221ms\n",
      "806:\tlearn: 0.9470745\ttotal: 921ms\tremaining: 220ms\n",
      "807:\tlearn: 0.9408578\ttotal: 922ms\tremaining: 219ms\n",
      "808:\tlearn: 0.9350692\ttotal: 923ms\tremaining: 218ms\n",
      "809:\tlearn: 0.9290967\ttotal: 924ms\tremaining: 217ms\n",
      "810:\tlearn: 0.9267158\ttotal: 925ms\tremaining: 216ms\n",
      "811:\tlearn: 0.9235794\ttotal: 926ms\tremaining: 214ms\n",
      "812:\tlearn: 0.9226084\ttotal: 927ms\tremaining: 213ms\n",
      "813:\tlearn: 0.9139012\ttotal: 928ms\tremaining: 212ms\n",
      "814:\tlearn: 0.9073690\ttotal: 929ms\tremaining: 211ms\n",
      "815:\tlearn: 0.9024018\ttotal: 930ms\tremaining: 210ms\n",
      "816:\tlearn: 0.9001693\ttotal: 931ms\tremaining: 208ms\n",
      "817:\tlearn: 0.8970481\ttotal: 932ms\tremaining: 207ms\n",
      "818:\tlearn: 0.8907494\ttotal: 933ms\tremaining: 206ms\n",
      "819:\tlearn: 0.8886718\ttotal: 934ms\tremaining: 205ms\n",
      "820:\tlearn: 0.8869259\ttotal: 935ms\tremaining: 204ms\n",
      "821:\tlearn: 0.8804683\ttotal: 935ms\tremaining: 203ms\n",
      "822:\tlearn: 0.8666371\ttotal: 936ms\tremaining: 201ms\n",
      "823:\tlearn: 0.8659600\ttotal: 937ms\tremaining: 200ms\n",
      "824:\tlearn: 0.8604612\ttotal: 938ms\tremaining: 199ms\n",
      "825:\tlearn: 0.8544955\ttotal: 939ms\tremaining: 198ms\n",
      "826:\tlearn: 0.8496739\ttotal: 940ms\tremaining: 197ms\n",
      "827:\tlearn: 0.8420906\ttotal: 941ms\tremaining: 196ms\n",
      "828:\tlearn: 0.8398457\ttotal: 942ms\tremaining: 194ms\n",
      "829:\tlearn: 0.8358570\ttotal: 943ms\tremaining: 193ms\n",
      "830:\tlearn: 0.8293211\ttotal: 944ms\tremaining: 192ms\n",
      "831:\tlearn: 0.8236188\ttotal: 945ms\tremaining: 191ms\n",
      "832:\tlearn: 0.8175017\ttotal: 946ms\tremaining: 190ms\n",
      "833:\tlearn: 0.8128315\ttotal: 947ms\tremaining: 189ms\n",
      "834:\tlearn: 0.8096197\ttotal: 948ms\tremaining: 187ms\n",
      "835:\tlearn: 0.8027133\ttotal: 949ms\tremaining: 186ms\n",
      "836:\tlearn: 0.7987555\ttotal: 950ms\tremaining: 185ms\n",
      "837:\tlearn: 0.7928141\ttotal: 951ms\tremaining: 184ms\n",
      "838:\tlearn: 0.7897563\ttotal: 952ms\tremaining: 183ms\n",
      "839:\tlearn: 0.7876758\ttotal: 953ms\tremaining: 181ms\n",
      "840:\tlearn: 0.7777598\ttotal: 954ms\tremaining: 180ms\n",
      "841:\tlearn: 0.7767597\ttotal: 955ms\tremaining: 179ms\n",
      "842:\tlearn: 0.7665043\ttotal: 956ms\tremaining: 178ms\n",
      "843:\tlearn: 0.7626478\ttotal: 957ms\tremaining: 177ms\n",
      "844:\tlearn: 0.7540439\ttotal: 958ms\tremaining: 176ms\n",
      "845:\tlearn: 0.7508537\ttotal: 958ms\tremaining: 174ms\n",
      "846:\tlearn: 0.7459152\ttotal: 959ms\tremaining: 173ms\n",
      "847:\tlearn: 0.7447900\ttotal: 960ms\tremaining: 172ms\n",
      "848:\tlearn: 0.7418475\ttotal: 961ms\tremaining: 171ms\n",
      "849:\tlearn: 0.7379949\ttotal: 962ms\tremaining: 170ms\n",
      "850:\tlearn: 0.7369054\ttotal: 964ms\tremaining: 169ms\n",
      "851:\tlearn: 0.7327236\ttotal: 965ms\tremaining: 168ms\n",
      "852:\tlearn: 0.7311790\ttotal: 966ms\tremaining: 166ms\n",
      "853:\tlearn: 0.7226495\ttotal: 967ms\tremaining: 165ms\n",
      "854:\tlearn: 0.7168390\ttotal: 968ms\tremaining: 164ms\n",
      "855:\tlearn: 0.7117890\ttotal: 969ms\tremaining: 163ms\n",
      "856:\tlearn: 0.7040100\ttotal: 970ms\tremaining: 162ms\n",
      "857:\tlearn: 0.6960021\ttotal: 971ms\tremaining: 161ms\n",
      "858:\tlearn: 0.6920263\ttotal: 972ms\tremaining: 159ms\n",
      "859:\tlearn: 0.6853317\ttotal: 973ms\tremaining: 158ms\n",
      "860:\tlearn: 0.6805108\ttotal: 974ms\tremaining: 157ms\n",
      "861:\tlearn: 0.6771728\ttotal: 974ms\tremaining: 156ms\n",
      "862:\tlearn: 0.6708199\ttotal: 975ms\tremaining: 155ms\n",
      "863:\tlearn: 0.6689468\ttotal: 976ms\tremaining: 154ms\n",
      "864:\tlearn: 0.6647579\ttotal: 977ms\tremaining: 153ms\n",
      "865:\tlearn: 0.6587745\ttotal: 978ms\tremaining: 151ms\n",
      "866:\tlearn: 0.6549437\ttotal: 979ms\tremaining: 150ms\n",
      "867:\tlearn: 0.6484944\ttotal: 980ms\tremaining: 149ms\n",
      "868:\tlearn: 0.6455316\ttotal: 981ms\tremaining: 148ms\n",
      "869:\tlearn: 0.6420739\ttotal: 982ms\tremaining: 147ms\n",
      "870:\tlearn: 0.6375667\ttotal: 983ms\tremaining: 146ms\n",
      "871:\tlearn: 0.6358236\ttotal: 984ms\tremaining: 144ms\n",
      "872:\tlearn: 0.6320335\ttotal: 985ms\tremaining: 143ms\n",
      "873:\tlearn: 0.6288025\ttotal: 986ms\tremaining: 142ms\n",
      "874:\tlearn: 0.6243292\ttotal: 987ms\tremaining: 141ms\n",
      "875:\tlearn: 0.6165696\ttotal: 988ms\tremaining: 140ms\n",
      "876:\tlearn: 0.6128782\ttotal: 989ms\tremaining: 139ms\n",
      "877:\tlearn: 0.6057460\ttotal: 990ms\tremaining: 137ms\n",
      "878:\tlearn: 0.6048833\ttotal: 990ms\tremaining: 136ms\n",
      "879:\tlearn: 0.5984637\ttotal: 992ms\tremaining: 135ms\n",
      "880:\tlearn: 0.5935168\ttotal: 993ms\tremaining: 134ms\n",
      "881:\tlearn: 0.5892604\ttotal: 994ms\tremaining: 133ms\n",
      "882:\tlearn: 0.5846504\ttotal: 995ms\tremaining: 132ms\n",
      "883:\tlearn: 0.5814985\ttotal: 995ms\tremaining: 131ms\n",
      "884:\tlearn: 0.5778053\ttotal: 996ms\tremaining: 129ms\n",
      "885:\tlearn: 0.5739896\ttotal: 997ms\tremaining: 128ms\n",
      "886:\tlearn: 0.5729847\ttotal: 998ms\tremaining: 127ms\n",
      "887:\tlearn: 0.5724598\ttotal: 999ms\tremaining: 126ms\n",
      "888:\tlearn: 0.5718988\ttotal: 1s\tremaining: 125ms\n",
      "889:\tlearn: 0.5672314\ttotal: 1s\tremaining: 124ms\n",
      "890:\tlearn: 0.5659035\ttotal: 1s\tremaining: 123ms\n",
      "891:\tlearn: 0.5587131\ttotal: 1s\tremaining: 121ms\n",
      "892:\tlearn: 0.5562858\ttotal: 1s\tremaining: 120ms\n",
      "893:\tlearn: 0.5555127\ttotal: 1s\tremaining: 119ms\n",
      "894:\tlearn: 0.5527685\ttotal: 1.01s\tremaining: 118ms\n",
      "895:\tlearn: 0.5499500\ttotal: 1.01s\tremaining: 117ms\n",
      "896:\tlearn: 0.5456148\ttotal: 1.01s\tremaining: 116ms\n",
      "897:\tlearn: 0.5403285\ttotal: 1.01s\tremaining: 115ms\n",
      "898:\tlearn: 0.5377774\ttotal: 1.01s\tremaining: 113ms\n",
      "899:\tlearn: 0.5371353\ttotal: 1.01s\tremaining: 112ms\n",
      "900:\tlearn: 0.5332613\ttotal: 1.01s\tremaining: 111ms\n",
      "901:\tlearn: 0.5289379\ttotal: 1.01s\tremaining: 110ms\n",
      "902:\tlearn: 0.5277948\ttotal: 1.01s\tremaining: 109ms\n",
      "903:\tlearn: 0.5229979\ttotal: 1.01s\tremaining: 108ms\n",
      "904:\tlearn: 0.5176545\ttotal: 1.02s\tremaining: 107ms\n",
      "905:\tlearn: 0.5167566\ttotal: 1.02s\tremaining: 106ms\n",
      "906:\tlearn: 0.5163313\ttotal: 1.02s\tremaining: 104ms\n",
      "907:\tlearn: 0.5116777\ttotal: 1.02s\tremaining: 103ms\n",
      "908:\tlearn: 0.5097952\ttotal: 1.02s\tremaining: 102ms\n",
      "909:\tlearn: 0.5071290\ttotal: 1.02s\tremaining: 101ms\n",
      "910:\tlearn: 0.5049191\ttotal: 1.02s\tremaining: 99.9ms\n",
      "911:\tlearn: 0.5018383\ttotal: 1.02s\tremaining: 98.8ms\n",
      "912:\tlearn: 0.5007466\ttotal: 1.02s\tremaining: 97.6ms\n",
      "913:\tlearn: 0.4998771\ttotal: 1.02s\tremaining: 96.5ms\n",
      "914:\tlearn: 0.4954624\ttotal: 1.03s\tremaining: 95.3ms\n",
      "915:\tlearn: 0.4942071\ttotal: 1.03s\tremaining: 94.2ms\n",
      "916:\tlearn: 0.4893003\ttotal: 1.03s\tremaining: 93.1ms\n",
      "917:\tlearn: 0.4870233\ttotal: 1.03s\tremaining: 92ms\n",
      "918:\tlearn: 0.4830379\ttotal: 1.03s\tremaining: 90.8ms\n",
      "919:\tlearn: 0.4753426\ttotal: 1.03s\tremaining: 89.7ms\n",
      "920:\tlearn: 0.4730706\ttotal: 1.03s\tremaining: 88.6ms\n",
      "921:\tlearn: 0.4679650\ttotal: 1.03s\tremaining: 87.4ms\n",
      "922:\tlearn: 0.4651630\ttotal: 1.03s\tremaining: 86.3ms\n",
      "923:\tlearn: 0.4634313\ttotal: 1.03s\tremaining: 85.2ms\n",
      "924:\tlearn: 0.4607284\ttotal: 1.04s\tremaining: 84ms\n",
      "925:\tlearn: 0.4589159\ttotal: 1.04s\tremaining: 82.9ms\n",
      "926:\tlearn: 0.4532169\ttotal: 1.04s\tremaining: 81.8ms\n",
      "927:\tlearn: 0.4509932\ttotal: 1.04s\tremaining: 80.6ms\n",
      "928:\tlearn: 0.4506088\ttotal: 1.04s\tremaining: 79.5ms\n",
      "929:\tlearn: 0.4501478\ttotal: 1.04s\tremaining: 78.4ms\n",
      "930:\tlearn: 0.4490581\ttotal: 1.04s\tremaining: 77.3ms\n",
      "931:\tlearn: 0.4447316\ttotal: 1.04s\tremaining: 76.1ms\n",
      "932:\tlearn: 0.4415148\ttotal: 1.04s\tremaining: 75ms\n",
      "933:\tlearn: 0.4391051\ttotal: 1.04s\tremaining: 73.9ms\n",
      "934:\tlearn: 0.4357356\ttotal: 1.05s\tremaining: 72.7ms\n",
      "935:\tlearn: 0.4323983\ttotal: 1.05s\tremaining: 71.6ms\n",
      "936:\tlearn: 0.4302143\ttotal: 1.05s\tremaining: 70.5ms\n",
      "937:\tlearn: 0.4289117\ttotal: 1.05s\tremaining: 69.3ms\n",
      "938:\tlearn: 0.4284339\ttotal: 1.05s\tremaining: 68.2ms\n",
      "939:\tlearn: 0.4244107\ttotal: 1.05s\tremaining: 67.1ms\n",
      "940:\tlearn: 0.4237451\ttotal: 1.05s\tremaining: 65.9ms\n",
      "941:\tlearn: 0.4215386\ttotal: 1.05s\tremaining: 64.8ms\n",
      "942:\tlearn: 0.4180705\ttotal: 1.05s\tremaining: 63.7ms\n",
      "943:\tlearn: 0.4154760\ttotal: 1.05s\tremaining: 62.6ms\n",
      "944:\tlearn: 0.4124859\ttotal: 1.05s\tremaining: 61.4ms\n",
      "945:\tlearn: 0.4119886\ttotal: 1.06s\tremaining: 60.3ms\n",
      "946:\tlearn: 0.4115906\ttotal: 1.06s\tremaining: 59.2ms\n",
      "947:\tlearn: 0.4081974\ttotal: 1.06s\tremaining: 58.1ms\n",
      "948:\tlearn: 0.4064530\ttotal: 1.06s\tremaining: 57ms\n",
      "949:\tlearn: 0.4040915\ttotal: 1.06s\tremaining: 55.9ms\n",
      "950:\tlearn: 0.4008861\ttotal: 1.06s\tremaining: 54.8ms\n",
      "951:\tlearn: 0.3970913\ttotal: 1.06s\tremaining: 53.7ms\n",
      "952:\tlearn: 0.3943258\ttotal: 1.06s\tremaining: 52.6ms\n",
      "953:\tlearn: 0.3926270\ttotal: 1.07s\tremaining: 51.5ms\n",
      "954:\tlearn: 0.3909448\ttotal: 1.07s\tremaining: 50.3ms\n",
      "955:\tlearn: 0.3887707\ttotal: 1.07s\tremaining: 49.2ms\n",
      "956:\tlearn: 0.3868345\ttotal: 1.07s\tremaining: 48.1ms\n",
      "957:\tlearn: 0.3839349\ttotal: 1.07s\tremaining: 47ms\n",
      "958:\tlearn: 0.3808497\ttotal: 1.07s\tremaining: 45.9ms\n",
      "959:\tlearn: 0.3779283\ttotal: 1.07s\tremaining: 44.7ms\n",
      "960:\tlearn: 0.3755090\ttotal: 1.07s\tremaining: 43.6ms\n",
      "961:\tlearn: 0.3734292\ttotal: 1.07s\tremaining: 42.5ms\n",
      "962:\tlearn: 0.3731558\ttotal: 1.08s\tremaining: 41.4ms\n",
      "963:\tlearn: 0.3716642\ttotal: 1.08s\tremaining: 40.2ms\n",
      "964:\tlearn: 0.3700879\ttotal: 1.08s\tremaining: 39.1ms\n",
      "965:\tlearn: 0.3676034\ttotal: 1.08s\tremaining: 38ms\n",
      "966:\tlearn: 0.3640425\ttotal: 1.08s\tremaining: 36.9ms\n",
      "967:\tlearn: 0.3632495\ttotal: 1.08s\tremaining: 35.8ms\n",
      "968:\tlearn: 0.3603878\ttotal: 1.08s\tremaining: 34.6ms\n",
      "969:\tlearn: 0.3584398\ttotal: 1.08s\tremaining: 33.5ms\n",
      "970:\tlearn: 0.3560019\ttotal: 1.08s\tremaining: 32.4ms\n",
      "971:\tlearn: 0.3535719\ttotal: 1.08s\tremaining: 31.3ms\n",
      "972:\tlearn: 0.3518950\ttotal: 1.09s\tremaining: 30.2ms\n",
      "973:\tlearn: 0.3479039\ttotal: 1.09s\tremaining: 29ms\n",
      "974:\tlearn: 0.3463938\ttotal: 1.09s\tremaining: 27.9ms\n",
      "975:\tlearn: 0.3433932\ttotal: 1.09s\tremaining: 26.8ms\n",
      "976:\tlearn: 0.3410148\ttotal: 1.09s\tremaining: 25.7ms\n",
      "977:\tlearn: 0.3393532\ttotal: 1.09s\tremaining: 24.6ms\n",
      "978:\tlearn: 0.3373067\ttotal: 1.09s\tremaining: 23.4ms\n",
      "979:\tlearn: 0.3359122\ttotal: 1.09s\tremaining: 22.3ms\n",
      "980:\tlearn: 0.3340848\ttotal: 1.09s\tremaining: 21.2ms\n",
      "981:\tlearn: 0.3331220\ttotal: 1.1s\tremaining: 20.1ms\n",
      "982:\tlearn: 0.3308795\ttotal: 1.1s\tremaining: 19ms\n",
      "983:\tlearn: 0.3288012\ttotal: 1.1s\tremaining: 17.9ms\n",
      "984:\tlearn: 0.3271648\ttotal: 1.1s\tremaining: 16.7ms\n",
      "985:\tlearn: 0.3246514\ttotal: 1.1s\tremaining: 15.6ms\n",
      "986:\tlearn: 0.3218383\ttotal: 1.1s\tremaining: 14.5ms\n",
      "987:\tlearn: 0.3206535\ttotal: 1.1s\tremaining: 13.4ms\n",
      "988:\tlearn: 0.3190063\ttotal: 1.1s\tremaining: 12.3ms\n",
      "989:\tlearn: 0.3176250\ttotal: 1.1s\tremaining: 11.2ms\n",
      "990:\tlearn: 0.3146329\ttotal: 1.1s\tremaining: 10ms\n",
      "991:\tlearn: 0.3130835\ttotal: 1.11s\tremaining: 8.92ms\n",
      "992:\tlearn: 0.3107534\ttotal: 1.11s\tremaining: 7.81ms\n",
      "993:\tlearn: 0.3089626\ttotal: 1.11s\tremaining: 6.69ms\n",
      "994:\tlearn: 0.3080205\ttotal: 1.11s\tremaining: 5.58ms\n",
      "995:\tlearn: 0.3055692\ttotal: 1.11s\tremaining: 4.46ms\n",
      "996:\tlearn: 0.3035687\ttotal: 1.11s\tremaining: 3.34ms\n",
      "997:\tlearn: 0.3019582\ttotal: 1.11s\tremaining: 2.23ms\n",
      "998:\tlearn: 0.3000480\ttotal: 1.11s\tremaining: 1.11ms\n",
      "999:\tlearn: 0.2971131\ttotal: 1.11s\tremaining: 0us\n"
     ]
    },
    {
     "data": {
      "text/plain": [
       "<catboost.core.CatBoostRegressor at 0x1cd364f36c8>"
      ]
     },
     "execution_count": 193,
     "metadata": {},
     "output_type": "execute_result"
    }
   ],
   "source": [
    "catb_tuned.fit(X_train,y_train)"
   ]
  },
  {
   "cell_type": "code",
   "execution_count": 194,
   "metadata": {},
   "outputs": [],
   "source": [
    "y_pred=catb_tuned.predict(X_test)"
   ]
  },
  {
   "cell_type": "code",
   "execution_count": 195,
   "metadata": {},
   "outputs": [
    {
     "data": {
      "text/plain": [
       "356.665762904938"
      ]
     },
     "execution_count": 195,
     "metadata": {},
     "output_type": "execute_result"
    }
   ],
   "source": [
    "np.sqrt(mean_squared_error(y_pred,y_test))"
   ]
  },
  {
   "cell_type": "code",
   "execution_count": null,
   "metadata": {},
   "outputs": [],
   "source": []
  },
  {
   "cell_type": "code",
   "execution_count": null,
   "metadata": {},
   "outputs": [],
   "source": []
  },
  {
   "cell_type": "code",
   "execution_count": 1,
   "metadata": {},
   "outputs": [],
   "source": [
    "import numpy as np\n",
    "import pandas as pd \n",
    "import statsmodels.api as sm\n",
    "import statsmodels.formula.api as smf\n",
    "import seaborn as sns\n",
    "from sklearn.preprocessing import scale \n",
    "from sklearn.model_selection import train_test_split, GridSearchCV, cross_val_score\n",
    "from sklearn.metrics import confusion_matrix, accuracy_score, classification_report\n",
    "from sklearn.metrics import roc_auc_score,roc_curve\n",
    "import statsmodels.formula.api as smf\n",
    "import matplotlib.pyplot as plt\n",
    "from sklearn.neighbors import KNeighborsClassifier\n",
    "from sklearn.discriminant_analysis import LinearDiscriminantAnalysis\n",
    "from sklearn.linear_model import LogisticRegression\n",
    "from sklearn.svm import SVC\n",
    "from sklearn.naive_bayes import GaussianNB\n",
    "from sklearn import tree\n",
    "from sklearn.ensemble import RandomForestClassifier\n",
    "from sklearn.ensemble import GradientBoostingClassifier\n",
    "from xgboost import XGBClassifier\n",
    "from lightgbm import LGBMClassifier\n",
    "from catboost import CatBoostClassifier\n",
    "\n",
    "from warnings import filterwarnings\n",
    "filterwarnings('ignore')"
   ]
  },
  {
   "cell_type": "markdown",
   "metadata": {},
   "source": [
    "# Lojistik Regresyon \n",
    "optimize edilecek parametresi yok "
   ]
  },
  {
   "cell_type": "code",
   "execution_count": 4,
   "metadata": {},
   "outputs": [],
   "source": [
    "diabetes = pd.read_csv(\"diabetes.csv\")\n",
    "df = diabetes.copy()\n",
    "df = df.dropna()\n",
    "y=df[\"Outcome\"]\n",
    "X=df.drop([\"Outcome\"],axis=1)"
   ]
  },
  {
   "cell_type": "code",
   "execution_count": 5,
   "metadata": {},
   "outputs": [],
   "source": [
    "from sklearn.linear_model import LogisticRegression"
   ]
  },
  {
   "cell_type": "code",
   "execution_count": 10,
   "metadata": {
    "collapsed": true,
    "jupyter": {
     "outputs_hidden": true
    }
   },
   "outputs": [
    {
     "data": {
      "text/plain": [
       "LogisticRegression(C=1.0, class_weight=None, dual=False, fit_intercept=True,\n",
       "                   intercept_scaling=1, l1_ratio=None, max_iter=100,\n",
       "                   multi_class='auto', n_jobs=None, penalty='l2',\n",
       "                   random_state=None, solver='liblinear', tol=0.0001, verbose=0,\n",
       "                   warm_start=False)"
      ]
     },
     "execution_count": 10,
     "metadata": {},
     "output_type": "execute_result"
    }
   ],
   "source": [
    "loj=LogisticRegression(solver=\"liblinear\")\n",
    "loj_model=loj.fit(X,y)\n",
    "loj_model"
   ]
  },
  {
   "cell_type": "code",
   "execution_count": 11,
   "metadata": {},
   "outputs": [],
   "source": [
    "y_pred=loj_model.predict(X)"
   ]
  },
  {
   "cell_type": "code",
   "execution_count": 14,
   "metadata": {},
   "outputs": [
    {
     "data": {
      "text/plain": [
       "array([1, 0, 1, 0, 1], dtype=int64)"
      ]
     },
     "execution_count": 14,
     "metadata": {},
     "output_type": "execute_result"
    }
   ],
   "source": [
    "y_pred[0:5]"
   ]
  },
  {
   "cell_type": "code",
   "execution_count": 24,
   "metadata": {},
   "outputs": [
    {
     "data": {
      "text/plain": [
       "array([[0.35040711, 0.64959289],\n",
       "       [0.91701929, 0.08298071],\n",
       "       [0.22474085, 0.77525915],\n",
       "       [0.92138876, 0.07861124],\n",
       "       [0.1672242 , 0.8327758 ],\n",
       "       [0.79898675, 0.20101325],\n",
       "       [0.88019106, 0.11980894],\n",
       "       [0.2781269 , 0.7218731 ],\n",
       "       [0.32060943, 0.67939057],\n",
       "       [0.92272884, 0.07727116]])"
      ]
     },
     "execution_count": 24,
     "metadata": {},
     "output_type": "execute_result"
    }
   ],
   "source": [
    "loj_model.predict_proba(X)[0:10]"
   ]
  },
  {
   "cell_type": "code",
   "execution_count": 15,
   "metadata": {},
   "outputs": [
    {
     "data": {
      "text/plain": [
       "array([[448,  52],\n",
       "       [121, 147]], dtype=int64)"
      ]
     },
     "execution_count": 15,
     "metadata": {},
     "output_type": "execute_result"
    }
   ],
   "source": [
    "confusion_matrix(y,y_pred)"
   ]
  },
  {
   "cell_type": "code",
   "execution_count": 16,
   "metadata": {},
   "outputs": [
    {
     "data": {
      "text/plain": [
       "0.7747395833333334"
      ]
     },
     "execution_count": 16,
     "metadata": {},
     "output_type": "execute_result"
    }
   ],
   "source": [
    "accuracy_score(y,y_pred)"
   ]
  },
  {
   "cell_type": "code",
   "execution_count": 18,
   "metadata": {},
   "outputs": [
    {
     "data": {
      "text/plain": [
       "0.7669685577580314"
      ]
     },
     "execution_count": 18,
     "metadata": {},
     "output_type": "execute_result"
    }
   ],
   "source": [
    "cross_val_score(loj,X,y,cv=10).mean()"
   ]
  },
  {
   "cell_type": "code",
   "execution_count": 19,
   "metadata": {},
   "outputs": [
    {
     "name": "stdout",
     "output_type": "stream",
     "text": [
      "              precision    recall  f1-score   support\n",
      "\n",
      "           0       0.79      0.90      0.84       500\n",
      "           1       0.74      0.55      0.63       268\n",
      "\n",
      "    accuracy                           0.77       768\n",
      "   macro avg       0.76      0.72      0.73       768\n",
      "weighted avg       0.77      0.77      0.77       768\n",
      "\n"
     ]
    }
   ],
   "source": [
    "print(classification_report(y,y_pred))"
   ]
  },
  {
   "cell_type": "code",
   "execution_count": 65,
   "metadata": {
    "collapsed": true,
    "jupyter": {
     "outputs_hidden": true
    }
   },
   "outputs": [
    {
     "data": {
      "text/plain": [
       "(array([0.   , 0.   , 0.   , 0.002, 0.002, 0.004, 0.004, 0.006, 0.006,\n",
       "        0.008, 0.008, 0.01 , 0.01 , 0.012, 0.012, 0.014, 0.014, 0.016,\n",
       "        0.016, 0.018, 0.018, 0.022, 0.022, 0.026, 0.026, 0.032, 0.032,\n",
       "        0.034, 0.034, 0.036, 0.036, 0.038, 0.038, 0.04 , 0.04 , 0.046,\n",
       "        0.046, 0.048, 0.048, 0.05 , 0.05 , 0.052, 0.052, 0.054, 0.054,\n",
       "        0.06 , 0.06 , 0.062, 0.062, 0.064, 0.064, 0.07 , 0.07 , 0.072,\n",
       "        0.072, 0.074, 0.074, 0.076, 0.076, 0.078, 0.078, 0.082, 0.082,\n",
       "        0.084, 0.084, 0.086, 0.086, 0.09 , 0.09 , 0.102, 0.102, 0.104,\n",
       "        0.104, 0.106, 0.106, 0.108, 0.108, 0.11 , 0.11 , 0.116, 0.116,\n",
       "        0.118, 0.118, 0.12 , 0.12 , 0.124, 0.124, 0.126, 0.126, 0.128,\n",
       "        0.128, 0.138, 0.138, 0.14 , 0.14 , 0.144, 0.144, 0.156, 0.156,\n",
       "        0.158, 0.158, 0.16 , 0.16 , 0.168, 0.168, 0.178, 0.178, 0.18 ,\n",
       "        0.18 , 0.184, 0.184, 0.188, 0.188, 0.19 , 0.19 , 0.192, 0.192,\n",
       "        0.194, 0.194, 0.198, 0.198, 0.2  , 0.2  , 0.206, 0.206, 0.21 ,\n",
       "        0.21 , 0.216, 0.216, 0.222, 0.222, 0.228, 0.228, 0.23 , 0.23 ,\n",
       "        0.238, 0.238, 0.242, 0.242, 0.25 , 0.25 , 0.264, 0.264, 0.276,\n",
       "        0.276, 0.282, 0.282, 0.29 , 0.29 , 0.292, 0.292, 0.294, 0.294,\n",
       "        0.298, 0.298, 0.314, 0.314, 0.33 , 0.33 , 0.338, 0.338, 0.344,\n",
       "        0.344, 0.356, 0.356, 0.36 , 0.36 , 0.378, 0.378, 0.384, 0.384,\n",
       "        0.394, 0.394, 0.4  , 0.4  , 0.402, 0.402, 0.404, 0.404, 0.406,\n",
       "        0.406, 0.414, 0.414, 0.464, 0.464, 0.468, 0.468, 0.488, 0.488,\n",
       "        0.5  , 0.5  , 0.506, 0.506, 0.518, 0.518, 0.522, 0.522, 0.534,\n",
       "        0.534, 0.536, 0.536, 0.562, 0.562, 0.568, 0.568, 0.59 , 0.59 ,\n",
       "        0.622, 0.622, 0.628, 0.628, 0.646, 0.646, 0.686, 0.686, 0.714,\n",
       "        0.714, 0.784, 0.784, 0.808, 0.808, 0.916, 0.916, 0.984, 0.984,\n",
       "        0.992, 0.992, 1.   ]),\n",
       " array([0.        , 0.00373134, 0.01119403, 0.01119403, 0.03731343,\n",
       "        0.03731343, 0.06343284, 0.06343284, 0.08208955, 0.08208955,\n",
       "        0.08955224, 0.08955224, 0.10447761, 0.10447761, 0.19029851,\n",
       "        0.19029851, 0.21268657, 0.21268657, 0.22761194, 0.22761194,\n",
       "        0.26492537, 0.26492537, 0.28731343, 0.28731343, 0.30970149,\n",
       "        0.30970149, 0.31343284, 0.31343284, 0.32089552, 0.32089552,\n",
       "        0.32835821, 0.32835821, 0.36940299, 0.36940299, 0.38059701,\n",
       "        0.38059701, 0.38432836, 0.38432836, 0.39179104, 0.39179104,\n",
       "        0.40671642, 0.40671642, 0.41791045, 0.41791045, 0.42537313,\n",
       "        0.42537313, 0.42910448, 0.42910448, 0.43656716, 0.43656716,\n",
       "        0.44776119, 0.44776119, 0.45895522, 0.45895522, 0.48880597,\n",
       "        0.48880597, 0.49253731, 0.49253731, 0.49626866, 0.49626866,\n",
       "        0.5       , 0.5       , 0.51119403, 0.51119403, 0.51865672,\n",
       "        0.51865672, 0.53358209, 0.53358209, 0.54477612, 0.54477612,\n",
       "        0.54850746, 0.54850746, 0.55223881, 0.55223881, 0.55597015,\n",
       "        0.55597015, 0.55970149, 0.55970149, 0.56716418, 0.56716418,\n",
       "        0.57089552, 0.57089552, 0.57462687, 0.57462687, 0.58208955,\n",
       "        0.58208955, 0.58955224, 0.58955224, 0.59328358, 0.59328358,\n",
       "        0.59701493, 0.59701493, 0.60074627, 0.60074627, 0.60820896,\n",
       "        0.60820896, 0.6119403 , 0.6119403 , 0.61567164, 0.61567164,\n",
       "        0.61940299, 0.61940299, 0.62313433, 0.62313433, 0.63432836,\n",
       "        0.63432836, 0.65298507, 0.65298507, 0.65671642, 0.65671642,\n",
       "        0.66044776, 0.66044776, 0.67164179, 0.67164179, 0.69776119,\n",
       "        0.69776119, 0.70522388, 0.70522388, 0.71268657, 0.71268657,\n",
       "        0.7238806 , 0.7238806 , 0.73134328, 0.73134328, 0.73507463,\n",
       "        0.73507463, 0.74253731, 0.74253731, 0.75746269, 0.75746269,\n",
       "        0.76119403, 0.76119403, 0.76865672, 0.76865672, 0.77985075,\n",
       "        0.77985075, 0.78358209, 0.78358209, 0.78731343, 0.78731343,\n",
       "        0.79104478, 0.79104478, 0.79477612, 0.79477612, 0.79850746,\n",
       "        0.79850746, 0.80597015, 0.80597015, 0.80970149, 0.80970149,\n",
       "        0.81716418, 0.81716418, 0.82089552, 0.82089552, 0.82462687,\n",
       "        0.82462687, 0.82835821, 0.82835821, 0.83208955, 0.83208955,\n",
       "        0.8358209 , 0.8358209 , 0.83955224, 0.83955224, 0.84328358,\n",
       "        0.84328358, 0.84701493, 0.84701493, 0.85074627, 0.85074627,\n",
       "        0.85447761, 0.85447761, 0.85820896, 0.85820896, 0.86940299,\n",
       "        0.86940299, 0.87313433, 0.87313433, 0.88432836, 0.88432836,\n",
       "        0.89552239, 0.89552239, 0.89925373, 0.89925373, 0.90298507,\n",
       "        0.90298507, 0.90671642, 0.90671642, 0.91044776, 0.91044776,\n",
       "        0.9141791 , 0.9141791 , 0.91791045, 0.91791045, 0.92164179,\n",
       "        0.92164179, 0.92537313, 0.92537313, 0.93656716, 0.93656716,\n",
       "        0.94029851, 0.94029851, 0.94402985, 0.94402985, 0.95149254,\n",
       "        0.95149254, 0.95522388, 0.95522388, 0.96268657, 0.96268657,\n",
       "        0.96641791, 0.96641791, 0.97014925, 0.97014925, 0.9738806 ,\n",
       "        0.9738806 , 0.97761194, 0.97761194, 0.98507463, 0.98507463,\n",
       "        0.98880597, 0.98880597, 0.99253731, 0.99253731, 0.99626866,\n",
       "        0.99626866, 1.        , 1.        ]),\n",
       " array([1.96477167, 0.96477167, 0.94295527, 0.92647918, 0.9029745 ,\n",
       "        0.89771194, 0.87329592, 0.87316271, 0.84278751, 0.84276872,\n",
       "        0.83803555, 0.83465547, 0.82639659, 0.82346958, 0.76605678,\n",
       "        0.75829036, 0.74076724, 0.74040711, 0.73452313, 0.73444944,\n",
       "        0.72249862, 0.7218731 , 0.70810986, 0.70390599, 0.69678268,\n",
       "        0.68916222, 0.687864  , 0.68772024, 0.68568008, 0.68433657,\n",
       "        0.67939057, 0.67860508, 0.65535479, 0.65216721, 0.64747763,\n",
       "        0.63456922, 0.63450134, 0.63335343, 0.63227385, 0.63163185,\n",
       "        0.6197081 , 0.61932239, 0.61754352, 0.61691286, 0.61286567,\n",
       "        0.60695725, 0.605466  , 0.60502442, 0.59883327, 0.59862954,\n",
       "        0.59323625, 0.58328016, 0.57796177, 0.57793488, 0.56160433,\n",
       "        0.55901231, 0.55625966, 0.55510677, 0.55463156, 0.55416142,\n",
       "        0.55259959, 0.55087941, 0.54545367, 0.54523549, 0.53976751,\n",
       "        0.53698873, 0.52970942, 0.52435683, 0.51472626, 0.50966011,\n",
       "        0.50892749, 0.50730881, 0.49985093, 0.49952351, 0.49902934,\n",
       "        0.49628198, 0.4946219 , 0.4942448 , 0.49177208, 0.48891786,\n",
       "        0.48807133, 0.48653592, 0.48313222, 0.48247468, 0.47867884,\n",
       "        0.47352504, 0.47130165, 0.47091642, 0.46954231, 0.46807574,\n",
       "        0.46791288, 0.46009034, 0.45976621, 0.45832659, 0.45538258,\n",
       "        0.45485594, 0.45231697, 0.44283492, 0.44143262, 0.43818062,\n",
       "        0.43640499, 0.43506086, 0.43505702, 0.42723699, 0.42361285,\n",
       "        0.41477038, 0.40842549, 0.40521534, 0.40424614, 0.4006928 ,\n",
       "        0.39575376, 0.39378251, 0.39194937, 0.3916222 , 0.38264593,\n",
       "        0.38154103, 0.3804621 , 0.37997541, 0.3768158 , 0.37638596,\n",
       "        0.37297266, 0.37151765, 0.37071519, 0.36960034, 0.36879814,\n",
       "        0.36743951, 0.36636645, 0.36414315, 0.36229794, 0.35897133,\n",
       "        0.3589106 , 0.35344131, 0.34971131, 0.34715137, 0.34267711,\n",
       "        0.34191456, 0.34073249, 0.34048988, 0.33994379, 0.33554156,\n",
       "        0.33523507, 0.33168624, 0.33105465, 0.32693303, 0.32686259,\n",
       "        0.32496208, 0.32341784, 0.32265531, 0.31951028, 0.31824519,\n",
       "        0.31505524, 0.31502606, 0.31296532, 0.31274139, 0.31192084,\n",
       "        0.30361973, 0.30246986, 0.29747783, 0.29672541, 0.29435074,\n",
       "        0.29099065, 0.29004602, 0.28999433, 0.28846695, 0.28702027,\n",
       "        0.28594942, 0.28587898, 0.27588978, 0.27503486, 0.27288979,\n",
       "        0.27172149, 0.26942168, 0.26882856, 0.26309827, 0.26018679,\n",
       "        0.25898465, 0.25809359, 0.25775621, 0.25650066, 0.25615832,\n",
       "        0.25099337, 0.24838076, 0.24616749, 0.22806527, 0.22796249,\n",
       "        0.22700847, 0.22642877, 0.22016334, 0.21999128, 0.2172174 ,\n",
       "        0.21705289, 0.21596518, 0.21538538, 0.21100023, 0.20875536,\n",
       "        0.20791707, 0.20650591, 0.20044445, 0.19778066, 0.19753888,\n",
       "        0.19606429, 0.18989477, 0.18915611, 0.18796921, 0.18716326,\n",
       "        0.1802329 , 0.17937177, 0.17351154, 0.17340789, 0.17180715,\n",
       "        0.17126314, 0.16503144, 0.16485804, 0.15301907, 0.15299022,\n",
       "        0.14519084, 0.14463318, 0.12153171, 0.11933912, 0.1148084 ,\n",
       "        0.11319574, 0.07766992, 0.07727116, 0.04204902, 0.03967022,\n",
       "        0.03120355, 0.02458246, 0.00660012]))"
      ]
     },
     "execution_count": 65,
     "metadata": {},
     "output_type": "execute_result"
    }
   ],
   "source": [
    "roc_curve(y, loj_model.predict_proba(X)[:,1]) #3 farklı array uretir."
   ]
  },
  {
   "cell_type": "code",
   "execution_count": 66,
   "metadata": {},
   "outputs": [
    {
     "data": {
      "image/png": "[encoded data removed]",
      "text/plain": [
       "<Figure size 432x288 with 1 Axes>"
      ]
     },
     "metadata": {
      "needs_background": "light"
     },
     "output_type": "display_data"
    }
   ],
   "source": [
    "logit_roc_auc = roc_auc_score(y, loj_model.predict(X))\n",
    "\n",
    "fpr, tpr, thresholds = roc_curve(y, loj_model.predict_proba(X)[:,1])\n",
    "plt.figure()\n",
    "plt.plot(fpr, tpr, label='AUC (area = %0.2f)' % logit_roc_auc)\n",
    "plt.plot([0, 1], [0, 1],'g--')\n",
    "plt.xlim([0.0, 1.0])\n",
    "plt.ylim([0.0, 1.05])\n",
    "plt.xlabel('False Positive Oranı')\n",
    "plt.ylabel('True Positive Oranı')\n",
    "plt.title('ROC')\n",
    "plt.show()"
   ]
  },
  {
   "cell_type": "code",
   "execution_count": null,
   "metadata": {},
   "outputs": [],
   "source": []
  },
  {
   "cell_type": "code",
   "execution_count": null,
   "metadata": {},
   "outputs": [],
   "source": []
  },
  {
   "cell_type": "code",
   "execution_count": null,
   "metadata": {},
   "outputs": [],
   "source": []
  },
  {
   "cell_type": "markdown",
   "metadata": {},
   "source": [
    "# Gaussian Naive Bayes\n",
    "optimize edilecek parametresi yok "
   ]
  },
  {
   "cell_type": "code",
   "execution_count": 74,
   "metadata": {},
   "outputs": [],
   "source": [
    "df = diabetes.copy()\n",
    "df = df.dropna()\n",
    "y = df[\"Outcome\"]\n",
    "X = df.drop(['Outcome'], axis=1)\n",
    "X_train, X_test, y_train, y_test = train_test_split(X, y, \n",
    "                                                    test_size=0.30, \n",
    "                                                    random_state=42)\n"
   ]
  },
  {
   "cell_type": "code",
   "execution_count": 68,
   "metadata": {},
   "outputs": [],
   "source": [
    "from sklearn.naive_bayes import GaussianNB"
   ]
  },
  {
   "cell_type": "code",
   "execution_count": 72,
   "metadata": {},
   "outputs": [],
   "source": [
    "nb=GaussianNB()\n",
    "nb_model=nb.fit(X_train,y_train)"
   ]
  },
  {
   "cell_type": "code",
   "execution_count": 76,
   "metadata": {},
   "outputs": [
    {
     "data": {
      "text/plain": [
       "0.7445887445887446"
      ]
     },
     "execution_count": 76,
     "metadata": {},
     "output_type": "execute_result"
    }
   ],
   "source": [
    "from sklearn.metrics import mean_squared_error\n",
    "y_pred=nb_model.predict(X_test)\n",
    "accuracy_score(y_test, y_pred)"
   ]
  },
  {
   "cell_type": "code",
   "execution_count": 77,
   "metadata": {},
   "outputs": [
    {
     "data": {
      "text/plain": [
       "0.775"
      ]
     },
     "execution_count": 77,
     "metadata": {},
     "output_type": "execute_result"
    }
   ],
   "source": [
    "cross_val_score(nb_model, X_test, y_test, cv = 10).mean()"
   ]
  },
  {
   "cell_type": "code",
   "execution_count": null,
   "metadata": {},
   "outputs": [],
   "source": []
  },
  {
   "cell_type": "code",
   "execution_count": null,
   "metadata": {},
   "outputs": [],
   "source": []
  },
  {
   "cell_type": "markdown",
   "metadata": {},
   "source": [
    "# KNN"
   ]
  },
  {
   "cell_type": "code",
   "execution_count": 78,
   "metadata": {},
   "outputs": [],
   "source": [
    "df = diabetes.copy()\n",
    "df = df.dropna()\n",
    "y = df[\"Outcome\"]\n",
    "X = df.drop(['Outcome'], axis=1)\n",
    "X_train, X_test, y_train, y_test = train_test_split(X, y, \n",
    "                                                    test_size=0.30, \n",
    "                                                    random_state=42)"
   ]
  },
  {
   "cell_type": "code",
   "execution_count": 80,
   "metadata": {},
   "outputs": [],
   "source": [
    "from sklearn.neighbors import KNeighborsClassifier\n",
    "from sklearn.model_selection import GridSearchCV"
   ]
  },
  {
   "cell_type": "code",
   "execution_count": 92,
   "metadata": {},
   "outputs": [],
   "source": [
    "knn=KNeighborsClassifier()\n",
    "params={'n_neighbors':np.arange(1,50)}\n",
    "knn_cv_model=GridSearchCV(knn,params,cv=10)"
   ]
  },
  {
   "cell_type": "code",
   "execution_count": 93,
   "metadata": {},
   "outputs": [
    {
     "data": {
      "text/plain": [
       "GridSearchCV(cv=10, error_score=nan,\n",
       "             estimator=KNeighborsClassifier(algorithm='auto', leaf_size=30,\n",
       "                                            metric='minkowski',\n",
       "                                            metric_params=None, n_jobs=None,\n",
       "                                            n_neighbors=5, p=2,\n",
       "                                            weights='uniform'),\n",
       "             iid='deprecated', n_jobs=None,\n",
       "             param_grid={'n_neighbors': array([ 1,  2,  3,  4,  5,  6,  7,  8,  9, 10, 11, 12, 13, 14, 15, 16, 17,\n",
       "       18, 19, 20, 21, 22, 23, 24, 25, 26, 27, 28, 29, 30, 31, 32, 33, 34,\n",
       "       35, 36, 37, 38, 39, 40, 41, 42, 43, 44, 45, 46, 47, 48, 49])},\n",
       "             pre_dispatch='2*n_jobs', refit=True, return_train_score=False,\n",
       "             scoring=None, verbose=0)"
      ]
     },
     "execution_count": 93,
     "metadata": {},
     "output_type": "execute_result"
    }
   ],
   "source": [
    "knn_cv_model.fit(X_train,y_train)"
   ]
  },
  {
   "cell_type": "code",
   "execution_count": 94,
   "metadata": {},
   "outputs": [
    {
     "data": {
      "text/plain": [
       "{'n_neighbors': 11}"
      ]
     },
     "execution_count": 94,
     "metadata": {},
     "output_type": "execute_result"
    }
   ],
   "source": [
    "knn_cv_model.best_params_"
   ]
  },
  {
   "cell_type": "code",
   "execution_count": 95,
   "metadata": {},
   "outputs": [
    {
     "data": {
      "text/plain": [
       "0.748637316561845"
      ]
     },
     "execution_count": 95,
     "metadata": {},
     "output_type": "execute_result"
    }
   ],
   "source": [
    "knn_cv_model.best_score_"
   ]
  },
  {
   "cell_type": "code",
   "execution_count": 96,
   "metadata": {},
   "outputs": [],
   "source": [
    "knn_t=KNeighborsClassifier(n_neighbors=11)\n",
    "knn_tuned=knn_t.fit(X_train,y_train)"
   ]
  },
  {
   "cell_type": "code",
   "execution_count": 99,
   "metadata": {},
   "outputs": [
    {
     "data": {
      "text/plain": [
       "0.7316017316017316"
      ]
     },
     "execution_count": 99,
     "metadata": {},
     "output_type": "execute_result"
    }
   ],
   "source": [
    "knn_tuned.score(X_test,y_test)"
   ]
  },
  {
   "cell_type": "code",
   "execution_count": 100,
   "metadata": {},
   "outputs": [
    {
     "data": {
      "text/plain": [
       "0.7316017316017316"
      ]
     },
     "execution_count": 100,
     "metadata": {},
     "output_type": "execute_result"
    }
   ],
   "source": [
    "# skoru şöylede hesaplayabiliriz: \n",
    "y_pred=knn_tuned.predict(X_test)\n",
    "accuracy_score(y_pred,y_test)"
   ]
  },
  {
   "cell_type": "code",
   "execution_count": null,
   "metadata": {},
   "outputs": [],
   "source": [
    " "
   ]
  },
  {
   "cell_type": "code",
   "execution_count": null,
   "metadata": {},
   "outputs": [],
   "source": []
  },
  {
   "cell_type": "code",
   "execution_count": null,
   "metadata": {},
   "outputs": [],
   "source": []
  },
  {
   "cell_type": "code",
   "execution_count": null,
   "metadata": {},
   "outputs": [],
   "source": []
  },
  {
   "cell_type": "markdown",
   "metadata": {},
   "source": [
    "# SVC (Destek Vektör Makineleri)"
   ]
  },
  {
   "cell_type": "code",
   "execution_count": 120,
   "metadata": {},
   "outputs": [],
   "source": [
    "df = diabetes.copy()\n",
    "df = df.dropna()\n",
    "y = df[\"Outcome\"]\n",
    "X = df.drop(['Outcome'], axis=1)\n",
    "X_train, X_test, y_train, y_test = train_test_split(X, y, \n",
    "                                                    test_size=0.30, \n",
    "                                                    random_state=42)"
   ]
  },
  {
   "cell_type": "code",
   "execution_count": 121,
   "metadata": {},
   "outputs": [],
   "source": [
    "from sklearn.svm import SVR \n",
    "from sklearn.model_selection import GridSearchCV"
   ]
  },
  {
   "cell_type": "code",
   "execution_count": 122,
   "metadata": {},
   "outputs": [],
   "source": [
    "params={\"C\":np.arange(4,6)}\n",
    "svc=SVC(kernel=\"linear\")\n",
    "svc_cv_model=GridSearchCV(svc,params,cv=10,n_jobs=-1,verbose=2)"
   ]
  },
  {
   "cell_type": "code",
   "execution_count": 123,
   "metadata": {},
   "outputs": [
    {
     "name": "stdout",
     "output_type": "stream",
     "text": [
      "Fitting 10 folds for each of 2 candidates, totalling 20 fits\n"
     ]
    },
    {
     "name": "stderr",
     "output_type": "stream",
     "text": [
      "[Parallel(n_jobs=-1)]: Using backend LokyBackend with 8 concurrent workers.\n",
      "[Parallel(n_jobs=-1)]: Done  16 out of  20 | elapsed:   53.7s remaining:   13.3s\n",
      "[Parallel(n_jobs=-1)]: Done  20 out of  20 | elapsed:  1.1min finished\n"
     ]
    },
    {
     "data": {
      "text/plain": [
       "GridSearchCV(cv=10, error_score=nan,\n",
       "             estimator=SVC(C=1.0, break_ties=False, cache_size=200,\n",
       "                           class_weight=None, coef0=0.0,\n",
       "                           decision_function_shape='ovr', degree=3,\n",
       "                           gamma='scale', kernel='linear', max_iter=-1,\n",
       "                           probability=False, random_state=None, shrinking=True,\n",
       "                           tol=0.001, verbose=False),\n",
       "             iid='deprecated', n_jobs=-1, param_grid={'C': array([4, 5])},\n",
       "             pre_dispatch='2*n_jobs', refit=True, return_train_score=False,\n",
       "             scoring=None, verbose=2)"
      ]
     },
     "execution_count": 123,
     "metadata": {},
     "output_type": "execute_result"
    }
   ],
   "source": [
    "svc_cv_model.fit(X_train,y_train)"
   ]
  },
  {
   "cell_type": "code",
   "execution_count": 124,
   "metadata": {},
   "outputs": [
    {
     "data": {
      "text/plain": [
       "{'C': 5}"
      ]
     },
     "execution_count": 124,
     "metadata": {},
     "output_type": "execute_result"
    }
   ],
   "source": [
    "svc_cv_model.best_params_"
   ]
  },
  {
   "cell_type": "code",
   "execution_count": 126,
   "metadata": {},
   "outputs": [
    {
     "data": {
      "text/plain": [
       "0.7445887445887446"
      ]
     },
     "execution_count": 126,
     "metadata": {},
     "output_type": "execute_result"
    }
   ],
   "source": [
    "svc_tuned=SVC(kernel=\"linear\",C=5).fit(X_train,y_train)\n",
    "y_pred=svc_tuned.predict(X_test)\n",
    "accuracy_score(y_pred,y_test)"
   ]
  },
  {
   "cell_type": "code",
   "execution_count": null,
   "metadata": {},
   "outputs": [],
   "source": []
  },
  {
   "cell_type": "code",
   "execution_count": null,
   "metadata": {},
   "outputs": [],
   "source": []
  },
  {
   "cell_type": "markdown",
   "metadata": {},
   "source": [
    "# RBF SVC\n",
    "## doğrusal olmayan destek vektör"
   ]
  },
  {
   "cell_type": "code",
   "execution_count": 174,
   "metadata": {},
   "outputs": [],
   "source": [
    "df = diabetes.copy()\n",
    "df = df.dropna()\n",
    "y = df[\"Outcome\"]\n",
    "X = df.drop(['Outcome'], axis=1)\n",
    "X_train, X_test, y_train, y_test = train_test_split(X, y, \n",
    "                                                    test_size=0.30, \n",
    "                                                    random_state=42)"
   ]
  },
  {
   "cell_type": "code",
   "execution_count": 175,
   "metadata": {},
   "outputs": [],
   "source": [
    "svc_params = {\"C\": [0.0001, 0.001, 0.1, 1, 5, 10 ,50 ,100], # oluşacak olan\n",
    "                  #düzlemin oluşmasını kontrol etmekle alakalli bir şeyler\n",
    "              \n",
    "             \"gamma\": [0.0001, 0.001, 0.1, 1, 5, 10 ,50 ,100]}#"
   ]
  },
  {
   "cell_type": "code",
   "execution_count": null,
   "metadata": {},
   "outputs": [],
   "source": []
  },
  {
   "cell_type": "code",
   "execution_count": 178,
   "metadata": {},
   "outputs": [
    {
     "ename": "TypeError",
     "evalue": "estimator should be an estimator implementing 'fit' method, {'C': [0.01, 0.1, 1, 10], 'gamma': [0.01, 0.1, 1, 10]} was passed",
     "output_type": "error",
     "traceback": [
      "\u001b[1;31m---------------------------------------------------------------------------\u001b[0m",
      "\u001b[1;31mTypeError\u001b[0m                                 Traceback (most recent call last)",
      "\u001b[1;32m<ipython-input-178-ee6156750410>\u001b[0m in \u001b[0;36m<module>\u001b[1;34m\u001b[0m\n\u001b[0;32m      5\u001b[0m                           \u001b[0mn_jobs\u001b[0m\u001b[1;33m=\u001b[0m\u001b[1;33m-\u001b[0m\u001b[1;36m1\u001b[0m\u001b[1;33m,\u001b[0m\u001b[1;33m\u001b[0m\u001b[1;33m\u001b[0m\u001b[0m\n\u001b[0;32m      6\u001b[0m                           verbose=2)\n\u001b[1;32m----> 7\u001b[1;33m \u001b[0msvc_cv_model\u001b[0m\u001b[1;33m.\u001b[0m\u001b[0mfit\u001b[0m\u001b[1;33m(\u001b[0m\u001b[0mX_train\u001b[0m\u001b[1;33m,\u001b[0m\u001b[0my_train\u001b[0m\u001b[1;33m)\u001b[0m\u001b[1;33m\u001b[0m\u001b[1;33m\u001b[0m\u001b[0m\n\u001b[0m",
      "\u001b[1;32m~\\anaconda3\\lib\\site-packages\\sklearn\\model_selection\\_search.py\u001b[0m in \u001b[0;36mfit\u001b[1;34m(self, X, y, groups, **fit_params)\u001b[0m\n\u001b[0;32m    627\u001b[0m \u001b[1;33m\u001b[0m\u001b[0m\n\u001b[0;32m    628\u001b[0m         scorers, self.multimetric_ = _check_multimetric_scoring(\n\u001b[1;32m--> 629\u001b[1;33m             self.estimator, scoring=self.scoring)\n\u001b[0m\u001b[0;32m    630\u001b[0m \u001b[1;33m\u001b[0m\u001b[0m\n\u001b[0;32m    631\u001b[0m         \u001b[1;32mif\u001b[0m \u001b[0mself\u001b[0m\u001b[1;33m.\u001b[0m\u001b[0mmultimetric_\u001b[0m\u001b[1;33m:\u001b[0m\u001b[1;33m\u001b[0m\u001b[1;33m\u001b[0m\u001b[0m\n",
      "\u001b[1;32m~\\anaconda3\\lib\\site-packages\\sklearn\\metrics\\_scorer.py\u001b[0m in \u001b[0;36m_check_multimetric_scoring\u001b[1;34m(estimator, scoring)\u001b[0m\n\u001b[0;32m    471\u001b[0m     if callable(scoring) or scoring is None or isinstance(scoring,\n\u001b[0;32m    472\u001b[0m                                                           str):\n\u001b[1;32m--> 473\u001b[1;33m         \u001b[0mscorers\u001b[0m \u001b[1;33m=\u001b[0m \u001b[1;33m{\u001b[0m\u001b[1;34m\"score\"\u001b[0m\u001b[1;33m:\u001b[0m \u001b[0mcheck_scoring\u001b[0m\u001b[1;33m(\u001b[0m\u001b[0mestimator\u001b[0m\u001b[1;33m,\u001b[0m \u001b[0mscoring\u001b[0m\u001b[1;33m=\u001b[0m\u001b[0mscoring\u001b[0m\u001b[1;33m)\u001b[0m\u001b[1;33m}\u001b[0m\u001b[1;33m\u001b[0m\u001b[1;33m\u001b[0m\u001b[0m\n\u001b[0m\u001b[0;32m    474\u001b[0m         \u001b[1;32mreturn\u001b[0m \u001b[0mscorers\u001b[0m\u001b[1;33m,\u001b[0m \u001b[1;32mFalse\u001b[0m\u001b[1;33m\u001b[0m\u001b[1;33m\u001b[0m\u001b[0m\n\u001b[0;32m    475\u001b[0m     \u001b[1;32melse\u001b[0m\u001b[1;33m:\u001b[0m\u001b[1;33m\u001b[0m\u001b[1;33m\u001b[0m\u001b[0m\n",
      "\u001b[1;32m~\\anaconda3\\lib\\site-packages\\sklearn\\metrics\\_scorer.py\u001b[0m in \u001b[0;36mcheck_scoring\u001b[1;34m(estimator, scoring, allow_none)\u001b[0m\n\u001b[0;32m    399\u001b[0m     \u001b[1;32mif\u001b[0m \u001b[1;32mnot\u001b[0m \u001b[0mhasattr\u001b[0m\u001b[1;33m(\u001b[0m\u001b[0mestimator\u001b[0m\u001b[1;33m,\u001b[0m \u001b[1;34m'fit'\u001b[0m\u001b[1;33m)\u001b[0m\u001b[1;33m:\u001b[0m\u001b[1;33m\u001b[0m\u001b[1;33m\u001b[0m\u001b[0m\n\u001b[0;32m    400\u001b[0m         raise TypeError(\"estimator should be an estimator implementing \"\n\u001b[1;32m--> 401\u001b[1;33m                         \"'fit' method, %r was passed\" % estimator)\n\u001b[0m\u001b[0;32m    402\u001b[0m     \u001b[1;32mif\u001b[0m \u001b[0misinstance\u001b[0m\u001b[1;33m(\u001b[0m\u001b[0mscoring\u001b[0m\u001b[1;33m,\u001b[0m \u001b[0mstr\u001b[0m\u001b[1;33m)\u001b[0m\u001b[1;33m:\u001b[0m\u001b[1;33m\u001b[0m\u001b[1;33m\u001b[0m\u001b[0m\n\u001b[0;32m    403\u001b[0m         \u001b[1;32mreturn\u001b[0m \u001b[0mget_scorer\u001b[0m\u001b[1;33m(\u001b[0m\u001b[0mscoring\u001b[0m\u001b[1;33m)\u001b[0m\u001b[1;33m\u001b[0m\u001b[1;33m\u001b[0m\u001b[0m\n",
      "\u001b[1;31mTypeError\u001b[0m: estimator should be an estimator implementing 'fit' method, {'C': [0.01, 0.1, 1, 10], 'gamma': [0.01, 0.1, 1, 10]} was passed"
     ]
    }
   ],
   "source": [
    "svc_model=SVC(kernel=\"rbf\")\n",
    "svc_cv_model=GridSearchCV(svc_params,\n",
    "                          params,\n",
    "                          cv=10,\n",
    "                          n_jobs=-1,\n",
    "                          verbose=2)\n",
    "svc_cv_model.fit(X_train,y_train)"
   ]
  },
  {
   "cell_type": "code",
   "execution_count": 177,
   "metadata": {},
   "outputs": [
    {
     "ename": "AttributeError",
     "evalue": "'GridSearchCV' object has no attribute 'best_params_'",
     "output_type": "error",
     "traceback": [
      "\u001b[1;31m---------------------------------------------------------------------------\u001b[0m",
      "\u001b[1;31mAttributeError\u001b[0m                            Traceback (most recent call last)",
      "\u001b[1;32m<ipython-input-177-9c7ab6dc426f>\u001b[0m in \u001b[0;36m<module>\u001b[1;34m\u001b[0m\n\u001b[1;32m----> 1\u001b[1;33m \u001b[0msvc_cv_model\u001b[0m\u001b[1;33m.\u001b[0m\u001b[0mbest_params_\u001b[0m\u001b[1;33m\u001b[0m\u001b[1;33m\u001b[0m\u001b[0m\n\u001b[0m",
      "\u001b[1;31mAttributeError\u001b[0m: 'GridSearchCV' object has no attribute 'best_params_'"
     ]
    }
   ],
   "source": [
    "svc_cv_model.best_params_"
   ]
  },
  {
   "cell_type": "code",
   "execution_count": 160,
   "metadata": {},
   "outputs": [],
   "source": [
    "svc_tuned = SVC(C = 1, gamma = 0.01).fit(X_train, y_train)"
   ]
  },
  {
   "cell_type": "code",
   "execution_count": 161,
   "metadata": {},
   "outputs": [
    {
     "data": {
      "text/plain": [
       "0.658008658008658"
      ]
     },
     "execution_count": 161,
     "metadata": {},
     "output_type": "execute_result"
    }
   ],
   "source": [
    "y_pred = svc_tuned.predict(X_test)\n",
    "accuracy_score(y_test, y_pred)"
   ]
  },
  {
   "cell_type": "code",
   "execution_count": null,
   "metadata": {},
   "outputs": [],
   "source": []
  }
 ],
 "metadata": {
  "kernelspec": {
   "display_name": "Python 3",
   "language": "python",
   "name": "python3"
  },
  "language_info": {
   "codemirror_mode": {
    "name": "ipython",
    "version": 3
   },
   "file_extension": ".py",
   "mimetype": "text/x-python",
   "name": "python",
   "nbconvert_exporter": "python",
   "pygments_lexer": "ipython3",
   "version": "3.7.6"
  }
 },
 "nbformat": 4,
 "nbformat_minor": 4
}
