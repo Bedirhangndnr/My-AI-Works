{
 "cells": [
  {
   "cell_type": "code",
   "execution_count": 4,
   "metadata": {},
   "outputs": [
    {
     "name": "stdout",
     "output_type": "stream",
     "text": [
      "{'id': 2003, 'area': {'id': 2163, 'name': 'Netherlands'}, 'name': 'Eredivisie', 'code': 'DED', 'emblemUrl': None, 'plan': 'TIER_ONE', 'currentSeason': {'id': 615, 'startDate': '2020-09-12', 'endDate': '2021-05-16', 'currentMatchday': 34, 'winner': None}, 'seasons': [{'id': 615, 'startDate': '2020-09-12', 'endDate': '2021-05-16', 'currentMatchday': 34, 'winner': None}, {'id': 481, 'startDate': '2019-08-09', 'endDate': '2020-03-08', 'currentMatchday': 34, 'winner': {'id': 678, 'name': 'AFC Ajax', 'shortName': 'Ajax', 'tla': 'AJA', 'crestUrl': 'https://crests.football-data.org/678.svg'}}, {'id': 156, 'startDate': '2018-08-10', 'endDate': '2019-05-12', 'currentMatchday': 34, 'winner': {'id': 678, 'name': 'AFC Ajax', 'shortName': 'Ajax', 'tla': 'AJA', 'crestUrl': 'https://crests.football-data.org/678.svg'}}, {'id': 4, 'startDate': '2017-08-11', 'endDate': '2018-05-20', 'currentMatchday': 34, 'winner': {'id': 674, 'name': 'PSV', 'shortName': 'PSV', 'tla': 'PSV', 'crestUrl': 'https://crests.football-data.org/674.svg'}}, {'id': 318, 'startDate': '2016-08-05', 'endDate': '2017-05-14', 'currentMatchday': None, 'winner': None}, {'id': 319, 'startDate': '2015-08-08', 'endDate': '2016-05-08', 'currentMatchday': None, 'winner': None}, {'id': 320, 'startDate': '2014-08-08', 'endDate': '2015-05-17', 'currentMatchday': None, 'winner': None}, {'id': 321, 'startDate': '2013-08-02', 'endDate': '2014-05-18', 'currentMatchday': None, 'winner': None}, {'id': 322, 'startDate': '2012-08-10', 'endDate': '2013-05-26', 'currentMatchday': None, 'winner': None}, {'id': 323, 'startDate': '2011-08-05', 'endDate': '2012-05-06', 'currentMatchday': None, 'winner': None}, {'id': 324, 'startDate': '2010-08-06', 'endDate': '2011-05-15', 'currentMatchday': None, 'winner': None}], 'lastUpdated': '2021-04-29T20:06:57Z'}\n"
     ]
    }
   ],
   "source": [
    "import http.client\n",
    "import json\n",
    "\n",
    "connection = http.client.HTTPConnection('api.football-data.org')\n",
    "headers = { 'X-Auth-Token': '039dc13a598948259f7f5f7913268f15' }\n",
    "connection.request('GET', '/v2/competitions/DED', None, headers )\n",
    "response = json.loads(connection.getresponse().read().decode())\n",
    "\n",
    "print (response)"
   ]
  },
  {
   "cell_type": "code",
   "execution_count": 5,
   "metadata": {},
   "outputs": [
    {
     "ename": "ModuleNotFoundError",
     "evalue": "No module named 'soccer'",
     "output_type": "error",
     "traceback": [
      "\u001b[1;31m---------------------------------------------------------------------------\u001b[0m",
      "\u001b[1;31mModuleNotFoundError\u001b[0m                       Traceback (most recent call last)",
      "\u001b[1;32m<ipython-input-5-79ac9c5381eb>\u001b[0m in \u001b[0;36m<module>\u001b[1;34m\u001b[0m\n\u001b[0;32m      4\u001b[0m \u001b[0msys\u001b[0m\u001b[1;33m.\u001b[0m\u001b[0mpath\u001b[0m\u001b[1;33m.\u001b[0m\u001b[0mappend\u001b[0m\u001b[1;33m(\u001b[0m\u001b[1;34m'soccer'\u001b[0m\u001b[1;33m)\u001b[0m\u001b[1;33m\u001b[0m\u001b[1;33m\u001b[0m\u001b[0m\n\u001b[0;32m      5\u001b[0m \u001b[1;33m\u001b[0m\u001b[0m\n\u001b[1;32m----> 6\u001b[1;33m \u001b[1;32mfrom\u001b[0m \u001b[0msoccer\u001b[0m \u001b[1;32mimport\u001b[0m \u001b[0mleagueproperties\u001b[0m\u001b[1;33m\u001b[0m\u001b[1;33m\u001b[0m\u001b[0m\n\u001b[0m\u001b[0;32m      7\u001b[0m \u001b[1;32mfrom\u001b[0m \u001b[0msoccer\u001b[0m \u001b[1;32mimport\u001b[0m \u001b[0mleagueids\u001b[0m\u001b[1;33m\u001b[0m\u001b[1;33m\u001b[0m\u001b[0m\n\u001b[0;32m      8\u001b[0m \u001b[1;32mfrom\u001b[0m \u001b[0msoccer\u001b[0m\u001b[1;33m.\u001b[0m\u001b[0mmain\u001b[0m \u001b[1;32mimport\u001b[0m \u001b[0mload_json\u001b[0m\u001b[1;33m\u001b[0m\u001b[1;33m\u001b[0m\u001b[0m\n",
      "\u001b[1;31mModuleNotFoundError\u001b[0m: No module named 'soccer'"
     ]
    }
   ],
   "source": [
    "import unittest\n",
    "import sys\n",
    "\n",
    "sys.path.append('soccer')\n",
    "\n",
    "from soccer import leagueproperties\n",
    "from soccer import leagueids\n",
    "from soccer.main import load_json\n",
    "\n",
    "\n",
    "class TestLoadData(unittest.TestCase):\n",
    "\n",
    "    TEAMS_INFO_FILENAME = \"teams.json\"\n",
    "\n",
    "    def set_up(self):\n",
    "        pass\n",
    "\n",
    "    def tear_down(self):\n",
    "        pass\n",
    "\n",
    "    def test_load_team_data(self):\n",
    "        try:\n",
    "            load_json(TestLoadData.TEAMS_INFO_FILENAME)[\"teams\"]\n",
    "        except IOError:\n",
    "            self.fail(\"File doesn't exist!\")\n",
    "\n",
    "    def test_load_league_properties(self):\n",
    "        try:\n",
    "            league_properties = leagueproperties.LEAGUE_PROPERTIES\n",
    "        except AttributeError:\n",
    "            self.fail(\"File doesn't exist!\")\n",
    "\n",
    "    def test_load_league_ids(self):\n",
    "        try:\n",
    "            leage_ids = leagueids.LEAGUE_IDS\n",
    "            leage_ids.keys()\n",
    "        except AttributeError:\n",
    "            self.fail(\"File doesn't exist!\")\n",
    "\n",
    "\n",
    "if __name__ == '__main__':\n",
    "    unittest.main()"
   ]
  },
  {
   "cell_type": "code",
   "execution_count": 36,
   "metadata": {},
   "outputs": [
    {
     "name": "stdout",
     "output_type": "stream",
     "text": [
      "A C\n",
      "B C\n",
      "C C\n",
      "D C\n",
      "C C\n",
      "D C\n",
      "C C\n",
      "2\n"
     ]
    }
   ],
   "source": [
    "def count_substring(string, sub_string):\n",
    "    toplam_olusum=0\n",
    "    if (1<=len(string)<=200):\n",
    "        for i in range(0,len(string)):\n",
    "            if(string[i:(i+len(sub_string))]==sub_string):\n",
    "                toplam_olusum=toplam_olusum+1\n",
    "    return toplam_olusum\n",
    "                    \n",
    "string = \"ABCDCDC\"\n",
    "sub_string = \"CDC\"\n",
    "    \n",
    "\n",
    "count = count_substring(string, sub_string)\n",
    "print(count)"
   ]
  },
  {
   "cell_type": "code",
   "execution_count": 1,
   "metadata": {},
   "outputs": [
    {
     "name": "stdin",
     "output_type": "stream",
     "text": [
      "girdi ve ciktiyi girin: 1 4\n",
      "polinomu girin: x**3 + x**2 + x + 1\n"
     ]
    }
   ],
   "source": [
    "input_ = input(\"girdi ve ciktiyi girin:\")\n",
    "P = input(\"polinomu girin:\")\n"
   ]
  },
  {
   "cell_type": "code",
   "execution_count": 7,
   "metadata": {},
   "outputs": [],
   "source": [
    "girdi, cikti= input_.split(\" \")\n",
    "girdi=int(girdi)\n",
    "cikti=int(cikti)"
   ]
  },
  {
   "cell_type": "code",
   "execution_count": 46,
   "metadata": {},
   "outputs": [
    {
     "name": "stdout",
     "output_type": "stream",
     "text": [
      "['x**3', '+', 'x**2', '+', 'x', '+', '1']\n",
      "i= x**3\n",
      "1\n",
      "i= x**2\n",
      "2\n",
      "i= 1\n",
      "4\n",
      "4\n"
     ]
    }
   ],
   "source": [
    "polinom_terimleri= P.split(\" \")\n",
    "result=0\n",
    "for i in polinom_terimleri:\n",
    "    if((i not in ['+','-','*','/'])and i!='x'):\n",
    "        us=int(i[-1])\n",
    "        result=result+girdi**us\n",
    "    elif(i=='x'):\n",
    "        result=result+girdi\n",
    "print(result)\n",
    "        \n",
    "#    print(type(us))\n",
    "#    result=result+girdi**us\n",
    "#    if(i=='x'):\n",
    "#        result=result+input+polinom_terimleri[-1]\n",
    "#        preint(result)"
   ]
  },
  {
   "cell_type": "code",
   "execution_count": 21,
   "metadata": {},
   "outputs": [
    {
     "name": "stdout",
     "output_type": "stream",
     "text": [
      "<class 'int'>\n"
     ]
    }
   ],
   "source": [
    "print(type(carpan))"
   ]
  },
  {
   "cell_type": "code",
   "execution_count": 24,
   "metadata": {},
   "outputs": [
    {
     "data": {
      "text/plain": [
       "'1'"
      ]
     },
     "execution_count": 24,
     "metadata": {},
     "output_type": "execute_result"
    }
   ],
   "source": [
    "girdi"
   ]
  },
  {
   "cell_type": "code",
   "execution_count": null,
   "metadata": {},
   "outputs": [],
   "source": [
    "input_ = input()\n",
    "P = input()\n",
    "girdi, cikti= input_.split(\" \")\n",
    "girdi=int(girdi)\n",
    "cikti=int(cikti)\n"
   ]
  },
  {
   "cell_type": "code",
   "execution_count": 25,
   "metadata": {},
   "outputs": [
    {
     "name": "stdout",
     "output_type": "stream",
     "text": [
      "i:  x result=  0\n",
      "i:  x result=  1\n",
      "i:  x result=  1\n",
      "i:  x result=  2\n",
      "i:  x result=  2\n",
      "i:  x result=  3\n",
      "i:  x result=  3\n",
      "i:  x result=  4\n",
      "5\n",
      "False\n"
     ]
    }
   ],
   "source": [
    "polinom_terimleri= P.split(\" \")\n",
    "result=0\n",
    "for i in \"x**4 x**3 + x**2 + 4x + 1\":\n",
    "    if(i[0]=='x'):\n",
    "        if(i!='x'):\n",
    "            us=int(i[-1])\n",
    "            print(\"i: \", i,  \"result= \", result)\n",
    "            result=result+girdi**us\n",
    "            print(\"i: \", i,  \"result= \", result)\n",
    "\n",
    "        else:\n",
    "            print(\"i: \", i,  \"result= \", result)\n",
    "            result=result+girdi\n",
    "            print(\"i: \", i,  \"result= \", result)\n",
    "            \n",
    "result=result+int(polinom_terimleri[-1])\n",
    "print(result)\n",
    "print(result==cikti)"
   ]
  },
  {
   "cell_type": "code",
   "execution_count": 90,
   "metadata": {},
   "outputs": [
    {
     "name": "stdout",
     "output_type": "stream",
     "text": [
      "True\n"
     ]
    }
   ],
   "source": [
    "polinom_terimleri= P.split(\" \")\n",
    "result=0\n",
    "for i in polinom_terimleri:\n",
    "    if((i not in ['+','-','*','/'])and i!='x'):\n",
    "        us=int(i[-1])\n",
    "        result=result+girdi**us\n",
    "    elif(i=='x'):\n",
    "        result=result+int(polinom_terimleri[-1])+girdi\n",
    "        break\n",
    "print(result==cikti)"
   ]
  },
  {
   "cell_type": "code",
   "execution_count": 73,
   "metadata": {},
   "outputs": [
    {
     "data": {
      "text/plain": [
       "'3'"
      ]
     },
     "execution_count": 73,
     "metadata": {},
     "output_type": "execute_result"
    }
   ],
   "source": [
    "st=\"x**3\"\n",
    "st.split(\"**\")[1]"
   ]
  },
  {
   "cell_type": "code",
   "execution_count": 78,
   "metadata": {},
   "outputs": [
    {
     "name": "stdout",
     "output_type": "stream",
     "text": [
      "3\n",
      "2\n"
     ]
    },
    {
     "ename": "IndexError",
     "evalue": "list index out of range",
     "output_type": "error",
     "traceback": [
      "\u001b[1;31m---------------------------------------------------------------------------\u001b[0m",
      "\u001b[1;31mIndexError\u001b[0m                                Traceback (most recent call last)",
      "\u001b[1;32m<ipython-input-78-bcfed692834b>\u001b[0m in \u001b[0;36m<module>\u001b[1;34m\u001b[0m\n\u001b[0;32m      3\u001b[0m \u001b[1;32mfor\u001b[0m \u001b[0mi\u001b[0m \u001b[1;32min\u001b[0m \u001b[0mpolinom_terimleri\u001b[0m\u001b[1;33m:\u001b[0m\u001b[1;33m\u001b[0m\u001b[1;33m\u001b[0m\u001b[0m\n\u001b[0;32m      4\u001b[0m     \u001b[1;32mif\u001b[0m\u001b[1;33m(\u001b[0m\u001b[1;33m(\u001b[0m\u001b[0mi\u001b[0m \u001b[1;32mnot\u001b[0m \u001b[1;32min\u001b[0m \u001b[1;33m[\u001b[0m\u001b[1;34m'+'\u001b[0m\u001b[1;33m,\u001b[0m\u001b[1;34m'-'\u001b[0m\u001b[1;33m,\u001b[0m\u001b[1;34m'*'\u001b[0m\u001b[1;33m,\u001b[0m\u001b[1;34m'/'\u001b[0m\u001b[1;33m]\u001b[0m\u001b[1;33m)\u001b[0m\u001b[1;32mand\u001b[0m \u001b[0mi\u001b[0m\u001b[1;33m!=\u001b[0m\u001b[1;34m'x'\u001b[0m\u001b[1;33m)\u001b[0m\u001b[1;33m:\u001b[0m\u001b[1;33m\u001b[0m\u001b[1;33m\u001b[0m\u001b[0m\n\u001b[1;32m----> 5\u001b[1;33m         \u001b[0mprint\u001b[0m\u001b[1;33m(\u001b[0m\u001b[0mi\u001b[0m\u001b[1;33m.\u001b[0m\u001b[0msplit\u001b[0m\u001b[1;33m(\u001b[0m\u001b[1;34m\"**\"\u001b[0m\u001b[1;33m)\u001b[0m\u001b[1;33m[\u001b[0m\u001b[1;36m1\u001b[0m\u001b[1;33m]\u001b[0m\u001b[1;33m)\u001b[0m\u001b[1;33m\u001b[0m\u001b[1;33m\u001b[0m\u001b[0m\n\u001b[0m\u001b[0;32m      6\u001b[0m \u001b[0mprint\u001b[0m\u001b[1;33m(\u001b[0m\u001b[0mresult\u001b[0m\u001b[1;33m==\u001b[0m\u001b[0mcikti\u001b[0m\u001b[1;33m)\u001b[0m\u001b[1;33m\u001b[0m\u001b[1;33m\u001b[0m\u001b[0m\n",
      "\u001b[1;31mIndexError\u001b[0m: list index out of range"
     ]
    }
   ],
   "source": [
    "polinom_terimleri= P.split(\" \")\n",
    "result=0\n",
    "for i in polinom_terimleri:\n",
    "    if((i not in ['+','-','*','/'])and i!='x'):\n",
    "        print(i.split(\"**\")[1])\n",
    "print(result==cikti)\n"
   ]
  },
  {
   "cell_type": "code",
   "execution_count": 87,
   "metadata": {},
   "outputs": [
    {
     "name": "stdout",
     "output_type": "stream",
     "text": [
      "0\n",
      "1\n",
      "2\n",
      "3\n"
     ]
    }
   ],
   "source": [
    "for i in range(4):\n",
    "\n",
    "    print(i)"
   ]
  },
  {
   "cell_type": "code",
   "execution_count": null,
   "metadata": {},
   "outputs": [],
   "source": []
  }
 ],
 "metadata": {
  "kernelspec": {
   "display_name": "Python 3",
   "language": "python",
   "name": "python3"
  },
  "language_info": {
   "codemirror_mode": {
    "name": "ipython",
    "version": 3
   },
   "file_extension": ".py",
   "mimetype": "text/x-python",
   "name": "python",
   "nbconvert_exporter": "python",
   "pygments_lexer": "ipython3",
   "version": "3.7.6"
  }
 },
 "nbformat": 4,
 "nbformat_minor": 4
}
